{
 "cells": [
  {
   "cell_type": "code",
   "execution_count": null,
   "metadata": {
    "collapsed": true
   },
   "outputs": [],
   "source": [
    "parameters_names_name = 'res/parameters_names.txt'"
   ]
  },
  {
   "cell_type": "code",
   "execution_count": 4,
   "metadata": {
    "collapsed": false
   },
   "outputs": [],
   "source": [
    "def readTask():\n",
    "    task = input()\n",
    "    return task\n",
    "\n",
    "# Test\n",
    "#print(readTask())"
   ]
  },
  {
   "cell_type": "code",
   "execution_count": 12,
   "metadata": {
    "collapsed": false
   },
   "outputs": [
    {
     "name": "stdout",
     "output_type": "stream",
     "text": [
      "Клонирование и создание репозиториев.\n",
      "Клонирование и создание репозиториев.\n",
      "Клонирование и создание репозиториев.\n"
     ]
    }
   ],
   "source": [
    "import os\n",
    "\n",
    "def saveTask(task):\n",
    "    filename = \"res/task.txt\"\n",
    "    if os.path.exists:\n",
    "        file = open(filename, 'a') #if file exists, than add new task\n",
    "    else:\n",
    "        file = open(filename, 'w') # else create new file\n",
    "    file.write('\\n#\\n')\n",
    "    file.write(task)\n",
    "    return 0\n",
    "\n",
    "#Test\n",
    "\n",
    "\"\"\"\n",
    "for i in range(3):\n",
    "    s = readTask()\n",
    "    saveTask(s)\n",
    "\"\"\""
   ]
  },
  {
   "cell_type": "code",
   "execution_count": null,
   "metadata": {
    "collapsed": true
   },
   "outputs": [],
   "source": [
    "#Save parameters of the task (same for all tasks from the theme)\n",
    "def save_parameters_names(list_of_parameters_names):    \n",
    "    par_file = open(file_parameters_names_name, 'w')\n",
    "    for parameter in list_of_parameters_names:\n",
    "        par_file.write(parameter + ' ')\n",
    "    par_file.close()\n",
    "    \n",
    "testList = ['Места', 'Элементы']\n",
    "save_parameters_names(testList)\n"
   ]
  },
  {
   "cell_type": "code",
   "execution_count": null,
   "metadata": {
    "collapsed": true
   },
   "outputs": [],
   "source": [
    "#Read parameters of the task (same for all tasks from the theme)\n",
    "def read_parameter_names():\n",
    "    par_file = open(file_parameters_names_name, 'r')\n",
    "    content = par_file.read()\n",
    "    list_of_parameters_names = content.split(' ')\n",
    "    list_of_parameters_names.pop()\n",
    "    par_file.close()\n",
    "    return list_of_parameters_names\n",
    "\n",
    "print(read_parameter_names())"
   ]
  }
 ],
 "metadata": {
  "anaconda-cloud": {},
  "kernelspec": {
   "display_name": "Python 2",
   "language": "python",
   "name": "mykernel"
  },
  "language_info": {
   "codemirror_mode": {
    "name": "ipython",
    "version": 2
   },
   "file_extension": ".py",
   "mimetype": "text/x-python",
   "name": "python",
   "nbconvert_exporter": "python",
   "pygments_lexer": "ipython2",
   "version": "2.7.12"
  }
 },
 "nbformat": 4,
 "nbformat_minor": 2
}
