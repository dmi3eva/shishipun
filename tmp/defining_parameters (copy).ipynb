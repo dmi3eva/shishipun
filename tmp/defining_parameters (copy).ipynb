{
 "cells": [
  {
   "cell_type": "code",
   "execution_count": 20,
   "metadata": {
    "collapsed": false
   },
   "outputs": [],
   "source": [
    "parameters_names_file = 'res/parameters_names.txt'\n",
    "test_parameters_label_file = \"res/test_parameters_label.txt\"\n",
    "test_parameters_features_file = \"res/test_parameters_features.txt\"\n",
    "\n",
    "train_parameters_label_file = \"res/train_parameters_label.txt\"\n",
    "train_parameters_features_file = \"res/train_parameters_features.txt\"\n"
   ]
  },
  {
   "cell_type": "code",
   "execution_count": 28,
   "metadata": {
    "collapsed": true
   },
   "outputs": [],
   "source": [
    "import numpy as np\n",
    "import pandas as pd"
   ]
  },
  {
   "cell_type": "code",
   "execution_count": 29,
   "metadata": {
    "collapsed": true
   },
   "outputs": [],
   "source": [
    "#libraries for tree\n",
    "from sklearn.metrics import accuracy_score\n",
    "from sklearn.tree import DecisionTreeRegressor\n",
    "from sklearn.tree import DecisionTreeClassifier\n",
    "from sklearn.tree import export_graphviz\n",
    "from sklearn.model_selection import train_test_split, StratifiedKFold\n",
    "from sklearn.model_selection import GridSearchCV, cross_val_score"
   ]
  },
  {
   "cell_type": "code",
   "execution_count": 38,
   "metadata": {
    "collapsed": false
   },
   "outputs": [
    {
     "name": "stdout",
     "output_type": "stream",
     "text": [
      "\n",
      "########## TREE #########\n",
      "Score:  0.875\n",
      "[[ 0.  0.  1.]]\n",
      "Fitting 10 folds for each of 234 candidates, totalling 2340 fits\n"
     ]
    },
    {
     "name": "stderr",
     "output_type": "stream",
     "text": [
      "/home/ekaterina/anaconda/envs/ipykernel_py3/lib/python3.6/site-packages/sklearn/model_selection/_split.py:605: Warning: The least populated class in y has only 4 members, which is too few. The minimum number of members in any class cannot be less than n_splits=10.\n",
      "  % (min_groups, self.n_splits)), Warning)\n",
      "[Parallel(n_jobs=-1)]: Done 1096 tasks      | elapsed:    1.4s\n"
     ]
    },
    {
     "name": "stdout",
     "output_type": "stream",
     "text": [
      "Best parameters: {'max_depth': 2, 'max_features': 12}\n",
      "Best score:  0.859375\n"
     ]
    },
    {
     "name": "stderr",
     "output_type": "stream",
     "text": [
      "[Parallel(n_jobs=-1)]: Done 2340 out of 2340 | elapsed:    2.5s finished\n"
     ]
    }
   ],
   "source": [
    "#Tree with split-function\n",
    "train_features = pd.read_csv(train_parameters_features_file, header=None)\n",
    "train_labels = pd.read_csv(train_parameters_label_file, header=None)\n",
    "\n",
    "\n",
    "data_train, data_test, label_train, label_test = train_test_split(train_features.values, train_labels.values, test_size=0.1,random_state=17)\n",
    "tree = DecisionTreeClassifier(max_depth=5, random_state=17)\n",
    "tree.fit(data_train, label_train)\n",
    "tree_pred = tree.predict(data_test)\n",
    "acc_tree = accuracy_score(label_test, tree_pred) \n",
    "print('\\n########## TREE #########')\n",
    "print('Score: ', acc_tree)\n",
    "\n",
    "print(tree.predict_proba([[10, 0.5, 0.5, 0.64, 0.6575342465753424, 1, 0, 4.0, 0, 0, 2681854, 0, 0, 2]]))\n",
    "\n",
    "\n",
    "\n",
    "############################\n",
    "#Parameter tuning for tree #\n",
    "############################\n",
    "\n",
    "tree_params = {'max_depth': range(2,20), 'max_features': range(1,14)}\n",
    "tree_grid = GridSearchCV(tree, tree_params, cv=10, n_jobs=-1, verbose=True)\n",
    "\n",
    "\n",
    "tree_grid.fit(data_train, label_train)\n",
    "\n",
    "tr_bst_prm = tree_grid.best_params_ \n",
    "tr_bst_scr = tree_grid.best_score_\n",
    "tr_acc_grd = accuracy_score(label_test, tree_grid.predict(data_test))\n",
    "\n",
    "\n",
    "print ('Best parameters:', tr_bst_prm)\n",
    "print('Best score: ', tr_bst_scr)\n",
    "\n",
    "\n"
   ]
  },
  {
   "cell_type": "code",
   "execution_count": 39,
   "metadata": {
    "collapsed": false
   },
   "outputs": [
    {
     "name": "stdout",
     "output_type": "stream",
     "text": [
      "\n",
      "########## TREE #########\n",
      "Score:  0.833333333333\n",
      "[[ 0.  0.  1.]]\n",
      "Fitting 10 folds for each of 234 candidates, totalling 2340 fits\n"
     ]
    },
    {
     "name": "stderr",
     "output_type": "stream",
     "text": [
      "/home/ekaterina/anaconda/envs/ipykernel_py3/lib/python3.6/site-packages/sklearn/model_selection/_split.py:605: Warning: The least populated class in y has only 4 members, which is too few. The minimum number of members in any class cannot be less than n_splits=10.\n",
      "  % (min_groups, self.n_splits)), Warning)\n",
      "[Parallel(n_jobs=-1)]: Done 1676 tasks      | elapsed:    2.1s\n"
     ]
    },
    {
     "name": "stdout",
     "output_type": "stream",
     "text": [
      "Best parameters: {'max_depth': 4, 'max_features': 13}\n",
      "Best score:  0.875\n"
     ]
    },
    {
     "name": "stderr",
     "output_type": "stream",
     "text": [
      "[Parallel(n_jobs=-1)]: Done 2340 out of 2340 | elapsed:    2.5s finished\n"
     ]
    }
   ],
   "source": [
    "#Tree with our test\n",
    "train_features = pd.read_csv(train_parameters_features_file, header=None)\n",
    "train_labels = pd.read_csv(train_parameters_label_file, header=None)\n",
    "test_features = pd.read_csv(test_parameters_features_file, header=None)\n",
    "test_labels = pd.read_csv(test_parameters_label_file, header=None)\n",
    "\n",
    "data_train, data_test, label_train, label_test = train_features.values, test_features.values, train_labels.values, test_labels.values\n",
    "tree = DecisionTreeClassifier(max_depth=5, random_state=17)\n",
    "tree.fit(data_train, label_train)\n",
    "tree_pred = tree.predict(data_test)\n",
    "acc_tree = accuracy_score(label_test, tree_pred) \n",
    "print('\\n########## TREE #########')\n",
    "print('Score: ', acc_tree)\n",
    "\n",
    "print(tree.predict_proba([[7, 0.5, 0.5, 0.5757575757575758, 0.59375, 1, 0, 2.5, 1, 0, 90931315, -17, 135128817935782, 2]]))\n",
    "\n",
    "\n",
    "############################\n",
    "#Parameter tuning for tree #\n",
    "############################\n",
    "\n",
    "tree_params = {'max_depth': range(2,20), 'max_features': range(1,14)}\n",
    "tree_grid = GridSearchCV(tree, tree_params, cv=10, n_jobs=-1, verbose=True)\n",
    "\n",
    "\n",
    "tree_grid.fit(data_train, label_train)\n",
    "\n",
    "tr_bst_prm = tree_grid.best_params_ \n",
    "tr_bst_scr = tree_grid.best_score_\n",
    "tr_acc_grd = accuracy_score(label_test, tree_grid.predict(data_test))\n",
    "\n",
    "\n",
    "print ('Best parameters:', tr_bst_prm)\n",
    "print('Best score: ', tr_bst_scr)"
   ]
  },
  {
   "cell_type": "code",
   "execution_count": null,
   "metadata": {
    "collapsed": true
   },
   "outputs": [],
   "source": []
  }
 ],
 "metadata": {
  "anaconda-cloud": {},
  "kernelspec": {
   "display_name": "Python 3",
   "language": "python",
   "name": "python3"
  },
  "language_info": {
   "codemirror_mode": {
    "name": "ipython",
    "version": 3
   },
   "file_extension": ".py",
   "mimetype": "text/x-python",
   "name": "python",
   "nbconvert_exporter": "python",
   "pygments_lexer": "ipython3",
   "version": "3.6.2"
  }
 },
 "nbformat": 4,
 "nbformat_minor": 2
}
