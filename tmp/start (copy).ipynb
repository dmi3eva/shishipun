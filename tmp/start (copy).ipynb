{
 "cells": [
  {
   "cell_type": "code",
<<<<<<< HEAD
   "execution_count": null,
   "metadata": {
    "collapsed": true
   },
   "outputs": [],
   "source": [
    "file_parameters_names_name = 'res/parameters_names.txt'"
   ]
  },
  {
   "cell_type": "code",
   "execution_count": 9,
=======
   "execution_count": 4,
>>>>>>> e52f2528d616bfd485927570241bad25f733b71b
   "metadata": {
    "collapsed": false
   },
   "outputs": [],
   "source": [
<<<<<<< HEAD
    "#Save parameters of the task (same for all tasks from the theme)\n",
    "\n",
    "\n",
    "def save_parameters_names(list_of_parameters_names):    \n",
    "    par_file = open(file_parameters_names_name, 'w')\n",
    "    for parameter in list_of_parameters_names:\n",
    "        par_file.write(parameter + ' ')\n",
    "    par_file.close()\n",
    "    \n",
    "testList = ['Места', 'Элементы']\n",
    "save_parameters_names(testList)"
=======
    "def readTask():\n",
    "    task = input()\n",
    "    return task\n",
    "\n",
    "# Test\n",
    "#print(readTask())"
>>>>>>> e52f2528d616bfd485927570241bad25f733b71b
   ]
  },
  {
   "cell_type": "code",
<<<<<<< HEAD
   "execution_count": 11,
=======
   "execution_count": 12,
>>>>>>> e52f2528d616bfd485927570241bad25f733b71b
   "metadata": {
    "collapsed": false
   },
   "outputs": [
    {
     "name": "stdout",
     "output_type": "stream",
     "text": [
<<<<<<< HEAD
      "['\\xd0\\x9c\\xd0\\xb5\\xd1\\x81\\xd1\\x82\\xd0\\xb0', '\\xd0\\xad\\xd0\\xbb\\xd0\\xb5\\xd0\\xbc\\xd0\\xb5\\xd0\\xbd\\xd1\\x82\\xd1\\x8b']\n"
=======
      "Клонирование и создание репозиториев.\n",
      "Клонирование и создание репозиториев.\n",
      "Клонирование и создание репозиториев.\n"
>>>>>>> e52f2528d616bfd485927570241bad25f733b71b
     ]
    }
   ],
   "source": [
<<<<<<< HEAD
    "def read_parameter_names():\n",
    "    par_file = open(file_parameters_names_name, 'r')\n",
    "    content = par_file.read()\n",
    "    list_of_parameters_names = content.split(' ')\n",
    "    list_of_parameters_names.pop()\n",
    "    par_file.close()\n",
    "    return list_of_parameters_names\n",
    "\n",
    "print(read_parameter_names())"
=======
    "import os\n",
    "\n",
    "def saveTask(task):\n",
    "    filename = \"res/task.txt\"\n",
    "    if os.path.exists:\n",
    "        file = open(filename, 'a') #if file exists, than add new task\n",
    "    else:\n",
    "        file = open(filename, 'w') # else create new file\n",
    "    file.write('\\n#\\n')\n",
    "    file.write(task)\n",
    "    return 0\n",
    "\n",
    "#Test\n",
    "\n",
    "\"\"\"\n",
    "for i in range(3):\n",
    "    s = readTask()\n",
    "    saveTask(s)\n",
    "\"\"\""
>>>>>>> e52f2528d616bfd485927570241bad25f733b71b
   ]
  },
  {
   "cell_type": "code",
   "execution_count": null,
   "metadata": {
    "collapsed": true
   },
   "outputs": [],
   "source": []
  }
 ],
 "metadata": {
  "anaconda-cloud": {},
  "kernelspec": {
<<<<<<< HEAD
   "display_name": "Python 2",
   "language": "python",
   "name": "mykernel"
=======
   "display_name": "Python [default]",
   "language": "python",
   "name": "python3"
>>>>>>> e52f2528d616bfd485927570241bad25f733b71b
  },
  "language_info": {
   "codemirror_mode": {
    "name": "ipython",
<<<<<<< HEAD
    "version": 2
=======
    "version": 3
>>>>>>> e52f2528d616bfd485927570241bad25f733b71b
   },
   "file_extension": ".py",
   "mimetype": "text/x-python",
   "name": "python",
   "nbconvert_exporter": "python",
<<<<<<< HEAD
   "pygments_lexer": "ipython2",
   "version": "2.7.12"
=======
   "pygments_lexer": "ipython3",
   "version": "3.5.2"
>>>>>>> e52f2528d616bfd485927570241bad25f733b71b
  }
 },
 "nbformat": 4,
 "nbformat_minor": 2
}
