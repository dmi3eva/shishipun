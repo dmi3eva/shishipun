{
 "cells": [
  {
   "cell_type": "code",
   "execution_count": null,
   "metadata": {
    "collapsed": true
   },
   "outputs": [],
   "source": [
    "file_parameters_names_name = 'res/parameters_names.txt'"
   ]
  },
  {
   "cell_type": "code",
   "execution_count": 9,
   "metadata": {
    "collapsed": false
   },
   "outputs": [],
   "source": [
    "#Save parameters of the task (same for all tasks from the theme)\n",
    "\n",
    "\n",
    "def save_parameters_names(list_of_parameters_names):    \n",
    "    par_file = open(file_parameters_names_name, 'w')\n",
    "    for parameter in list_of_parameters_names:\n",
    "        par_file.write(parameter + ' ')\n",
    "    par_file.close()\n",
    "    \n",
    "testList = ['Места', 'Элементы']\n",
    "save_parameters_names(testList)"
   ]
  },
  {
   "cell_type": "code",
   "execution_count": 11,
   "metadata": {
    "collapsed": false
   },
   "outputs": [
    {
     "name": "stdout",
     "output_type": "stream",
     "text": [
      "['\\xd0\\x9c\\xd0\\xb5\\xd1\\x81\\xd1\\x82\\xd0\\xb0', '\\xd0\\xad\\xd0\\xbb\\xd0\\xb5\\xd0\\xbc\\xd0\\xb5\\xd0\\xbd\\xd1\\x82\\xd1\\x8b']\n"
     ]
    }
   ],
   "source": [
    "def read_parameter_names():\n",
    "    par_file = open(file_parameters_names_name, 'r')\n",
    "    content = par_file.read()\n",
    "    list_of_parameters_names = content.split(' ')\n",
    "    list_of_parameters_names.pop()\n",
    "    par_file.close()\n",
    "    return list_of_parameters_names\n",
    "\n",
    "print(read_parameter_names())"
   ]
  },
  {
   "cell_type": "code",
   "execution_count": null,
   "metadata": {
    "collapsed": true
   },
   "outputs": [],
   "source": []
  }
 ],
 "metadata": {
  "anaconda-cloud": {},
  "kernelspec": {
   "display_name": "Python 2",
   "language": "python",
   "name": "mykernel"
  },
  "language_info": {
   "codemirror_mode": {
    "name": "ipython",
    "version": 2
   },
   "file_extension": ".py",
   "mimetype": "text/x-python",
   "name": "python",
   "nbconvert_exporter": "python",
   "pygments_lexer": "ipython2",
   "version": "2.7.12"
  }
 },
 "nbformat": 4,
 "nbformat_minor": 2
}
