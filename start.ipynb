{
 "cells": [
  {
   "cell_type": "code",
   "execution_count": null,
   "metadata": {
    "collapsed": true
   },
   "outputs": [],
   "source": [
    "# -*- coding: utf-8 -*-\n",
    "parameters_names_name = 'res/parameters_names.txt'\n",
    "import numpy as np\n",
    "import pymorphy2\n",
    "morph = pymorphy2.MorphAnalyzer()"
   ]
  },
  {
   "cell_type": "code",
   "execution_count": null,
   "metadata": {
    "collapsed": false
   },
   "outputs": [],
   "source": [
    "def readTask():\n",
    "    task = input()\n",
    "    return task\n",
    "\n",
    "# Test\n",
    "#print(readTask())\n",
    "# try to git"
   ]
  },
  {
   "cell_type": "code",
   "execution_count": null,
   "metadata": {
    "collapsed": false
   },
   "outputs": [],
   "source": [
    "import os\n",
    "\n",
    "def saveTask(task):\n",
    "    filename = \"res/task.txt\"\n",
    "    if os.path.exists:\n",
    "        file = open(filename, 'a') #if file exists, than add new task\n",
    "    else:\n",
    "        file = open(filename, 'w') # else create new file\n",
    "    file.write('\\n#\\n')\n",
    "    file.write(task)\n",
    "    return 0\n",
    "\n",
    "#Test\n",
    "\n",
    "\"\"\"\n",
    "for i in range(3):\n",
    "    s = readTask()\n",
    "    saveTask(s)\n",
    "\"\"\""
   ]
  },
  {
   "cell_type": "code",
   "execution_count": null,
   "metadata": {
    "collapsed": true
   },
   "outputs": [],
   "source": [
    "#Save parameters of the task (same for all tasks from the theme)\n",
    "def save_parameters_names(list_of_parameters_names):    \n",
    "    par_file = open(file_parameters_names_name, 'w')\n",
    "    for parameter in list_of_parameters_names:\n",
    "        par_file.write(parameter + ' ')\n",
    "    par_file.close()\n",
    "    \n",
    "testList = ['Места', 'Элементы']\n",
    "save_parameters_names(testList)\n"
   ]
  },
  {
   "cell_type": "code",
   "execution_count": null,
   "metadata": {
    "collapsed": true
   },
   "outputs": [],
   "source": [
    "#Read parameters of the task (same for all tasks from the theme)\n",
    "def read_parameter_names():\n",
    "    par_file = open(file_parameters_names_name, 'r')\n",
    "    content = par_file.read()\n",
    "    list_of_parameters_names = content.split(' ')\n",
    "    list_of_parameters_names.pop()\n",
    "    par_file.close()\n",
    "    return list_of_parameters_names\n",
    "print(read_parameter_names())"
   ]
  },
  {
   "cell_type": "code",
   "execution_count": null,
   "metadata": {
    "collapsed": true
   },
   "outputs": [],
   "source": [
    "#Julia"
   ]
  },
  {
   "cell_type": "code",
   "execution_count": null,
   "metadata": {
    "collapsed": true
   },
   "outputs": [],
   "source": [
    "#Julia"
   ]
  },
  {
   "cell_type": "code",
   "execution_count": null,
   "metadata": {
    "collapsed": true
   },
   "outputs": [],
   "source": [
    "#Julia"
   ]
  },
  {
   "cell_type": "code",
   "execution_count": null,
   "metadata": {
    "collapsed": true
   },
   "outputs": [],
   "source": [
    "#Julia"
   ]
  },
  {
   "cell_type": "code",
   "execution_count": null,
   "metadata": {
    "collapsed": true
   },
   "outputs": [],
   "source": [
    "#Julia"
   ]
  },
  {
   "cell_type": "code",
   "execution_count": null,
   "metadata": {
    "collapsed": true
   },
   "outputs": [],
   "source": [
    "#Julia"
   ]
  },
  {
   "cell_type": "code",
   "execution_count": null,
   "metadata": {
    "collapsed": true
   },
   "outputs": [],
   "source": [
    "#Julia"
   ]
  },
  {
   "cell_type": "code",
   "execution_count": null,
   "metadata": {
    "collapsed": true
   },
   "outputs": [],
   "source": [
    "#Julia"
   ]
  },
  {
   "cell_type": "code",
   "execution_count": null,
   "metadata": {
    "collapsed": true
   },
   "outputs": [],
   "source": [
    "#Julia"
   ]
  },
  {
   "cell_type": "code",
   "execution_count": null,
   "metadata": {
    "collapsed": true
   },
   "outputs": [],
   "source": [
    "#Julia"
   ]
  },
  {
   "cell_type": "code",
   "execution_count": null,
   "metadata": {
    "collapsed": true
   },
   "outputs": [],
   "source": [
    "#Julia"
   ]
  },
  {
   "cell_type": "code",
   "execution_count": null,
   "metadata": {
    "collapsed": true
   },
   "outputs": [],
   "source": [
    "#Julia"
   ]
  },
  {
   "cell_type": "code",
   "execution_count": null,
   "metadata": {
    "collapsed": true
   },
   "outputs": [],
   "source": [
    "#Julia"
   ]
  },
  {
   "cell_type": "code",
   "execution_count": null,
   "metadata": {
    "collapsed": true
   },
   "outputs": [],
   "source": [
    "#Julia"
   ]
  },
  {
   "cell_type": "code",
   "execution_count": null,
   "metadata": {
    "collapsed": false
   },
   "outputs": [],
   "source": [
    "#Katya\n",
    "\n",
    "#Auxilary functions\n",
    "#find the number of word of the text\n",
    "def word_number(text):\n",
    "    while (text.find(\"  \") != -1):\n",
    "        text = text.replace(\"  \", \" \")\n",
    "    return (text.count(\" \") + 1)\n",
    "\n",
    "def extract_sentence_with_parameter(parameter, text):\n",
    "    pattern = str(parameter) #cast to string\n",
    "    sentence = \"\"\n",
    "    position = text.find(pattern)\n",
    "    punctuation_marks = \".?!\\n\"\n",
    "    left = position\n",
    "    while ((text[left] not in punctuation_marks) & (left > 0)):\n",
    "        left -= 1\n",
    "    if (text[left] in punctuation_marks):\n",
    "        left += 1\n",
    "        if (text[left] == \" \"):\n",
    "            left += 1\n",
    "            \n",
    "    right = position\n",
    "    while ((text[right] not in punctuation_marks) & (right < len(text))):\n",
    "        right += 1\n",
    "    \n",
    "    return text[left : right]\n",
    "\n"
   ]
  },
  {
   "cell_type": "code",
   "execution_count": null,
   "metadata": {
    "collapsed": false
   },
   "outputs": [],
   "source": [
    "#Katya\n",
    "\n",
    "#find position (as proportion) of the number in the text (if we count for letters)\n",
    "def extract_text_position_as_letters(parameter, text): \n",
    "    text =  text.decode('utf-8')\n",
    "    pattern = str(parameter) #cast to string\n",
    "    parameterPosition = text.find(pattern) #two bytes for russian letters \n",
    "    numberOfLetters = len(text)\n",
    "    \n",
    "    if (numberOfLetters == 0):\n",
    "        print(\"Text is empty!\")\n",
    "        return 0\n",
    "    if (text.find(pattern) == -1):\n",
    "        print(\"1Pattern \\\"\" + pattern + \"\\\" doesn't exist in the text!\")\n",
    "        return 0\n",
    "    return float(parameterPosition) / numberOfLetters\n",
    "\n",
    "\n",
    "#find position (as proportion) of the number in the sentence (if we count for letters)\n",
    "def extract_sentence_position_as_letters(parameter, text): \n",
    "    text =  text.decode('utf-8')\n",
    "    pattern = str(parameter) #cast to string\n",
    "    sentence = extract_sentence_with_parameter(parameter, text)\n",
    "    \n",
    "    parameterPosition = sentence.find(pattern) #two bytes for russian letters \n",
    "    numberOfLetters = len(sentence)\n",
    "    if (numberOfLetters == 0):\n",
    "        print(\"Sentence is empty!\")\n",
    "        return 0\n",
    "    if (sentence.find(pattern) == -1):\n",
    "        print(\"2Pattern \\\"\" + pattern + \"\\\" doesn't exist in the text!\")\n",
    "        return 0\n",
    "    return float(parameterPosition) / (numberOfLetters - 1)\n",
    "\n",
    "#Testing\n",
    "text = \"Есть 8 хомяков. Сколько существует способов выбрать из них 5? Ура!\"\n",
    "#text = \"There is 8 hamsters. How many ways are to choose 5?\"\n",
    "#text = \"слово                    слово\"\n",
    "\n",
    "parameter = 5\n",
    "#1\n",
    "print(extract_text_position_as_letters(parameter, text))\n",
    "print(word_number(text))\n",
    "print(extract_sentence_with_parameter(parameter, text))\n",
    "#2\n",
    "print(extract_sentence_position_as_letters(parameter, text))"
   ]
  },
  {
   "cell_type": "code",
   "execution_count": null,
   "metadata": {
    "collapsed": false
   },
   "outputs": [],
   "source": [
    "#Katya\n",
    "def extract_text_position_as_words(parameter, text): \n",
    "    text =  text.decode('utf-8')\n",
    "    pattern = str(parameter) #cast to string\n",
    "    parameterPosition = text.find(pattern) #two bytes for russian letters \n",
    "    number_of_words = word_number(text)\n",
    "    if (number_of_words == 0):\n",
    "        print(\"Text is empty!\")\n",
    "        return 0\n",
    "    \n",
    "    if (text.find(pattern) == -1):\n",
    "        print(\"3Pattern \\\"\" + pattern + \"\\\" doesn't exist in the text!\")\n",
    "        return 0\n",
    "    before_parameter = text[0 : text.find(pattern)]\n",
    "    number_of_words_before_parameter = word_number(before_parameter)\n",
    "    return float(number_of_words_before_parameter) / number_of_words\n",
    "\n",
    "def extract_sentence_position_as_words(parameter, text): \n",
    "    text =  text.decode('utf-8')\n",
    "    pattern = str(parameter) #cast to string\n",
    "    sentence = extract_sentence_with_parameter(parameter, text)\n",
    "    parameterPosition = sentence.find(pattern) #two bytes for russian letters \n",
    "    number_of_words = word_number(sentence)\n",
    "    if (number_of_words == 0):\n",
    "        print(\"Text is empty!\")\n",
    "        return 0\n",
    "    if (sentence.find(pattern) == -1):\n",
    "        print(\"4Pattern \\\"\" + pattern + \"\\\" doesn't exist in the text!\")\n",
    "        return 0\n",
    "    before_parameter = sentence[0 : sentence.find(pattern)]\n",
    "    number_of_words_before_parameter = word_number(before_parameter)\n",
    "    return float(number_of_words_before_parameter) / number_of_words\n",
    "\n",
    "\n",
    "#testing\n",
    "\n",
    "text = \"Есть 8 хомяков. Сколько существует способов выбрать из них 5? Ура!\"\n",
    "parameter = 5\n",
    "\n",
    "#3\n",
    "print(extract_text_position_as_words(parameter, text))\n",
    "\n",
    "#4\n",
    "print(extract_sentence_position_as_words(parameter, text))"
   ]
  },
  {
   "cell_type": "code",
   "execution_count": null,
   "metadata": {
    "collapsed": false
   },
   "outputs": [],
   "source": [
    "#Katya\n",
    "def extract_numbers(text):\n",
    "    text =  text.decode('utf-8')\n",
    "    numbers = \"0123456789\"\n",
    "    parameters = []\n",
    "    ind = 0\n",
    "    mode = 0 #not number in process\n",
    "    cur_num = \"\"\n",
    "    for i in range(len(text)):\n",
    "        if (text[i] in numbers):\n",
    "            mode = 1\n",
    "            cur_num += text[i]\n",
    "        else:\n",
    "            if mode == 1:\n",
    "                parameters.append(cur_num.encode('utf-8'))\n",
    "                cur_num = \"\"\n",
    "                mode = 0\n",
    "    if mode == 1:\n",
    "        parameters.append(cur_num).encode('utf-8')\n",
    "                 \n",
    "                \n",
    "    return parameters\n",
    "    \n",
    "    \n",
    "#testing\n",
    "text = \"В клетке сидят 30 морских свинок, 5 крыс и 8 хомяков. Сколько существует способов выбрать из них 5? Ура!\"\n",
    "print(extract_numbers(text))"
   ]
  },
  {
   "cell_type": "code",
   "execution_count": null,
   "metadata": {
    "collapsed": true
   },
   "outputs": [],
   "source": [
    "#Katya\n",
    "def extract_parameter_features(parameters, number, text):\n",
    "    for i in range(len(parameters)):\n",
    "        parameters[i] = int(parameters[i])\n",
    "    parameter_features = []\n",
    "    parameter_features.append(parameters[number]) #само число\n",
    "    parameter_features.append(extract_text_position_as_words(parameters[number], text)) #позиция в тексте (% в словах)\n",
    "    parameter_features.append(extract_sentence_position_as_words(parameters[number], text)) #позиция в предложении (% в словах)\n",
    "    parameter_features.append(extract_text_position_as_letters(parameters[number], text)) #позиция в тексте (% в символах)\n",
    "    parameter_features.append(extract_sentence_position_as_letters(parameters[number], text)) #позиция в предложении (% в символах)\n",
    "    parameter_features.append(k_stat(parameters, parameters[number])) #размер относительно других числительных\n",
    "    parameter_features.append(number) #позиция относительно других числительных\n",
    "    parameter_features.append(np.abs(parameters[number] - np.mean(parameters))) #отклонение от среднего остальных параметров\n",
    "    parameter_features.append(adj_number(parameters[number], text)) #количество прилагательных в предложении с параметром \n",
    "    parameter_features.append(punctuation(parameters[number], text))#количество второстепенных знаков препинания\n",
    "    \n",
    "    #существительное, к которому относится\n",
    "    #одушевленное?\n",
    "    #количество прилагательных в предложении с параметром (в процентах от общего числа)\n",
    "    \n",
    "    return parameter_features"
   ]
  },
  {
   "cell_type": "code",
   "execution_count": null,
   "metadata": {
    "collapsed": false
   },
   "outputs": [],
   "source": [
    "#Katya\n",
    "def extract_all_parameters_features(parameters, text):\n",
    "    parameters_features = []\n",
    "    substitution = -1007\n",
    "    ind = 0\n",
    "    for ind in range(len(parameters)):            \n",
    "            parameters_features.append(extract_parameter_features(parameters, ind, text))\n",
    "            text = text.replace(str(parameters[ind]), str(substitution), 1)\n",
    "            \n",
    "    return parameters_features\n",
    "\n",
    "text = \"В клетке сидят 30 морских свинок, 5 крыс и 8 хомяков. Сколько существует способов выбрать из них 5? Ура!\"\n",
    "parameters = extract_numbers(text)\n",
    "print(extract_all_parameters_features(parameters, text))"
   ]
  },
  {
   "cell_type": "code",
   "execution_count": null,
   "metadata": {
    "collapsed": false
   },
   "outputs": [],
   "source": [
    "#Katya\n",
    "import pymorphy2\n",
    "morph = pymorphy2.MorphAnalyzer()\n",
    "word = 'люди'\n",
    "word = \n",
    "morph.parse(word)"
   ]
  },
  {
   "cell_type": "code",
   "execution_count": null,
   "metadata": {
    "collapsed": false
   },
   "outputs": [],
   "source": [
    "#Katya\n",
    "\n",
    "#order in the list\n",
    "def k_stat(parameters, parameter):\n",
    "    ordered = parameters\n",
    "    ordered.sort()\n",
    "    \n",
    "    cur = ordered[0] - 1\n",
    "    ind = -1\n",
    "    k = -1\n",
    "    while (cur != parameter):\n",
    "        ind += 1\n",
    "        if (ordered[ind] != cur):\n",
    "            k += 1\n",
    "        cur = ordered[ind]\n",
    "    return k\n",
    "    \n",
    "\n",
    "#testing\n",
    "array = [5, 8, 5, 5, 3, 8, 10, 9, 9]\n",
    "print(k_stat(array, 9))"
   ]
  },
  {
   "cell_type": "code",
   "execution_count": null,
   "metadata": {
    "collapsed": false
   },
   "outputs": [],
   "source": [
    "# coding: utf8\n",
    "#Katya\n",
    "\n",
    "\n",
    "#Количество прилагательных в предложении с параметром\n",
    "def adj_number(parameter, text):\n",
    "    sent = extract_sentence_with_parameter(parameter, text)\n",
    "    sent = sent.decode('utf-8')\n",
    "    words = sent.split(\" \")\n",
    "    res = 0\n",
    "    for word in words:        \n",
    "        if word[-1] in \",.!?:-\":\n",
    "            word = word.replace(word[-1], \"\")\n",
    "        if ((str(morph.parse(word)[0].tag)[0] == \"A\") & (str(morph.parse(word)[0].tag)[1] == \"D\")):\n",
    "            res += 1\n",
    "        \n",
    "    return res  \n",
    "    \n",
    "    \n",
    "    \n",
    "#testing\n",
    "text = \"В клетке сидят 30 морских свинок, 5 различных крыс и 8 хомяков. Сколько существует способов выбрать из них 5? Ура!\"\n",
    "print(adj_number(5, text))"
   ]
  },
  {
   "cell_type": "code",
   "execution_count": null,
   "metadata": {
    "collapsed": false
   },
   "outputs": [],
   "source": [
    "#Katya\n",
    "\n",
    "#Возвращает количество второстепенных знаков перпинания\n",
    "\n",
    "def punctuation(parameter, text):\n",
    "    punctuation_marks = \",:\"\n",
    "    sent = extract_sentence_with_parameter(parameter, text)\n",
    "    sent = sent.decode('utf-8')\n",
    "    res = 0\n",
    "    for letter in sent:\n",
    "        if (letter in punctuation_marks):\n",
    "            res += 1\n",
    "    return res\n",
    "\n",
    "\n",
    "#testing\n",
    "text = \"В клетке сидят разные животные: 30 морских свинок, 5 различных крыс и 8 хомяков. Сколько существует способов выбрать из них 5? Ура!\"\n",
    "print(punctuation(5, text))\n",
    "\n",
    "    "
   ]
  },
  {
   "cell_type": "code",
   "execution_count": null,
   "metadata": {
    "collapsed": true
   },
   "outputs": [],
   "source": [
    "#Katya\n",
    "\n"
   ]
  },
  {
   "cell_type": "code",
   "execution_count": null,
   "metadata": {
    "collapsed": true
   },
   "outputs": [],
   "source": [
    "#Katya"
   ]
  },
  {
   "cell_type": "code",
   "execution_count": null,
   "metadata": {
    "collapsed": true
   },
   "outputs": [],
   "source": [
    "#Katya"
   ]
  },
  {
   "cell_type": "code",
   "execution_count": null,
   "metadata": {
    "collapsed": true
   },
   "outputs": [],
   "source": [
    "#Katya"
   ]
  },
  {
   "cell_type": "code",
   "execution_count": null,
   "metadata": {
    "collapsed": true
   },
   "outputs": [],
   "source": [
    "#Katya"
   ]
  },
  {
   "cell_type": "code",
   "execution_count": null,
   "metadata": {
    "collapsed": true
   },
   "outputs": [],
   "source": []
  },
  {
   "cell_type": "code",
   "execution_count": null,
   "metadata": {
    "collapsed": true
   },
   "outputs": [],
   "source": []
  },
  {
   "cell_type": "code",
   "execution_count": null,
   "metadata": {
    "collapsed": true
   },
   "outputs": [],
   "source": []
  },
  {
   "cell_type": "code",
   "execution_count": null,
   "metadata": {
    "collapsed": true
   },
   "outputs": [],
   "source": []
  },
  {
   "cell_type": "code",
   "execution_count": null,
   "metadata": {
    "collapsed": true
   },
   "outputs": [],
   "source": []
  },
  {
   "cell_type": "code",
   "execution_count": null,
   "metadata": {
    "collapsed": true
   },
   "outputs": [],
   "source": []
  }
 ],
 "metadata": {
  "anaconda-cloud": {},
  "kernelspec": {
   "display_name": "Python [conda root]",
   "language": "python",
   "name": "conda-root-py"
  }
 },
 "nbformat": 4,
 "nbformat_minor": 2
}
