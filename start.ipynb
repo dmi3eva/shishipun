{
 "cells": [
  {
   "cell_type": "code",
   "execution_count": null,
   "metadata": {
    "collapsed": true
   },
   "outputs": [],
   "source": [
    "parameters_names_name = 'res/parameters_names.txt'"
   ]
  },
  {
   "cell_type": "code",
   "execution_count": null,
   "metadata": {
    "collapsed": true
   },
   "outputs": [],
   "source": [
    "def readTask():\n",
    "    task = input()\n",
    "    return task\n",
    "\n",
    "# Test\n",
    "#print(readTask())\n",
    "# try to git"
   ]
  },
  {
   "cell_type": "code",
   "execution_count": null,
   "metadata": {},
   "outputs": [],
   "source": [
    "import os\n",
    "\n",
    "def saveTask(task):\n",
    "    filename = \"res/task.txt\"\n",
    "    if os.path.exists:\n",
    "        file = open(filename, 'a') #if file exists, than add new task\n",
    "    else:\n",
    "        file = open(filename, 'w') # else create new file\n",
    "    file.write('\\n#\\n')\n",
    "    file.write(task)\n",
    "    return 0\n",
    "\n",
    "#Test\n",
    "\n",
    "\"\"\"\n",
    "for i in range(3):\n",
    "    s = readTask()\n",
    "    saveTask(s)\n",
    "\"\"\""
   ]
  },
  {
   "cell_type": "code",
   "execution_count": null,
   "metadata": {
    "collapsed": true
   },
   "outputs": [],
   "source": [
    "#Save parameters of the task (same for all tasks from the theme)\n",
    "def save_parameters_names(list_of_parameters_names):    \n",
    "    par_file = open(file_parameters_names_name, 'w')\n",
    "    for parameter in list_of_parameters_names:\n",
    "        par_file.write(parameter + ' ')\n",
    "    par_file.close()\n",
    "    \n",
    "testList = ['Места', 'Элементы']\n",
    "save_parameters_names(testList)\n"
   ]
  },
  {
   "cell_type": "code",
   "execution_count": null,
   "metadata": {
    "collapsed": true
   },
   "outputs": [],
   "source": [
    "#Read parameters of the task (same for all tasks from the theme)\n",
    "def read_parameter_names():\n",
    "    par_file = open(file_parameters_names_name, 'r')\n",
    "    content = par_file.read()\n",
    "    list_of_parameters_names = content.split(' ')\n",
    "    list_of_parameters_names.pop()\n",
    "    par_file.close()\n",
    "    return list_of_parameters_names\n",
    "#Katyas changing\n",
    "print(read_parameter_names())"
   ]
  },
  {
   "cell_type": "code",
   "execution_count": null,
   "metadata": {},
   "outputs": [],
   "source": [
    "#Julia\n",
    "\n",
    "#Словарь числительных (нужно дополнять)\n",
    "num_dict = {'один': 1,\n",
    "            'одному': 1,\n",
    "            'два': 2,\n",
    "            'двоих': 2,\n",
    "            'двое': 2,\n",
    "            'три': 3,\n",
    "            'троих': 3,\n",
    "            'трое': 3,\n",
    "            'четыре': 4,\n",
    "            'четверых': 4,\n",
    "            'четверо': 4,\n",
    "            'пять': 5,\n",
    "            'петярых': 5,\n",
    "            'пятеро': 5,\n",
    "            'шесть': 6,\n",
    "            'шестерых': 6,\n",
    "            'шестеро': 6,\n",
    "            'семь': 7,\n",
    "            'семерых': 7,\n",
    "            'семеро': 7,\n",
    "            'восемь': 8,\n",
    "            'восьмерых': 8,\n",
    "            'восьмеро': 8,\n",
    "            'девять': 9,\n",
    "            'девятерых': 9,\n",
    "            'девятеро': 9,\n",
    "            'десять': 10,\n",
    "            'десятерых': 10,\n",
    "            'десятеро': 10,\n",
    "            'одиннадцать': 11,\n",
    "            'двенадцать': 12,\n",
    "            'тринадцать': 13,\n",
    "            'четырнадцать': 14,\n",
    "            'пятнадцать': 15,\n",
    "            'шестнадцать': 16,\n",
    "            'семнадцать': 17,\n",
    "            'восемнадцать': 18,\n",
    "            'девятнадцать': 19,\n",
    "            'двадцать': 20,\n",
    "            'тридцать': 30,\n",
    "            'сорок': 40,\n",
    "            'пятьдесят': 50,\n",
    "            'шестьдесят': 60,\n",
    "            'семьдесят': 70,\n",
    "            'восемьдесят': 80,\n",
    "            'девяносто': 90,\n",
    "            'сто': 100,\n",
    "            'двести': 200,\n",
    "            'триста': 300,\n",
    "            'четыреста': 400,\n",
    "            'пятьсот': 500,\n",
    "            'шестьсот': 600,\n",
    "            'семьсот': 700,\n",
    "            'восемьсот': 800,\n",
    "            'девятьсот': 900,\n",
    "            'тысяча': 1000,\n",
    "            'миллион': 1000000,\n",
    "            'миллиард': 1000000000,\n",
    "           }\n",
    "\n",
    "#Функция для того, чтобы отделить знаки препинания от слов с помощью добавления пробела\n",
    "\n",
    "def punctuation_separ(task):\n",
    "    task = task.replace('.', ' .')\n",
    "    task = task.replace('?', ' ?')\n",
    "    task = task.replace('!', ' !')\n",
    "    task = task.replace(';', ' ;')\n",
    "    task = task.replace(':', ' :')\n",
    "    task = task.replace('(', ' (')\n",
    "    task = task.replace(')', ' )')\n",
    "    task = task.replace(',', ' ,')\n",
    "    return task\n",
    "\n",
    "#Функция объединяет слова из списка в строку, удаляет лишние пробелы\n",
    "\n",
    "def listToString(task):\n",
    "    task_ret = []\n",
    "    \n",
    "    for elem in task:\n",
    "        if elem != '' and elem != ' ':\n",
    "            task_ret.append(elem)\n",
    "    s = ' '\n",
    "    task_ret = s.join(task_ret)\n",
    "    task_ret = task_ret.replace(' .', '.')\n",
    "    task_ret = task_ret.replace(' ?', '?')\n",
    "    task_ret = task_ret.replace(' !', '!')\n",
    "    task_ret = task_ret.replace(' ;', ';')\n",
    "    task_ret = task_ret.replace(' :', ':')\n",
    "    task_ret = task_ret.replace(' (', '(')\n",
    "    task_ret = task_ret.replace(' )', ')')\n",
    "    task_ret = task_ret.replace(' ,', ',')\n",
    "    \n",
    "    return task_ret\n",
    "\n",
    "#Функция замены числительных на цифры, возвращает задачу, в которой произведены замены\n",
    "\n",
    "def replaceWordWithNumbers(task):\n",
    "    task = punctuation_separ(task)\n",
    "    \n",
    "    task = task.split()\n",
    "    for i in range(len(task)):\n",
    "        if task[i] in num_dict:\n",
    "            if task[i + 1] in num_dict:\n",
    "                if task[i + 2] in num_dict:\n",
    "                    task[i] = str(num_dict[task[i]] + num_dict[task[i + 1]] + num_dict[task[i + 2]])\n",
    "                    task[i + 1] = ''\n",
    "                    task[i + 2] = ''\n",
    "                else:\n",
    "                    task[i] = str(num_dict[task[i]] + num_dict[task[i + 1]])\n",
    "                    task[i + 1] = ''\n",
    "            else:\n",
    "                task[i] = str(num_dict[task[i]])\n",
    "    task_ret = listToString(task)\n",
    "    return task_ret\n",
    "        \n",
    "task = \"Есть 5 хомяков. Сколько существует способов выбрать из них троих?\"\n",
    "task1 = \"Марфе Ивановне нужно отправить семерых гостей домой. В её автопарке 10 разных машин. Сколько существует способов рассадить гостей по машинам?\"\n",
    "task2 = \"Есть двадцать три хомяка. Сколько способов выбрать из них двести сорок три?\"\n",
    "\n",
    "task = replaceWordWithNumbers(task)\n",
    "task1 = replaceWordWithNumbers(task1)\n",
    "task2 = replaceWordWithNumbers(task2)\n",
    "print(task)\n",
    "print(task1)\n",
    "print(task2)\n"
   ]
  },
  {
   "cell_type": "code",
   "execution_count": null,
   "metadata": {},
   "outputs": [],
   "source": [
    "#Julia\n",
    "import pymorphy2\n",
    "\n",
    "\"\"\"\n",
    "Проверка части речи с помощью библиотеки pymorphy2, возращаем все тэги о слове, нет парсинга.\n",
    "\"\"\"\n",
    "def check_part_of_speech(word):\n",
    "    morph = pymorphy2.MorphAnalyzer()\n",
    "    answer = (morph.parse(word))\n",
    "    return answer\n",
    "\n",
    "\"\"\"\n",
    "Если есть существительное, то выводим его, его одушевленность (0-неодушевленный, 1-одушевленный),\n",
    "строку с прилагательным о существительном (выбираем прилагательное самое близкое к параметру (к цифре))\n",
    "Если существительного нет, или предложение закончилось, то возвращаем пустую строку.\n",
    "\"\"\"\n",
    "def find_parameter(task, parameter):\n",
    "    \n",
    "    task_list = punctuation_separ(task)\n",
    "\n",
    "    task_list = task_list.split()\n",
    "\n",
    "    print(task_list)\n",
    "    \n",
    "    adj =\"\"\n",
    "    \n",
    "    index = -1\n",
    "    for i in range(len(task_list)):\n",
    "        if(task_list[i] == str(parameter)):\n",
    "            index = i\n",
    "            break\n",
    "    for i in range(index, len(task_list)):\n",
    "        answer = check_part_of_speech(task_list[i])[0]\n",
    "        if adj ==\"\" and 'ADJF' == answer.tag.POS:\n",
    "            adj = task_list[i]\n",
    "        if 'NOUN' == answer.tag.POS:\n",
    "            index= i\n",
    "            break\n",
    "        if 'PNCT' in answer.tag:\n",
    "            return ''\n",
    "    \n",
    "    if index != -1:\n",
    "        if index < len(task_list) - 1:\n",
    "            if answer.tag.animacy == 'anim':\n",
    "                return task_list[index], 1, adj\n",
    "            elif answer.tag.animacy == 'inan':\n",
    "                return task_list[index], 0, adj\n",
    "            else:\n",
    "                return task_list[index]\n",
    "        else:\n",
    "            return ''\n",
    "    return ''\n",
    "    \n",
    "task = \"Есть 5 замечательных умных стульев. Сколько существует способов выбрать из них 3?\"\n",
    "task1 = \"Есть 5 замечательных умных хомяков. Сколько существует способов выбрать из них 3?\"\n",
    "task2 = \"Есть 5 замечательных умных. Сколько существует способов выбрать из них 3?\"\n",
    "task3 = \"Есть 5 хомяков. Сколько существует способов выбрать из них 3?\"\n",
    "task4 = \"Есть хомяков 5. Сколько существует способов выбрать из них 3?\"\n",
    "\n",
    "print(find_parameter(task, 5))\n",
    "print(find_parameter(task1, 5))\n",
    "print(find_parameter(task2, 5))\n",
    "print(find_parameter(task3, 5))\n",
    "print(find_parameter(task4, 5))\n"
   ]
  },
  {
   "cell_type": "code",
   "execution_count": null,
   "metadata": {
    "collapsed": true
   },
   "outputs": [],
   "source": [
    "#Julia"
   ]
  },
  {
   "cell_type": "code",
   "execution_count": null,
   "metadata": {
    "collapsed": true
   },
   "outputs": [],
   "source": [
    "#Julia"
   ]
  },
  {
   "cell_type": "code",
   "execution_count": null,
   "metadata": {
    "collapsed": true
   },
   "outputs": [],
   "source": [
    "#Julia"
   ]
  },
  {
   "cell_type": "code",
   "execution_count": null,
   "metadata": {
    "collapsed": true
   },
   "outputs": [],
   "source": [
    "#Julia"
   ]
  },
  {
   "cell_type": "code",
   "execution_count": null,
   "metadata": {
    "collapsed": true
   },
   "outputs": [],
   "source": [
    "#Julia"
   ]
  },
  {
   "cell_type": "code",
   "execution_count": null,
   "metadata": {
    "collapsed": true
   },
   "outputs": [],
   "source": [
    "#Julia"
   ]
  },
  {
   "cell_type": "code",
   "execution_count": null,
   "metadata": {
    "collapsed": true
   },
   "outputs": [],
   "source": [
    "#Julia"
   ]
  },
  {
   "cell_type": "code",
   "execution_count": null,
   "metadata": {
    "collapsed": true
   },
   "outputs": [],
   "source": [
    "#Julia"
   ]
  },
  {
   "cell_type": "code",
   "execution_count": null,
   "metadata": {
    "collapsed": true
   },
   "outputs": [],
   "source": [
    "#Julia"
   ]
  },
  {
   "cell_type": "code",
   "execution_count": null,
   "metadata": {
    "collapsed": true
   },
   "outputs": [],
   "source": [
    "#Julia"
   ]
  },
  {
   "cell_type": "code",
   "execution_count": null,
   "metadata": {
    "collapsed": true
   },
   "outputs": [],
   "source": [
    "#Julia"
   ]
  },
  {
   "cell_type": "code",
   "execution_count": null,
   "metadata": {
    "collapsed": true
   },
   "outputs": [],
   "source": [
    "#Julia"
   ]
  },
  {
   "cell_type": "code",
   "execution_count": null,
   "metadata": {
    "collapsed": true
   },
   "outputs": [],
   "source": [
    "#Katya"
   ]
  },
  {
   "cell_type": "code",
   "execution_count": null,
   "metadata": {
    "collapsed": true
   },
   "outputs": [],
   "source": [
    "#Katya"
   ]
  },
  {
   "cell_type": "code",
   "execution_count": null,
   "metadata": {
    "collapsed": true
   },
   "outputs": [],
   "source": [
    "#Katya"
   ]
  },
  {
   "cell_type": "code",
   "execution_count": null,
   "metadata": {
    "collapsed": true
   },
   "outputs": [],
   "source": [
    "#Katya"
   ]
  },
  {
   "cell_type": "code",
   "execution_count": null,
   "metadata": {
    "collapsed": true
   },
   "outputs": [],
   "source": [
    "#Katya"
   ]
  },
  {
   "cell_type": "code",
   "execution_count": null,
   "metadata": {
    "collapsed": true
   },
   "outputs": [],
   "source": [
    "#Katya"
   ]
  },
  {
   "cell_type": "code",
   "execution_count": null,
   "metadata": {
    "collapsed": true
   },
   "outputs": [],
   "source": [
    "#Katya"
   ]
  },
  {
   "cell_type": "code",
   "execution_count": null,
   "metadata": {
    "collapsed": true
   },
   "outputs": [],
   "source": [
    "#Katya"
   ]
  },
  {
   "cell_type": "code",
   "execution_count": null,
   "metadata": {
    "collapsed": true
   },
   "outputs": [],
   "source": [
    "#Katya"
   ]
  },
  {
   "cell_type": "code",
   "execution_count": null,
   "metadata": {
    "collapsed": true
   },
   "outputs": [],
   "source": [
    "#Katya"
   ]
  },
  {
   "cell_type": "code",
   "execution_count": null,
   "metadata": {
    "collapsed": true
   },
   "outputs": [],
   "source": [
    "#Katya"
   ]
  },
  {
   "cell_type": "code",
   "execution_count": null,
   "metadata": {
    "collapsed": true
   },
   "outputs": [],
   "source": [
    "#Katya"
   ]
  },
  {
   "cell_type": "code",
   "execution_count": null,
   "metadata": {
    "collapsed": true
   },
   "outputs": [],
   "source": [
    "#Katya"
   ]
  },
  {
   "cell_type": "code",
   "execution_count": null,
   "metadata": {
    "collapsed": true
   },
   "outputs": [],
   "source": [
    "#Katya"
   ]
  },
  {
   "cell_type": "code",
   "execution_count": null,
   "metadata": {
    "collapsed": true
   },
   "outputs": [],
   "source": [
    "#Katya"
   ]
  },
  {
   "cell_type": "code",
   "execution_count": null,
   "metadata": {
    "collapsed": true
   },
   "outputs": [],
   "source": []
  },
  {
   "cell_type": "code",
   "execution_count": null,
   "metadata": {
    "collapsed": true
   },
   "outputs": [],
   "source": []
  },
  {
   "cell_type": "code",
   "execution_count": null,
   "metadata": {
    "collapsed": true
   },
   "outputs": [],
   "source": []
  },
  {
   "cell_type": "code",
   "execution_count": null,
   "metadata": {
    "collapsed": true
   },
   "outputs": [],
   "source": []
  },
  {
   "cell_type": "code",
   "execution_count": null,
   "metadata": {
    "collapsed": true
   },
   "outputs": [],
   "source": []
  },
  {
   "cell_type": "code",
   "execution_count": null,
   "metadata": {
    "collapsed": true
   },
   "outputs": [],
   "source": []
  }
 ],
 "metadata": {
  "anaconda-cloud": {},
  "kernelspec": {
   "display_name": "Python 3",
   "language": "python",
   "name": "python3"
  },
  "language_info": {
   "codemirror_mode": {
    "name": "ipython",
    "version": 3
   },
   "file_extension": ".py",
   "mimetype": "text/x-python",
   "name": "python",
   "nbconvert_exporter": "python",
   "pygments_lexer": "ipython3",
   "version": "3.6.3"
  }
 },
 "nbformat": 4,
 "nbformat_minor": 2
}
