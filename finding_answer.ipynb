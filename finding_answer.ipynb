{
 "cells": [
  {
   "cell_type": "code",
   "execution_count": 5,
   "metadata": {
    "collapsed": false
   },
   "outputs": [],
   "source": [
    "parameters_names_file = 'res/parameters_names.txt'\n",
    "test_parameters_label_file = \"res/1/test_answer_labels.txt\"\n",
    "test_parameters_features_file = \"res/1/test_answer_features.txt\"\n",
    "\n",
    "train_parameters_label_file = \"res/1/train_answer_labels.txt\"\n",
    "train_parameters_features_file = \"res/1/train_answer_features.txt\""
   ]
  },
  {
   "cell_type": "code",
   "execution_count": 6,
   "metadata": {
    "collapsed": true
   },
   "outputs": [],
   "source": [
    "import numpy as np\n",
    "import pandas as pd"
   ]
  },
  {
   "cell_type": "code",
   "execution_count": 7,
   "metadata": {
    "collapsed": false
   },
   "outputs": [],
   "source": [
    "#Reading data\n",
    "train_features = pd.read_csv(train_parameters_features_file, header=None)\n",
    "train_labels = pd.read_csv(train_parameters_label_file, header=None)\n",
    "test_features = pd.read_csv(test_parameters_features_file, header=None)\n",
    "test_labels = pd.read_csv(test_parameters_label_file, header=None)"
   ]
  },
  {
   "cell_type": "code",
   "execution_count": 8,
   "metadata": {
    "collapsed": false
   },
   "outputs": [],
   "source": [
    "\n",
    "from sklearn.tree import export_graphviz\n",
    "from sklearn.model_selection import train_test_split, StratifiedKFold\n",
    "from sklearn.model_selection import GridSearchCV, cross_val_score\n",
    "from sklearn.metrics import accuracy_score"
   ]
  },
  {
   "cell_type": "code",
   "execution_count": 23,
   "metadata": {
    "collapsed": true
   },
   "outputs": [],
   "source": [
    "#libraries for tree\n",
    "\n",
    "from sklearn.tree import DecisionTreeRegressor\n",
    "from sklearn.tree import DecisionTreeClassifier\n",
    "from sklearn import tree"
   ]
  },
  {
   "cell_type": "code",
   "execution_count": 22,
   "metadata": {
    "collapsed": false
   },
   "outputs": [
    {
     "name": "stdout",
     "output_type": "stream",
     "text": [
      "\n",
      "########## TREE #########\n",
      "Score:  0.0\n",
      "[ 64.]\n",
      "Fitting 10 folds for each of 234 candidates, totalling 2340 fits\n"
     ]
    },
    {
     "ename": "JoblibValueError",
     "evalue": "JoblibValueError\n___________________________________________________________________________\nMultiprocessing exception:\n...........................................................................\n/home/ekaterina/anaconda/envs/ipykernel_py3/lib/python3.6/runpy.py in _run_module_as_main(mod_name='ipykernel_launcher', alter_argv=1)\n    188         sys.exit(msg)\n    189     main_globals = sys.modules[\"__main__\"].__dict__\n    190     if alter_argv:\n    191         sys.argv[0] = mod_spec.origin\n    192     return _run_code(code, main_globals, None,\n--> 193                      \"__main__\", mod_spec)\n        mod_spec = ModuleSpec(name='ipykernel_launcher', loader=<_f...b/python3.6/site-packages/ipykernel_launcher.py')\n    194 \n    195 def run_module(mod_name, init_globals=None,\n    196                run_name=None, alter_sys=False):\n    197     \"\"\"Execute a module's code without importing it\n\n...........................................................................\n/home/ekaterina/anaconda/envs/ipykernel_py3/lib/python3.6/runpy.py in _run_code(code=<code object <module> at 0x7fc70637de40, file \"/...3.6/site-packages/ipykernel_launcher.py\", line 5>, run_globals={'__annotations__': {}, '__builtins__': <module 'builtins' (built-in)>, '__cached__': '/home/ekaterina/anaconda/envs/ipykernel_py3/lib/...ges/__pycache__/ipykernel_launcher.cpython-36.pyc', '__doc__': 'Entry point for launching an IPython kernel.\\n\\nTh...orts until\\nafter removing the cwd from sys.path.\\n', '__file__': '/home/ekaterina/anaconda/envs/ipykernel_py3/lib/python3.6/site-packages/ipykernel_launcher.py', '__loader__': <_frozen_importlib_external.SourceFileLoader object>, '__name__': '__main__', '__package__': '', '__spec__': ModuleSpec(name='ipykernel_launcher', loader=<_f...b/python3.6/site-packages/ipykernel_launcher.py'), 'app': <module 'ipykernel.kernelapp' from '/home/ekater.../python3.6/site-packages/ipykernel/kernelapp.py'>, ...}, init_globals=None, mod_name='__main__', mod_spec=ModuleSpec(name='ipykernel_launcher', loader=<_f...b/python3.6/site-packages/ipykernel_launcher.py'), pkg_name='', script_name=None)\n     80                        __cached__ = cached,\n     81                        __doc__ = None,\n     82                        __loader__ = loader,\n     83                        __package__ = pkg_name,\n     84                        __spec__ = mod_spec)\n---> 85     exec(code, run_globals)\n        code = <code object <module> at 0x7fc70637de40, file \"/...3.6/site-packages/ipykernel_launcher.py\", line 5>\n        run_globals = {'__annotations__': {}, '__builtins__': <module 'builtins' (built-in)>, '__cached__': '/home/ekaterina/anaconda/envs/ipykernel_py3/lib/...ges/__pycache__/ipykernel_launcher.cpython-36.pyc', '__doc__': 'Entry point for launching an IPython kernel.\\n\\nTh...orts until\\nafter removing the cwd from sys.path.\\n', '__file__': '/home/ekaterina/anaconda/envs/ipykernel_py3/lib/python3.6/site-packages/ipykernel_launcher.py', '__loader__': <_frozen_importlib_external.SourceFileLoader object>, '__name__': '__main__', '__package__': '', '__spec__': ModuleSpec(name='ipykernel_launcher', loader=<_f...b/python3.6/site-packages/ipykernel_launcher.py'), 'app': <module 'ipykernel.kernelapp' from '/home/ekater.../python3.6/site-packages/ipykernel/kernelapp.py'>, ...}\n     86     return run_globals\n     87 \n     88 def _run_module_code(code, init_globals=None,\n     89                     mod_name=None, mod_spec=None,\n\n...........................................................................\n/home/ekaterina/anaconda/envs/ipykernel_py3/lib/python3.6/site-packages/ipykernel_launcher.py in <module>()\n     11     # This is added back by InteractiveShellApp.init_path()\n     12     if sys.path[0] == '':\n     13         del sys.path[0]\n     14 \n     15     from ipykernel import kernelapp as app\n---> 16     app.launch_new_instance()\n\n...........................................................................\n/home/ekaterina/anaconda/envs/ipykernel_py3/lib/python3.6/site-packages/traitlets/config/application.py in launch_instance(cls=<class 'ipykernel.kernelapp.IPKernelApp'>, argv=None, **kwargs={})\n    653 \n    654         If a global instance already exists, this reinitializes and starts it\n    655         \"\"\"\n    656         app = cls.instance(**kwargs)\n    657         app.initialize(argv)\n--> 658         app.start()\n        app.start = <bound method IPKernelApp.start of <ipykernel.kernelapp.IPKernelApp object>>\n    659 \n    660 #-----------------------------------------------------------------------------\n    661 # utility functions, for convenience\n    662 #-----------------------------------------------------------------------------\n\n...........................................................................\n/home/ekaterina/anaconda/envs/ipykernel_py3/lib/python3.6/site-packages/ipykernel/kernelapp.py in start(self=<ipykernel.kernelapp.IPKernelApp object>)\n    472             return self.subapp.start()\n    473         if self.poller is not None:\n    474             self.poller.start()\n    475         self.kernel.start()\n    476         try:\n--> 477             ioloop.IOLoop.instance().start()\n    478         except KeyboardInterrupt:\n    479             pass\n    480 \n    481 launch_new_instance = IPKernelApp.launch_instance\n\n...........................................................................\n/home/ekaterina/anaconda/envs/ipykernel_py3/lib/python3.6/site-packages/zmq/eventloop/ioloop.py in start(self=<zmq.eventloop.ioloop.ZMQIOLoop object>)\n    172             )\n    173         return loop\n    174     \n    175     def start(self):\n    176         try:\n--> 177             super(ZMQIOLoop, self).start()\n        self.start = <bound method ZMQIOLoop.start of <zmq.eventloop.ioloop.ZMQIOLoop object>>\n    178         except ZMQError as e:\n    179             if e.errno == ETERM:\n    180                 # quietly return on ETERM\n    181                 pass\n\n...........................................................................\n/home/ekaterina/anaconda/envs/ipykernel_py3/lib/python3.6/site-packages/tornado/ioloop.py in start(self=<zmq.eventloop.ioloop.ZMQIOLoop object>)\n    883                 self._events.update(event_pairs)\n    884                 while self._events:\n    885                     fd, events = self._events.popitem()\n    886                     try:\n    887                         fd_obj, handler_func = self._handlers[fd]\n--> 888                         handler_func(fd_obj, events)\n        handler_func = <function wrap.<locals>.null_wrapper>\n        fd_obj = <zmq.sugar.socket.Socket object>\n        events = 1\n    889                     except (OSError, IOError) as e:\n    890                         if errno_from_exception(e) == errno.EPIPE:\n    891                             # Happens when the client closes the connection\n    892                             pass\n\n...........................................................................\n/home/ekaterina/anaconda/envs/ipykernel_py3/lib/python3.6/site-packages/tornado/stack_context.py in null_wrapper(*args=(<zmq.sugar.socket.Socket object>, 1), **kwargs={})\n    272         # Fast path when there are no active contexts.\n    273         def null_wrapper(*args, **kwargs):\n    274             try:\n    275                 current_state = _state.contexts\n    276                 _state.contexts = cap_contexts[0]\n--> 277                 return fn(*args, **kwargs)\n        args = (<zmq.sugar.socket.Socket object>, 1)\n        kwargs = {}\n    278             finally:\n    279                 _state.contexts = current_state\n    280         null_wrapper._wrapped = True\n    281         return null_wrapper\n\n...........................................................................\n/home/ekaterina/anaconda/envs/ipykernel_py3/lib/python3.6/site-packages/zmq/eventloop/zmqstream.py in _handle_events(self=<zmq.eventloop.zmqstream.ZMQStream object>, fd=<zmq.sugar.socket.Socket object>, events=1)\n    435             # dispatch events:\n    436             if events & IOLoop.ERROR:\n    437                 gen_log.error(\"got POLLERR event on ZMQStream, which doesn't make sense\")\n    438                 return\n    439             if events & IOLoop.READ:\n--> 440                 self._handle_recv()\n        self._handle_recv = <bound method ZMQStream._handle_recv of <zmq.eventloop.zmqstream.ZMQStream object>>\n    441                 if not self.socket:\n    442                     return\n    443             if events & IOLoop.WRITE:\n    444                 self._handle_send()\n\n...........................................................................\n/home/ekaterina/anaconda/envs/ipykernel_py3/lib/python3.6/site-packages/zmq/eventloop/zmqstream.py in _handle_recv(self=<zmq.eventloop.zmqstream.ZMQStream object>)\n    467                 gen_log.error(\"RECV Error: %s\"%zmq.strerror(e.errno))\n    468         else:\n    469             if self._recv_callback:\n    470                 callback = self._recv_callback\n    471                 # self._recv_callback = None\n--> 472                 self._run_callback(callback, msg)\n        self._run_callback = <bound method ZMQStream._run_callback of <zmq.eventloop.zmqstream.ZMQStream object>>\n        callback = <function wrap.<locals>.null_wrapper>\n        msg = [<zmq.sugar.frame.Frame object>, <zmq.sugar.frame.Frame object>, <zmq.sugar.frame.Frame object>, <zmq.sugar.frame.Frame object>, <zmq.sugar.frame.Frame object>, <zmq.sugar.frame.Frame object>, <zmq.sugar.frame.Frame object>]\n    473                 \n    474         # self.update_state()\n    475         \n    476 \n\n...........................................................................\n/home/ekaterina/anaconda/envs/ipykernel_py3/lib/python3.6/site-packages/zmq/eventloop/zmqstream.py in _run_callback(self=<zmq.eventloop.zmqstream.ZMQStream object>, callback=<function wrap.<locals>.null_wrapper>, *args=([<zmq.sugar.frame.Frame object>, <zmq.sugar.frame.Frame object>, <zmq.sugar.frame.Frame object>, <zmq.sugar.frame.Frame object>, <zmq.sugar.frame.Frame object>, <zmq.sugar.frame.Frame object>, <zmq.sugar.frame.Frame object>],), **kwargs={})\n    409         close our socket.\"\"\"\n    410         try:\n    411             # Use a NullContext to ensure that all StackContexts are run\n    412             # inside our blanket exception handler rather than outside.\n    413             with stack_context.NullContext():\n--> 414                 callback(*args, **kwargs)\n        callback = <function wrap.<locals>.null_wrapper>\n        args = ([<zmq.sugar.frame.Frame object>, <zmq.sugar.frame.Frame object>, <zmq.sugar.frame.Frame object>, <zmq.sugar.frame.Frame object>, <zmq.sugar.frame.Frame object>, <zmq.sugar.frame.Frame object>, <zmq.sugar.frame.Frame object>],)\n        kwargs = {}\n    415         except:\n    416             gen_log.error(\"Uncaught exception, closing connection.\",\n    417                           exc_info=True)\n    418             # Close the socket on an uncaught exception from a user callback\n\n...........................................................................\n/home/ekaterina/anaconda/envs/ipykernel_py3/lib/python3.6/site-packages/tornado/stack_context.py in null_wrapper(*args=([<zmq.sugar.frame.Frame object>, <zmq.sugar.frame.Frame object>, <zmq.sugar.frame.Frame object>, <zmq.sugar.frame.Frame object>, <zmq.sugar.frame.Frame object>, <zmq.sugar.frame.Frame object>, <zmq.sugar.frame.Frame object>],), **kwargs={})\n    272         # Fast path when there are no active contexts.\n    273         def null_wrapper(*args, **kwargs):\n    274             try:\n    275                 current_state = _state.contexts\n    276                 _state.contexts = cap_contexts[0]\n--> 277                 return fn(*args, **kwargs)\n        args = ([<zmq.sugar.frame.Frame object>, <zmq.sugar.frame.Frame object>, <zmq.sugar.frame.Frame object>, <zmq.sugar.frame.Frame object>, <zmq.sugar.frame.Frame object>, <zmq.sugar.frame.Frame object>, <zmq.sugar.frame.Frame object>],)\n        kwargs = {}\n    278             finally:\n    279                 _state.contexts = current_state\n    280         null_wrapper._wrapped = True\n    281         return null_wrapper\n\n...........................................................................\n/home/ekaterina/anaconda/envs/ipykernel_py3/lib/python3.6/site-packages/ipykernel/kernelbase.py in dispatcher(msg=[<zmq.sugar.frame.Frame object>, <zmq.sugar.frame.Frame object>, <zmq.sugar.frame.Frame object>, <zmq.sugar.frame.Frame object>, <zmq.sugar.frame.Frame object>, <zmq.sugar.frame.Frame object>, <zmq.sugar.frame.Frame object>])\n    278         if self.control_stream:\n    279             self.control_stream.on_recv(self.dispatch_control, copy=False)\n    280 \n    281         def make_dispatcher(stream):\n    282             def dispatcher(msg):\n--> 283                 return self.dispatch_shell(stream, msg)\n        msg = [<zmq.sugar.frame.Frame object>, <zmq.sugar.frame.Frame object>, <zmq.sugar.frame.Frame object>, <zmq.sugar.frame.Frame object>, <zmq.sugar.frame.Frame object>, <zmq.sugar.frame.Frame object>, <zmq.sugar.frame.Frame object>]\n    284             return dispatcher\n    285 \n    286         for s in self.shell_streams:\n    287             s.on_recv(make_dispatcher(s), copy=False)\n\n...........................................................................\n/home/ekaterina/anaconda/envs/ipykernel_py3/lib/python3.6/site-packages/ipykernel/kernelbase.py in dispatch_shell(self=<ipykernel.ipkernel.IPythonKernel object>, stream=<zmq.eventloop.zmqstream.ZMQStream object>, msg={'buffers': [], 'content': {'allow_stdin': True, 'code': \"#Tree with split-function\\n\\ndata_train, data_test... tr_bst_prm)\\nprint('Best score: ', tr_bst_scr)\\n\\n\\n\", 'silent': False, 'stop_on_error': True, 'store_history': True, 'user_expressions': {}}, 'header': {'date': datetime.datetime(2017, 11, 27, 7, 13, 27, 519544, tzinfo=tzlocal()), 'msg_id': 'B13D14BC961446B4845959D5EB12E432', 'msg_type': 'execute_request', 'session': 'F49F4D76C2144539BE02509DFC429488', 'username': 'username', 'version': '5.0'}, 'metadata': {}, 'msg_id': 'B13D14BC961446B4845959D5EB12E432', 'msg_type': 'execute_request', 'parent_header': {}})\n    230             self.log.warn(\"Unknown message type: %r\", msg_type)\n    231         else:\n    232             self.log.debug(\"%s: %s\", msg_type, msg)\n    233             self.pre_handler_hook()\n    234             try:\n--> 235                 handler(stream, idents, msg)\n        handler = <bound method Kernel.execute_request of <ipykernel.ipkernel.IPythonKernel object>>\n        stream = <zmq.eventloop.zmqstream.ZMQStream object>\n        idents = [b'F49F4D76C2144539BE02509DFC429488']\n        msg = {'buffers': [], 'content': {'allow_stdin': True, 'code': \"#Tree with split-function\\n\\ndata_train, data_test... tr_bst_prm)\\nprint('Best score: ', tr_bst_scr)\\n\\n\\n\", 'silent': False, 'stop_on_error': True, 'store_history': True, 'user_expressions': {}}, 'header': {'date': datetime.datetime(2017, 11, 27, 7, 13, 27, 519544, tzinfo=tzlocal()), 'msg_id': 'B13D14BC961446B4845959D5EB12E432', 'msg_type': 'execute_request', 'session': 'F49F4D76C2144539BE02509DFC429488', 'username': 'username', 'version': '5.0'}, 'metadata': {}, 'msg_id': 'B13D14BC961446B4845959D5EB12E432', 'msg_type': 'execute_request', 'parent_header': {}}\n    236             except Exception:\n    237                 self.log.error(\"Exception in message handler:\", exc_info=True)\n    238             finally:\n    239                 self.post_handler_hook()\n\n...........................................................................\n/home/ekaterina/anaconda/envs/ipykernel_py3/lib/python3.6/site-packages/ipykernel/kernelbase.py in execute_request(self=<ipykernel.ipkernel.IPythonKernel object>, stream=<zmq.eventloop.zmqstream.ZMQStream object>, ident=[b'F49F4D76C2144539BE02509DFC429488'], parent={'buffers': [], 'content': {'allow_stdin': True, 'code': \"#Tree with split-function\\n\\ndata_train, data_test... tr_bst_prm)\\nprint('Best score: ', tr_bst_scr)\\n\\n\\n\", 'silent': False, 'stop_on_error': True, 'store_history': True, 'user_expressions': {}}, 'header': {'date': datetime.datetime(2017, 11, 27, 7, 13, 27, 519544, tzinfo=tzlocal()), 'msg_id': 'B13D14BC961446B4845959D5EB12E432', 'msg_type': 'execute_request', 'session': 'F49F4D76C2144539BE02509DFC429488', 'username': 'username', 'version': '5.0'}, 'metadata': {}, 'msg_id': 'B13D14BC961446B4845959D5EB12E432', 'msg_type': 'execute_request', 'parent_header': {}})\n    394         if not silent:\n    395             self.execution_count += 1\n    396             self._publish_execute_input(code, parent, self.execution_count)\n    397 \n    398         reply_content = self.do_execute(code, silent, store_history,\n--> 399                                         user_expressions, allow_stdin)\n        user_expressions = {}\n        allow_stdin = True\n    400 \n    401         # Flush output before sending the reply.\n    402         sys.stdout.flush()\n    403         sys.stderr.flush()\n\n...........................................................................\n/home/ekaterina/anaconda/envs/ipykernel_py3/lib/python3.6/site-packages/ipykernel/ipkernel.py in do_execute(self=<ipykernel.ipkernel.IPythonKernel object>, code=\"#Tree with split-function\\n\\ndata_train, data_test... tr_bst_prm)\\nprint('Best score: ', tr_bst_scr)\\n\\n\\n\", silent=False, store_history=True, user_expressions={}, allow_stdin=True)\n    191 \n    192         self._forward_input(allow_stdin)\n    193 \n    194         reply_content = {}\n    195         try:\n--> 196             res = shell.run_cell(code, store_history=store_history, silent=silent)\n        res = undefined\n        shell.run_cell = <bound method ZMQInteractiveShell.run_cell of <ipykernel.zmqshell.ZMQInteractiveShell object>>\n        code = \"#Tree with split-function\\n\\ndata_train, data_test... tr_bst_prm)\\nprint('Best score: ', tr_bst_scr)\\n\\n\\n\"\n        store_history = True\n        silent = False\n    197         finally:\n    198             self._restore_input()\n    199 \n    200         if res.error_before_exec is not None:\n\n...........................................................................\n/home/ekaterina/anaconda/envs/ipykernel_py3/lib/python3.6/site-packages/ipykernel/zmqshell.py in run_cell(self=<ipykernel.zmqshell.ZMQInteractiveShell object>, *args=(\"#Tree with split-function\\n\\ndata_train, data_test... tr_bst_prm)\\nprint('Best score: ', tr_bst_scr)\\n\\n\\n\",), **kwargs={'silent': False, 'store_history': True})\n    528             )\n    529         self.payload_manager.write_payload(payload)\n    530 \n    531     def run_cell(self, *args, **kwargs):\n    532         self._last_traceback = None\n--> 533         return super(ZMQInteractiveShell, self).run_cell(*args, **kwargs)\n        self.run_cell = <bound method ZMQInteractiveShell.run_cell of <ipykernel.zmqshell.ZMQInteractiveShell object>>\n        args = (\"#Tree with split-function\\n\\ndata_train, data_test... tr_bst_prm)\\nprint('Best score: ', tr_bst_scr)\\n\\n\\n\",)\n        kwargs = {'silent': False, 'store_history': True}\n    534 \n    535     def _showtraceback(self, etype, evalue, stb):\n    536         # try to preserve ordering of tracebacks and print statements\n    537         sys.stdout.flush()\n\n...........................................................................\n/home/ekaterina/anaconda/envs/ipykernel_py3/lib/python3.6/site-packages/IPython/core/interactiveshell.py in run_cell(self=<ipykernel.zmqshell.ZMQInteractiveShell object>, raw_cell=\"#Tree with split-function\\n\\ndata_train, data_test... tr_bst_prm)\\nprint('Best score: ', tr_bst_scr)\\n\\n\\n\", store_history=True, silent=False, shell_futures=True)\n   2693                 self.displayhook.exec_result = result\n   2694 \n   2695                 # Execute the user code\n   2696                 interactivity = \"none\" if silent else self.ast_node_interactivity\n   2697                 has_raised = self.run_ast_nodes(code_ast.body, cell_name,\n-> 2698                    interactivity=interactivity, compiler=compiler, result=result)\n        interactivity = 'last_expr'\n        compiler = <IPython.core.compilerop.CachingCompiler object>\n   2699                 \n   2700                 self.last_execution_succeeded = not has_raised\n   2701 \n   2702                 # Reset this so later displayed values do not modify the\n\n...........................................................................\n/home/ekaterina/anaconda/envs/ipykernel_py3/lib/python3.6/site-packages/IPython/core/interactiveshell.py in run_ast_nodes(self=<ipykernel.zmqshell.ZMQInteractiveShell object>, nodelist=[<_ast.Assign object>, <_ast.Assign object>, <_ast.Expr object>, <_ast.Assign object>, <_ast.Assign object>, <_ast.Expr object>, <_ast.Expr object>, <_ast.Expr object>, <_ast.Assign object>, <_ast.Assign object>, <_ast.Expr object>, <_ast.Expr object>, <_ast.Assign object>, <_ast.Assign object>, <_ast.Assign object>, <_ast.Expr object>, <_ast.Expr object>], cell_name='<ipython-input-22-95c03ec57a34>', interactivity='last', compiler=<IPython.core.compilerop.CachingCompiler object>, result=<ExecutionResult object at 7fc6c4234d30, executi..._before_exec=None error_in_exec=None result=None>)\n   2797 \n   2798         try:\n   2799             for i, node in enumerate(to_run_exec):\n   2800                 mod = ast.Module([node])\n   2801                 code = compiler(mod, cell_name, \"exec\")\n-> 2802                 if self.run_code(code, result):\n        self.run_code = <bound method InteractiveShell.run_code of <ipykernel.zmqshell.ZMQInteractiveShell object>>\n        code = <code object <module> at 0x7fc6c5bbbe40, file \"<ipython-input-22-95c03ec57a34>\", line 23>\n        result = <ExecutionResult object at 7fc6c4234d30, executi..._before_exec=None error_in_exec=None result=None>\n   2803                     return True\n   2804 \n   2805             for i, node in enumerate(to_run_interactive):\n   2806                 mod = ast.Interactive([node])\n\n...........................................................................\n/home/ekaterina/anaconda/envs/ipykernel_py3/lib/python3.6/site-packages/IPython/core/interactiveshell.py in run_code(self=<ipykernel.zmqshell.ZMQInteractiveShell object>, code_obj=<code object <module> at 0x7fc6c5bbbe40, file \"<ipython-input-22-95c03ec57a34>\", line 23>, result=<ExecutionResult object at 7fc6c4234d30, executi..._before_exec=None error_in_exec=None result=None>)\n   2857         outflag = True  # happens in more places, so it's easier as default\n   2858         try:\n   2859             try:\n   2860                 self.hooks.pre_run_code_hook()\n   2861                 #rprint('Running code', repr(code_obj)) # dbg\n-> 2862                 exec(code_obj, self.user_global_ns, self.user_ns)\n        code_obj = <code object <module> at 0x7fc6c5bbbe40, file \"<ipython-input-22-95c03ec57a34>\", line 23>\n        self.user_global_ns = {'DecisionTreeClassifier': <class 'sklearn.tree.tree.DecisionTreeClassifier'>, 'DecisionTreeRegressor': <class 'sklearn.tree.tree.DecisionTreeRegressor'>, 'GridSearchCV': <class 'sklearn.model_selection._search.GridSearchCV'>, 'In': ['', 'parameters_names_file = \\'res/parameters_names.tx...features_file = \"res/1/train_answer_features.txt\"', 'parameters_names_file = \\'res/parameters_names.tx...features_file = \"res/1/train_answer_features.txt\"', 'import numpy as np\\nimport pandas as pd', '#Reading data\\ntrain_features = pd.read_csv(train...read_csv(test_parameters_label_file, header=None)', 'parameters_names_file = \\'res/parameters_names.tx...features_file = \"res/1/train_answer_features.txt\"', 'import numpy as np\\nimport pandas as pd', '#Reading data\\ntrain_features = pd.read_csv(train...read_csv(test_parameters_label_file, header=None)', '\\nfrom sklearn.tree import export_graphviz\\nfrom s..._score\\nfrom sklearn.metrics import accuracy_score', '#libraries for tree\\n\\nfrom sklearn.tree import De...t DecisionTreeClassifier\\nfrom sklearn import tree', '#preprocessing\\nfrom sklearn import preprocessing...tures_scaled = preprocessing.scale(test_features)', \"#no execution\\n#Tree with preprocessed data\\n\\ndata...:', tr_bst_prm)\\nprint('Best score: ', tr_bst_scr)\", \"#Tree with split-function\\n\\ndata_train, data_test...:', tr_bst_prm)\\nprint('Best score: ', tr_bst_scr)\", \"#Tree with split-function\\n\\ndata_train, data_test...:', tr_bst_prm)\\nprint('Best score: ', tr_bst_scr)\", \"#Tree with split-function\\n\\ndata_train, data_test...:', tr_bst_prm)\\nprint('Best score: ', tr_bst_scr)\", '#libraries for ANN\\nfrom sklearn.neural_network i...r\\nfrom sklearn.neural_network import MLPRegressor', \"data_train, data_test, label_train, label_test =...re (', max_ls1, max_ls2, 'layers): ', max_sc_ann)\", \"data_train, data_test, label_train, label_test =...re (', max_ls1, max_ls2, 'layers): ', max_sc_ann)\", \"data_train, data_test, label_train, label_test =...re (', max_ls1, max_ls2, 'layers): ', max_sc_ann)\", '#KNN with preprocessing for final testing\\ndata_t...n_bst_prm)\\nprint(\\'Best score: \\', knn_bst_scr)\\n\"\"\"', ...], 'KNeighborsClassifier': <class 'sklearn.neighbors.classification.KNeighborsClassifier'>, 'KNeighborsRegressor': <class 'sklearn.neighbors.regression.KNeighborsRegressor'>, 'MLPClassifier': <class 'sklearn.neural_network.multilayer_perceptron.MLPClassifier'>, 'MLPRegressor': <class 'sklearn.neural_network.multilayer_perceptron.MLPRegressor'>, 'Out': {21: \"\\nknn_pred = knn.predict(data_test)\\nacc_knn = acc... knn_bst_prm)\\nprint('Best score: ', knn_bst_scr)\\n\"}, 'Pipeline': <class 'sklearn.pipeline.Pipeline'>, ...}\n        self.user_ns = {'DecisionTreeClassifier': <class 'sklearn.tree.tree.DecisionTreeClassifier'>, 'DecisionTreeRegressor': <class 'sklearn.tree.tree.DecisionTreeRegressor'>, 'GridSearchCV': <class 'sklearn.model_selection._search.GridSearchCV'>, 'In': ['', 'parameters_names_file = \\'res/parameters_names.tx...features_file = \"res/1/train_answer_features.txt\"', 'parameters_names_file = \\'res/parameters_names.tx...features_file = \"res/1/train_answer_features.txt\"', 'import numpy as np\\nimport pandas as pd', '#Reading data\\ntrain_features = pd.read_csv(train...read_csv(test_parameters_label_file, header=None)', 'parameters_names_file = \\'res/parameters_names.tx...features_file = \"res/1/train_answer_features.txt\"', 'import numpy as np\\nimport pandas as pd', '#Reading data\\ntrain_features = pd.read_csv(train...read_csv(test_parameters_label_file, header=None)', '\\nfrom sklearn.tree import export_graphviz\\nfrom s..._score\\nfrom sklearn.metrics import accuracy_score', '#libraries for tree\\n\\nfrom sklearn.tree import De...t DecisionTreeClassifier\\nfrom sklearn import tree', '#preprocessing\\nfrom sklearn import preprocessing...tures_scaled = preprocessing.scale(test_features)', \"#no execution\\n#Tree with preprocessed data\\n\\ndata...:', tr_bst_prm)\\nprint('Best score: ', tr_bst_scr)\", \"#Tree with split-function\\n\\ndata_train, data_test...:', tr_bst_prm)\\nprint('Best score: ', tr_bst_scr)\", \"#Tree with split-function\\n\\ndata_train, data_test...:', tr_bst_prm)\\nprint('Best score: ', tr_bst_scr)\", \"#Tree with split-function\\n\\ndata_train, data_test...:', tr_bst_prm)\\nprint('Best score: ', tr_bst_scr)\", '#libraries for ANN\\nfrom sklearn.neural_network i...r\\nfrom sklearn.neural_network import MLPRegressor', \"data_train, data_test, label_train, label_test =...re (', max_ls1, max_ls2, 'layers): ', max_sc_ann)\", \"data_train, data_test, label_train, label_test =...re (', max_ls1, max_ls2, 'layers): ', max_sc_ann)\", \"data_train, data_test, label_train, label_test =...re (', max_ls1, max_ls2, 'layers): ', max_sc_ann)\", '#KNN with preprocessing for final testing\\ndata_t...n_bst_prm)\\nprint(\\'Best score: \\', knn_bst_scr)\\n\"\"\"', ...], 'KNeighborsClassifier': <class 'sklearn.neighbors.classification.KNeighborsClassifier'>, 'KNeighborsRegressor': <class 'sklearn.neighbors.regression.KNeighborsRegressor'>, 'MLPClassifier': <class 'sklearn.neural_network.multilayer_perceptron.MLPClassifier'>, 'MLPRegressor': <class 'sklearn.neural_network.multilayer_perceptron.MLPRegressor'>, 'Out': {21: \"\\nknn_pred = knn.predict(data_test)\\nacc_knn = acc... knn_bst_prm)\\nprint('Best score: ', knn_bst_scr)\\n\"}, 'Pipeline': <class 'sklearn.pipeline.Pipeline'>, ...}\n   2863             finally:\n   2864                 # Reset our crash handler in place\n   2865                 sys.excepthook = old_excepthook\n   2866         except SystemExit as e:\n\n...........................................................................\n/home/ekaterina/Documents/shishipun/<ipython-input-22-95c03ec57a34> in <module>()\n     18 \n     19 tree_params = {'max_depth': range(2,20), 'max_features': range(1,14)}\n     20 tree_grid = GridSearchCV(clf, tree_params, cv=10, n_jobs=-1, verbose=True)\n     21 \n     22 \n---> 23 tree_grid.fit(data_train, label_train)\n     24 \n     25 print(tree_greed.predict([[2.0, 6.0]]))\n     26 \n     27 tr_bst_prm = tree_grid.best_params_ \n\n...........................................................................\n/home/ekaterina/anaconda/envs/ipykernel_py3/lib/python3.6/site-packages/sklearn/model_selection/_search.py in fit(self=GridSearchCV(cv=10, error_score='raise',\n       ..._score='warn',\n       scoring=None, verbose=True), X=array([[  5.,   7.],\n       [  2.,  10.],\n      ...  3.],\n       [  2.,  33.],\n       [  2.,   6.]]), y=array([[     78125],\n       [      1024],\n      ...   8],\n       [8589934592],\n       [        64]]), groups=None, **fit_params={})\n    634                                   return_train_score=self.return_train_score,\n    635                                   return_n_test_samples=True,\n    636                                   return_times=True, return_parameters=False,\n    637                                   error_score=self.error_score)\n    638           for parameters, (train, test) in product(candidate_params,\n--> 639                                                    cv.split(X, y, groups)))\n        cv.split = <bound method _BaseKFold.split of KFold(n_splits=10, random_state=None, shuffle=False)>\n        X = array([[  5.,   7.],\n       [  2.,  10.],\n      ...  3.],\n       [  2.,  33.],\n       [  2.,   6.]])\n        y = array([[     78125],\n       [      1024],\n      ...   8],\n       [8589934592],\n       [        64]])\n        groups = None\n    640 \n    641         # if one choose to see train score, \"out\" will contain train score info\n    642         if self.return_train_score:\n    643             (train_score_dicts, test_score_dicts, test_sample_counts, fit_time,\n\n...........................................................................\n/home/ekaterina/anaconda/envs/ipykernel_py3/lib/python3.6/site-packages/sklearn/externals/joblib/parallel.py in __call__(self=Parallel(n_jobs=-1), iterable=<generator object BaseSearchCV.fit.<locals>.<genexpr>>)\n    784             if pre_dispatch == \"all\" or n_jobs == 1:\n    785                 # The iterable was consumed all at once by the above for loop.\n    786                 # No need to wait for async callbacks to trigger to\n    787                 # consumption.\n    788                 self._iterating = False\n--> 789             self.retrieve()\n        self.retrieve = <bound method Parallel.retrieve of Parallel(n_jobs=-1)>\n    790             # Make sure that we get a last message telling us we are done\n    791             elapsed_time = time.time() - self._start_time\n    792             self._print('Done %3i out of %3i | elapsed: %s finished',\n    793                         (len(self._output), len(self._output),\n\n---------------------------------------------------------------------------\nSub-process traceback:\n---------------------------------------------------------------------------\nValueError                                         Mon Nov 27 07:13:28 2017\nPID: 22530Python 3.6.2: /home/ekaterina/anaconda/envs/ipykernel_py3/bin/python\n...........................................................................\n/home/ekaterina/anaconda/envs/ipykernel_py3/lib/python3.6/site-packages/sklearn/externals/joblib/parallel.py in __call__(self=<sklearn.externals.joblib.parallel.BatchedCalls object>)\n    126     def __init__(self, iterator_slice):\n    127         self.items = list(iterator_slice)\n    128         self._size = len(self.items)\n    129 \n    130     def __call__(self):\n--> 131         return [func(*args, **kwargs) for func, args, kwargs in self.items]\n        self.items = [(<function _fit_and_score>, (DecisionTreeRegressor(criterion='mse', max_depth...resort=False, random_state=None, splitter='best'), array([[  5.,   7.],\n       [  2.,  10.],\n      ...  3.],\n       [  2.,  33.],\n       [  2.,   6.]]), array([[     78125],\n       [      1024],\n      ...   8],\n       [8589934592],\n       [        64]]), {'score': <function _passthrough_scorer>}, array([ 0,  1,  2,  3,  4,  5,  6,  7,  8, 10, 11, 12]), array([9]), True, {'max_depth': 2, 'max_features': 2}), {'error_score': 'raise', 'fit_params': {}, 'return_n_test_samples': True, 'return_parameters': False, 'return_times': True, 'return_train_score': 'warn'}), (<function _fit_and_score>, (DecisionTreeRegressor(criterion='mse', max_depth...resort=False, random_state=None, splitter='best'), array([[  5.,   7.],\n       [  2.,  10.],\n      ...  3.],\n       [  2.,  33.],\n       [  2.,   6.]]), array([[     78125],\n       [      1024],\n      ...   8],\n       [8589934592],\n       [        64]]), {'score': <function _passthrough_scorer>}, array([ 0,  1,  2,  3,  4,  5,  6,  7,  8,  9, 11, 12]), array([10]), True, {'max_depth': 2, 'max_features': 2}), {'error_score': 'raise', 'fit_params': {}, 'return_n_test_samples': True, 'return_parameters': False, 'return_times': True, 'return_train_score': 'warn'}), (<function _fit_and_score>, (DecisionTreeRegressor(criterion='mse', max_depth...resort=False, random_state=None, splitter='best'), array([[  5.,   7.],\n       [  2.,  10.],\n      ...  3.],\n       [  2.,  33.],\n       [  2.,   6.]]), array([[     78125],\n       [      1024],\n      ...   8],\n       [8589934592],\n       [        64]]), {'score': <function _passthrough_scorer>}, array([ 0,  1,  2,  3,  4,  5,  6,  7,  8,  9, 10, 12]), array([11]), True, {'max_depth': 2, 'max_features': 2}), {'error_score': 'raise', 'fit_params': {}, 'return_n_test_samples': True, 'return_parameters': False, 'return_times': True, 'return_train_score': 'warn'}), (<function _fit_and_score>, (DecisionTreeRegressor(criterion='mse', max_depth...resort=False, random_state=None, splitter='best'), array([[  5.,   7.],\n       [  2.,  10.],\n      ...  3.],\n       [  2.,  33.],\n       [  2.,   6.]]), array([[     78125],\n       [      1024],\n      ...   8],\n       [8589934592],\n       [        64]]), {'score': <function _passthrough_scorer>}, array([ 0,  1,  2,  3,  4,  5,  6,  7,  8,  9, 10, 11]), array([12]), True, {'max_depth': 2, 'max_features': 2}), {'error_score': 'raise', 'fit_params': {}, 'return_n_test_samples': True, 'return_parameters': False, 'return_times': True, 'return_train_score': 'warn'}), (<function _fit_and_score>, (DecisionTreeRegressor(criterion='mse', max_depth...resort=False, random_state=None, splitter='best'), array([[  5.,   7.],\n       [  2.,  10.],\n      ...  3.],\n       [  2.,  33.],\n       [  2.,   6.]]), array([[     78125],\n       [      1024],\n      ...   8],\n       [8589934592],\n       [        64]]), {'score': <function _passthrough_scorer>}, array([ 2,  3,  4,  5,  6,  7,  8,  9, 10, 11, 12]), array([0, 1]), True, {'max_depth': 2, 'max_features': 3}), {'error_score': 'raise', 'fit_params': {}, 'return_n_test_samples': True, 'return_parameters': False, 'return_times': True, 'return_train_score': 'warn'}), (<function _fit_and_score>, (DecisionTreeRegressor(criterion='mse', max_depth...resort=False, random_state=None, splitter='best'), array([[  5.,   7.],\n       [  2.,  10.],\n      ...  3.],\n       [  2.,  33.],\n       [  2.,   6.]]), array([[     78125],\n       [      1024],\n      ...   8],\n       [8589934592],\n       [        64]]), {'score': <function _passthrough_scorer>}, array([ 0,  1,  4,  5,  6,  7,  8,  9, 10, 11, 12]), array([2, 3]), True, {'max_depth': 2, 'max_features': 3}), {'error_score': 'raise', 'fit_params': {}, 'return_n_test_samples': True, 'return_parameters': False, 'return_times': True, 'return_train_score': 'warn'}), (<function _fit_and_score>, (DecisionTreeRegressor(criterion='mse', max_depth...resort=False, random_state=None, splitter='best'), array([[  5.,   7.],\n       [  2.,  10.],\n      ...  3.],\n       [  2.,  33.],\n       [  2.,   6.]]), array([[     78125],\n       [      1024],\n      ...   8],\n       [8589934592],\n       [        64]]), {'score': <function _passthrough_scorer>}, array([ 0,  1,  2,  3,  6,  7,  8,  9, 10, 11, 12]), array([4, 5]), True, {'max_depth': 2, 'max_features': 3}), {'error_score': 'raise', 'fit_params': {}, 'return_n_test_samples': True, 'return_parameters': False, 'return_times': True, 'return_train_score': 'warn'}), (<function _fit_and_score>, (DecisionTreeRegressor(criterion='mse', max_depth...resort=False, random_state=None, splitter='best'), array([[  5.,   7.],\n       [  2.,  10.],\n      ...  3.],\n       [  2.,  33.],\n       [  2.,   6.]]), array([[     78125],\n       [      1024],\n      ...   8],\n       [8589934592],\n       [        64]]), {'score': <function _passthrough_scorer>}, array([ 0,  1,  2,  3,  4,  5,  7,  8,  9, 10, 11, 12]), array([6]), True, {'max_depth': 2, 'max_features': 3}), {'error_score': 'raise', 'fit_params': {}, 'return_n_test_samples': True, 'return_parameters': False, 'return_times': True, 'return_train_score': 'warn'})]\n    132 \n    133     def __len__(self):\n    134         return self._size\n    135 \n\n...........................................................................\n/home/ekaterina/anaconda/envs/ipykernel_py3/lib/python3.6/site-packages/sklearn/externals/joblib/parallel.py in <listcomp>(.0=<list_iterator object>)\n    126     def __init__(self, iterator_slice):\n    127         self.items = list(iterator_slice)\n    128         self._size = len(self.items)\n    129 \n    130     def __call__(self):\n--> 131         return [func(*args, **kwargs) for func, args, kwargs in self.items]\n        func = <function _fit_and_score>\n        args = (DecisionTreeRegressor(criterion='mse', max_depth...resort=False, random_state=None, splitter='best'), array([[  5.,   7.],\n       [  2.,  10.],\n      ...  3.],\n       [  2.,  33.],\n       [  2.,   6.]]), array([[     78125],\n       [      1024],\n      ...   8],\n       [8589934592],\n       [        64]]), {'score': <function _passthrough_scorer>}, array([ 2,  3,  4,  5,  6,  7,  8,  9, 10, 11, 12]), array([0, 1]), True, {'max_depth': 2, 'max_features': 3})\n        kwargs = {'error_score': 'raise', 'fit_params': {}, 'return_n_test_samples': True, 'return_parameters': False, 'return_times': True, 'return_train_score': 'warn'}\n    132 \n    133     def __len__(self):\n    134         return self._size\n    135 \n\n...........................................................................\n/home/ekaterina/anaconda/envs/ipykernel_py3/lib/python3.6/site-packages/sklearn/model_selection/_validation.py in _fit_and_score(estimator=DecisionTreeRegressor(criterion='mse', max_depth...resort=False, random_state=None, splitter='best'), X=array([[  5.,   7.],\n       [  2.,  10.],\n      ...  3.],\n       [  2.,  33.],\n       [  2.,   6.]]), y=array([[     78125],\n       [      1024],\n      ...   8],\n       [8589934592],\n       [        64]]), scorer={'score': <function _passthrough_scorer>}, train=array([ 2,  3,  4,  5,  6,  7,  8,  9, 10, 11, 12]), test=array([0, 1]), verbose=True, parameters={'max_depth': 2, 'max_features': 3}, fit_params={}, return_train_score='warn', return_parameters=False, return_n_test_samples=True, return_times=True, error_score='raise')\n    453 \n    454     try:\n    455         if y_train is None:\n    456             estimator.fit(X_train, **fit_params)\n    457         else:\n--> 458             estimator.fit(X_train, y_train, **fit_params)\n        estimator.fit = <bound method DecisionTreeRegressor.fit of Decis...esort=False, random_state=None, splitter='best')>\n        X_train = array([[  4.,   2.],\n       [  2.,  10.],\n      ...  3.],\n       [  2.,  33.],\n       [  2.,   6.]])\n        y_train = array([[        16],\n       [       512],\n      ...   8],\n       [8589934592],\n       [        64]])\n        fit_params = {}\n    459 \n    460     except Exception as e:\n    461         # Note fit time as time until error\n    462         fit_time = time.time() - start_time\n\n...........................................................................\n/home/ekaterina/anaconda/envs/ipykernel_py3/lib/python3.6/site-packages/sklearn/tree/tree.py in fit(self=DecisionTreeRegressor(criterion='mse', max_depth...resort=False, random_state=None, splitter='best'), X=array([[  4.,   2.],\n       [  2.,  10.],\n      ...  3.],\n       [  2.,  33.],\n       [  2.,   6.]]), y=array([[        16],\n       [       512],\n      ...   8],\n       [8589934592],\n       [        64]]), sample_weight=None, check_input=True, X_idx_sorted=None)\n   1119 \n   1120         super(DecisionTreeRegressor, self).fit(\n   1121             X, y,\n   1122             sample_weight=sample_weight,\n   1123             check_input=check_input,\n-> 1124             X_idx_sorted=X_idx_sorted)\n        X_idx_sorted = None\n   1125         return self\n   1126 \n   1127 \n   1128 class ExtraTreeClassifier(DecisionTreeClassifier):\n\n...........................................................................\n/home/ekaterina/anaconda/envs/ipykernel_py3/lib/python3.6/site-packages/sklearn/tree/tree.py in fit(self=DecisionTreeRegressor(criterion='mse', max_depth...resort=False, random_state=None, splitter='best'), X=array([[  4.,   2.],\n       [  2.,  10.],\n      ...  2.,  33.],\n       [  2.,   6.]], dtype=float32), y=array([[  1.60000000e+01],\n       [  5.12000000e...  [  8.58993459e+09],\n       [  6.40000000e+01]]), sample_weight=None, check_input=True, X_idx_sorted=None)\n    237         if not 0 <= self.min_weight_fraction_leaf <= 0.5:\n    238             raise ValueError(\"min_weight_fraction_leaf must in [0, 0.5]\")\n    239         if max_depth <= 0:\n    240             raise ValueError(\"max_depth must be greater than zero. \")\n    241         if not (0 < max_features <= self.n_features_):\n--> 242             raise ValueError(\"max_features must be in (0, n_features]\")\n    243         if not isinstance(max_leaf_nodes, (numbers.Integral, np.integer)):\n    244             raise ValueError(\"max_leaf_nodes must be integral number but was \"\n    245                              \"%r\" % max_leaf_nodes)\n    246         if -1 < max_leaf_nodes < 2:\n\nValueError: max_features must be in (0, n_features]\n___________________________________________________________________________",
     "output_type": "error",
     "traceback": [
      "\u001b[0;31m---------------------------------------------------------------------------\u001b[0m",
      "\u001b[0;31mRemoteTraceback\u001b[0m                           Traceback (most recent call last)",
      "\u001b[0;31mRemoteTraceback\u001b[0m: \n\"\"\"\nTraceback (most recent call last):\n  File \"/home/ekaterina/anaconda/envs/ipykernel_py3/lib/python3.6/site-packages/sklearn/externals/joblib/_parallel_backends.py\", line 350, in __call__\n    return self.func(*args, **kwargs)\n  File \"/home/ekaterina/anaconda/envs/ipykernel_py3/lib/python3.6/site-packages/sklearn/externals/joblib/parallel.py\", line 131, in __call__\n    return [func(*args, **kwargs) for func, args, kwargs in self.items]\n  File \"/home/ekaterina/anaconda/envs/ipykernel_py3/lib/python3.6/site-packages/sklearn/externals/joblib/parallel.py\", line 131, in <listcomp>\n    return [func(*args, **kwargs) for func, args, kwargs in self.items]\n  File \"/home/ekaterina/anaconda/envs/ipykernel_py3/lib/python3.6/site-packages/sklearn/model_selection/_validation.py\", line 458, in _fit_and_score\n    estimator.fit(X_train, y_train, **fit_params)\n  File \"/home/ekaterina/anaconda/envs/ipykernel_py3/lib/python3.6/site-packages/sklearn/tree/tree.py\", line 1124, in fit\n    X_idx_sorted=X_idx_sorted)\n  File \"/home/ekaterina/anaconda/envs/ipykernel_py3/lib/python3.6/site-packages/sklearn/tree/tree.py\", line 242, in fit\n    raise ValueError(\"max_features must be in (0, n_features]\")\nValueError: max_features must be in (0, n_features]\n\nDuring handling of the above exception, another exception occurred:\n\nTraceback (most recent call last):\n  File \"/home/ekaterina/anaconda/envs/ipykernel_py3/lib/python3.6/multiprocessing/pool.py\", line 119, in worker\n    result = (True, func(*args, **kwds))\n  File \"/home/ekaterina/anaconda/envs/ipykernel_py3/lib/python3.6/site-packages/sklearn/externals/joblib/_parallel_backends.py\", line 359, in __call__\n    raise TransportableException(text, e_type)\nsklearn.externals.joblib.my_exceptions.TransportableException: TransportableException\n___________________________________________________________________________\nValueError                                         Mon Nov 27 07:13:28 2017\nPID: 22530Python 3.6.2: /home/ekaterina/anaconda/envs/ipykernel_py3/bin/python\n...........................................................................\n/home/ekaterina/anaconda/envs/ipykernel_py3/lib/python3.6/site-packages/sklearn/externals/joblib/parallel.py in __call__(self=<sklearn.externals.joblib.parallel.BatchedCalls object>)\n    126     def __init__(self, iterator_slice):\n    127         self.items = list(iterator_slice)\n    128         self._size = len(self.items)\n    129 \n    130     def __call__(self):\n--> 131         return [func(*args, **kwargs) for func, args, kwargs in self.items]\n        self.items = [(<function _fit_and_score>, (DecisionTreeRegressor(criterion='mse', max_depth...resort=False, random_state=None, splitter='best'), array([[  5.,   7.],\n       [  2.,  10.],\n      ...  3.],\n       [  2.,  33.],\n       [  2.,   6.]]), array([[     78125],\n       [      1024],\n      ...   8],\n       [8589934592],\n       [        64]]), {'score': <function _passthrough_scorer>}, array([ 0,  1,  2,  3,  4,  5,  6,  7,  8, 10, 11, 12]), array([9]), True, {'max_depth': 2, 'max_features': 2}), {'error_score': 'raise', 'fit_params': {}, 'return_n_test_samples': True, 'return_parameters': False, 'return_times': True, 'return_train_score': 'warn'}), (<function _fit_and_score>, (DecisionTreeRegressor(criterion='mse', max_depth...resort=False, random_state=None, splitter='best'), array([[  5.,   7.],\n       [  2.,  10.],\n      ...  3.],\n       [  2.,  33.],\n       [  2.,   6.]]), array([[     78125],\n       [      1024],\n      ...   8],\n       [8589934592],\n       [        64]]), {'score': <function _passthrough_scorer>}, array([ 0,  1,  2,  3,  4,  5,  6,  7,  8,  9, 11, 12]), array([10]), True, {'max_depth': 2, 'max_features': 2}), {'error_score': 'raise', 'fit_params': {}, 'return_n_test_samples': True, 'return_parameters': False, 'return_times': True, 'return_train_score': 'warn'}), (<function _fit_and_score>, (DecisionTreeRegressor(criterion='mse', max_depth...resort=False, random_state=None, splitter='best'), array([[  5.,   7.],\n       [  2.,  10.],\n      ...  3.],\n       [  2.,  33.],\n       [  2.,   6.]]), array([[     78125],\n       [      1024],\n      ...   8],\n       [8589934592],\n       [        64]]), {'score': <function _passthrough_scorer>}, array([ 0,  1,  2,  3,  4,  5,  6,  7,  8,  9, 10, 12]), array([11]), True, {'max_depth': 2, 'max_features': 2}), {'error_score': 'raise', 'fit_params': {}, 'return_n_test_samples': True, 'return_parameters': False, 'return_times': True, 'return_train_score': 'warn'}), (<function _fit_and_score>, (DecisionTreeRegressor(criterion='mse', max_depth...resort=False, random_state=None, splitter='best'), array([[  5.,   7.],\n       [  2.,  10.],\n      ...  3.],\n       [  2.,  33.],\n       [  2.,   6.]]), array([[     78125],\n       [      1024],\n      ...   8],\n       [8589934592],\n       [        64]]), {'score': <function _passthrough_scorer>}, array([ 0,  1,  2,  3,  4,  5,  6,  7,  8,  9, 10, 11]), array([12]), True, {'max_depth': 2, 'max_features': 2}), {'error_score': 'raise', 'fit_params': {}, 'return_n_test_samples': True, 'return_parameters': False, 'return_times': True, 'return_train_score': 'warn'}), (<function _fit_and_score>, (DecisionTreeRegressor(criterion='mse', max_depth...resort=False, random_state=None, splitter='best'), array([[  5.,   7.],\n       [  2.,  10.],\n      ...  3.],\n       [  2.,  33.],\n       [  2.,   6.]]), array([[     78125],\n       [      1024],\n      ...   8],\n       [8589934592],\n       [        64]]), {'score': <function _passthrough_scorer>}, array([ 2,  3,  4,  5,  6,  7,  8,  9, 10, 11, 12]), array([0, 1]), True, {'max_depth': 2, 'max_features': 3}), {'error_score': 'raise', 'fit_params': {}, 'return_n_test_samples': True, 'return_parameters': False, 'return_times': True, 'return_train_score': 'warn'}), (<function _fit_and_score>, (DecisionTreeRegressor(criterion='mse', max_depth...resort=False, random_state=None, splitter='best'), array([[  5.,   7.],\n       [  2.,  10.],\n      ...  3.],\n       [  2.,  33.],\n       [  2.,   6.]]), array([[     78125],\n       [      1024],\n      ...   8],\n       [8589934592],\n       [        64]]), {'score': <function _passthrough_scorer>}, array([ 0,  1,  4,  5,  6,  7,  8,  9, 10, 11, 12]), array([2, 3]), True, {'max_depth': 2, 'max_features': 3}), {'error_score': 'raise', 'fit_params': {}, 'return_n_test_samples': True, 'return_parameters': False, 'return_times': True, 'return_train_score': 'warn'}), (<function _fit_and_score>, (DecisionTreeRegressor(criterion='mse', max_depth...resort=False, random_state=None, splitter='best'), array([[  5.,   7.],\n       [  2.,  10.],\n      ...  3.],\n       [  2.,  33.],\n       [  2.,   6.]]), array([[     78125],\n       [      1024],\n      ...   8],\n       [8589934592],\n       [        64]]), {'score': <function _passthrough_scorer>}, array([ 0,  1,  2,  3,  6,  7,  8,  9, 10, 11, 12]), array([4, 5]), True, {'max_depth': 2, 'max_features': 3}), {'error_score': 'raise', 'fit_params': {}, 'return_n_test_samples': True, 'return_parameters': False, 'return_times': True, 'return_train_score': 'warn'}), (<function _fit_and_score>, (DecisionTreeRegressor(criterion='mse', max_depth...resort=False, random_state=None, splitter='best'), array([[  5.,   7.],\n       [  2.,  10.],\n      ...  3.],\n       [  2.,  33.],\n       [  2.,   6.]]), array([[     78125],\n       [      1024],\n      ...   8],\n       [8589934592],\n       [        64]]), {'score': <function _passthrough_scorer>}, array([ 0,  1,  2,  3,  4,  5,  7,  8,  9, 10, 11, 12]), array([6]), True, {'max_depth': 2, 'max_features': 3}), {'error_score': 'raise', 'fit_params': {}, 'return_n_test_samples': True, 'return_parameters': False, 'return_times': True, 'return_train_score': 'warn'})]\n    132 \n    133     def __len__(self):\n    134         return self._size\n    135 \n\n...........................................................................\n/home/ekaterina/anaconda/envs/ipykernel_py3/lib/python3.6/site-packages/sklearn/externals/joblib/parallel.py in <listcomp>(.0=<list_iterator object>)\n    126     def __init__(self, iterator_slice):\n    127         self.items = list(iterator_slice)\n    128         self._size = len(self.items)\n    129 \n    130     def __call__(self):\n--> 131         return [func(*args, **kwargs) for func, args, kwargs in self.items]\n        func = <function _fit_and_score>\n        args = (DecisionTreeRegressor(criterion='mse', max_depth...resort=False, random_state=None, splitter='best'), array([[  5.,   7.],\n       [  2.,  10.],\n      ...  3.],\n       [  2.,  33.],\n       [  2.,   6.]]), array([[     78125],\n       [      1024],\n      ...   8],\n       [8589934592],\n       [        64]]), {'score': <function _passthrough_scorer>}, array([ 2,  3,  4,  5,  6,  7,  8,  9, 10, 11, 12]), array([0, 1]), True, {'max_depth': 2, 'max_features': 3})\n        kwargs = {'error_score': 'raise', 'fit_params': {}, 'return_n_test_samples': True, 'return_parameters': False, 'return_times': True, 'return_train_score': 'warn'}\n    132 \n    133     def __len__(self):\n    134         return self._size\n    135 \n\n...........................................................................\n/home/ekaterina/anaconda/envs/ipykernel_py3/lib/python3.6/site-packages/sklearn/model_selection/_validation.py in _fit_and_score(estimator=DecisionTreeRegressor(criterion='mse', max_depth...resort=False, random_state=None, splitter='best'), X=array([[  5.,   7.],\n       [  2.,  10.],\n      ...  3.],\n       [  2.,  33.],\n       [  2.,   6.]]), y=array([[     78125],\n       [      1024],\n      ...   8],\n       [8589934592],\n       [        64]]), scorer={'score': <function _passthrough_scorer>}, train=array([ 2,  3,  4,  5,  6,  7,  8,  9, 10, 11, 12]), test=array([0, 1]), verbose=True, parameters={'max_depth': 2, 'max_features': 3}, fit_params={}, return_train_score='warn', return_parameters=False, return_n_test_samples=True, return_times=True, error_score='raise')\n    453 \n    454     try:\n    455         if y_train is None:\n    456             estimator.fit(X_train, **fit_params)\n    457         else:\n--> 458             estimator.fit(X_train, y_train, **fit_params)\n        estimator.fit = <bound method DecisionTreeRegressor.fit of Decis...esort=False, random_state=None, splitter='best')>\n        X_train = array([[  4.,   2.],\n       [  2.,  10.],\n      ...  3.],\n       [  2.,  33.],\n       [  2.,   6.]])\n        y_train = array([[        16],\n       [       512],\n      ...   8],\n       [8589934592],\n       [        64]])\n        fit_params = {}\n    459 \n    460     except Exception as e:\n    461         # Note fit time as time until error\n    462         fit_time = time.time() - start_time\n\n...........................................................................\n/home/ekaterina/anaconda/envs/ipykernel_py3/lib/python3.6/site-packages/sklearn/tree/tree.py in fit(self=DecisionTreeRegressor(criterion='mse', max_depth...resort=False, random_state=None, splitter='best'), X=array([[  4.,   2.],\n       [  2.,  10.],\n      ...  3.],\n       [  2.,  33.],\n       [  2.,   6.]]), y=array([[        16],\n       [       512],\n      ...   8],\n       [8589934592],\n       [        64]]), sample_weight=None, check_input=True, X_idx_sorted=None)\n   1119 \n   1120         super(DecisionTreeRegressor, self).fit(\n   1121             X, y,\n   1122             sample_weight=sample_weight,\n   1123             check_input=check_input,\n-> 1124             X_idx_sorted=X_idx_sorted)\n        X_idx_sorted = None\n   1125         return self\n   1126 \n   1127 \n   1128 class ExtraTreeClassifier(DecisionTreeClassifier):\n\n...........................................................................\n/home/ekaterina/anaconda/envs/ipykernel_py3/lib/python3.6/site-packages/sklearn/tree/tree.py in fit(self=DecisionTreeRegressor(criterion='mse', max_depth...resort=False, random_state=None, splitter='best'), X=array([[  4.,   2.],\n       [  2.,  10.],\n      ...  2.,  33.],\n       [  2.,   6.]], dtype=float32), y=array([[  1.60000000e+01],\n       [  5.12000000e...  [  8.58993459e+09],\n       [  6.40000000e+01]]), sample_weight=None, check_input=True, X_idx_sorted=None)\n    237         if not 0 <= self.min_weight_fraction_leaf <= 0.5:\n    238             raise ValueError(\"min_weight_fraction_leaf must in [0, 0.5]\")\n    239         if max_depth <= 0:\n    240             raise ValueError(\"max_depth must be greater than zero. \")\n    241         if not (0 < max_features <= self.n_features_):\n--> 242             raise ValueError(\"max_features must be in (0, n_features]\")\n    243         if not isinstance(max_leaf_nodes, (numbers.Integral, np.integer)):\n    244             raise ValueError(\"max_leaf_nodes must be integral number but was \"\n    245                              \"%r\" % max_leaf_nodes)\n    246         if -1 < max_leaf_nodes < 2:\n\nValueError: max_features must be in (0, n_features]\n___________________________________________________________________________\n\"\"\"",
      "\nThe above exception was the direct cause of the following exception:\n",
      "\u001b[0;31mTransportableException\u001b[0m                    Traceback (most recent call last)",
      "\u001b[0;32m~/anaconda/envs/ipykernel_py3/lib/python3.6/site-packages/sklearn/externals/joblib/parallel.py\u001b[0m in \u001b[0;36mretrieve\u001b[0;34m(self)\u001b[0m\n\u001b[1;32m    698\u001b[0m                 \u001b[0;32mif\u001b[0m \u001b[0mgetattr\u001b[0m\u001b[0;34m(\u001b[0m\u001b[0mself\u001b[0m\u001b[0;34m.\u001b[0m\u001b[0m_backend\u001b[0m\u001b[0;34m,\u001b[0m \u001b[0;34m'supports_timeout'\u001b[0m\u001b[0;34m,\u001b[0m \u001b[0;32mFalse\u001b[0m\u001b[0;34m)\u001b[0m\u001b[0;34m:\u001b[0m\u001b[0;34m\u001b[0m\u001b[0m\n\u001b[0;32m--> 699\u001b[0;31m                     \u001b[0mself\u001b[0m\u001b[0;34m.\u001b[0m\u001b[0m_output\u001b[0m\u001b[0;34m.\u001b[0m\u001b[0mextend\u001b[0m\u001b[0;34m(\u001b[0m\u001b[0mjob\u001b[0m\u001b[0;34m.\u001b[0m\u001b[0mget\u001b[0m\u001b[0;34m(\u001b[0m\u001b[0mtimeout\u001b[0m\u001b[0;34m=\u001b[0m\u001b[0mself\u001b[0m\u001b[0;34m.\u001b[0m\u001b[0mtimeout\u001b[0m\u001b[0;34m)\u001b[0m\u001b[0;34m)\u001b[0m\u001b[0;34m\u001b[0m\u001b[0m\n\u001b[0m\u001b[1;32m    700\u001b[0m                 \u001b[0;32melse\u001b[0m\u001b[0;34m:\u001b[0m\u001b[0;34m\u001b[0m\u001b[0m\n",
      "\u001b[0;32m~/anaconda/envs/ipykernel_py3/lib/python3.6/multiprocessing/pool.py\u001b[0m in \u001b[0;36mget\u001b[0;34m(self, timeout)\u001b[0m\n\u001b[1;32m    643\u001b[0m         \u001b[0;32melse\u001b[0m\u001b[0;34m:\u001b[0m\u001b[0;34m\u001b[0m\u001b[0m\n\u001b[0;32m--> 644\u001b[0;31m             \u001b[0;32mraise\u001b[0m \u001b[0mself\u001b[0m\u001b[0;34m.\u001b[0m\u001b[0m_value\u001b[0m\u001b[0;34m\u001b[0m\u001b[0m\n\u001b[0m\u001b[1;32m    645\u001b[0m \u001b[0;34m\u001b[0m\u001b[0m\n",
      "\u001b[0;31mTransportableException\u001b[0m: TransportableException\n___________________________________________________________________________\nValueError                                         Mon Nov 27 07:13:28 2017\nPID: 22530Python 3.6.2: /home/ekaterina/anaconda/envs/ipykernel_py3/bin/python\n...........................................................................\n/home/ekaterina/anaconda/envs/ipykernel_py3/lib/python3.6/site-packages/sklearn/externals/joblib/parallel.py in __call__(self=<sklearn.externals.joblib.parallel.BatchedCalls object>)\n    126     def __init__(self, iterator_slice):\n    127         self.items = list(iterator_slice)\n    128         self._size = len(self.items)\n    129 \n    130     def __call__(self):\n--> 131         return [func(*args, **kwargs) for func, args, kwargs in self.items]\n        self.items = [(<function _fit_and_score>, (DecisionTreeRegressor(criterion='mse', max_depth...resort=False, random_state=None, splitter='best'), array([[  5.,   7.],\n       [  2.,  10.],\n      ...  3.],\n       [  2.,  33.],\n       [  2.,   6.]]), array([[     78125],\n       [      1024],\n      ...   8],\n       [8589934592],\n       [        64]]), {'score': <function _passthrough_scorer>}, array([ 0,  1,  2,  3,  4,  5,  6,  7,  8, 10, 11, 12]), array([9]), True, {'max_depth': 2, 'max_features': 2}), {'error_score': 'raise', 'fit_params': {}, 'return_n_test_samples': True, 'return_parameters': False, 'return_times': True, 'return_train_score': 'warn'}), (<function _fit_and_score>, (DecisionTreeRegressor(criterion='mse', max_depth...resort=False, random_state=None, splitter='best'), array([[  5.,   7.],\n       [  2.,  10.],\n      ...  3.],\n       [  2.,  33.],\n       [  2.,   6.]]), array([[     78125],\n       [      1024],\n      ...   8],\n       [8589934592],\n       [        64]]), {'score': <function _passthrough_scorer>}, array([ 0,  1,  2,  3,  4,  5,  6,  7,  8,  9, 11, 12]), array([10]), True, {'max_depth': 2, 'max_features': 2}), {'error_score': 'raise', 'fit_params': {}, 'return_n_test_samples': True, 'return_parameters': False, 'return_times': True, 'return_train_score': 'warn'}), (<function _fit_and_score>, (DecisionTreeRegressor(criterion='mse', max_depth...resort=False, random_state=None, splitter='best'), array([[  5.,   7.],\n       [  2.,  10.],\n      ...  3.],\n       [  2.,  33.],\n       [  2.,   6.]]), array([[     78125],\n       [      1024],\n      ...   8],\n       [8589934592],\n       [        64]]), {'score': <function _passthrough_scorer>}, array([ 0,  1,  2,  3,  4,  5,  6,  7,  8,  9, 10, 12]), array([11]), True, {'max_depth': 2, 'max_features': 2}), {'error_score': 'raise', 'fit_params': {}, 'return_n_test_samples': True, 'return_parameters': False, 'return_times': True, 'return_train_score': 'warn'}), (<function _fit_and_score>, (DecisionTreeRegressor(criterion='mse', max_depth...resort=False, random_state=None, splitter='best'), array([[  5.,   7.],\n       [  2.,  10.],\n      ...  3.],\n       [  2.,  33.],\n       [  2.,   6.]]), array([[     78125],\n       [      1024],\n      ...   8],\n       [8589934592],\n       [        64]]), {'score': <function _passthrough_scorer>}, array([ 0,  1,  2,  3,  4,  5,  6,  7,  8,  9, 10, 11]), array([12]), True, {'max_depth': 2, 'max_features': 2}), {'error_score': 'raise', 'fit_params': {}, 'return_n_test_samples': True, 'return_parameters': False, 'return_times': True, 'return_train_score': 'warn'}), (<function _fit_and_score>, (DecisionTreeRegressor(criterion='mse', max_depth...resort=False, random_state=None, splitter='best'), array([[  5.,   7.],\n       [  2.,  10.],\n      ...  3.],\n       [  2.,  33.],\n       [  2.,   6.]]), array([[     78125],\n       [      1024],\n      ...   8],\n       [8589934592],\n       [        64]]), {'score': <function _passthrough_scorer>}, array([ 2,  3,  4,  5,  6,  7,  8,  9, 10, 11, 12]), array([0, 1]), True, {'max_depth': 2, 'max_features': 3}), {'error_score': 'raise', 'fit_params': {}, 'return_n_test_samples': True, 'return_parameters': False, 'return_times': True, 'return_train_score': 'warn'}), (<function _fit_and_score>, (DecisionTreeRegressor(criterion='mse', max_depth...resort=False, random_state=None, splitter='best'), array([[  5.,   7.],\n       [  2.,  10.],\n      ...  3.],\n       [  2.,  33.],\n       [  2.,   6.]]), array([[     78125],\n       [      1024],\n      ...   8],\n       [8589934592],\n       [        64]]), {'score': <function _passthrough_scorer>}, array([ 0,  1,  4,  5,  6,  7,  8,  9, 10, 11, 12]), array([2, 3]), True, {'max_depth': 2, 'max_features': 3}), {'error_score': 'raise', 'fit_params': {}, 'return_n_test_samples': True, 'return_parameters': False, 'return_times': True, 'return_train_score': 'warn'}), (<function _fit_and_score>, (DecisionTreeRegressor(criterion='mse', max_depth...resort=False, random_state=None, splitter='best'), array([[  5.,   7.],\n       [  2.,  10.],\n      ...  3.],\n       [  2.,  33.],\n       [  2.,   6.]]), array([[     78125],\n       [      1024],\n      ...   8],\n       [8589934592],\n       [        64]]), {'score': <function _passthrough_scorer>}, array([ 0,  1,  2,  3,  6,  7,  8,  9, 10, 11, 12]), array([4, 5]), True, {'max_depth': 2, 'max_features': 3}), {'error_score': 'raise', 'fit_params': {}, 'return_n_test_samples': True, 'return_parameters': False, 'return_times': True, 'return_train_score': 'warn'}), (<function _fit_and_score>, (DecisionTreeRegressor(criterion='mse', max_depth...resort=False, random_state=None, splitter='best'), array([[  5.,   7.],\n       [  2.,  10.],\n      ...  3.],\n       [  2.,  33.],\n       [  2.,   6.]]), array([[     78125],\n       [      1024],\n      ...   8],\n       [8589934592],\n       [        64]]), {'score': <function _passthrough_scorer>}, array([ 0,  1,  2,  3,  4,  5,  7,  8,  9, 10, 11, 12]), array([6]), True, {'max_depth': 2, 'max_features': 3}), {'error_score': 'raise', 'fit_params': {}, 'return_n_test_samples': True, 'return_parameters': False, 'return_times': True, 'return_train_score': 'warn'})]\n    132 \n    133     def __len__(self):\n    134         return self._size\n    135 \n\n...........................................................................\n/home/ekaterina/anaconda/envs/ipykernel_py3/lib/python3.6/site-packages/sklearn/externals/joblib/parallel.py in <listcomp>(.0=<list_iterator object>)\n    126     def __init__(self, iterator_slice):\n    127         self.items = list(iterator_slice)\n    128         self._size = len(self.items)\n    129 \n    130     def __call__(self):\n--> 131         return [func(*args, **kwargs) for func, args, kwargs in self.items]\n        func = <function _fit_and_score>\n        args = (DecisionTreeRegressor(criterion='mse', max_depth...resort=False, random_state=None, splitter='best'), array([[  5.,   7.],\n       [  2.,  10.],\n      ...  3.],\n       [  2.,  33.],\n       [  2.,   6.]]), array([[     78125],\n       [      1024],\n      ...   8],\n       [8589934592],\n       [        64]]), {'score': <function _passthrough_scorer>}, array([ 2,  3,  4,  5,  6,  7,  8,  9, 10, 11, 12]), array([0, 1]), True, {'max_depth': 2, 'max_features': 3})\n        kwargs = {'error_score': 'raise', 'fit_params': {}, 'return_n_test_samples': True, 'return_parameters': False, 'return_times': True, 'return_train_score': 'warn'}\n    132 \n    133     def __len__(self):\n    134         return self._size\n    135 \n\n...........................................................................\n/home/ekaterina/anaconda/envs/ipykernel_py3/lib/python3.6/site-packages/sklearn/model_selection/_validation.py in _fit_and_score(estimator=DecisionTreeRegressor(criterion='mse', max_depth...resort=False, random_state=None, splitter='best'), X=array([[  5.,   7.],\n       [  2.,  10.],\n      ...  3.],\n       [  2.,  33.],\n       [  2.,   6.]]), y=array([[     78125],\n       [      1024],\n      ...   8],\n       [8589934592],\n       [        64]]), scorer={'score': <function _passthrough_scorer>}, train=array([ 2,  3,  4,  5,  6,  7,  8,  9, 10, 11, 12]), test=array([0, 1]), verbose=True, parameters={'max_depth': 2, 'max_features': 3}, fit_params={}, return_train_score='warn', return_parameters=False, return_n_test_samples=True, return_times=True, error_score='raise')\n    453 \n    454     try:\n    455         if y_train is None:\n    456             estimator.fit(X_train, **fit_params)\n    457         else:\n--> 458             estimator.fit(X_train, y_train, **fit_params)\n        estimator.fit = <bound method DecisionTreeRegressor.fit of Decis...esort=False, random_state=None, splitter='best')>\n        X_train = array([[  4.,   2.],\n       [  2.,  10.],\n      ...  3.],\n       [  2.,  33.],\n       [  2.,   6.]])\n        y_train = array([[        16],\n       [       512],\n      ...   8],\n       [8589934592],\n       [        64]])\n        fit_params = {}\n    459 \n    460     except Exception as e:\n    461         # Note fit time as time until error\n    462         fit_time = time.time() - start_time\n\n...........................................................................\n/home/ekaterina/anaconda/envs/ipykernel_py3/lib/python3.6/site-packages/sklearn/tree/tree.py in fit(self=DecisionTreeRegressor(criterion='mse', max_depth...resort=False, random_state=None, splitter='best'), X=array([[  4.,   2.],\n       [  2.,  10.],\n      ...  3.],\n       [  2.,  33.],\n       [  2.,   6.]]), y=array([[        16],\n       [       512],\n      ...   8],\n       [8589934592],\n       [        64]]), sample_weight=None, check_input=True, X_idx_sorted=None)\n   1119 \n   1120         super(DecisionTreeRegressor, self).fit(\n   1121             X, y,\n   1122             sample_weight=sample_weight,\n   1123             check_input=check_input,\n-> 1124             X_idx_sorted=X_idx_sorted)\n        X_idx_sorted = None\n   1125         return self\n   1126 \n   1127 \n   1128 class ExtraTreeClassifier(DecisionTreeClassifier):\n\n...........................................................................\n/home/ekaterina/anaconda/envs/ipykernel_py3/lib/python3.6/site-packages/sklearn/tree/tree.py in fit(self=DecisionTreeRegressor(criterion='mse', max_depth...resort=False, random_state=None, splitter='best'), X=array([[  4.,   2.],\n       [  2.,  10.],\n      ...  2.,  33.],\n       [  2.,   6.]], dtype=float32), y=array([[  1.60000000e+01],\n       [  5.12000000e...  [  8.58993459e+09],\n       [  6.40000000e+01]]), sample_weight=None, check_input=True, X_idx_sorted=None)\n    237         if not 0 <= self.min_weight_fraction_leaf <= 0.5:\n    238             raise ValueError(\"min_weight_fraction_leaf must in [0, 0.5]\")\n    239         if max_depth <= 0:\n    240             raise ValueError(\"max_depth must be greater than zero. \")\n    241         if not (0 < max_features <= self.n_features_):\n--> 242             raise ValueError(\"max_features must be in (0, n_features]\")\n    243         if not isinstance(max_leaf_nodes, (numbers.Integral, np.integer)):\n    244             raise ValueError(\"max_leaf_nodes must be integral number but was \"\n    245                              \"%r\" % max_leaf_nodes)\n    246         if -1 < max_leaf_nodes < 2:\n\nValueError: max_features must be in (0, n_features]\n___________________________________________________________________________",
      "\nDuring handling of the above exception, another exception occurred:\n",
      "\u001b[0;31mJoblibValueError\u001b[0m                          Traceback (most recent call last)",
      "\u001b[0;32m<ipython-input-22-95c03ec57a34>\u001b[0m in \u001b[0;36m<module>\u001b[0;34m()\u001b[0m\n\u001b[1;32m     21\u001b[0m \u001b[0;34m\u001b[0m\u001b[0m\n\u001b[1;32m     22\u001b[0m \u001b[0;34m\u001b[0m\u001b[0m\n\u001b[0;32m---> 23\u001b[0;31m \u001b[0mtree_grid\u001b[0m\u001b[0;34m.\u001b[0m\u001b[0mfit\u001b[0m\u001b[0;34m(\u001b[0m\u001b[0mdata_train\u001b[0m\u001b[0;34m,\u001b[0m \u001b[0mlabel_train\u001b[0m\u001b[0;34m)\u001b[0m\u001b[0;34m\u001b[0m\u001b[0m\n\u001b[0m\u001b[1;32m     24\u001b[0m \u001b[0;34m\u001b[0m\u001b[0m\n\u001b[1;32m     25\u001b[0m \u001b[0mprint\u001b[0m\u001b[0;34m(\u001b[0m\u001b[0mtree_greed\u001b[0m\u001b[0;34m.\u001b[0m\u001b[0mpredict\u001b[0m\u001b[0;34m(\u001b[0m\u001b[0;34m[\u001b[0m\u001b[0;34m[\u001b[0m\u001b[0;36m2.0\u001b[0m\u001b[0;34m,\u001b[0m \u001b[0;36m6.0\u001b[0m\u001b[0;34m]\u001b[0m\u001b[0;34m]\u001b[0m\u001b[0;34m)\u001b[0m\u001b[0;34m)\u001b[0m\u001b[0;34m\u001b[0m\u001b[0m\n",
      "\u001b[0;32m~/anaconda/envs/ipykernel_py3/lib/python3.6/site-packages/sklearn/model_selection/_search.py\u001b[0m in \u001b[0;36mfit\u001b[0;34m(self, X, y, groups, **fit_params)\u001b[0m\n\u001b[1;32m    637\u001b[0m                                   error_score=self.error_score)\n\u001b[1;32m    638\u001b[0m           for parameters, (train, test) in product(candidate_params,\n\u001b[0;32m--> 639\u001b[0;31m                                                    cv.split(X, y, groups)))\n\u001b[0m\u001b[1;32m    640\u001b[0m \u001b[0;34m\u001b[0m\u001b[0m\n\u001b[1;32m    641\u001b[0m         \u001b[0;31m# if one choose to see train score, \"out\" will contain train score info\u001b[0m\u001b[0;34m\u001b[0m\u001b[0;34m\u001b[0m\u001b[0m\n",
      "\u001b[0;32m~/anaconda/envs/ipykernel_py3/lib/python3.6/site-packages/sklearn/externals/joblib/parallel.py\u001b[0m in \u001b[0;36m__call__\u001b[0;34m(self, iterable)\u001b[0m\n\u001b[1;32m    787\u001b[0m                 \u001b[0;31m# consumption.\u001b[0m\u001b[0;34m\u001b[0m\u001b[0;34m\u001b[0m\u001b[0m\n\u001b[1;32m    788\u001b[0m                 \u001b[0mself\u001b[0m\u001b[0;34m.\u001b[0m\u001b[0m_iterating\u001b[0m \u001b[0;34m=\u001b[0m \u001b[0;32mFalse\u001b[0m\u001b[0;34m\u001b[0m\u001b[0m\n\u001b[0;32m--> 789\u001b[0;31m             \u001b[0mself\u001b[0m\u001b[0;34m.\u001b[0m\u001b[0mretrieve\u001b[0m\u001b[0;34m(\u001b[0m\u001b[0;34m)\u001b[0m\u001b[0;34m\u001b[0m\u001b[0m\n\u001b[0m\u001b[1;32m    790\u001b[0m             \u001b[0;31m# Make sure that we get a last message telling us we are done\u001b[0m\u001b[0;34m\u001b[0m\u001b[0;34m\u001b[0m\u001b[0m\n\u001b[1;32m    791\u001b[0m             \u001b[0melapsed_time\u001b[0m \u001b[0;34m=\u001b[0m \u001b[0mtime\u001b[0m\u001b[0;34m.\u001b[0m\u001b[0mtime\u001b[0m\u001b[0;34m(\u001b[0m\u001b[0;34m)\u001b[0m \u001b[0;34m-\u001b[0m \u001b[0mself\u001b[0m\u001b[0;34m.\u001b[0m\u001b[0m_start_time\u001b[0m\u001b[0;34m\u001b[0m\u001b[0m\n",
      "\u001b[0;32m~/anaconda/envs/ipykernel_py3/lib/python3.6/site-packages/sklearn/externals/joblib/parallel.py\u001b[0m in \u001b[0;36mretrieve\u001b[0;34m(self)\u001b[0m\n\u001b[1;32m    738\u001b[0m                     \u001b[0mexception\u001b[0m \u001b[0;34m=\u001b[0m \u001b[0mexception_type\u001b[0m\u001b[0;34m(\u001b[0m\u001b[0mreport\u001b[0m\u001b[0;34m)\u001b[0m\u001b[0;34m\u001b[0m\u001b[0m\n\u001b[1;32m    739\u001b[0m \u001b[0;34m\u001b[0m\u001b[0m\n\u001b[0;32m--> 740\u001b[0;31m                     \u001b[0;32mraise\u001b[0m \u001b[0mexception\u001b[0m\u001b[0;34m\u001b[0m\u001b[0m\n\u001b[0m\u001b[1;32m    741\u001b[0m \u001b[0;34m\u001b[0m\u001b[0m\n\u001b[1;32m    742\u001b[0m     \u001b[0;32mdef\u001b[0m \u001b[0m__call__\u001b[0m\u001b[0;34m(\u001b[0m\u001b[0mself\u001b[0m\u001b[0;34m,\u001b[0m \u001b[0miterable\u001b[0m\u001b[0;34m)\u001b[0m\u001b[0;34m:\u001b[0m\u001b[0;34m\u001b[0m\u001b[0m\n",
      "\u001b[0;31mJoblibValueError\u001b[0m: JoblibValueError\n___________________________________________________________________________\nMultiprocessing exception:\n...........................................................................\n/home/ekaterina/anaconda/envs/ipykernel_py3/lib/python3.6/runpy.py in _run_module_as_main(mod_name='ipykernel_launcher', alter_argv=1)\n    188         sys.exit(msg)\n    189     main_globals = sys.modules[\"__main__\"].__dict__\n    190     if alter_argv:\n    191         sys.argv[0] = mod_spec.origin\n    192     return _run_code(code, main_globals, None,\n--> 193                      \"__main__\", mod_spec)\n        mod_spec = ModuleSpec(name='ipykernel_launcher', loader=<_f...b/python3.6/site-packages/ipykernel_launcher.py')\n    194 \n    195 def run_module(mod_name, init_globals=None,\n    196                run_name=None, alter_sys=False):\n    197     \"\"\"Execute a module's code without importing it\n\n...........................................................................\n/home/ekaterina/anaconda/envs/ipykernel_py3/lib/python3.6/runpy.py in _run_code(code=<code object <module> at 0x7fc70637de40, file \"/...3.6/site-packages/ipykernel_launcher.py\", line 5>, run_globals={'__annotations__': {}, '__builtins__': <module 'builtins' (built-in)>, '__cached__': '/home/ekaterina/anaconda/envs/ipykernel_py3/lib/...ges/__pycache__/ipykernel_launcher.cpython-36.pyc', '__doc__': 'Entry point for launching an IPython kernel.\\n\\nTh...orts until\\nafter removing the cwd from sys.path.\\n', '__file__': '/home/ekaterina/anaconda/envs/ipykernel_py3/lib/python3.6/site-packages/ipykernel_launcher.py', '__loader__': <_frozen_importlib_external.SourceFileLoader object>, '__name__': '__main__', '__package__': '', '__spec__': ModuleSpec(name='ipykernel_launcher', loader=<_f...b/python3.6/site-packages/ipykernel_launcher.py'), 'app': <module 'ipykernel.kernelapp' from '/home/ekater.../python3.6/site-packages/ipykernel/kernelapp.py'>, ...}, init_globals=None, mod_name='__main__', mod_spec=ModuleSpec(name='ipykernel_launcher', loader=<_f...b/python3.6/site-packages/ipykernel_launcher.py'), pkg_name='', script_name=None)\n     80                        __cached__ = cached,\n     81                        __doc__ = None,\n     82                        __loader__ = loader,\n     83                        __package__ = pkg_name,\n     84                        __spec__ = mod_spec)\n---> 85     exec(code, run_globals)\n        code = <code object <module> at 0x7fc70637de40, file \"/...3.6/site-packages/ipykernel_launcher.py\", line 5>\n        run_globals = {'__annotations__': {}, '__builtins__': <module 'builtins' (built-in)>, '__cached__': '/home/ekaterina/anaconda/envs/ipykernel_py3/lib/...ges/__pycache__/ipykernel_launcher.cpython-36.pyc', '__doc__': 'Entry point for launching an IPython kernel.\\n\\nTh...orts until\\nafter removing the cwd from sys.path.\\n', '__file__': '/home/ekaterina/anaconda/envs/ipykernel_py3/lib/python3.6/site-packages/ipykernel_launcher.py', '__loader__': <_frozen_importlib_external.SourceFileLoader object>, '__name__': '__main__', '__package__': '', '__spec__': ModuleSpec(name='ipykernel_launcher', loader=<_f...b/python3.6/site-packages/ipykernel_launcher.py'), 'app': <module 'ipykernel.kernelapp' from '/home/ekater.../python3.6/site-packages/ipykernel/kernelapp.py'>, ...}\n     86     return run_globals\n     87 \n     88 def _run_module_code(code, init_globals=None,\n     89                     mod_name=None, mod_spec=None,\n\n...........................................................................\n/home/ekaterina/anaconda/envs/ipykernel_py3/lib/python3.6/site-packages/ipykernel_launcher.py in <module>()\n     11     # This is added back by InteractiveShellApp.init_path()\n     12     if sys.path[0] == '':\n     13         del sys.path[0]\n     14 \n     15     from ipykernel import kernelapp as app\n---> 16     app.launch_new_instance()\n\n...........................................................................\n/home/ekaterina/anaconda/envs/ipykernel_py3/lib/python3.6/site-packages/traitlets/config/application.py in launch_instance(cls=<class 'ipykernel.kernelapp.IPKernelApp'>, argv=None, **kwargs={})\n    653 \n    654         If a global instance already exists, this reinitializes and starts it\n    655         \"\"\"\n    656         app = cls.instance(**kwargs)\n    657         app.initialize(argv)\n--> 658         app.start()\n        app.start = <bound method IPKernelApp.start of <ipykernel.kernelapp.IPKernelApp object>>\n    659 \n    660 #-----------------------------------------------------------------------------\n    661 # utility functions, for convenience\n    662 #-----------------------------------------------------------------------------\n\n...........................................................................\n/home/ekaterina/anaconda/envs/ipykernel_py3/lib/python3.6/site-packages/ipykernel/kernelapp.py in start(self=<ipykernel.kernelapp.IPKernelApp object>)\n    472             return self.subapp.start()\n    473         if self.poller is not None:\n    474             self.poller.start()\n    475         self.kernel.start()\n    476         try:\n--> 477             ioloop.IOLoop.instance().start()\n    478         except KeyboardInterrupt:\n    479             pass\n    480 \n    481 launch_new_instance = IPKernelApp.launch_instance\n\n...........................................................................\n/home/ekaterina/anaconda/envs/ipykernel_py3/lib/python3.6/site-packages/zmq/eventloop/ioloop.py in start(self=<zmq.eventloop.ioloop.ZMQIOLoop object>)\n    172             )\n    173         return loop\n    174     \n    175     def start(self):\n    176         try:\n--> 177             super(ZMQIOLoop, self).start()\n        self.start = <bound method ZMQIOLoop.start of <zmq.eventloop.ioloop.ZMQIOLoop object>>\n    178         except ZMQError as e:\n    179             if e.errno == ETERM:\n    180                 # quietly return on ETERM\n    181                 pass\n\n...........................................................................\n/home/ekaterina/anaconda/envs/ipykernel_py3/lib/python3.6/site-packages/tornado/ioloop.py in start(self=<zmq.eventloop.ioloop.ZMQIOLoop object>)\n    883                 self._events.update(event_pairs)\n    884                 while self._events:\n    885                     fd, events = self._events.popitem()\n    886                     try:\n    887                         fd_obj, handler_func = self._handlers[fd]\n--> 888                         handler_func(fd_obj, events)\n        handler_func = <function wrap.<locals>.null_wrapper>\n        fd_obj = <zmq.sugar.socket.Socket object>\n        events = 1\n    889                     except (OSError, IOError) as e:\n    890                         if errno_from_exception(e) == errno.EPIPE:\n    891                             # Happens when the client closes the connection\n    892                             pass\n\n...........................................................................\n/home/ekaterina/anaconda/envs/ipykernel_py3/lib/python3.6/site-packages/tornado/stack_context.py in null_wrapper(*args=(<zmq.sugar.socket.Socket object>, 1), **kwargs={})\n    272         # Fast path when there are no active contexts.\n    273         def null_wrapper(*args, **kwargs):\n    274             try:\n    275                 current_state = _state.contexts\n    276                 _state.contexts = cap_contexts[0]\n--> 277                 return fn(*args, **kwargs)\n        args = (<zmq.sugar.socket.Socket object>, 1)\n        kwargs = {}\n    278             finally:\n    279                 _state.contexts = current_state\n    280         null_wrapper._wrapped = True\n    281         return null_wrapper\n\n...........................................................................\n/home/ekaterina/anaconda/envs/ipykernel_py3/lib/python3.6/site-packages/zmq/eventloop/zmqstream.py in _handle_events(self=<zmq.eventloop.zmqstream.ZMQStream object>, fd=<zmq.sugar.socket.Socket object>, events=1)\n    435             # dispatch events:\n    436             if events & IOLoop.ERROR:\n    437                 gen_log.error(\"got POLLERR event on ZMQStream, which doesn't make sense\")\n    438                 return\n    439             if events & IOLoop.READ:\n--> 440                 self._handle_recv()\n        self._handle_recv = <bound method ZMQStream._handle_recv of <zmq.eventloop.zmqstream.ZMQStream object>>\n    441                 if not self.socket:\n    442                     return\n    443             if events & IOLoop.WRITE:\n    444                 self._handle_send()\n\n...........................................................................\n/home/ekaterina/anaconda/envs/ipykernel_py3/lib/python3.6/site-packages/zmq/eventloop/zmqstream.py in _handle_recv(self=<zmq.eventloop.zmqstream.ZMQStream object>)\n    467                 gen_log.error(\"RECV Error: %s\"%zmq.strerror(e.errno))\n    468         else:\n    469             if self._recv_callback:\n    470                 callback = self._recv_callback\n    471                 # self._recv_callback = None\n--> 472                 self._run_callback(callback, msg)\n        self._run_callback = <bound method ZMQStream._run_callback of <zmq.eventloop.zmqstream.ZMQStream object>>\n        callback = <function wrap.<locals>.null_wrapper>\n        msg = [<zmq.sugar.frame.Frame object>, <zmq.sugar.frame.Frame object>, <zmq.sugar.frame.Frame object>, <zmq.sugar.frame.Frame object>, <zmq.sugar.frame.Frame object>, <zmq.sugar.frame.Frame object>, <zmq.sugar.frame.Frame object>]\n    473                 \n    474         # self.update_state()\n    475         \n    476 \n\n...........................................................................\n/home/ekaterina/anaconda/envs/ipykernel_py3/lib/python3.6/site-packages/zmq/eventloop/zmqstream.py in _run_callback(self=<zmq.eventloop.zmqstream.ZMQStream object>, callback=<function wrap.<locals>.null_wrapper>, *args=([<zmq.sugar.frame.Frame object>, <zmq.sugar.frame.Frame object>, <zmq.sugar.frame.Frame object>, <zmq.sugar.frame.Frame object>, <zmq.sugar.frame.Frame object>, <zmq.sugar.frame.Frame object>, <zmq.sugar.frame.Frame object>],), **kwargs={})\n    409         close our socket.\"\"\"\n    410         try:\n    411             # Use a NullContext to ensure that all StackContexts are run\n    412             # inside our blanket exception handler rather than outside.\n    413             with stack_context.NullContext():\n--> 414                 callback(*args, **kwargs)\n        callback = <function wrap.<locals>.null_wrapper>\n        args = ([<zmq.sugar.frame.Frame object>, <zmq.sugar.frame.Frame object>, <zmq.sugar.frame.Frame object>, <zmq.sugar.frame.Frame object>, <zmq.sugar.frame.Frame object>, <zmq.sugar.frame.Frame object>, <zmq.sugar.frame.Frame object>],)\n        kwargs = {}\n    415         except:\n    416             gen_log.error(\"Uncaught exception, closing connection.\",\n    417                           exc_info=True)\n    418             # Close the socket on an uncaught exception from a user callback\n\n...........................................................................\n/home/ekaterina/anaconda/envs/ipykernel_py3/lib/python3.6/site-packages/tornado/stack_context.py in null_wrapper(*args=([<zmq.sugar.frame.Frame object>, <zmq.sugar.frame.Frame object>, <zmq.sugar.frame.Frame object>, <zmq.sugar.frame.Frame object>, <zmq.sugar.frame.Frame object>, <zmq.sugar.frame.Frame object>, <zmq.sugar.frame.Frame object>],), **kwargs={})\n    272         # Fast path when there are no active contexts.\n    273         def null_wrapper(*args, **kwargs):\n    274             try:\n    275                 current_state = _state.contexts\n    276                 _state.contexts = cap_contexts[0]\n--> 277                 return fn(*args, **kwargs)\n        args = ([<zmq.sugar.frame.Frame object>, <zmq.sugar.frame.Frame object>, <zmq.sugar.frame.Frame object>, <zmq.sugar.frame.Frame object>, <zmq.sugar.frame.Frame object>, <zmq.sugar.frame.Frame object>, <zmq.sugar.frame.Frame object>],)\n        kwargs = {}\n    278             finally:\n    279                 _state.contexts = current_state\n    280         null_wrapper._wrapped = True\n    281         return null_wrapper\n\n...........................................................................\n/home/ekaterina/anaconda/envs/ipykernel_py3/lib/python3.6/site-packages/ipykernel/kernelbase.py in dispatcher(msg=[<zmq.sugar.frame.Frame object>, <zmq.sugar.frame.Frame object>, <zmq.sugar.frame.Frame object>, <zmq.sugar.frame.Frame object>, <zmq.sugar.frame.Frame object>, <zmq.sugar.frame.Frame object>, <zmq.sugar.frame.Frame object>])\n    278         if self.control_stream:\n    279             self.control_stream.on_recv(self.dispatch_control, copy=False)\n    280 \n    281         def make_dispatcher(stream):\n    282             def dispatcher(msg):\n--> 283                 return self.dispatch_shell(stream, msg)\n        msg = [<zmq.sugar.frame.Frame object>, <zmq.sugar.frame.Frame object>, <zmq.sugar.frame.Frame object>, <zmq.sugar.frame.Frame object>, <zmq.sugar.frame.Frame object>, <zmq.sugar.frame.Frame object>, <zmq.sugar.frame.Frame object>]\n    284             return dispatcher\n    285 \n    286         for s in self.shell_streams:\n    287             s.on_recv(make_dispatcher(s), copy=False)\n\n...........................................................................\n/home/ekaterina/anaconda/envs/ipykernel_py3/lib/python3.6/site-packages/ipykernel/kernelbase.py in dispatch_shell(self=<ipykernel.ipkernel.IPythonKernel object>, stream=<zmq.eventloop.zmqstream.ZMQStream object>, msg={'buffers': [], 'content': {'allow_stdin': True, 'code': \"#Tree with split-function\\n\\ndata_train, data_test... tr_bst_prm)\\nprint('Best score: ', tr_bst_scr)\\n\\n\\n\", 'silent': False, 'stop_on_error': True, 'store_history': True, 'user_expressions': {}}, 'header': {'date': datetime.datetime(2017, 11, 27, 7, 13, 27, 519544, tzinfo=tzlocal()), 'msg_id': 'B13D14BC961446B4845959D5EB12E432', 'msg_type': 'execute_request', 'session': 'F49F4D76C2144539BE02509DFC429488', 'username': 'username', 'version': '5.0'}, 'metadata': {}, 'msg_id': 'B13D14BC961446B4845959D5EB12E432', 'msg_type': 'execute_request', 'parent_header': {}})\n    230             self.log.warn(\"Unknown message type: %r\", msg_type)\n    231         else:\n    232             self.log.debug(\"%s: %s\", msg_type, msg)\n    233             self.pre_handler_hook()\n    234             try:\n--> 235                 handler(stream, idents, msg)\n        handler = <bound method Kernel.execute_request of <ipykernel.ipkernel.IPythonKernel object>>\n        stream = <zmq.eventloop.zmqstream.ZMQStream object>\n        idents = [b'F49F4D76C2144539BE02509DFC429488']\n        msg = {'buffers': [], 'content': {'allow_stdin': True, 'code': \"#Tree with split-function\\n\\ndata_train, data_test... tr_bst_prm)\\nprint('Best score: ', tr_bst_scr)\\n\\n\\n\", 'silent': False, 'stop_on_error': True, 'store_history': True, 'user_expressions': {}}, 'header': {'date': datetime.datetime(2017, 11, 27, 7, 13, 27, 519544, tzinfo=tzlocal()), 'msg_id': 'B13D14BC961446B4845959D5EB12E432', 'msg_type': 'execute_request', 'session': 'F49F4D76C2144539BE02509DFC429488', 'username': 'username', 'version': '5.0'}, 'metadata': {}, 'msg_id': 'B13D14BC961446B4845959D5EB12E432', 'msg_type': 'execute_request', 'parent_header': {}}\n    236             except Exception:\n    237                 self.log.error(\"Exception in message handler:\", exc_info=True)\n    238             finally:\n    239                 self.post_handler_hook()\n\n...........................................................................\n/home/ekaterina/anaconda/envs/ipykernel_py3/lib/python3.6/site-packages/ipykernel/kernelbase.py in execute_request(self=<ipykernel.ipkernel.IPythonKernel object>, stream=<zmq.eventloop.zmqstream.ZMQStream object>, ident=[b'F49F4D76C2144539BE02509DFC429488'], parent={'buffers': [], 'content': {'allow_stdin': True, 'code': \"#Tree with split-function\\n\\ndata_train, data_test... tr_bst_prm)\\nprint('Best score: ', tr_bst_scr)\\n\\n\\n\", 'silent': False, 'stop_on_error': True, 'store_history': True, 'user_expressions': {}}, 'header': {'date': datetime.datetime(2017, 11, 27, 7, 13, 27, 519544, tzinfo=tzlocal()), 'msg_id': 'B13D14BC961446B4845959D5EB12E432', 'msg_type': 'execute_request', 'session': 'F49F4D76C2144539BE02509DFC429488', 'username': 'username', 'version': '5.0'}, 'metadata': {}, 'msg_id': 'B13D14BC961446B4845959D5EB12E432', 'msg_type': 'execute_request', 'parent_header': {}})\n    394         if not silent:\n    395             self.execution_count += 1\n    396             self._publish_execute_input(code, parent, self.execution_count)\n    397 \n    398         reply_content = self.do_execute(code, silent, store_history,\n--> 399                                         user_expressions, allow_stdin)\n        user_expressions = {}\n        allow_stdin = True\n    400 \n    401         # Flush output before sending the reply.\n    402         sys.stdout.flush()\n    403         sys.stderr.flush()\n\n...........................................................................\n/home/ekaterina/anaconda/envs/ipykernel_py3/lib/python3.6/site-packages/ipykernel/ipkernel.py in do_execute(self=<ipykernel.ipkernel.IPythonKernel object>, code=\"#Tree with split-function\\n\\ndata_train, data_test... tr_bst_prm)\\nprint('Best score: ', tr_bst_scr)\\n\\n\\n\", silent=False, store_history=True, user_expressions={}, allow_stdin=True)\n    191 \n    192         self._forward_input(allow_stdin)\n    193 \n    194         reply_content = {}\n    195         try:\n--> 196             res = shell.run_cell(code, store_history=store_history, silent=silent)\n        res = undefined\n        shell.run_cell = <bound method ZMQInteractiveShell.run_cell of <ipykernel.zmqshell.ZMQInteractiveShell object>>\n        code = \"#Tree with split-function\\n\\ndata_train, data_test... tr_bst_prm)\\nprint('Best score: ', tr_bst_scr)\\n\\n\\n\"\n        store_history = True\n        silent = False\n    197         finally:\n    198             self._restore_input()\n    199 \n    200         if res.error_before_exec is not None:\n\n...........................................................................\n/home/ekaterina/anaconda/envs/ipykernel_py3/lib/python3.6/site-packages/ipykernel/zmqshell.py in run_cell(self=<ipykernel.zmqshell.ZMQInteractiveShell object>, *args=(\"#Tree with split-function\\n\\ndata_train, data_test... tr_bst_prm)\\nprint('Best score: ', tr_bst_scr)\\n\\n\\n\",), **kwargs={'silent': False, 'store_history': True})\n    528             )\n    529         self.payload_manager.write_payload(payload)\n    530 \n    531     def run_cell(self, *args, **kwargs):\n    532         self._last_traceback = None\n--> 533         return super(ZMQInteractiveShell, self).run_cell(*args, **kwargs)\n        self.run_cell = <bound method ZMQInteractiveShell.run_cell of <ipykernel.zmqshell.ZMQInteractiveShell object>>\n        args = (\"#Tree with split-function\\n\\ndata_train, data_test... tr_bst_prm)\\nprint('Best score: ', tr_bst_scr)\\n\\n\\n\",)\n        kwargs = {'silent': False, 'store_history': True}\n    534 \n    535     def _showtraceback(self, etype, evalue, stb):\n    536         # try to preserve ordering of tracebacks and print statements\n    537         sys.stdout.flush()\n\n...........................................................................\n/home/ekaterina/anaconda/envs/ipykernel_py3/lib/python3.6/site-packages/IPython/core/interactiveshell.py in run_cell(self=<ipykernel.zmqshell.ZMQInteractiveShell object>, raw_cell=\"#Tree with split-function\\n\\ndata_train, data_test... tr_bst_prm)\\nprint('Best score: ', tr_bst_scr)\\n\\n\\n\", store_history=True, silent=False, shell_futures=True)\n   2693                 self.displayhook.exec_result = result\n   2694 \n   2695                 # Execute the user code\n   2696                 interactivity = \"none\" if silent else self.ast_node_interactivity\n   2697                 has_raised = self.run_ast_nodes(code_ast.body, cell_name,\n-> 2698                    interactivity=interactivity, compiler=compiler, result=result)\n        interactivity = 'last_expr'\n        compiler = <IPython.core.compilerop.CachingCompiler object>\n   2699                 \n   2700                 self.last_execution_succeeded = not has_raised\n   2701 \n   2702                 # Reset this so later displayed values do not modify the\n\n...........................................................................\n/home/ekaterina/anaconda/envs/ipykernel_py3/lib/python3.6/site-packages/IPython/core/interactiveshell.py in run_ast_nodes(self=<ipykernel.zmqshell.ZMQInteractiveShell object>, nodelist=[<_ast.Assign object>, <_ast.Assign object>, <_ast.Expr object>, <_ast.Assign object>, <_ast.Assign object>, <_ast.Expr object>, <_ast.Expr object>, <_ast.Expr object>, <_ast.Assign object>, <_ast.Assign object>, <_ast.Expr object>, <_ast.Expr object>, <_ast.Assign object>, <_ast.Assign object>, <_ast.Assign object>, <_ast.Expr object>, <_ast.Expr object>], cell_name='<ipython-input-22-95c03ec57a34>', interactivity='last', compiler=<IPython.core.compilerop.CachingCompiler object>, result=<ExecutionResult object at 7fc6c4234d30, executi..._before_exec=None error_in_exec=None result=None>)\n   2797 \n   2798         try:\n   2799             for i, node in enumerate(to_run_exec):\n   2800                 mod = ast.Module([node])\n   2801                 code = compiler(mod, cell_name, \"exec\")\n-> 2802                 if self.run_code(code, result):\n        self.run_code = <bound method InteractiveShell.run_code of <ipykernel.zmqshell.ZMQInteractiveShell object>>\n        code = <code object <module> at 0x7fc6c5bbbe40, file \"<ipython-input-22-95c03ec57a34>\", line 23>\n        result = <ExecutionResult object at 7fc6c4234d30, executi..._before_exec=None error_in_exec=None result=None>\n   2803                     return True\n   2804 \n   2805             for i, node in enumerate(to_run_interactive):\n   2806                 mod = ast.Interactive([node])\n\n...........................................................................\n/home/ekaterina/anaconda/envs/ipykernel_py3/lib/python3.6/site-packages/IPython/core/interactiveshell.py in run_code(self=<ipykernel.zmqshell.ZMQInteractiveShell object>, code_obj=<code object <module> at 0x7fc6c5bbbe40, file \"<ipython-input-22-95c03ec57a34>\", line 23>, result=<ExecutionResult object at 7fc6c4234d30, executi..._before_exec=None error_in_exec=None result=None>)\n   2857         outflag = True  # happens in more places, so it's easier as default\n   2858         try:\n   2859             try:\n   2860                 self.hooks.pre_run_code_hook()\n   2861                 #rprint('Running code', repr(code_obj)) # dbg\n-> 2862                 exec(code_obj, self.user_global_ns, self.user_ns)\n        code_obj = <code object <module> at 0x7fc6c5bbbe40, file \"<ipython-input-22-95c03ec57a34>\", line 23>\n        self.user_global_ns = {'DecisionTreeClassifier': <class 'sklearn.tree.tree.DecisionTreeClassifier'>, 'DecisionTreeRegressor': <class 'sklearn.tree.tree.DecisionTreeRegressor'>, 'GridSearchCV': <class 'sklearn.model_selection._search.GridSearchCV'>, 'In': ['', 'parameters_names_file = \\'res/parameters_names.tx...features_file = \"res/1/train_answer_features.txt\"', 'parameters_names_file = \\'res/parameters_names.tx...features_file = \"res/1/train_answer_features.txt\"', 'import numpy as np\\nimport pandas as pd', '#Reading data\\ntrain_features = pd.read_csv(train...read_csv(test_parameters_label_file, header=None)', 'parameters_names_file = \\'res/parameters_names.tx...features_file = \"res/1/train_answer_features.txt\"', 'import numpy as np\\nimport pandas as pd', '#Reading data\\ntrain_features = pd.read_csv(train...read_csv(test_parameters_label_file, header=None)', '\\nfrom sklearn.tree import export_graphviz\\nfrom s..._score\\nfrom sklearn.metrics import accuracy_score', '#libraries for tree\\n\\nfrom sklearn.tree import De...t DecisionTreeClassifier\\nfrom sklearn import tree', '#preprocessing\\nfrom sklearn import preprocessing...tures_scaled = preprocessing.scale(test_features)', \"#no execution\\n#Tree with preprocessed data\\n\\ndata...:', tr_bst_prm)\\nprint('Best score: ', tr_bst_scr)\", \"#Tree with split-function\\n\\ndata_train, data_test...:', tr_bst_prm)\\nprint('Best score: ', tr_bst_scr)\", \"#Tree with split-function\\n\\ndata_train, data_test...:', tr_bst_prm)\\nprint('Best score: ', tr_bst_scr)\", \"#Tree with split-function\\n\\ndata_train, data_test...:', tr_bst_prm)\\nprint('Best score: ', tr_bst_scr)\", '#libraries for ANN\\nfrom sklearn.neural_network i...r\\nfrom sklearn.neural_network import MLPRegressor', \"data_train, data_test, label_train, label_test =...re (', max_ls1, max_ls2, 'layers): ', max_sc_ann)\", \"data_train, data_test, label_train, label_test =...re (', max_ls1, max_ls2, 'layers): ', max_sc_ann)\", \"data_train, data_test, label_train, label_test =...re (', max_ls1, max_ls2, 'layers): ', max_sc_ann)\", '#KNN with preprocessing for final testing\\ndata_t...n_bst_prm)\\nprint(\\'Best score: \\', knn_bst_scr)\\n\"\"\"', ...], 'KNeighborsClassifier': <class 'sklearn.neighbors.classification.KNeighborsClassifier'>, 'KNeighborsRegressor': <class 'sklearn.neighbors.regression.KNeighborsRegressor'>, 'MLPClassifier': <class 'sklearn.neural_network.multilayer_perceptron.MLPClassifier'>, 'MLPRegressor': <class 'sklearn.neural_network.multilayer_perceptron.MLPRegressor'>, 'Out': {21: \"\\nknn_pred = knn.predict(data_test)\\nacc_knn = acc... knn_bst_prm)\\nprint('Best score: ', knn_bst_scr)\\n\"}, 'Pipeline': <class 'sklearn.pipeline.Pipeline'>, ...}\n        self.user_ns = {'DecisionTreeClassifier': <class 'sklearn.tree.tree.DecisionTreeClassifier'>, 'DecisionTreeRegressor': <class 'sklearn.tree.tree.DecisionTreeRegressor'>, 'GridSearchCV': <class 'sklearn.model_selection._search.GridSearchCV'>, 'In': ['', 'parameters_names_file = \\'res/parameters_names.tx...features_file = \"res/1/train_answer_features.txt\"', 'parameters_names_file = \\'res/parameters_names.tx...features_file = \"res/1/train_answer_features.txt\"', 'import numpy as np\\nimport pandas as pd', '#Reading data\\ntrain_features = pd.read_csv(train...read_csv(test_parameters_label_file, header=None)', 'parameters_names_file = \\'res/parameters_names.tx...features_file = \"res/1/train_answer_features.txt\"', 'import numpy as np\\nimport pandas as pd', '#Reading data\\ntrain_features = pd.read_csv(train...read_csv(test_parameters_label_file, header=None)', '\\nfrom sklearn.tree import export_graphviz\\nfrom s..._score\\nfrom sklearn.metrics import accuracy_score', '#libraries for tree\\n\\nfrom sklearn.tree import De...t DecisionTreeClassifier\\nfrom sklearn import tree', '#preprocessing\\nfrom sklearn import preprocessing...tures_scaled = preprocessing.scale(test_features)', \"#no execution\\n#Tree with preprocessed data\\n\\ndata...:', tr_bst_prm)\\nprint('Best score: ', tr_bst_scr)\", \"#Tree with split-function\\n\\ndata_train, data_test...:', tr_bst_prm)\\nprint('Best score: ', tr_bst_scr)\", \"#Tree with split-function\\n\\ndata_train, data_test...:', tr_bst_prm)\\nprint('Best score: ', tr_bst_scr)\", \"#Tree with split-function\\n\\ndata_train, data_test...:', tr_bst_prm)\\nprint('Best score: ', tr_bst_scr)\", '#libraries for ANN\\nfrom sklearn.neural_network i...r\\nfrom sklearn.neural_network import MLPRegressor', \"data_train, data_test, label_train, label_test =...re (', max_ls1, max_ls2, 'layers): ', max_sc_ann)\", \"data_train, data_test, label_train, label_test =...re (', max_ls1, max_ls2, 'layers): ', max_sc_ann)\", \"data_train, data_test, label_train, label_test =...re (', max_ls1, max_ls2, 'layers): ', max_sc_ann)\", '#KNN with preprocessing for final testing\\ndata_t...n_bst_prm)\\nprint(\\'Best score: \\', knn_bst_scr)\\n\"\"\"', ...], 'KNeighborsClassifier': <class 'sklearn.neighbors.classification.KNeighborsClassifier'>, 'KNeighborsRegressor': <class 'sklearn.neighbors.regression.KNeighborsRegressor'>, 'MLPClassifier': <class 'sklearn.neural_network.multilayer_perceptron.MLPClassifier'>, 'MLPRegressor': <class 'sklearn.neural_network.multilayer_perceptron.MLPRegressor'>, 'Out': {21: \"\\nknn_pred = knn.predict(data_test)\\nacc_knn = acc... knn_bst_prm)\\nprint('Best score: ', knn_bst_scr)\\n\"}, 'Pipeline': <class 'sklearn.pipeline.Pipeline'>, ...}\n   2863             finally:\n   2864                 # Reset our crash handler in place\n   2865                 sys.excepthook = old_excepthook\n   2866         except SystemExit as e:\n\n...........................................................................\n/home/ekaterina/Documents/shishipun/<ipython-input-22-95c03ec57a34> in <module>()\n     18 \n     19 tree_params = {'max_depth': range(2,20), 'max_features': range(1,14)}\n     20 tree_grid = GridSearchCV(clf, tree_params, cv=10, n_jobs=-1, verbose=True)\n     21 \n     22 \n---> 23 tree_grid.fit(data_train, label_train)\n     24 \n     25 print(tree_greed.predict([[2.0, 6.0]]))\n     26 \n     27 tr_bst_prm = tree_grid.best_params_ \n\n...........................................................................\n/home/ekaterina/anaconda/envs/ipykernel_py3/lib/python3.6/site-packages/sklearn/model_selection/_search.py in fit(self=GridSearchCV(cv=10, error_score='raise',\n       ..._score='warn',\n       scoring=None, verbose=True), X=array([[  5.,   7.],\n       [  2.,  10.],\n      ...  3.],\n       [  2.,  33.],\n       [  2.,   6.]]), y=array([[     78125],\n       [      1024],\n      ...   8],\n       [8589934592],\n       [        64]]), groups=None, **fit_params={})\n    634                                   return_train_score=self.return_train_score,\n    635                                   return_n_test_samples=True,\n    636                                   return_times=True, return_parameters=False,\n    637                                   error_score=self.error_score)\n    638           for parameters, (train, test) in product(candidate_params,\n--> 639                                                    cv.split(X, y, groups)))\n        cv.split = <bound method _BaseKFold.split of KFold(n_splits=10, random_state=None, shuffle=False)>\n        X = array([[  5.,   7.],\n       [  2.,  10.],\n      ...  3.],\n       [  2.,  33.],\n       [  2.,   6.]])\n        y = array([[     78125],\n       [      1024],\n      ...   8],\n       [8589934592],\n       [        64]])\n        groups = None\n    640 \n    641         # if one choose to see train score, \"out\" will contain train score info\n    642         if self.return_train_score:\n    643             (train_score_dicts, test_score_dicts, test_sample_counts, fit_time,\n\n...........................................................................\n/home/ekaterina/anaconda/envs/ipykernel_py3/lib/python3.6/site-packages/sklearn/externals/joblib/parallel.py in __call__(self=Parallel(n_jobs=-1), iterable=<generator object BaseSearchCV.fit.<locals>.<genexpr>>)\n    784             if pre_dispatch == \"all\" or n_jobs == 1:\n    785                 # The iterable was consumed all at once by the above for loop.\n    786                 # No need to wait for async callbacks to trigger to\n    787                 # consumption.\n    788                 self._iterating = False\n--> 789             self.retrieve()\n        self.retrieve = <bound method Parallel.retrieve of Parallel(n_jobs=-1)>\n    790             # Make sure that we get a last message telling us we are done\n    791             elapsed_time = time.time() - self._start_time\n    792             self._print('Done %3i out of %3i | elapsed: %s finished',\n    793                         (len(self._output), len(self._output),\n\n---------------------------------------------------------------------------\nSub-process traceback:\n---------------------------------------------------------------------------\nValueError                                         Mon Nov 27 07:13:28 2017\nPID: 22530Python 3.6.2: /home/ekaterina/anaconda/envs/ipykernel_py3/bin/python\n...........................................................................\n/home/ekaterina/anaconda/envs/ipykernel_py3/lib/python3.6/site-packages/sklearn/externals/joblib/parallel.py in __call__(self=<sklearn.externals.joblib.parallel.BatchedCalls object>)\n    126     def __init__(self, iterator_slice):\n    127         self.items = list(iterator_slice)\n    128         self._size = len(self.items)\n    129 \n    130     def __call__(self):\n--> 131         return [func(*args, **kwargs) for func, args, kwargs in self.items]\n        self.items = [(<function _fit_and_score>, (DecisionTreeRegressor(criterion='mse', max_depth...resort=False, random_state=None, splitter='best'), array([[  5.,   7.],\n       [  2.,  10.],\n      ...  3.],\n       [  2.,  33.],\n       [  2.,   6.]]), array([[     78125],\n       [      1024],\n      ...   8],\n       [8589934592],\n       [        64]]), {'score': <function _passthrough_scorer>}, array([ 0,  1,  2,  3,  4,  5,  6,  7,  8, 10, 11, 12]), array([9]), True, {'max_depth': 2, 'max_features': 2}), {'error_score': 'raise', 'fit_params': {}, 'return_n_test_samples': True, 'return_parameters': False, 'return_times': True, 'return_train_score': 'warn'}), (<function _fit_and_score>, (DecisionTreeRegressor(criterion='mse', max_depth...resort=False, random_state=None, splitter='best'), array([[  5.,   7.],\n       [  2.,  10.],\n      ...  3.],\n       [  2.,  33.],\n       [  2.,   6.]]), array([[     78125],\n       [      1024],\n      ...   8],\n       [8589934592],\n       [        64]]), {'score': <function _passthrough_scorer>}, array([ 0,  1,  2,  3,  4,  5,  6,  7,  8,  9, 11, 12]), array([10]), True, {'max_depth': 2, 'max_features': 2}), {'error_score': 'raise', 'fit_params': {}, 'return_n_test_samples': True, 'return_parameters': False, 'return_times': True, 'return_train_score': 'warn'}), (<function _fit_and_score>, (DecisionTreeRegressor(criterion='mse', max_depth...resort=False, random_state=None, splitter='best'), array([[  5.,   7.],\n       [  2.,  10.],\n      ...  3.],\n       [  2.,  33.],\n       [  2.,   6.]]), array([[     78125],\n       [      1024],\n      ...   8],\n       [8589934592],\n       [        64]]), {'score': <function _passthrough_scorer>}, array([ 0,  1,  2,  3,  4,  5,  6,  7,  8,  9, 10, 12]), array([11]), True, {'max_depth': 2, 'max_features': 2}), {'error_score': 'raise', 'fit_params': {}, 'return_n_test_samples': True, 'return_parameters': False, 'return_times': True, 'return_train_score': 'warn'}), (<function _fit_and_score>, (DecisionTreeRegressor(criterion='mse', max_depth...resort=False, random_state=None, splitter='best'), array([[  5.,   7.],\n       [  2.,  10.],\n      ...  3.],\n       [  2.,  33.],\n       [  2.,   6.]]), array([[     78125],\n       [      1024],\n      ...   8],\n       [8589934592],\n       [        64]]), {'score': <function _passthrough_scorer>}, array([ 0,  1,  2,  3,  4,  5,  6,  7,  8,  9, 10, 11]), array([12]), True, {'max_depth': 2, 'max_features': 2}), {'error_score': 'raise', 'fit_params': {}, 'return_n_test_samples': True, 'return_parameters': False, 'return_times': True, 'return_train_score': 'warn'}), (<function _fit_and_score>, (DecisionTreeRegressor(criterion='mse', max_depth...resort=False, random_state=None, splitter='best'), array([[  5.,   7.],\n       [  2.,  10.],\n      ...  3.],\n       [  2.,  33.],\n       [  2.,   6.]]), array([[     78125],\n       [      1024],\n      ...   8],\n       [8589934592],\n       [        64]]), {'score': <function _passthrough_scorer>}, array([ 2,  3,  4,  5,  6,  7,  8,  9, 10, 11, 12]), array([0, 1]), True, {'max_depth': 2, 'max_features': 3}), {'error_score': 'raise', 'fit_params': {}, 'return_n_test_samples': True, 'return_parameters': False, 'return_times': True, 'return_train_score': 'warn'}), (<function _fit_and_score>, (DecisionTreeRegressor(criterion='mse', max_depth...resort=False, random_state=None, splitter='best'), array([[  5.,   7.],\n       [  2.,  10.],\n      ...  3.],\n       [  2.,  33.],\n       [  2.,   6.]]), array([[     78125],\n       [      1024],\n      ...   8],\n       [8589934592],\n       [        64]]), {'score': <function _passthrough_scorer>}, array([ 0,  1,  4,  5,  6,  7,  8,  9, 10, 11, 12]), array([2, 3]), True, {'max_depth': 2, 'max_features': 3}), {'error_score': 'raise', 'fit_params': {}, 'return_n_test_samples': True, 'return_parameters': False, 'return_times': True, 'return_train_score': 'warn'}), (<function _fit_and_score>, (DecisionTreeRegressor(criterion='mse', max_depth...resort=False, random_state=None, splitter='best'), array([[  5.,   7.],\n       [  2.,  10.],\n      ...  3.],\n       [  2.,  33.],\n       [  2.,   6.]]), array([[     78125],\n       [      1024],\n      ...   8],\n       [8589934592],\n       [        64]]), {'score': <function _passthrough_scorer>}, array([ 0,  1,  2,  3,  6,  7,  8,  9, 10, 11, 12]), array([4, 5]), True, {'max_depth': 2, 'max_features': 3}), {'error_score': 'raise', 'fit_params': {}, 'return_n_test_samples': True, 'return_parameters': False, 'return_times': True, 'return_train_score': 'warn'}), (<function _fit_and_score>, (DecisionTreeRegressor(criterion='mse', max_depth...resort=False, random_state=None, splitter='best'), array([[  5.,   7.],\n       [  2.,  10.],\n      ...  3.],\n       [  2.,  33.],\n       [  2.,   6.]]), array([[     78125],\n       [      1024],\n      ...   8],\n       [8589934592],\n       [        64]]), {'score': <function _passthrough_scorer>}, array([ 0,  1,  2,  3,  4,  5,  7,  8,  9, 10, 11, 12]), array([6]), True, {'max_depth': 2, 'max_features': 3}), {'error_score': 'raise', 'fit_params': {}, 'return_n_test_samples': True, 'return_parameters': False, 'return_times': True, 'return_train_score': 'warn'})]\n    132 \n    133     def __len__(self):\n    134         return self._size\n    135 \n\n...........................................................................\n/home/ekaterina/anaconda/envs/ipykernel_py3/lib/python3.6/site-packages/sklearn/externals/joblib/parallel.py in <listcomp>(.0=<list_iterator object>)\n    126     def __init__(self, iterator_slice):\n    127         self.items = list(iterator_slice)\n    128         self._size = len(self.items)\n    129 \n    130     def __call__(self):\n--> 131         return [func(*args, **kwargs) for func, args, kwargs in self.items]\n        func = <function _fit_and_score>\n        args = (DecisionTreeRegressor(criterion='mse', max_depth...resort=False, random_state=None, splitter='best'), array([[  5.,   7.],\n       [  2.,  10.],\n      ...  3.],\n       [  2.,  33.],\n       [  2.,   6.]]), array([[     78125],\n       [      1024],\n      ...   8],\n       [8589934592],\n       [        64]]), {'score': <function _passthrough_scorer>}, array([ 2,  3,  4,  5,  6,  7,  8,  9, 10, 11, 12]), array([0, 1]), True, {'max_depth': 2, 'max_features': 3})\n        kwargs = {'error_score': 'raise', 'fit_params': {}, 'return_n_test_samples': True, 'return_parameters': False, 'return_times': True, 'return_train_score': 'warn'}\n    132 \n    133     def __len__(self):\n    134         return self._size\n    135 \n\n...........................................................................\n/home/ekaterina/anaconda/envs/ipykernel_py3/lib/python3.6/site-packages/sklearn/model_selection/_validation.py in _fit_and_score(estimator=DecisionTreeRegressor(criterion='mse', max_depth...resort=False, random_state=None, splitter='best'), X=array([[  5.,   7.],\n       [  2.,  10.],\n      ...  3.],\n       [  2.,  33.],\n       [  2.,   6.]]), y=array([[     78125],\n       [      1024],\n      ...   8],\n       [8589934592],\n       [        64]]), scorer={'score': <function _passthrough_scorer>}, train=array([ 2,  3,  4,  5,  6,  7,  8,  9, 10, 11, 12]), test=array([0, 1]), verbose=True, parameters={'max_depth': 2, 'max_features': 3}, fit_params={}, return_train_score='warn', return_parameters=False, return_n_test_samples=True, return_times=True, error_score='raise')\n    453 \n    454     try:\n    455         if y_train is None:\n    456             estimator.fit(X_train, **fit_params)\n    457         else:\n--> 458             estimator.fit(X_train, y_train, **fit_params)\n        estimator.fit = <bound method DecisionTreeRegressor.fit of Decis...esort=False, random_state=None, splitter='best')>\n        X_train = array([[  4.,   2.],\n       [  2.,  10.],\n      ...  3.],\n       [  2.,  33.],\n       [  2.,   6.]])\n        y_train = array([[        16],\n       [       512],\n      ...   8],\n       [8589934592],\n       [        64]])\n        fit_params = {}\n    459 \n    460     except Exception as e:\n    461         # Note fit time as time until error\n    462         fit_time = time.time() - start_time\n\n...........................................................................\n/home/ekaterina/anaconda/envs/ipykernel_py3/lib/python3.6/site-packages/sklearn/tree/tree.py in fit(self=DecisionTreeRegressor(criterion='mse', max_depth...resort=False, random_state=None, splitter='best'), X=array([[  4.,   2.],\n       [  2.,  10.],\n      ...  3.],\n       [  2.,  33.],\n       [  2.,   6.]]), y=array([[        16],\n       [       512],\n      ...   8],\n       [8589934592],\n       [        64]]), sample_weight=None, check_input=True, X_idx_sorted=None)\n   1119 \n   1120         super(DecisionTreeRegressor, self).fit(\n   1121             X, y,\n   1122             sample_weight=sample_weight,\n   1123             check_input=check_input,\n-> 1124             X_idx_sorted=X_idx_sorted)\n        X_idx_sorted = None\n   1125         return self\n   1126 \n   1127 \n   1128 class ExtraTreeClassifier(DecisionTreeClassifier):\n\n...........................................................................\n/home/ekaterina/anaconda/envs/ipykernel_py3/lib/python3.6/site-packages/sklearn/tree/tree.py in fit(self=DecisionTreeRegressor(criterion='mse', max_depth...resort=False, random_state=None, splitter='best'), X=array([[  4.,   2.],\n       [  2.,  10.],\n      ...  2.,  33.],\n       [  2.,   6.]], dtype=float32), y=array([[  1.60000000e+01],\n       [  5.12000000e...  [  8.58993459e+09],\n       [  6.40000000e+01]]), sample_weight=None, check_input=True, X_idx_sorted=None)\n    237         if not 0 <= self.min_weight_fraction_leaf <= 0.5:\n    238             raise ValueError(\"min_weight_fraction_leaf must in [0, 0.5]\")\n    239         if max_depth <= 0:\n    240             raise ValueError(\"max_depth must be greater than zero. \")\n    241         if not (0 < max_features <= self.n_features_):\n--> 242             raise ValueError(\"max_features must be in (0, n_features]\")\n    243         if not isinstance(max_leaf_nodes, (numbers.Integral, np.integer)):\n    244             raise ValueError(\"max_leaf_nodes must be integral number but was \"\n    245                              \"%r\" % max_leaf_nodes)\n    246         if -1 < max_leaf_nodes < 2:\n\nValueError: max_features must be in (0, n_features]\n___________________________________________________________________________"
     ]
    }
   ],
   "source": [
    "#Tree with split-function\n",
    "\n",
    "data_train, data_test, label_train, label_test = train_test_split(train_features.values, train_labels.values, test_size=0.1,random_state=17)\n",
    "clf = DecisionTreeRegressor()\n",
    "clf.fit(data_train, label_train)\n",
    "clf_pred = clf.predict(data_test)\n",
    "acc_tree = accuracy_score(label_test, clf_pred) \n",
    "print('\\n########## TREE #########')\n",
    "print('Score: ', acc_tree)\n",
    "\n",
    "print(clf.predict([[2.0, 6.0]]))\n",
    "\n",
    "\n",
    "\n",
    "############################\n",
    "#Parameter tuning for tree #\n",
    "############################\n",
    "\n",
    "tree_params = {'max_depth': range(2,20), 'max_features': range(1,14)}\n",
    "tree_grid = GridSearchCV(clf, tree_params, cv=10, n_jobs=-1, verbose=True)\n",
    "\n",
    "\n",
    "tree_grid.fit(data_train, label_train)\n",
    "\n",
    "print(tree_greed.predict([[2.0, 6.0]]))\n",
    "\n",
    "tr_bst_prm = tree_grid.best_params_ \n",
    "tr_bst_scr = tree_grid.best_score_\n",
    "tr_acc_grd = accuracy_score(label_test, tree_grid.predict(data_test))\n",
    "\n",
    "\n",
    "print ('Best parameters:', tr_bst_prm)\n",
    "print('Best score: ', tr_bst_scr)\n",
    "\n",
    "\n"
   ]
  },
  {
   "cell_type": "code",
   "execution_count": 10,
   "metadata": {
    "collapsed": false
   },
   "outputs": [],
   "source": [
    "#preprocessing\n",
    "from sklearn import preprocessing\n",
    "\n",
    "train_features_scaled = preprocessing.scale(train_features)\n",
    "test_features_scaled = preprocessing.scale(test_features)"
   ]
  },
  {
   "cell_type": "code",
   "execution_count": 11,
   "metadata": {
    "collapsed": false
   },
   "outputs": [
    {
     "ename": "ValueError",
     "evalue": "Classification metrics can't handle a mix of multiclass and continuous targets",
     "output_type": "error",
     "traceback": [
      "\u001b[0;31m---------------------------------------------------------------------------\u001b[0m",
      "\u001b[0;31mValueError\u001b[0m                                Traceback (most recent call last)",
      "\u001b[0;32m<ipython-input-11-a07b74f6fea4>\u001b[0m in \u001b[0;36m<module>\u001b[0;34m()\u001b[0m\n\u001b[1;32m      6\u001b[0m \u001b[0mclf\u001b[0m\u001b[0;34m.\u001b[0m\u001b[0mfit\u001b[0m\u001b[0;34m(\u001b[0m\u001b[0mdata_train\u001b[0m\u001b[0;34m,\u001b[0m \u001b[0mlabel_train\u001b[0m\u001b[0;34m)\u001b[0m\u001b[0;34m\u001b[0m\u001b[0m\n\u001b[1;32m      7\u001b[0m \u001b[0mclf_pred\u001b[0m \u001b[0;34m=\u001b[0m \u001b[0mclf\u001b[0m\u001b[0;34m.\u001b[0m\u001b[0mpredict\u001b[0m\u001b[0;34m(\u001b[0m\u001b[0mdata_test\u001b[0m\u001b[0;34m)\u001b[0m\u001b[0;34m\u001b[0m\u001b[0m\n\u001b[0;32m----> 8\u001b[0;31m \u001b[0macc_tree\u001b[0m \u001b[0;34m=\u001b[0m \u001b[0maccuracy_score\u001b[0m\u001b[0;34m(\u001b[0m\u001b[0mlabel_test\u001b[0m\u001b[0;34m,\u001b[0m \u001b[0mclf_pred\u001b[0m\u001b[0;34m)\u001b[0m\u001b[0;34m\u001b[0m\u001b[0m\n\u001b[0m\u001b[1;32m      9\u001b[0m \u001b[0mprint\u001b[0m\u001b[0;34m(\u001b[0m\u001b[0;34m'\\n########## TREE #########'\u001b[0m\u001b[0;34m)\u001b[0m\u001b[0;34m\u001b[0m\u001b[0m\n\u001b[1;32m     10\u001b[0m \u001b[0mprint\u001b[0m\u001b[0;34m(\u001b[0m\u001b[0;34m'Score: '\u001b[0m\u001b[0;34m,\u001b[0m \u001b[0macc_tree\u001b[0m\u001b[0;34m)\u001b[0m\u001b[0;34m\u001b[0m\u001b[0m\n",
      "\u001b[0;32m~/anaconda/envs/ipykernel_py3/lib/python3.6/site-packages/sklearn/metrics/classification.py\u001b[0m in \u001b[0;36maccuracy_score\u001b[0;34m(y_true, y_pred, normalize, sample_weight)\u001b[0m\n\u001b[1;32m    174\u001b[0m \u001b[0;34m\u001b[0m\u001b[0m\n\u001b[1;32m    175\u001b[0m     \u001b[0;31m# Compute accuracy for each possible representation\u001b[0m\u001b[0;34m\u001b[0m\u001b[0;34m\u001b[0m\u001b[0m\n\u001b[0;32m--> 176\u001b[0;31m     \u001b[0my_type\u001b[0m\u001b[0;34m,\u001b[0m \u001b[0my_true\u001b[0m\u001b[0;34m,\u001b[0m \u001b[0my_pred\u001b[0m \u001b[0;34m=\u001b[0m \u001b[0m_check_targets\u001b[0m\u001b[0;34m(\u001b[0m\u001b[0my_true\u001b[0m\u001b[0;34m,\u001b[0m \u001b[0my_pred\u001b[0m\u001b[0;34m)\u001b[0m\u001b[0;34m\u001b[0m\u001b[0m\n\u001b[0m\u001b[1;32m    177\u001b[0m     \u001b[0;32mif\u001b[0m \u001b[0my_type\u001b[0m\u001b[0;34m.\u001b[0m\u001b[0mstartswith\u001b[0m\u001b[0;34m(\u001b[0m\u001b[0;34m'multilabel'\u001b[0m\u001b[0;34m)\u001b[0m\u001b[0;34m:\u001b[0m\u001b[0;34m\u001b[0m\u001b[0m\n\u001b[1;32m    178\u001b[0m         \u001b[0mdiffering_labels\u001b[0m \u001b[0;34m=\u001b[0m \u001b[0mcount_nonzero\u001b[0m\u001b[0;34m(\u001b[0m\u001b[0my_true\u001b[0m \u001b[0;34m-\u001b[0m \u001b[0my_pred\u001b[0m\u001b[0;34m,\u001b[0m \u001b[0maxis\u001b[0m\u001b[0;34m=\u001b[0m\u001b[0;36m1\u001b[0m\u001b[0;34m)\u001b[0m\u001b[0;34m\u001b[0m\u001b[0m\n",
      "\u001b[0;32m~/anaconda/envs/ipykernel_py3/lib/python3.6/site-packages/sklearn/metrics/classification.py\u001b[0m in \u001b[0;36m_check_targets\u001b[0;34m(y_true, y_pred)\u001b[0m\n\u001b[1;32m     79\u001b[0m     \u001b[0;32mif\u001b[0m \u001b[0mlen\u001b[0m\u001b[0;34m(\u001b[0m\u001b[0my_type\u001b[0m\u001b[0;34m)\u001b[0m \u001b[0;34m>\u001b[0m \u001b[0;36m1\u001b[0m\u001b[0;34m:\u001b[0m\u001b[0;34m\u001b[0m\u001b[0m\n\u001b[1;32m     80\u001b[0m         raise ValueError(\"Classification metrics can't handle a mix of {0} \"\n\u001b[0;32m---> 81\u001b[0;31m                          \"and {1} targets\".format(type_true, type_pred))\n\u001b[0m\u001b[1;32m     82\u001b[0m \u001b[0;34m\u001b[0m\u001b[0m\n\u001b[1;32m     83\u001b[0m     \u001b[0;31m# We can't have more than one value on y_type => The set is no more needed\u001b[0m\u001b[0;34m\u001b[0m\u001b[0;34m\u001b[0m\u001b[0m\n",
      "\u001b[0;31mValueError\u001b[0m: Classification metrics can't handle a mix of multiclass and continuous targets"
     ]
    }
   ],
   "source": [
    "#no execution\n",
    "#Tree with preprocessed data\n",
    "\n",
    "data_train, data_test, label_train, label_test = train_features_scaled, test_features_scaled, train_labels, test_labels\n",
    "clf = DecisionTreeRegressor(max_depth=5, random_state=17)\n",
    "clf.fit(data_train, label_train)\n",
    "clf_pred = clf.predict(data_test)\n",
    "acc_tree = accuracy_score(label_test, clf_pred) \n",
    "print('\\n########## TREE #########')\n",
    "print('Score: ', acc_tree)\n",
    "\n",
    "print(clf.predict([[2.0, 5.0]]))\n",
    "\n",
    "\n",
    "############################\n",
    "#Parameter tuning for tree #\n",
    "############################\n",
    "\n",
    "tree_params = {'max_depth': range(2,20), 'max_features': range(1,14)}\n",
    "tree_grid = GridSearchCV(clf, tree_params, cv=10, n_jobs=-1, verbose=True)\n",
    "\n",
    "\n",
    "tree_grid.fit(data_train, label_train)\n",
    "\n",
    "tr_bst_prm = tree_grid.best_params_ \n",
    "tr_bst_scr = tree_grid.best_score_\n",
    "tr_acc_grd = accuracy_score(label_test, tree_grid.predict(data_test))\n",
    "\n",
    "\n",
    "print ('Best parameters:', tr_bst_prm)\n",
    "print('Best score: ', tr_bst_scr)"
   ]
  },
  {
   "cell_type": "code",
   "execution_count": 10,
   "metadata": {
    "collapsed": false
   },
   "outputs": [
    {
     "name": "stdout",
     "output_type": "stream",
     "text": [
      "\n",
      "########## TREE #########\n",
      "Score:  0.833333333333\n",
      "[[ 0.  0.  1.]]\n",
      "Fitting 10 folds for each of 234 candidates, totalling 2340 fits\n"
     ]
    },
    {
     "name": "stderr",
     "output_type": "stream",
     "text": [
      "/home/ekaterina/anaconda/envs/ipykernel_py3/lib/python3.6/site-packages/sklearn/model_selection/_split.py:605: Warning: The least populated class in y has only 4 members, which is too few. The minimum number of members in any class cannot be less than n_splits=10.\n",
      "  % (min_groups, self.n_splits)), Warning)\n",
      "[Parallel(n_jobs=-1)]: Done 1504 tasks      | elapsed:    1.8s\n"
     ]
    },
    {
     "name": "stdout",
     "output_type": "stream",
     "text": [
      "Best parameters: {'max_depth': 4, 'max_features': 13}\n",
      "Best score:  0.875\n"
     ]
    },
    {
     "name": "stderr",
     "output_type": "stream",
     "text": [
      "[Parallel(n_jobs=-1)]: Done 2340 out of 2340 | elapsed:    2.5s finished\n"
     ]
    }
   ],
   "source": [
    "#Tree with our test\n",
    "\n",
    "\n",
    "data_train, data_test, label_train, label_test = train_features.values, test_features.values, train_labels.values, test_labels.values\n",
    "clf = DecisionTreeClassifier(max_depth=5, random_state=17)\n",
    "clf.fit(data_train, label_train)\n",
    "clf_pred = clf.predict(data_test)\n",
    "acc_tree = accuracy_score(label_test, clf_pred) \n",
    "print('\\n########## TREE #########')\n",
    "print('Score: ', acc_tree)\n",
    "\n",
    "print(clf.predict_proba([[7, 0.5, 0.5, 0.5757575757575758, 0.59375, 1, 0, 2.5, 1, 0, 90931315, -17, 135128817935782, 2]]))\n",
    "\n",
    "\n",
    "############################\n",
    "#Parameter tuning for tree #\n",
    "############################\n",
    "\n",
    "tree_params = {'max_depth': range(2,20), 'max_features': range(1,14)}\n",
    "tree_grid = GridSearchCV(clf, tree_params, cv=10, n_jobs=-1, verbose=True)\n",
    "\n",
    "\n",
    "tree_grid.fit(data_train, label_train)\n",
    "\n",
    "tr_bst_prm = tree_grid.best_params_ \n",
    "tr_bst_scr = tree_grid.best_score_\n",
    "tr_acc_grd = accuracy_score(label_test, tree_grid.predict(data_test))\n",
    "\n",
    "\n",
    "print ('Best parameters:', tr_bst_prm)\n",
    "print('Best score: ', tr_bst_scr)"
   ]
  },
  {
   "cell_type": "code",
   "execution_count": 11,
   "metadata": {
    "collapsed": false
   },
   "outputs": [
    {
     "data": {
      "text/plain": [
       "'Parameters_defining_tree.pdf'"
      ]
     },
     "execution_count": 11,
     "metadata": {},
     "output_type": "execute_result"
    }
   ],
   "source": [
    "import graphviz \n",
    "\n",
    "dot_data = export_graphviz(clf, out_file=None) \n",
    "graph = graphviz.Source(dot_data) \n",
    "graph.render(\"Parameters_defining_tree\") "
   ]
  },
  {
   "cell_type": "code",
   "execution_count": 20,
   "metadata": {
    "collapsed": true
   },
   "outputs": [],
   "source": [
    "#libraries for KNN\n",
    "from sklearn.neighbors import KNeighborsClassifier\n",
    "from sklearn.neighbors import KNeighborsRegressor\n",
    "from sklearn.pipeline import Pipeline\n",
    "from sklearn.preprocessing import StandardScaler"
   ]
  },
  {
   "cell_type": "code",
   "execution_count": null,
   "metadata": {
    "collapsed": true
   },
   "outputs": [],
   "source": []
  },
  {
   "cell_type": "code",
   "execution_count": 88,
   "metadata": {
    "collapsed": false
   },
   "outputs": [
    {
     "ename": "ValueError",
     "evalue": "Classification metrics can't handle a mix of multiclass and continuous targets",
     "output_type": "error",
     "traceback": [
      "\u001b[0;31m---------------------------------------------------------------------------\u001b[0m",
      "\u001b[0;31mValueError\u001b[0m                                Traceback (most recent call last)",
      "\u001b[0;32m<ipython-input-88-bdedf14aca4d>\u001b[0m in \u001b[0;36m<module>\u001b[0;34m()\u001b[0m\n\u001b[1;32m      9\u001b[0m \u001b[0mknn\u001b[0m\u001b[0;34m.\u001b[0m\u001b[0mfit\u001b[0m\u001b[0;34m(\u001b[0m\u001b[0mdata_train\u001b[0m\u001b[0;34m,\u001b[0m \u001b[0mlabel_train\u001b[0m\u001b[0;34m)\u001b[0m\u001b[0;34m\u001b[0m\u001b[0m\n\u001b[1;32m     10\u001b[0m \u001b[0mknn_pred\u001b[0m \u001b[0;34m=\u001b[0m \u001b[0mknn\u001b[0m\u001b[0;34m.\u001b[0m\u001b[0mpredict\u001b[0m\u001b[0;34m(\u001b[0m\u001b[0mdata_test\u001b[0m\u001b[0;34m)\u001b[0m\u001b[0;34m\u001b[0m\u001b[0m\n\u001b[0;32m---> 11\u001b[0;31m \u001b[0macc_knn\u001b[0m \u001b[0;34m=\u001b[0m \u001b[0maccuracy_score\u001b[0m\u001b[0;34m(\u001b[0m\u001b[0mlabel_test\u001b[0m\u001b[0;34m,\u001b[0m \u001b[0mknn_pred\u001b[0m\u001b[0;34m)\u001b[0m\u001b[0;34m\u001b[0m\u001b[0m\n\u001b[0m\u001b[1;32m     12\u001b[0m \u001b[0;34m\u001b[0m\u001b[0m\n\u001b[1;32m     13\u001b[0m \u001b[0mprint\u001b[0m\u001b[0;34m(\u001b[0m\u001b[0;34m'\\n########## KNN #########'\u001b[0m\u001b[0;34m)\u001b[0m\u001b[0;34m\u001b[0m\u001b[0m\n",
      "\u001b[0;32m~/anaconda/envs/ipykernel_py3/lib/python3.6/site-packages/sklearn/metrics/classification.py\u001b[0m in \u001b[0;36maccuracy_score\u001b[0;34m(y_true, y_pred, normalize, sample_weight)\u001b[0m\n\u001b[1;32m    174\u001b[0m \u001b[0;34m\u001b[0m\u001b[0m\n\u001b[1;32m    175\u001b[0m     \u001b[0;31m# Compute accuracy for each possible representation\u001b[0m\u001b[0;34m\u001b[0m\u001b[0;34m\u001b[0m\u001b[0m\n\u001b[0;32m--> 176\u001b[0;31m     \u001b[0my_type\u001b[0m\u001b[0;34m,\u001b[0m \u001b[0my_true\u001b[0m\u001b[0;34m,\u001b[0m \u001b[0my_pred\u001b[0m \u001b[0;34m=\u001b[0m \u001b[0m_check_targets\u001b[0m\u001b[0;34m(\u001b[0m\u001b[0my_true\u001b[0m\u001b[0;34m,\u001b[0m \u001b[0my_pred\u001b[0m\u001b[0;34m)\u001b[0m\u001b[0;34m\u001b[0m\u001b[0m\n\u001b[0m\u001b[1;32m    177\u001b[0m     \u001b[0;32mif\u001b[0m \u001b[0my_type\u001b[0m\u001b[0;34m.\u001b[0m\u001b[0mstartswith\u001b[0m\u001b[0;34m(\u001b[0m\u001b[0;34m'multilabel'\u001b[0m\u001b[0;34m)\u001b[0m\u001b[0;34m:\u001b[0m\u001b[0;34m\u001b[0m\u001b[0m\n\u001b[1;32m    178\u001b[0m         \u001b[0mdiffering_labels\u001b[0m \u001b[0;34m=\u001b[0m \u001b[0mcount_nonzero\u001b[0m\u001b[0;34m(\u001b[0m\u001b[0my_true\u001b[0m \u001b[0;34m-\u001b[0m \u001b[0my_pred\u001b[0m\u001b[0;34m,\u001b[0m \u001b[0maxis\u001b[0m\u001b[0;34m=\u001b[0m\u001b[0;36m1\u001b[0m\u001b[0;34m)\u001b[0m\u001b[0;34m\u001b[0m\u001b[0m\n",
      "\u001b[0;32m~/anaconda/envs/ipykernel_py3/lib/python3.6/site-packages/sklearn/metrics/classification.py\u001b[0m in \u001b[0;36m_check_targets\u001b[0;34m(y_true, y_pred)\u001b[0m\n\u001b[1;32m     79\u001b[0m     \u001b[0;32mif\u001b[0m \u001b[0mlen\u001b[0m\u001b[0;34m(\u001b[0m\u001b[0my_type\u001b[0m\u001b[0;34m)\u001b[0m \u001b[0;34m>\u001b[0m \u001b[0;36m1\u001b[0m\u001b[0;34m:\u001b[0m\u001b[0;34m\u001b[0m\u001b[0m\n\u001b[1;32m     80\u001b[0m         raise ValueError(\"Classification metrics can't handle a mix of {0} \"\n\u001b[0;32m---> 81\u001b[0;31m                          \"and {1} targets\".format(type_true, type_pred))\n\u001b[0m\u001b[1;32m     82\u001b[0m \u001b[0;34m\u001b[0m\u001b[0m\n\u001b[1;32m     83\u001b[0m     \u001b[0;31m# We can't have more than one value on y_type => The set is no more needed\u001b[0m\u001b[0;34m\u001b[0m\u001b[0;34m\u001b[0m\u001b[0m\n",
      "\u001b[0;31mValueError\u001b[0m: Classification metrics can't handle a mix of multiclass and continuous targets"
     ]
    }
   ],
   "source": [
    "data_train, data_test, label_train, label_test = train_features.values, test_features.values, train_labels.values, test_labels.values\n",
    "label_train = np.ravel(label_train)\n",
    "\n",
    "###############\n",
    "#     KNN     #\n",
    "###############\n",
    "\n",
    "knn = KNeighborsRegressor()\n",
    "knn.fit(data_train, label_train)\n",
    "knn_pred = knn.predict(data_test)\n",
    "acc_knn = accuracy_score(label_test, knn_pred) \n",
    "\n",
    "print('\\n########## KNN #########')\n",
    "print('Score: ', acc_knn)\n",
    "\n",
    "\n",
    "############################\n",
    "#Parameter tuning for KNN  #\n",
    "############################\n",
    "\n",
    "knn_pipe = Pipeline([('scaler', StandardScaler()), ('knn', KNeighborsClassifier(n_jobs=-1))])\n",
    "knn_params = {'knn__n_neighbors': range(1, 10)}\n",
    "\n",
    "knn_grid = GridSearchCV(knn_pipe, knn_params, cv=5, n_jobs=-1, verbose=True)\n",
    "knn_grid.fit(data_train, label_train)\n",
    "\n",
    "knn_bst_prm = knn_grid.best_params_\n",
    "knn_bst_scr = knn_grid.best_score_\n",
    "knn_acc_grd = accuracy_score(label_train, knn_grid.predict(data_train))\n",
    "\n",
    "print ('Best parameters:', knn_bst_prm)\n",
    "print('Best score: ', knn_bst_scr)\n"
   ]
  },
  {
   "cell_type": "code",
   "execution_count": 21,
   "metadata": {
    "collapsed": false
   },
   "outputs": [
    {
     "name": "stdout",
     "output_type": "stream",
     "text": [
      "[  1.71821257e+09]\n"
     ]
    },
    {
     "data": {
      "text/plain": [
       "\"\\nknn_pred = knn.predict(data_test)\\nacc_knn = accuracy_score(label_test, knn_pred) \\n\\nprint('\\n########## KNN #########')\\nprint('Score: ', acc_knn)\\n\\n\\n############################\\n#Parameter tuning for KNN  #\\n############################\\n\\nknn_pipe = Pipeline([('scaler', StandardScaler()), ('knn', KNeighborsClassifier(n_jobs=-1))])\\nknn_params = {'knn__n_neighbors': range(1, 14)}\\n\\nknn_grid = GridSearchCV(knn_pipe, knn_params, cv=5, n_jobs=-1, verbose=True)\\nknn_grid.fit(data_train, label_train)\\n\\nknn_bst_prm = knn_grid.best_params_\\nknn_bst_scr = knn_grid.best_score_\\nknn_acc_grd = accuracy_score(label_train, knn_grid.predict(data_train))\\n\\nprint ('Best parameters:', knn_bst_prm)\\nprint('Best score: ', knn_bst_scr)\\n\""
      ]
     },
     "execution_count": 21,
     "metadata": {},
     "output_type": "execute_result"
    }
   ],
   "source": [
    "#KNN with preprocessing for final testing\n",
    "data_train, data_test, label_train, label_test = train_features_scaled, test_features_scaled, train_labels, test_labels\n",
    "label_train = np.ravel(label_train)\n",
    "\n",
    "###############\n",
    "#     KNN     #\n",
    "###############\n",
    "\n",
    "knn = KNeighborsRegressor(n_neighbors=5)\n",
    "knn.fit(data_train, label_train)\n",
    "print(knn.predict([[2.0, 6.0]]))\n",
    "\"\"\"\n",
    "knn_pred = knn.predict(data_test)\n",
    "acc_knn = accuracy_score(label_test, knn_pred) \n",
    "\n",
    "print('\\n########## KNN #########')\n",
    "print('Score: ', acc_knn)\n",
    "\n",
    "\n",
    "############################\n",
    "#Parameter tuning for KNN  #\n",
    "############################\n",
    "\n",
    "knn_pipe = Pipeline([('scaler', StandardScaler()), ('knn', KNeighborsClassifier(n_jobs=-1))])\n",
    "knn_params = {'knn__n_neighbors': range(1, 14)}\n",
    "\n",
    "knn_grid = GridSearchCV(knn_pipe, knn_params, cv=5, n_jobs=-1, verbose=True)\n",
    "knn_grid.fit(data_train, label_train)\n",
    "\n",
    "knn_bst_prm = knn_grid.best_params_\n",
    "knn_bst_scr = knn_grid.best_score_\n",
    "knn_acc_grd = accuracy_score(label_train, knn_grid.predict(data_train))\n",
    "\n",
    "print ('Best parameters:', knn_bst_prm)\n",
    "print('Best score: ', knn_bst_scr)\n",
    "\"\"\""
   ]
  },
  {
   "cell_type": "code",
   "execution_count": 14,
   "metadata": {
    "collapsed": false
   },
   "outputs": [
    {
     "name": "stdout",
     "output_type": "stream",
     "text": [
      "\n",
      "########## KNN #########\n",
      "Score:  0.916666666667\n",
      "Fitting 5 folds for each of 13 candidates, totalling 65 fits\n"
     ]
    },
    {
     "name": "stderr",
     "output_type": "stream",
     "text": [
      "/home/ekaterina/anaconda/envs/ipykernel_py3/lib/python3.6/site-packages/sklearn/model_selection/_split.py:605: Warning: The least populated class in y has only 4 members, which is too few. The minimum number of members in any class cannot be less than n_splits=5.\n",
      "  % (min_groups, self.n_splits)), Warning)\n",
      "[Parallel(n_jobs=-1)]: Done  42 tasks      | elapsed:    2.4s\n"
     ]
    },
    {
     "name": "stdout",
     "output_type": "stream",
     "text": [
      "Best parameters: {'knn__n_neighbors': 1}\n",
      "Best score:  0.666666666667\n"
     ]
    },
    {
     "name": "stderr",
     "output_type": "stream",
     "text": [
      "[Parallel(n_jobs=-1)]: Done  65 out of  65 | elapsed:    3.6s finished\n"
     ]
    }
   ],
   "source": [
    "\n",
    "#KNN with preprocessing\n",
    "data_train, data_test, label_train, label_test = train_features_scaled, test_features_scaled, train_labels, test_labels\n",
    "label_train = np.ravel(label_train)\n",
    "\n",
    "###############\n",
    "#     KNN     #\n",
    "###############\n",
    "\n",
    "knn = KNeighborsClassifier(n_neighbors=5)\n",
    "knn.fit(data_train, label_train)\n",
    "knn_pred = knn.predict(data_test)\n",
    "acc_knn = accuracy_score(label_test, knn_pred) \n",
    "\n",
    "print('\\n########## KNN #########')\n",
    "print('Score: ', acc_knn)\n",
    "\n",
    "\n",
    "############################\n",
    "#Parameter tuning for KNN  #\n",
    "############################\n",
    "\n",
    "knn_pipe = Pipeline([('scaler', StandardScaler()), ('knn', KNeighborsClassifier(n_jobs=-1))])\n",
    "knn_params = {'knn__n_neighbors': range(1, 14)}\n",
    "\n",
    "knn_grid = GridSearchCV(knn_pipe, knn_params, cv=5, n_jobs=-1, verbose=True)\n",
    "knn_grid.fit(data_train, label_train)\n",
    "\n",
    "knn_bst_prm = knn_grid.best_params_\n",
    "knn_bst_scr = knn_grid.best_score_\n",
    "knn_acc_grd = accuracy_score(label_train, knn_grid.predict(data_train))\n",
    "\n",
    "print ('Best parameters:', knn_bst_prm)\n",
    "print('Best score: ', knn_bst_scr)"
   ]
  },
  {
   "cell_type": "code",
   "execution_count": 89,
   "metadata": {
    "collapsed": true
   },
   "outputs": [],
   "source": [
    "from sklearn.svm import LinearSVC\n",
    "from sklearn import svm"
   ]
  },
  {
   "cell_type": "code",
   "execution_count": 95,
   "metadata": {
    "collapsed": false
   },
   "outputs": [
    {
     "name": "stdout",
     "output_type": "stream",
     "text": [
      "[877.87523496474296, 877.87523496474296, 876.93466874061846, 876.56088521209949]\n",
      "[8.0, 16.0, 128.0, 81.0]\n"
     ]
    },
    {
     "name": "stderr",
     "output_type": "stream",
     "text": [
      "/home/ekaterina/anaconda/envs/ipykernel_py3/lib/python3.6/site-packages/sklearn/utils/validation.py:578: DataConversionWarning: A column-vector y was passed when a 1d array was expected. Please change the shape of y to (n_samples, ), for example using ravel().\n",
      "  y = column_or_1d(y, warn=True)\n"
     ]
    },
    {
     "ename": "ValueError",
     "evalue": "Classification metrics can't handle a mix of multiclass and continuous targets",
     "output_type": "error",
     "traceback": [
      "\u001b[0;31m---------------------------------------------------------------------------\u001b[0m",
      "\u001b[0;31mValueError\u001b[0m                                Traceback (most recent call last)",
      "\u001b[0;32m<ipython-input-95-5b3937736167>\u001b[0m in \u001b[0;36m<module>\u001b[0;34m()\u001b[0m\n\u001b[1;32m     14\u001b[0m \u001b[0mprint\u001b[0m\u001b[0;34m(\u001b[0m\u001b[0mclf_pred\u001b[0m\u001b[0;34m)\u001b[0m\u001b[0;34m\u001b[0m\u001b[0m\n\u001b[1;32m     15\u001b[0m \u001b[0mprint\u001b[0m\u001b[0;34m(\u001b[0m\u001b[0mlabel_test\u001b[0m\u001b[0;34m)\u001b[0m\u001b[0;34m\u001b[0m\u001b[0m\n\u001b[0;32m---> 16\u001b[0;31m \u001b[0macc_clf\u001b[0m \u001b[0;34m=\u001b[0m \u001b[0maccuracy_score\u001b[0m\u001b[0;34m(\u001b[0m\u001b[0mlabel_test\u001b[0m\u001b[0;34m,\u001b[0m \u001b[0mclf_pred\u001b[0m\u001b[0;34m)\u001b[0m\u001b[0;34m\u001b[0m\u001b[0m\n\u001b[0m\u001b[1;32m     17\u001b[0m \u001b[0;34m\u001b[0m\u001b[0m\n\u001b[1;32m     18\u001b[0m \u001b[0mprint\u001b[0m\u001b[0;34m(\u001b[0m\u001b[0;34m'\\n########## SVM #########'\u001b[0m\u001b[0;34m)\u001b[0m\u001b[0;34m\u001b[0m\u001b[0m\n",
      "\u001b[0;32m~/anaconda/envs/ipykernel_py3/lib/python3.6/site-packages/sklearn/metrics/classification.py\u001b[0m in \u001b[0;36maccuracy_score\u001b[0;34m(y_true, y_pred, normalize, sample_weight)\u001b[0m\n\u001b[1;32m    174\u001b[0m \u001b[0;34m\u001b[0m\u001b[0m\n\u001b[1;32m    175\u001b[0m     \u001b[0;31m# Compute accuracy for each possible representation\u001b[0m\u001b[0;34m\u001b[0m\u001b[0;34m\u001b[0m\u001b[0m\n\u001b[0;32m--> 176\u001b[0;31m     \u001b[0my_type\u001b[0m\u001b[0;34m,\u001b[0m \u001b[0my_true\u001b[0m\u001b[0;34m,\u001b[0m \u001b[0my_pred\u001b[0m \u001b[0;34m=\u001b[0m \u001b[0m_check_targets\u001b[0m\u001b[0;34m(\u001b[0m\u001b[0my_true\u001b[0m\u001b[0;34m,\u001b[0m \u001b[0my_pred\u001b[0m\u001b[0;34m)\u001b[0m\u001b[0;34m\u001b[0m\u001b[0m\n\u001b[0m\u001b[1;32m    177\u001b[0m     \u001b[0;32mif\u001b[0m \u001b[0my_type\u001b[0m\u001b[0;34m.\u001b[0m\u001b[0mstartswith\u001b[0m\u001b[0;34m(\u001b[0m\u001b[0;34m'multilabel'\u001b[0m\u001b[0;34m)\u001b[0m\u001b[0;34m:\u001b[0m\u001b[0;34m\u001b[0m\u001b[0m\n\u001b[1;32m    178\u001b[0m         \u001b[0mdiffering_labels\u001b[0m \u001b[0;34m=\u001b[0m \u001b[0mcount_nonzero\u001b[0m\u001b[0;34m(\u001b[0m\u001b[0my_true\u001b[0m \u001b[0;34m-\u001b[0m \u001b[0my_pred\u001b[0m\u001b[0;34m,\u001b[0m \u001b[0maxis\u001b[0m\u001b[0;34m=\u001b[0m\u001b[0;36m1\u001b[0m\u001b[0;34m)\u001b[0m\u001b[0;34m\u001b[0m\u001b[0m\n",
      "\u001b[0;32m~/anaconda/envs/ipykernel_py3/lib/python3.6/site-packages/sklearn/metrics/classification.py\u001b[0m in \u001b[0;36m_check_targets\u001b[0;34m(y_true, y_pred)\u001b[0m\n\u001b[1;32m     79\u001b[0m     \u001b[0;32mif\u001b[0m \u001b[0mlen\u001b[0m\u001b[0;34m(\u001b[0m\u001b[0my_type\u001b[0m\u001b[0;34m)\u001b[0m \u001b[0;34m>\u001b[0m \u001b[0;36m1\u001b[0m\u001b[0;34m:\u001b[0m\u001b[0;34m\u001b[0m\u001b[0m\n\u001b[1;32m     80\u001b[0m         raise ValueError(\"Classification metrics can't handle a mix of {0} \"\n\u001b[0;32m---> 81\u001b[0;31m                          \"and {1} targets\".format(type_true, type_pred))\n\u001b[0m\u001b[1;32m     82\u001b[0m \u001b[0;34m\u001b[0m\u001b[0m\n\u001b[1;32m     83\u001b[0m     \u001b[0;31m# We can't have more than one value on y_type => The set is no more needed\u001b[0m\u001b[0;34m\u001b[0m\u001b[0;34m\u001b[0m\u001b[0m\n",
      "\u001b[0;31mValueError\u001b[0m: Classification metrics can't handle a mix of multiclass and continuous targets"
     ]
    }
   ],
   "source": [
    "data_train, data_test, label_train, label_test = train_features.values, test_features.values, train_labels.values, test_labels.values\n",
    "label_test = np.ravel(label_test)\n",
    "label_test  = list(map(float, label_test))\n",
    "\n",
    "################\n",
    "#     SVM      #\n",
    "################\n",
    "\n",
    "clf = svm.SVR()\n",
    "clf.fit(data_train, label_train)\n",
    "\n",
    "clf_pred = clf.predict(data_test)\n",
    "clf_pred= list(clf_pred)\n",
    "print(clf_pred)\n",
    "print(label_test)\n",
    "acc_clf = accuracy_score(label_test, clf_pred) \n",
    "\n",
    "print('\\n########## SVM #########')\n",
    "print('Score: ', acc_clf)\n",
    "print('SVM-coefficient:')\n",
    "print(clf.coef_)"
   ]
  },
  {
   "cell_type": "code",
   "execution_count": 17,
   "metadata": {
    "collapsed": false
   },
   "outputs": [
    {
     "name": "stdout",
     "output_type": "stream",
     "text": [
      "\n",
      "########## SVM #########\n",
      "Score:  0.833333333333\n",
      "SVM-coefficient:\n",
      "[[ -8.19678222e-01  -7.93742994e-01  -5.54823203e-01   6.19179019e-01\n",
      "    4.06404027e-01  -2.09385425e-01   3.62511927e-01  -2.53765349e-04\n",
      "   -2.28161004e-01  -1.34068068e-01   1.24766423e-02  -2.89846190e-02\n",
      "   -1.31010850e-01   3.37229842e-01]\n",
      " [ -1.03273119e-01   6.26345931e-01   1.88398644e+00  -4.51677756e-01\n",
      "   -1.00888605e+00   4.88434953e-01  -1.70937378e-01  -1.29962809e-01\n",
      "    9.49237221e-01   1.83945781e-01   4.72914249e-03  -1.27240922e+00\n",
      "   -1.69888705e-01  -7.63005505e-02]\n",
      " [  1.43026774e-01   2.75313465e-01  -1.37700541e+00  -5.91323722e-01\n",
      "    1.16808374e+00  -1.92363437e-01  -1.04907156e-01   1.65733225e-02\n",
      "   -4.08649715e-01   8.12473874e-02   7.32715981e-02   5.99030230e-01\n",
      "    2.62258190e-01  -3.67858470e-01]]\n"
     ]
    },
    {
     "name": "stderr",
     "output_type": "stream",
     "text": [
      "/home/ekaterina/anaconda/envs/ipykernel_py3/lib/python3.6/site-packages/sklearn/utils/validation.py:578: DataConversionWarning: A column-vector y was passed when a 1d array was expected. Please change the shape of y to (n_samples, ), for example using ravel().\n",
      "  y = column_or_1d(y, warn=True)\n"
     ]
    }
   ],
   "source": [
    "#SVM  with preprocessing\n",
    "data_train, data_test, label_train, label_test = train_features_scaled, test_features_scaled, train_labels, test_labels\n",
    "\n",
    "\n",
    "###################################\n",
    "#     SVM  with preprocessing     #\n",
    "###################################\n",
    "\n",
    "clf = LinearSVC(random_state=0)\n",
    "clf.fit(data_train, label_train)\n",
    "\n",
    "clf_pred = clf.predict(data_test)\n",
    "acc_clf = accuracy_score(label_test, clf_pred) \n",
    "\n",
    "print('\\n########## SVM #########')\n",
    "print('Score: ', acc_clf)\n",
    "print('SVM-coefficient:')\n",
    "print(clf.coef_)"
   ]
  },
  {
   "cell_type": "code",
   "execution_count": 15,
   "metadata": {
    "collapsed": true
   },
   "outputs": [],
   "source": [
    "#libraries for ANN\n",
    "from sklearn.neural_network import MLPClassifier\n",
    "from sklearn.neural_network import MLPRegressor"
   ]
  },
  {
   "cell_type": "code",
   "execution_count": 19,
   "metadata": {
    "collapsed": false
   },
   "outputs": [
    {
     "name": "stdout",
     "output_type": "stream",
     "text": [
      "\n",
      "########## ANN #########\n"
     ]
    },
    {
     "name": "stderr",
     "output_type": "stream",
     "text": [
      "/home/ekaterina/anaconda/envs/ipykernel_py3/lib/python3.6/site-packages/sklearn/neural_network/multilayer_perceptron.py:912: DataConversionWarning: A column-vector y was passed when a 1d array was expected. Please change the shape of y to (n_samples, ), for example using ravel().\n",
      "  y = column_or_1d(y, warn=True)\n"
     ]
    },
    {
     "name": "stdout",
     "output_type": "stream",
     "text": [
      "Score ( 8 14 layers):  0.666666666667\n"
     ]
    }
   ],
   "source": [
    "data_train, data_test, label_train, label_test = train_features, test_features, train_labels, test_labels\n",
    "\n",
    "\n",
    "###############\n",
    "#    ANN      #\n",
    "###############\n",
    "\n",
    "\n",
    "print('\\n########## ANN #########')\n",
    "max_sc_ann = 0\n",
    "\n",
    "for ls2 in range (10,40):\n",
    "    for ls1 in range(8, 20, 2):\n",
    "        ann_clf = MLPClassifier(solver='lbfgs', alpha=1e-5,hidden_layer_sizes=(ls1, ls2), random_state=1)\n",
    "        ann_clf.fit(data_train, label_train)      \n",
    "        ann_clf_pred = ann_clf.predict(data_test)\n",
    "\n",
    "        acc_ann = accuracy_score(label_test, ann_clf_pred) \n",
    "        if (acc_ann > max_sc_ann):\n",
    "            max_sc_ann = acc_ann\n",
    "            max_ls1 = ls1\n",
    "            max_ls2 = ls2\n",
    "                                \n",
    "print('Score (', max_ls1, max_ls2, 'layers): ', max_sc_ann)\n"
   ]
  },
  {
   "cell_type": "code",
   "execution_count": 17,
   "metadata": {
    "collapsed": false
   },
   "outputs": [
    {
     "name": "stdout",
     "output_type": "stream",
     "text": [
      "15"
     ]
    },
    {
     "name": "stderr",
     "output_type": "stream",
     "text": [
      "/home/ekaterina/anaconda/envs/ipykernel_py3/lib/python3.6/site-packages/sklearn/neural_network/multilayer_perceptron.py:1306: DataConversionWarning: A column-vector y was passed when a 1d array was expected. Please change the shape of y to (n_samples, ), for example using ravel().\n",
      "  y = column_or_1d(y, warn=True)\n"
     ]
    },
    {
     "name": "stdout",
     "output_type": "stream",
     "text": [
      "\n",
      "\n",
      "########## ANN #########\n"
     ]
    },
    {
     "ename": "NameError",
     "evalue": "name 'max_ls1' is not defined",
     "output_type": "error",
     "traceback": [
      "\u001b[0;31m---------------------------------------------------------------------------\u001b[0m",
      "\u001b[0;31mNameError\u001b[0m                                 Traceback (most recent call last)",
      "\u001b[0;32m<ipython-input-17-d9fc6d0f6768>\u001b[0m in \u001b[0;36m<module>\u001b[0;34m()\u001b[0m\n\u001b[1;32m     23\u001b[0m             \u001b[0mmax_ls2\u001b[0m \u001b[0;34m=\u001b[0m \u001b[0mls2\u001b[0m\u001b[0;34m\u001b[0m\u001b[0m\n\u001b[1;32m     24\u001b[0m         \"\"\"                        \n\u001b[0;32m---> 25\u001b[0;31m \u001b[0mprint\u001b[0m\u001b[0;34m(\u001b[0m\u001b[0;34m'Score ('\u001b[0m\u001b[0;34m,\u001b[0m \u001b[0mmax_ls1\u001b[0m\u001b[0;34m,\u001b[0m \u001b[0mmax_ls2\u001b[0m\u001b[0;34m,\u001b[0m \u001b[0;34m'layers): '\u001b[0m\u001b[0;34m,\u001b[0m \u001b[0mmax_sc_ann\u001b[0m\u001b[0;34m)\u001b[0m\u001b[0;34m\u001b[0m\u001b[0m\n\u001b[0m",
      "\u001b[0;31mNameError\u001b[0m: name 'max_ls1' is not defined"
     ]
    }
   ],
   "source": [
    "data_train, data_test, label_train, label_test = train_features_scaled, test_features_scaled, train_labels, test_labels\n",
    "\n",
    "print(len(data_train))\n",
    "\n",
    "################################\n",
    "#    ANN with preprocessing    #\n",
    "################################\n",
    "\n",
    "\n",
    "print('\\n########## ANN #########')\n",
    "max_sc_ann = 0\n",
    "\n",
    "for ls2 in range (10,40):\n",
    "    for ls1 in range(8, 20, 2):\n",
    "        ann_clf = MLPRegressor(solver='lbfgs', alpha=1e-5,hidden_layer_sizes=(ls1, ls2), random_state=1)\n",
    "        ann_clf.fit(data_train, label_train)      \n",
    "        ann_clf_pred = ann_clf.predict(data_test)\n",
    "        \"\"\"\n",
    "        c_ann = accuracy_score(label_test, ann_clf_pred) \n",
    "        if (acc_ann > max_sc_ann):\n",
    "            max_sc_ann = acc_ann\n",
    "            max_ls1 = ls1\n",
    "            max_ls2 = ls2\n",
    "        \"\"\"                        \n",
    "print('Score (', max_ls1, max_ls2, 'layers): ', max_sc_ann)\n"
   ]
  },
  {
   "cell_type": "code",
   "execution_count": 18,
   "metadata": {
    "collapsed": false
   },
   "outputs": [
    {
     "name": "stdout",
     "output_type": "stream",
     "text": [
      "15\n",
      "\n",
      "########## ANN #########\n",
      "[  1.70288963e+10]\n"
     ]
    },
    {
     "name": "stderr",
     "output_type": "stream",
     "text": [
      "/home/ekaterina/anaconda/envs/ipykernel_py3/lib/python3.6/site-packages/sklearn/neural_network/multilayer_perceptron.py:1306: DataConversionWarning: A column-vector y was passed when a 1d array was expected. Please change the shape of y to (n_samples, ), for example using ravel().\n",
      "  y = column_or_1d(y, warn=True)\n"
     ]
    },
    {
     "ename": "NameError",
     "evalue": "name 'max_ls1' is not defined",
     "output_type": "error",
     "traceback": [
      "\u001b[0;31m---------------------------------------------------------------------------\u001b[0m",
      "\u001b[0;31mNameError\u001b[0m                                 Traceback (most recent call last)",
      "\u001b[0;32m<ipython-input-18-df2ed1d8a562>\u001b[0m in \u001b[0;36m<module>\u001b[0;34m()\u001b[0m\n\u001b[1;32m     27\u001b[0m \u001b[0;34m\u001b[0m\u001b[0m\n\u001b[1;32m     28\u001b[0m \u001b[0mprint\u001b[0m\u001b[0;34m(\u001b[0m\u001b[0mann_clf\u001b[0m\u001b[0;34m.\u001b[0m\u001b[0mpredict\u001b[0m\u001b[0;34m(\u001b[0m\u001b[0;34m[\u001b[0m\u001b[0;34m[\u001b[0m\u001b[0;36m2.0\u001b[0m\u001b[0;34m,\u001b[0m \u001b[0;36m6.0\u001b[0m\u001b[0;34m]\u001b[0m\u001b[0;34m]\u001b[0m\u001b[0;34m)\u001b[0m\u001b[0;34m)\u001b[0m\u001b[0;34m\u001b[0m\u001b[0m\n\u001b[0;32m---> 29\u001b[0;31m \u001b[0mprint\u001b[0m\u001b[0;34m(\u001b[0m\u001b[0;34m'Score ('\u001b[0m\u001b[0;34m,\u001b[0m \u001b[0mmax_ls1\u001b[0m\u001b[0;34m,\u001b[0m \u001b[0mmax_ls2\u001b[0m\u001b[0;34m,\u001b[0m \u001b[0;34m'layers): '\u001b[0m\u001b[0;34m,\u001b[0m \u001b[0mmax_sc_ann\u001b[0m\u001b[0;34m)\u001b[0m\u001b[0;34m\u001b[0m\u001b[0m\n\u001b[0m",
      "\u001b[0;31mNameError\u001b[0m: name 'max_ls1' is not defined"
     ]
    }
   ],
   "source": [
    "data_train, data_test, label_train, label_test = train_features_scaled, test_features_scaled, train_labels, test_labels\n",
    "\n",
    "print(len(data_train))\n",
    "\n",
    "################################\n",
    "#    ANN with preprocessing    #\n",
    "################################\n",
    "\n",
    "\n",
    "print('\\n########## ANN #########')\n",
    "max_sc_ann = 0\n",
    "\n",
    "ls1 = 8\n",
    "ls2 = 14\n",
    "\n",
    "ann_clf = MLPRegressor(solver='lbfgs', alpha=1e-5,hidden_layer_sizes=(ls1, ls2), random_state=1)\n",
    "ann_clf.fit(data_train, label_train)      \n",
    "\"\"\"\n",
    "        ann_clf_pred = ann_clf.predict(data_test)\n",
    "       \n",
    "        c_ann = accuracy_score(label_test, ann_clf_pred) \n",
    "        if (acc_ann > max_sc_ann):\n",
    "            max_sc_ann = acc_ann\n",
    "            max_ls1 = ls1\n",
    "            max_ls2 = ls2\n",
    "\"\"\"                        \n",
    "\n",
    "print(ann_clf.predict([[2.0, 6.0]]))        \n",
    "print('Score (', max_ls1, max_ls2, 'layers): ', max_sc_ann)"
   ]
  },
  {
   "cell_type": "code",
   "execution_count": null,
   "metadata": {
    "collapsed": true
   },
   "outputs": [],
   "source": []
  }
 ],
 "metadata": {
  "anaconda-cloud": {},
  "kernelspec": {
   "display_name": "Python 3",
   "language": "python",
   "name": "python3"
  },
  "language_info": {
   "codemirror_mode": {
    "name": "ipython",
    "version": 3
   },
   "file_extension": ".py",
   "mimetype": "text/x-python",
   "name": "python",
   "nbconvert_exporter": "python",
   "pygments_lexer": "ipython3",
   "version": "3.6.2"
  }
 },
 "nbformat": 4,
 "nbformat_minor": 2
}
