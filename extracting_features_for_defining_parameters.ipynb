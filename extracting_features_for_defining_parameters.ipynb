{
 "cells": [
  {
   "cell_type": "code",
   "execution_count": 70,
   "metadata": {
    "collapsed": true
   },
   "outputs": [],
   "source": [
    "# -*- coding: utf-8 -*-\n",
    "parameters_names_file = 'res/parameters_names.txt'\n",
    "parameters_file = \"res/parameters.txt\"\n",
    "features_file = \"res/parameters.txt\"\n",
    "processed_tasks_file = \"res/train_processed_tasks.txt\"\n",
    "tasks_file = \"res/tasks_train.txt\"\n",
    "import numpy as np\n",
    "import pymorphy2\n",
    "morph = pymorphy2.MorphAnalyzer()"
   ]
  },
  {
   "cell_type": "code",
   "execution_count": 4,
   "metadata": {
    "collapsed": true
   },
   "outputs": [],
   "source": [
    "def read_task():\n",
    "    task = input()\n",
    "    return task\n",
    "\n",
    "# Test\n",
    "#print(read_tsk())\n",
    "# try to git"
   ]
  },
  {
   "cell_type": "code",
   "execution_count": 5,
   "metadata": {
    "collapsed": false
   },
   "outputs": [
    {
     "data": {
      "text/plain": [
       "'\\nfor i in range(3):\\n    filename = \"test/test1.txt\"\\n    s = readTask()\\n    save_task(s, filename, \"\\n#\\n\")\\n'"
      ]
     },
     "execution_count": 5,
     "metadata": {},
     "output_type": "execute_result"
    }
   ],
   "source": [
    "import os\n",
    "\n",
    "def save_task(task, filename, delimiter):\n",
    "    if os.path.exists:\n",
    "        file = open(filename, 'a') #if file exists, than add new task\n",
    "    else:\n",
    "        file = open(filename, 'w') # else create new file\n",
    "    file.write(delimiter)\n",
    "    file.write(task)\n",
    "    file.close()\n",
    "    return 0\n",
    "\n",
    "#Test\n",
    "\"\"\"\n",
    "for i in range(3):\n",
    "    filename = \"test/test1.txt\"\n",
    "    s = readTask()\n",
    "    save_task(s, filename, \"\\n#\\n\")\n",
    "\"\"\""
   ]
  },
  {
   "cell_type": "code",
   "execution_count": 6,
   "metadata": {
    "collapsed": true
   },
   "outputs": [],
   "source": [
    "#Save parameters of the task (same for all tasks from the theme)\n",
    "def save_parameters_names(list_of_parameters_names):    \n",
    "    par_file = open(parameters_names_file, 'w')\n",
    "    for parameter in list_of_parameters_names:\n",
    "        par_file.write(parameter + ' ')\n",
    "    par_file.close()\n",
    "    \n",
    "testList = ['Места', 'Элементы']\n",
    "save_parameters_names(testList)\n"
   ]
  },
  {
   "cell_type": "code",
   "execution_count": 7,
   "metadata": {
    "collapsed": false
   },
   "outputs": [
    {
     "name": "stdout",
     "output_type": "stream",
     "text": [
      "['Места', 'Элементы']\n"
     ]
    }
   ],
   "source": [
    "#Read parameters of the task (same for all tasks from the theme)\n",
    "def read_parameter_names():\n",
    "    par_file = open(parameters_names_file, 'r')\n",
    "    content = par_file.read()\n",
    "    list_of_parameters_names = content.split(' ')\n",
    "    list_of_parameters_names.pop()\n",
    "    par_file.close()\n",
    "    return list_of_parameters_names\n",
    "print(read_parameter_names())"
   ]
  },
  {
   "cell_type": "code",
   "execution_count": 8,
   "metadata": {
    "collapsed": false
   },
   "outputs": [
    {
     "name": "stdout",
     "output_type": "stream",
     "text": [
      "Есть 5 хомяков. Сколько существует способов выбрать из них 3?\n",
      "Марфе Ивановне нужно отправить 7 гостей домой. В её автопарке 10 разных машин. Сколько существует способов рассадить гостей по машинам?\n",
      "Есть 23 хомяка. Сколько способов выбрать из них 243?\n"
     ]
    }
   ],
   "source": [
    "#Julia\n",
    "\n",
    "#Словарь числительных (нужно дополнять)\n",
    "num_dict = {'один': 1,\n",
    "            'одному': 1,\n",
    "            'два': 2,\n",
    "            'двоих': 2,\n",
    "            'двое': 2,\n",
    "            'три': 3,\n",
    "            'троих': 3,\n",
    "            'трое': 3,\n",
    "            'четыре': 4,\n",
    "            'четверых': 4,\n",
    "            'четверо': 4,\n",
    "            'пять': 5,\n",
    "            'петярых': 5,\n",
    "            'пятеро': 5,\n",
    "            'шесть': 6,\n",
    "            'шестерых': 6,\n",
    "            'шестеро': 6,\n",
    "            'семь': 7,\n",
    "            'семерых': 7,\n",
    "            'семеро': 7,\n",
    "            'восемь': 8,\n",
    "            'восьмерых': 8,\n",
    "            'восьмеро': 8,\n",
    "            'девять': 9,\n",
    "            'девятерых': 9,\n",
    "            'девятеро': 9,\n",
    "            'десять': 10,\n",
    "            'десятерых': 10,\n",
    "            'десятеро': 10,\n",
    "            'одиннадцать': 11,\n",
    "            'двенадцать': 12,\n",
    "            'тринадцать': 13,\n",
    "            'четырнадцать': 14,\n",
    "            'пятнадцать': 15,\n",
    "            'шестнадцать': 16,\n",
    "            'семнадцать': 17,\n",
    "            'восемнадцать': 18,\n",
    "            'девятнадцать': 19,\n",
    "            'двадцать': 20,\n",
    "            'тридцать': 30,\n",
    "            'сорок': 40,\n",
    "            'пятьдесят': 50,\n",
    "            'шестьдесят': 60,\n",
    "            'семьдесят': 70,\n",
    "            'восемьдесят': 80,\n",
    "            'девяносто': 90,\n",
    "            'сто': 100,\n",
    "            'двести': 200,\n",
    "            'триста': 300,\n",
    "            'четыреста': 400,\n",
    "            'пятьсот': 500,\n",
    "            'шестьсот': 600,\n",
    "            'семьсот': 700,\n",
    "            'восемьсот': 800,\n",
    "            'девятьсот': 900,\n",
    "            'тысяча': 1000,\n",
    "            'миллион': 1000000,\n",
    "            'миллиард': 1000000000,\n",
    "           }\n",
    "\n",
    "#Функция для того, чтобы отделить знаки препинания от слов с помощью добавления пробела\n",
    "\n",
    "def punctuation_separ(task):\n",
    "    task = task.replace('.', ' .')\n",
    "    task = task.replace('?', ' ?')\n",
    "    task = task.replace('!', ' !')\n",
    "    task = task.replace(';', ' ;')\n",
    "    task = task.replace(':', ' :')\n",
    "    task = task.replace('(', ' (')\n",
    "    task = task.replace(')', ' )')\n",
    "    task = task.replace(',', ' ,')\n",
    "    return task\n",
    "\n",
    "#Функция объединяет слова из списка в строку, удаляет лишние пробелы\n",
    "\n",
    "def listToString(task):\n",
    "    task_ret = []\n",
    "    \n",
    "    for elem in task:\n",
    "        if elem != '' and elem != ' ':\n",
    "            task_ret.append(elem)\n",
    "    s = ' '\n",
    "    task_ret = s.join(task_ret)\n",
    "    task_ret = task_ret.replace(' .', '.')\n",
    "    task_ret = task_ret.replace(' ?', '?')\n",
    "    task_ret = task_ret.replace(' !', '!')\n",
    "    task_ret = task_ret.replace(' ;', ';')\n",
    "    task_ret = task_ret.replace(' :', ':')\n",
    "    task_ret = task_ret.replace(' (', '(')\n",
    "    task_ret = task_ret.replace(' )', ')')\n",
    "    task_ret = task_ret.replace(' ,', ',')\n",
    "    \n",
    "    return task_ret\n",
    "\n",
    "#Функция замены числительных на цифры, возвращает задачу, в которой произведены замены\n",
    "\n",
    "def replace_word_with_numbers(task):\n",
    "    task = punctuation_separ(task)\n",
    "    \n",
    "    task = task.split()\n",
    "    for i in range(len(task)):\n",
    "        if task[i] in num_dict:\n",
    "            if task[i + 1] in num_dict:\n",
    "                if task[i + 2] in num_dict:\n",
    "                    task[i] = str(num_dict[task[i]] + num_dict[task[i + 1]] + num_dict[task[i + 2]])\n",
    "                    task[i + 1] = ''\n",
    "                    task[i + 2] = ''\n",
    "                else:\n",
    "                    task[i] = str(num_dict[task[i]] + num_dict[task[i + 1]])\n",
    "                    task[i + 1] = ''\n",
    "            else:\n",
    "                task[i] = str(num_dict[task[i]])\n",
    "    task_ret = listToString(task)\n",
    "    return task_ret\n",
    "        \n",
    "task = \"Есть 5 хомяков. Сколько существует способов выбрать из них троих?\"\n",
    "task1 = \"Марфе Ивановне нужно отправить семерых гостей домой. В её автопарке 10 разных машин. Сколько существует способов рассадить гостей по машинам?\"\n",
    "task2 = \"Есть двадцать три хомяка. Сколько способов выбрать из них двести сорок три?\"\n",
    "\n",
    "task = replace_word_with_numbers(task)\n",
    "task1 = replace_word_with_numbers(task1)\n",
    "task2 = replace_word_with_numbers(task2)\n",
    "print(task)\n",
    "print(task1)\n",
    "print(task2)"
   ]
  },
  {
   "cell_type": "code",
   "execution_count": 10,
   "metadata": {
    "collapsed": false
   },
   "outputs": [
    {
     "name": "stdout",
     "output_type": "stream",
     "text": [
      "('стульев', 0, 'замечательных')\n",
      "('хомяков', 1, 'замечательных')\n",
      "('', '', '')\n",
      "('хомяков', 1, '')\n",
      "('', '', '')\n"
     ]
    }
   ],
   "source": [
    "#Julia\n",
    "import pymorphy2\n",
    "\n",
    "\"\"\"\n",
    "Проверка части речи с помощью библиотеки pymorphy2, возращаем все тэги о слове, нет парсинга.\n",
    "\"\"\"\n",
    "def check_part_of_speech(word):\n",
    "    morph = pymorphy2.MorphAnalyzer()\n",
    "    answer = (morph.parse(word))\n",
    "    return answer\n",
    "\n",
    "\"\"\"\n",
    "Если есть существительное, то выводим его, его одушевленность (0-неодушевленный, 1-одушевленный),\n",
    "строку с прилагательным о существительном (выбираем прилагательное самое близкое к параметру (к цифре))\n",
    "Если существительного нет, или предложение закончилось, то возвращаем пустую строку.\n",
    "\"\"\"\n",
    "def extract_noun(task, parameter):\n",
    "    #task = task.decode('utf-8')\n",
    "    task_list = punctuation_separ(task)\n",
    "\n",
    "    task_list = task_list.split()\n",
    "\n",
    "   \n",
    "    \n",
    "    adj =\"\"\n",
    "    \n",
    "    index = -1\n",
    "    for i in range(len(task_list)):\n",
    "        if(task_list[i] == str(parameter)):\n",
    "            index = i\n",
    "            break\n",
    "    for i in range(index, len(task_list)):\n",
    "        answer = check_part_of_speech(task_list[i])[0]\n",
    "        if adj ==\"\" and 'ADJF' == answer.tag.POS:\n",
    "            adj = task_list[i]\n",
    "        if 'NOUN' == answer.tag.POS:\n",
    "            index= i\n",
    "            break\n",
    "        if 'PNCT' in answer.tag:\n",
    "            return '', '', ''\n",
    "    \n",
    "    if index != -1:\n",
    "        if index < len(task_list) - 1:\n",
    "            if answer.tag.animacy == 'anim':\n",
    "                return task_list[index], 1, adj\n",
    "            elif answer.tag.animacy == 'inan':\n",
    "                return task_list[index], 0, adj\n",
    "            else:\n",
    "                return task_list[index]\n",
    "        else:\n",
    "            return '', '', ''\n",
    "    return '', '', ''\n",
    "    \n",
    "task = \"Есть 5 замечательных умных стульев. Сколько существует способов выбрать из них 3?\"\n",
    "task1 = \"Есть 5 замечательных умных хомяков. Сколько существует способов выбрать из них 3?\"\n",
    "task2 = \"Есть 5 замечательных умных. Сколько существует способов выбрать из них 3?\"\n",
    "task3 = \"Есть 5 хомяков. Сколько существует способов выбрать из них 3?\"\n",
    "task4 = \"Есть хомяков 5. Сколько существует способов выбрать из них 3?\"\n",
    "\n",
    "print(extract_noun(task, 5))\n",
    "print(extract_noun(task1, 5))\n",
    "print(extract_noun(task2, 5))\n",
    "print(extract_noun(task3, 5))\n",
    "print(extract_noun(task4, 5))\n"
   ]
  },
  {
   "cell_type": "code",
   "execution_count": 62,
   "metadata": {
    "collapsed": false
   },
   "outputs": [],
   "source": [
    "#Julia\n",
    "#Чтение задач и лэйблов из файла, сохраняем их вместе с лэйблами в файл\n",
    "\n",
    "import os\n",
    "\n",
    "def read_task_from_file(filename):\n",
    "    if os.path.exists(filename):\n",
    "        file = open(filename, 'r')\n",
    "    else:\n",
    "        print(\"No such file: \" + str(filename))\n",
    "        return 0\n",
    "    tasks =[]\n",
    "    s = \"\"\n",
    "    for line in file:\n",
    "        if \"@\" not in line:\n",
    "            s += line\n",
    "        else:\n",
    "            tasks.append(s)\n",
    "            s = \"\"\n",
    "    return tasks\n"
   ]
  },
  {
   "cell_type": "code",
   "execution_count": 63,
   "metadata": {
    "collapsed": false
   },
   "outputs": [],
   "source": [
    "#Julia\n",
    "\n",
    "def extract_features_from_task(tasks):\n",
    "    for task in tasks:\n",
    "        task = replace_word_with_numbers(task)\n",
    "        filename = \"test/tasks_correct.txt\"\n",
    "        delimiter = \"\\n#\\n\"\n",
    "        save_task(task, filename, delimiter)\n",
    "        features = extract_all_parameters_features(task)\n",
    "        for line in features:\n",
    "            filename = \"test/features.txt\"\n",
    "            save_task(str(line), filename, \"\\n\")\n",
    "                \n",
    "#extract_features_from_task(tasks)"
   ]
  },
  {
   "cell_type": "code",
   "execution_count": null,
   "metadata": {
    "collapsed": false
   },
   "outputs": [],
   "source": []
  },
  {
   "cell_type": "code",
   "execution_count": 64,
   "metadata": {
    "collapsed": true
   },
   "outputs": [],
   "source": [
    "#Julia"
   ]
  },
  {
   "cell_type": "code",
   "execution_count": 65,
   "metadata": {
    "collapsed": true
   },
   "outputs": [],
   "source": [
    "#Julia"
   ]
  },
  {
   "cell_type": "code",
   "execution_count": null,
   "metadata": {
    "collapsed": true
   },
   "outputs": [],
   "source": [
    "#Julia"
   ]
  },
  {
   "cell_type": "code",
   "execution_count": null,
   "metadata": {
    "collapsed": true
   },
   "outputs": [],
   "source": [
    "#Julia"
   ]
  },
  {
   "cell_type": "code",
   "execution_count": null,
   "metadata": {
    "collapsed": true
   },
   "outputs": [],
   "source": [
    "#Julia"
   ]
  },
  {
   "cell_type": "code",
   "execution_count": null,
   "metadata": {
    "collapsed": true
   },
   "outputs": [],
   "source": [
    "#Julia"
   ]
  },
  {
   "cell_type": "code",
   "execution_count": null,
   "metadata": {
    "collapsed": true
   },
   "outputs": [],
   "source": [
    "#Julia"
   ]
  },
  {
   "cell_type": "code",
   "execution_count": null,
   "metadata": {
    "collapsed": true
   },
   "outputs": [],
   "source": [
    "#Julia"
   ]
  },
  {
   "cell_type": "code",
   "execution_count": null,
   "metadata": {
    "collapsed": true
   },
   "outputs": [],
   "source": [
    "#Julia"
   ]
  },
  {
   "cell_type": "code",
   "execution_count": 30,
   "metadata": {
    "collapsed": true
   },
   "outputs": [],
   "source": [
    "#Katya\n",
    "\n",
    "#Auxilary functions\n",
    "#find the number of word of the text\n",
    "def word_number(text):\n",
    "    while (text.find(\"  \") != -1):\n",
    "        text = text.replace(\"  \", \" \")\n",
    "    return (text.count(\" \") + 1)\n",
    "\n",
    "def extract_sentence_with_parameter(parameter, text):\n",
    "    pattern = str(parameter) #cast to string\n",
    "    sentence = \"\"\n",
    "    position = text.find(pattern)\n",
    "    punctuation_marks = \".?!\\n\"\n",
    "    left = position\n",
    "    while ((text[left] not in punctuation_marks) & (left > 0)):\n",
    "        left -= 1\n",
    "    if (text[left] in punctuation_marks):\n",
    "        left += 1\n",
    "        if (text[left] == \" \"):\n",
    "            left += 1\n",
    "            \n",
    "    right = position\n",
    "    while ((text[right] not in punctuation_marks) & (right < len(text))):\n",
    "        right += 1\n",
    "    \n",
    "    return text[left : right]\n",
    "\n"
   ]
  },
  {
   "cell_type": "code",
   "execution_count": 32,
   "metadata": {
    "collapsed": false
   },
   "outputs": [
    {
     "name": "stdout",
     "output_type": "stream",
     "text": [
      "0.8939393939393939\n",
      "11\n",
      "Сколько существует способов выбрать из них 5\n",
      "1.0\n"
     ]
    }
   ],
   "source": [
    "#Katya\n",
    "\n",
    "#find position (as proportion) of the number in the text (if we count for letters)\n",
    "def extract_text_position_as_letters(parameter, text): \n",
    "    #text =  text.decode('utf-8')\n",
    "    pattern = str(parameter) #cast to string\n",
    "    parameterPosition = text.find(pattern) #two bytes for russian letters \n",
    "    numberOfLetters = len(text)\n",
    "    \n",
    "    if (numberOfLetters == 0):\n",
    "        print(\"Text is empty!\")\n",
    "        return 0\n",
    "    if (text.find(pattern) == -1):\n",
    "        print(\"1Pattern \\\"\" + pattern + \"\\\" doesn't exist in the text!\")\n",
    "        return 0\n",
    "    return float(parameterPosition) / numberOfLetters\n",
    "\n",
    "\n",
    "#find position (as proportion) of the number in the sentence (if we count for letters)\n",
    "def extract_sentence_position_as_letters(parameter, text): \n",
    "    #text =  text.decode('utf-8')\n",
    "    pattern = str(parameter) #cast to string\n",
    "    sentence = extract_sentence_with_parameter(parameter, text)\n",
    "    \n",
    "    parameterPosition = sentence.find(pattern) #two bytes for russian letters \n",
    "    numberOfLetters = len(sentence)\n",
    "    if (numberOfLetters == 0):\n",
    "        print(\"Sentence is empty!\")\n",
    "        return 0\n",
    "    if (sentence.find(pattern) == -1):\n",
    "        print(\"2Pattern \\\"\" + pattern + \"\\\" doesn't exist in the text!\")\n",
    "        return 0\n",
    "    return float(parameterPosition) / (numberOfLetters - 1)\n",
    "\n",
    "#Testing\n",
    "text = \"Есть 8 хомяков. Сколько существует способов выбрать из них 5? Ура!\"\n",
    "#text = \"There is 8 hamsters. How many ways are to choose 5?\"\n",
    "#text = \"слово                    слово\"\n",
    "\n",
    "parameter = 5\n",
    "#1\n",
    "print(extract_text_position_as_letters(parameter, text))\n",
    "print(word_number(text))\n",
    "print(extract_sentence_with_parameter(parameter, text))\n",
    "#2\n",
    "print(extract_sentence_position_as_letters(parameter, text))"
   ]
  },
  {
   "cell_type": "code",
   "execution_count": 34,
   "metadata": {
    "collapsed": false
   },
   "outputs": [
    {
     "name": "stdout",
     "output_type": "stream",
     "text": [
      "0.9090909090909091\n",
      "1.0\n"
     ]
    }
   ],
   "source": [
    "#Katya\n",
    "def extract_text_position_as_words(parameter, text): \n",
    "    #text =  text.decode('utf-8')\n",
    "    pattern = str(parameter) #cast to string\n",
    "    parameterPosition = text.find(pattern) #two bytes for russian letters \n",
    "    number_of_words = word_number(text)\n",
    "    if (number_of_words == 0):\n",
    "        print(\"Text is empty!\")\n",
    "        return 0\n",
    "    \n",
    "    if (text.find(pattern) == -1):\n",
    "        print(\"3Pattern \\\"\" + pattern + \"\\\" doesn't exist in the text!\")\n",
    "        return 0\n",
    "    before_parameter = text[0 : text.find(pattern)]\n",
    "    number_of_words_before_parameter = word_number(before_parameter)\n",
    "    return float(number_of_words_before_parameter) / number_of_words\n",
    "\n",
    "def extract_sentence_position_as_words(parameter, text): \n",
    "    #text =  text.decode('utf-8')\n",
    "    pattern = str(parameter) #cast to string\n",
    "    sentence = extract_sentence_with_parameter(parameter, text)\n",
    "    parameterPosition = sentence.find(pattern) #two bytes for russian letters \n",
    "    number_of_words = word_number(sentence)\n",
    "    if (number_of_words == 0):\n",
    "        print(\"Text is empty!\")\n",
    "        return 0\n",
    "    if (sentence.find(pattern) == -1):\n",
    "        print(\"4Pattern \\\"\" + pattern + \"\\\" doesn't exist in the text!\")\n",
    "        return 0\n",
    "    before_parameter = sentence[0 : sentence.find(pattern)]\n",
    "    number_of_words_before_parameter = word_number(before_parameter)\n",
    "    return float(number_of_words_before_parameter) / number_of_words\n",
    "\n",
    "\n",
    "#testing\n",
    "\n",
    "text = \"Есть 8 хомяков. Сколько существует способов выбрать из них 5? Ура!\"\n",
    "parameter = 5\n",
    "\n",
    "#3\n",
    "print(extract_text_position_as_words(parameter, text))\n",
    "\n",
    "#4\n",
    "print(extract_sentence_position_as_words(parameter, text))"
   ]
  },
  {
   "cell_type": "code",
   "execution_count": 35,
   "metadata": {
    "collapsed": false
   },
   "outputs": [
    {
     "name": "stdout",
     "output_type": "stream",
     "text": [
      "[b'30', b'5', b'8', b'5']\n"
     ]
    }
   ],
   "source": [
    "#Katya\n",
    "def extract_numbers(text):\n",
    "    #text =  text.decode('utf-8')\n",
    "    numbers = \"0123456789\"\n",
    "    parameters = []\n",
    "    ind = 0\n",
    "    mode = 0 #not number in process\n",
    "    cur_num = \"\"\n",
    "    for i in range(len(text)):\n",
    "        if (text[i] in numbers):\n",
    "            mode = 1\n",
    "            cur_num += text[i]\n",
    "        else:\n",
    "            if mode == 1:\n",
    "                parameters.append(cur_num.encode('utf-8'))\n",
    "                cur_num = \"\"\n",
    "                mode = 0\n",
    "    if mode == 1:\n",
    "        parameters.append(cur_num).encode('utf-8')\n",
    "                 \n",
    "                \n",
    "    return parameters\n",
    "    \n",
    "    \n",
    "#testing\n",
    "text = \"В клетке сидят 30 морских свинок, 5 крыс и 8 хомяков. Сколько существует способов выбрать из них 5? Ура!\"\n",
    "print(extract_numbers(text))"
   ]
  },
  {
   "cell_type": "code",
   "execution_count": null,
   "metadata": {
    "collapsed": true
   },
   "outputs": [],
   "source": [
    "#Katya\n"
   ]
  },
  {
   "cell_type": "code",
   "execution_count": null,
   "metadata": {
    "collapsed": true
   },
   "outputs": [],
   "source": [
    "#Katya"
   ]
  },
  {
   "cell_type": "code",
   "execution_count": null,
   "metadata": {
    "collapsed": true
   },
   "outputs": [],
   "source": [
    "#Katya\n"
   ]
  },
  {
   "cell_type": "code",
   "execution_count": 36,
   "metadata": {
    "collapsed": false
   },
   "outputs": [
    {
     "name": "stdout",
     "output_type": "stream",
     "text": [
      "3\n"
     ]
    }
   ],
   "source": [
    "#Katya\n",
    "\n",
    "#order in the list\n",
    "def k_stat(parameters, parameter):\n",
    "    ordered = []\n",
    "    for i in range(len(parameters)):\n",
    "        ordered.append(parameters[i])\n",
    "    \n",
    "    ordered.sort()\n",
    "    \n",
    "    \n",
    "    cur = ordered[0] - 1\n",
    "    ind = -1\n",
    "    k = -1\n",
    "    while (cur != parameter):\n",
    "        ind += 1\n",
    "        if (ordered[ind] != cur):\n",
    "            k += 1\n",
    "        cur = ordered[ind]\n",
    "    return k\n",
    "    \n",
    "\n",
    "#testing\n",
    "array = [5, 8, 5, 5, 3, 8, 10, 9, 9]\n",
    "print(k_stat(array, 9))"
   ]
  },
  {
   "cell_type": "code",
   "execution_count": 38,
   "metadata": {
    "collapsed": false
   },
   "outputs": [
    {
     "name": "stdout",
     "output_type": "stream",
     "text": [
      "2\n"
     ]
    }
   ],
   "source": [
    "# coding: utf8\n",
    "#Katya\n",
    "\n",
    "\n",
    "#Количество прилагательных в предложении с параметром\n",
    "def adj_number(parameter, text):\n",
    "    sent = extract_sentence_with_parameter(parameter, text)\n",
    "    #sent = sent.decode('utf-8')\n",
    "    words = sent.split(\" \")\n",
    "    res = 0\n",
    "    for word in words:        \n",
    "        if word[-1] in \",.!?:-\":\n",
    "            word = word.replace(word[-1], \"\")\n",
    "        if ((str(morph.parse(word)[0].tag)[0] == \"A\") & (str(morph.parse(word)[0].tag)[1] == \"D\")):\n",
    "            res += 1\n",
    "        \n",
    "    return res  \n",
    "    \n",
    "    \n",
    "    \n",
    "#testing\n",
    "text = \"В клетке сидят 30 морских свинок, 5 различных крыс и 8 хомяков. Сколько существует способов выбрать из них 5? Ура!\"\n",
    "print(adj_number(5, text))"
   ]
  },
  {
   "cell_type": "code",
   "execution_count": 40,
   "metadata": {
    "collapsed": false
   },
   "outputs": [
    {
     "name": "stdout",
     "output_type": "stream",
     "text": [
      "2\n"
     ]
    }
   ],
   "source": [
    "#Katya\n",
    "\n",
    "#Возвращает количество второстепенных знаков перпинания\n",
    "\n",
    "def punctuation(parameter, text):\n",
    "    punctuation_marks = \",:\"\n",
    "    sent = extract_sentence_with_parameter(parameter, text)\n",
    "    #sent = sent.decode('utf-8')\n",
    "    res = 0\n",
    "    for letter in sent:\n",
    "        if (letter in punctuation_marks):\n",
    "            res += 1\n",
    "    return res\n",
    "\n",
    "\n",
    "#testing\n",
    "text = \"В клетке сидят разные животные: 30 морских свинок, 5 различных крыс и 8 хомяков. Сколько существует способов выбрать из них 5? Ура!\"\n",
    "print(punctuation(5, text))\n",
    "\n",
    "    "
   ]
  },
  {
   "cell_type": "code",
   "execution_count": 49,
   "metadata": {
    "collapsed": false
   },
   "outputs": [
    {
     "name": "stdout",
     "output_type": "stream",
     "text": [
      "2448\n"
     ]
    }
   ],
   "source": [
    "#Katya\n",
    "\n",
    "#Кодирует слово числом\n",
    "def feature_hash(word):\n",
    "    #word = word.decode('utf-8')\n",
    "    res = 0\n",
    "    base = 33\n",
    "    rank = 1\n",
    "    for ind in range(len(word)):\n",
    "        res += (ord(word[ind]) - 1000) * rank\n",
    "        \n",
    "        rank *= base\n",
    "    if (len(word) == 1):\n",
    "        res = ord(word[ind]) - ord('A')\n",
    "    return res\n",
    "\n",
    "#testing\n",
    "print(feature_hash(\"аа\"))"
   ]
  },
  {
   "cell_type": "code",
   "execution_count": 44,
   "metadata": {
    "collapsed": false
   },
   "outputs": [
    {
     "name": "stdout",
     "output_type": "stream",
     "text": [
      "A\n"
     ]
    }
   ],
   "source": [
    "#Katya\n",
    "\n",
    "#Извлекает часть речи первого слова из предложения с параметром. Прилагательное от наречия не отличает.\n",
    "def extract_first_word_in_sentence(parameter, text):\n",
    "    #text = text.decode('utf-8')\n",
    "    sent = extract_sentence_with_parameter(parameter, text)\n",
    "    words = sent.split(\" \")\n",
    "    word = words[0]\n",
    "    res = str(morph.parse(word)[0].tag)[0]        \n",
    "    return res  \n",
    "\n",
    "task = \"Красиво приняло участие 10 человек. Сколько существует способов выбрать из них 3, чтобы одного снять на обложку, другому дать утешительный приз, а последнего сделать победителем.\"\n",
    "print(extract_first_word_in_sentence(10, task))"
   ]
  },
  {
   "cell_type": "code",
   "execution_count": null,
   "metadata": {
    "collapsed": true
   },
   "outputs": [],
   "source": [
    "#Katya"
   ]
  },
  {
   "cell_type": "code",
   "execution_count": null,
   "metadata": {
    "collapsed": true
   },
   "outputs": [],
   "source": [
    "#Katya"
   ]
  },
  {
   "cell_type": "code",
   "execution_count": null,
   "metadata": {
    "collapsed": true
   },
   "outputs": [],
   "source": [
    "#Katya"
   ]
  },
  {
   "cell_type": "code",
   "execution_count": null,
   "metadata": {
    "collapsed": true
   },
   "outputs": [],
   "source": [
    "#Katya"
   ]
  },
  {
   "cell_type": "code",
   "execution_count": null,
   "metadata": {
    "collapsed": true
   },
   "outputs": [],
   "source": [
    "#Katya"
   ]
  },
  {
   "cell_type": "code",
   "execution_count": null,
   "metadata": {
    "collapsed": true
   },
   "outputs": [],
   "source": [
    "#Katya"
   ]
  },
  {
   "cell_type": "code",
   "execution_count": null,
   "metadata": {
    "collapsed": true
   },
   "outputs": [],
   "source": [
    "#Katya"
   ]
  },
  {
   "cell_type": "code",
   "execution_count": 50,
   "metadata": {
    "collapsed": true
   },
   "outputs": [],
   "source": [
    "#Katya\n",
    "\n",
    "def extract_parameter_features(parameters, number, text):\n",
    "    for i in range(len(parameters)):\n",
    "        parameters[i] = int(parameters[i])\n",
    "    parameter_features = []\n",
    "    parameter_features.append(parameters[number]) #само число\n",
    "    parameter_features.append(extract_text_position_as_words(parameters[number], text)) #позиция в тексте (% в словах)\n",
    "    parameter_features.append(extract_sentence_position_as_words(parameters[number], text)) #позиция в предложении (% в словах)\n",
    "    parameter_features.append(extract_text_position_as_letters(parameters[number], text)) #позиция в тексте (% в символах)\n",
    "    parameter_features.append(extract_sentence_position_as_letters(parameters[number], text)) #позиция в предложении (% в символах)\n",
    "    parameter_features.append(k_stat(parameters, parameters[number])) #размер относительно других числительных\n",
    "    parameter_features.append(number) #позиция относительно других числительных\n",
    "    parameter_features.append(np.abs(parameters[number] - np.mean(parameters))) #отклонение от среднего остальных параметров\n",
    "    parameter_features.append(adj_number(parameters[number], text)) #количество прилагательных в предложении с параметром \n",
    "    parameter_features.append(punctuation(parameters[number], text))#количество второстепенных знаков препинания\n",
    "    noun, live, adj = extract_noun(text, parameters[number])\n",
    "    parameter_features.append(feature_hash(noun)) #существительное, к которому относится\n",
    "    parameter_features.append(live) #одушевленное?\n",
    "    parameter_features.append(feature_hash(adj)) #количество прилагательных в предложении с параметром (в процентах от общего числа)    \n",
    "    parameter_features.append(feature_hash(extract_first_word_in_sentence(parameters[number], text)))#с какого слова начинается предложение с параметром\n",
    "    \n",
    "    return parameter_features"
   ]
  },
  {
   "cell_type": "code",
   "execution_count": 51,
   "metadata": {
    "collapsed": false
   },
   "outputs": [
    {
     "name": "stdout",
     "output_type": "stream",
     "text": [
      "[[30, 0.21052631578947367, 0.36363636363636365, 0.14423076923076922, 0.29411764705882354, 2, 0, 18.0, 1, 1, 3314235728, 0, 123337895226, 15], [5, 0.3684210526315789, 0.6363636363636364, 0.34579439252336447, 0.6851851851851852, 0, 1, 7.0, 1, 1, 3309190, 1, 0, 15], [8, 0.5263157894736842, 0.9090909090909091, 0.45045045045045046, 0.8620689655172413, 1, 2, 4.0, 1, 1, 99035314944, 1, 0, 15], [5, 0.9473684210526315, 1.0, 0.9391304347826087, 1.0, 0, 3, 7.0, 0, 0, 0, '', 0, 2]]\n"
     ]
    }
   ],
   "source": [
    "#Katya\n",
    "def extract_all_parameters_features(text):\n",
    "    #text = text.decode('utf-8')\n",
    "    parameters_features = []\n",
    "    substitution = -1007\n",
    "    parameters = extract_numbers(text)    \n",
    "    ind = 0\n",
    "    \n",
    "    for index in range(len(parameters)):            \n",
    "        parameters_features.append(extract_parameter_features(parameters, index, text))            \n",
    "        text = text.replace(str(parameters[index]), str(substitution), 1)     \n",
    "            \n",
    "    return parameters_features\n",
    "\n",
    "text = \"В клетке сидят 30 морских свинок, 5 крыс и 8 хомяков. Сколько существует способов выбрать из них 5? Ура!\"\n",
    "print(extract_all_parameters_features(text))"
   ]
  },
  {
   "cell_type": "code",
   "execution_count": 73,
   "metadata": {
    "collapsed": false
   },
   "outputs": [],
   "source": [
    "#Julia\n",
    "def read_param_from_task(task):\n",
    "    words = task.split()\n",
    "    parameters = []\n",
    "    task = ''\n",
    "    index = len(words)\n",
    "    for i in range(len(words)):\n",
    "        if words[i] == '#':\n",
    "            index = i\n",
    "        if i < index:\n",
    "            task += str(words[i]) + ' '\n",
    "        elif i > index:\n",
    "            parameters.append(words[i])\n",
    "    return task, parameters\n",
    "\n",
    "def print_task_to_files(task, parameters):\n",
    "    task = replace_word_with_numbers(task)\n",
    "    filename = tasks_file\n",
    "    delimiter = \"\\n#\\n\"\n",
    "    save_task(task, filename, delimiter)\n",
    "    features = extract_all_parameters_features(task)\n",
    "    for line in features:\n",
    "        filename = features_file\n",
    "        save_task(str(line), filename, \"\\n\")\n",
    "    save_task('#', filename, \"\\n\")\n",
    "    if len(features) != len(parameters)-2:\n",
    "        print('Number of parameters and features are not the same in the task: ' + task)\n",
    "        print(task)\n",
    "    for i in range(len(parameters)-2):\n",
    "        filename = parameters_file\n",
    "        save_task(str(parameters[i]), filename, \"\\n\")\n",
    "    save_task('#', filename, \"\\n\")\n",
    "    \n"
   ]
  },
  {
   "cell_type": "code",
   "execution_count": 72,
   "metadata": {
    "collapsed": false
   },
   "outputs": [
    {
     "name": "stdout",
     "output_type": "stream",
     "text": [
      "['Сколько существует способов покрасить покрасить 23 дома на улице в 2 цвета? \\n#\\n2 1\\n', 'Сколько существует способов покрасить раскрасить 17 букв в 3 цвета? \\n#\\n2 1\\n', 'Сколько существует способов покрасить раскрасить 20 дач в 4 цвета? \\n#\\n2 1\\n', 'Сколько существует способов покрасить раскрасить 11 голов в 5 цветов? \\n#\\n2 1\\n', 'Сколько существует способов покрасить одеть 33 богатыря в 7 нарядов, если есть бесконечное количество экземпляров каждого из них? \\n#\\n2 1\\n', 'Сколько существует способов разложить 10 монет по 7 карманам? \\n#\\n2 1\\n', 'Сколько существует способов покрасить покрасить 19 домов на улице в 12 цветов? \\n#\\n2 1\\n', 'Сколько существует способов рассадить 5 кошек по 7 лукошкам, если в некоторые лукошки можно посадить по несколько кошек?\\n#\\n2 1\\n', 'Вася знает 3 буквы. Забор состоит из 7 дощечек. На каждой дощечке Вася хочет написать по букве. Сколько существует способов ему это сделать?\\n#\\n1 2\\n', 'Сколько существует способов раскрасить полоску 1 на 10 в 2 цвета?\\n#\\n0 2 1\\n', 'На столе в кабинете химии лежит 10 ядовитых веществ. Сколько существует способов выбрать 3 из них для проведения экстремального опыта по смешиванию? Очередность добавления ингредиентов важна.\\n#\\n1 2\\n', 'Сколько существует способов выбрать 17 актёров из 31 для выхода на бис?\\n#\\n2 1\\n', 'Есть 5 хомяков. Сколько существует способов выбрать из них троих?\\n#\\n1 2\\n', 'Есть 8 хомяков. Сколько существует способов выбрать из них 5?\\n#\\n1 2\\n', 'Есть 8 различных покемонов. Сколько существует способов выбрать из них 3?\\n#\\n1 2\\n', 'Есть 10 учеников. Сколько существует способов выбрать 5 из них?\\n#\\n1 2\\n', 'Есть 17 учеников. Сколько существует способов выбрать 5 из них, чтобы выгнать из школы?\\n#\\n1 2\\n', 'Марфа подобрала с улицы 37 щенков. Сколько существует способов ей выбрать 7 щенков, чтобы выдрессировать их.\\n#\\n1 2\\n', 'У Акакия 10 различных вредных привычек. Сколько существует способов выбрать три из них, чтобы бросить.\\n#\\n1 2\\n', 'Есть 10 учеников. Сколько существует способов выбрать 5 из них на разные роли в детском спектакле?\\n#\\n1 2\\n', 'Есть 10 учеников. Сколько существует способов выбрать 5 из них на различные роли?\\n#\\n1 2\\n', 'У Марины есть 29 марок. Сколько существует способов выбрать 7 из них на различные цели?\\n#\\n1 2\\n', 'У Марины есть 29 марок. Сколько существует способов выбрать 7 из них на различные цели?\\n#\\n1 2\\n', 'В шоу участвуют 18 человек. Сколько существует способов выбрать из них троих человек, чтобы распределить первые 3 места.\\n#\\n1 2\\n', 'На страницах учебника можно найти 18 стихов. Сколько существует способов выбрать из них пять, чтобы раздать разным ученикам.\\n#\\n1 2\\n', 'У Петра Петровича порвалось 23 кармана. Сколько существует способов выбрать 7 из них, чтобы зашить нитками 7 различных цветов.\\n#\\n1 2 0\\n', 'Есть 10 учеников. Сколько существует способов выбрать 3 на роли Тургенева, Пушкина, Толстого?\\n#\\n1 2\\n', 'Есть 12 фломастеров. Сколько существует способов выбрать 4, чтобы раскрасить ягодку, море, травку и солнышко?\\n#\\n1 2\\n', 'Есть 17 человек. Сколько существует способов выбрать 3 из них, чтобы одного отправить в отпуск, другого уволить, а третьего продвинуть по служебной лестнице?\\n#\\n1 2\\n', 'У Милены 10 братьев Сколько существует способов выбрать четверых из них, чтобы одному подарить брелок, второму-игрушку, третьему - одеколон, четвертому - мыло ручной работы? Остальным подарков не будет.\\n#\\n1 2\\n', 'В магазине продается 6 различных кружек. Сколько существует способов выбрать 2 из них, чтобы одну выставить на витрину, а другую зачем-то разбить.\\n#\\n1 2\\n', 'В телешоу приняло участие 10 человек. Сколько существует способов выбрать из них троих, чтобы одного снять на обложку, другому дать утешительный приз, а последнего сделать победителем.\\n#\\n1 2\\n', 'Сколько существует способов выбрать из них троих, чтобы одного снять на обложку, другому дать утешительный приз, а последнего сделать победителем. Известно, что в телешоу приняло участие 10 человек.\\n#\\n2 1\\n', 'У атлета есть 23 секрета. Сколько существует способов выбрать три из них, чтобы один раскрыть, другой забыть, а третий разместить в твиттере.\\n#\\n1 2\\n']\n",
      "Number of parameters and features are not the same\n",
      "[[23, 0.5, 0.5, 0.64, 0.6575342465753424, 1, 0, 10.5, 0, 0, 2681854, 0, 0, 2], [2, 0.9166666666666666, 0.9166666666666666, 0.8974358974358975, 0.9210526315789473, 0, 1, 10.5, 0, 0, 88707031, 0, 0, 2]]\n",
      "['2', '1']\n",
      "Сколько существует способов покрасить покрасить 23 дома на улице в 2 цвета?\n",
      "Number of parameters and features are not the same\n",
      "[[17, 0.6, 0.6, 0.7313432835820896, 0.7538461538461538, 1, 0, 7.0, 0, 0, 2751712, 0, 0, 2], [3, 0.9, 0.9, 0.8857142857142857, 0.9117647058823529, 0, 1, 7.0, 0, 0, 88707031, 0, 0, 2]]\n",
      "['2', '1']\n",
      "Сколько существует способов покрасить раскрасить 17 букв в 3 цвета?\n",
      "Number of parameters and features are not the same\n",
      "[[20, 0.6, 0.6, 0.7424242424242424, 0.765625, 1, 0, 8.0, 0, 0, 105907, 0, 0, 2], [4, 0.9, 0.9, 0.8840579710144928, 0.9104477611940298, 0, 1, 8.0, 0, 0, 88707031, 0, 0, 2]]\n",
      "['2', '1']\n",
      "Сколько существует способов покрасить раскрасить 20 дач в 4 цвета?\n",
      "Number of parameters and features are not the same\n",
      "[[11, 0.6, 0.6, 0.7101449275362319, 0.7313432835820896, 1, 0, 3.0, 0, 0, 90942036, 0, 0, 2], [5, 0.9, 0.9, 0.875, 0.9, 0, 1, 3.0, 0, 0, 3001329007, 0, 0, 2]]\n",
      "['2', '1']\n",
      "Сколько существует способов покрасить раскрасить 11 голов в 5 цветов?\n",
      "Number of parameters and features are not the same\n",
      "[[33, 0.3333333333333333, 0.3333333333333333, 0.34108527131782945, 0.3464566929133858, 1, 0, 13.0, 2, 1, 4507332616750, 1, 0, 2], [7, 0.3333333333333333, 0.3333333333333333, 0.36363636363636365, 0.36923076923076925, 0, 1, 13.0, 2, 1, 99028203304, 0, 0, 2]]\n",
      "['2', '1']\n",
      "Сколько существует способов покрасить одеть 33 богатыря в 7 нарядов, если есть бесконечное количество экземпляров каждого из них?\n",
      "Number of parameters and features are not the same\n",
      "[[10, 0.5555555555555556, 0.5555555555555556, 0.6229508196721312, 0.6440677966101694, 1, 0, 1.5, 0, 0, 109595526, 0, 0, 2], [7, 0.5555555555555556, 0.5555555555555556, 0.65625, 0.6774193548387096, 0, 1, 1.5, 0, 0, 3676349915551, 0, 0, 2]]\n",
      "['2', '1']\n",
      "Сколько существует способов разложить 10 монет по 7 карманам?\n",
      "Number of parameters and features are not the same\n",
      "[[19, 0.5, 0.5, 0.6153846153846154, 0.631578947368421, 1, 0, 3.5, 0, 0, 90943126, 0, 0, 2], [12, 0.9166666666666666, 0.9166666666666666, 0.8765432098765432, 0.8987341772151899, 0, 1, 3.5, 0, 0, 3001329007, 0, 0, 2]]\n",
      "['2', '1']\n",
      "Сколько существует способов покрасить покрасить 19 домов на улице в 12 цветов?\n",
      "Number of parameters and features are not the same\n",
      "[[5, 0.2777777777777778, 0.2777777777777778, 0.31666666666666665, 0.3220338983050847, 0, 0, 1.0, 2, 1, 100120135, 1, 0, 2], [7, 0.2777777777777778, 0.2777777777777778, 0.3387096774193548, 0.3442622950819672, 1, 1, 1.0, 2, 1, 3676261037444, 0, 0, 2]]\n",
      "['2', '1']\n",
      "Сколько существует способов рассадить 5 кошек по 7 лукошкам, если в некоторые лукошки можно посадить по несколько кошек?\n",
      "Number of parameters and features are not the same\n",
      "[[3, 0.13043478260869565, 0.75, 0.07857142857142857, 0.6470588235294118, 0, 0, 2.0, 0, 0, 120157891, 0, 0, 13], [7, 0.13043478260869565, 0.75, 0.10416666666666667, 0.7142857142857143, 1, 1, 2.0, 0, 0, 109029336910, 0, 0, 13]]\n",
      "['1', '2']\n",
      "Вася знает 3 буквы. Забор состоит из 7 дощечек. На каждой дощечке Вася хочет написать по букве. Сколько существует способов ему это сделать?\n",
      "Number of parameters and features are not the same\n",
      "[[1, 0.5454545454545454, 0.5454545454545454, 0.7230769230769231, 0.746031746031746, 0, 0, 3.333333333333333, 0, 0, 88707031, 0, 0, 2], [10, 0.5454545454545454, 0.5454545454545454, 0.6956521739130435, 0.7164179104477612, 2, 1, 5.666666666666667, 0, 0, 88707031, 0, 0, 2], [2, 0.9090909090909091, 0.9090909090909091, 0.8888888888888888, 0.9142857142857143, 1, 2, 2.333333333333333, 0, 0, 88707031, 0, 0, 2]]\n",
      "['0', '2', '1']\n",
      "Сколько существует способов раскрасить полоску 1 на 10 в 2 цвета?\n",
      "Number of parameters and features are not the same\n",
      "[[10, 0.2692307692307692, 0.7777777777777778, 0.16753926701570682, 0.64, 1, 0, 3.5, 1, 0, 99199237442, 0, 4094990340445, 15], [3, 0.5384615384615384, 0.38461538461538464, 0.4742268041237113, 0.3870967741935484, 0, 1, 3.5, 1, 0, 4896620661908865, 0, 0, 2]]\n",
      "['1', '2']\n",
      "На столе в кабинете химии лежит 10 ядовитых веществ. Сколько существует способов выбрать 3 из них для проведения экстремального опыта по смешиванию? Очередность добавления ингредиентов важна.\n",
      "Number of parameters and features are not the same\n",
      "[[17, 0.4166666666666667, 0.4166666666666667, 0.5070422535211268, 0.5217391304347826, 0, 0, 7.0, 0, 0, 99042508725, 1, 0, 2], [31, 0.6666666666666666, 0.6666666666666666, 0.7162162162162162, 0.7361111111111112, 1, 1, 7.0, 0, 0, 2911073492, 0, 0, 2]]\n",
      "['2', '1']\n",
      "Сколько существует способов выбрать 17 актёров из 31 для выхода на бис?\n",
      "Number of parameters and features are not the same\n",
      "[[5, 0.2, 0.6666666666666666, 0.08196721311475409, 0.38461538461538464, 1, 0, 1.0, 0, 0, 99035314944, 1, 0, 8], [3, 1.0, 1.0, 0.9692307692307692, 1.0, 0, 1, 1.0, 0, 0, 0, '', 0, 2]]\n",
      "['1', '2']\n",
      "Есть 5 хомяков. Сколько существует способов выбрать из них 3?\n",
      "Number of parameters and features are not the same\n",
      "[[8, 0.2, 0.6666666666666666, 0.08196721311475409, 0.38461538461538464, 1, 0, 1.5, 0, 0, 99035314944, 1, 0, 8], [5, 1.0, 1.0, 0.9692307692307692, 1.0, 0, 1, 1.5, 0, 0, 0, '', 0, 2]]\n",
      "['1', '2']\n",
      "Есть 8 хомяков. Сколько существует способов выбрать из них 5?\n",
      "Number of parameters and features are not the same\n",
      "[[8, 0.18181818181818182, 0.5, 0.0684931506849315, 0.2, 1, 0, 2.5, 1, 0, 107852666743755, 1, 135128817935782, 8], [3, 1.0, 1.0, 0.974025974025974, 1.0, 0, 1, 2.5, 0, 0, 0, '', 0, 2]]\n",
      "['1', '2']\n",
      "Есть 8 различных покемонов. Сколько существует способов выбрать из них 3?\n",
      "Number of parameters and features are not the same\n",
      "[[10, 0.2, 0.6666666666666666, 0.07936507936507936, 0.3333333333333333, 1, 0, 2.5, 0, 0, 3268138143262, 1, 0, 8], [5, 0.8, 0.7142857142857143, 0.8636363636363636, 0.8372093023255814, 0, 1, 2.5, 0, 0, 0, '', 0, 2]]\n",
      "['1', '2']\n",
      "Есть 10 учеников. Сколько существует способов выбрать 5 из них?\n",
      "Number of parameters and features are not the same\n",
      "[[17, 0.14285714285714285, 0.6666666666666666, 0.05747126436781609, 0.3333333333333333, 1, 0, 6.0, 0, 0, 3268138143262, 1, 0, 8], [5, 0.5714285714285714, 0.45454545454545453, 0.6333333333333333, 0.5373134328358209, 0, 1, 6.0, 0, 1, 0, '', 0, 2]]\n",
      "['1', '2']\n",
      "Есть 17 учеников. Сколько существует способов выбрать 5 из них, чтобы выгнать из школы?\n",
      "Number of parameters and features are not the same\n",
      "[[37, 0.3125, 0.8333333333333334, 0.2222222222222222, 0.75, 1, 0, 15.0, 0, 0, 3001050325, 1, 0, 13], [7, 0.3125, 0.8333333333333334, 0.25225225225225223, 0.8, 0, 1, 15.0, 0, 0, 3001050325, 1, 0, 13]]\n",
      "['1', '2']\n",
      "Марфа подобрала с улицы 37 щенков. Сколько существует способов ей выбрать 7 щенков, чтобы выдрессировать их.\n",
      "Number of parameters and features are not the same\n",
      "[[10, 0.2, 0.5, 0.09, 0.24324324324324326, 1, 0, 3.5, 2, 0, 3597993375690, 0, 135128817935782, 15], [3, 0.7333333333333333, 0.5555555555555556, 0.7669902912621359, 0.6206896551724138, 0, 1, 3.5, 0, 1, 0, '', 0, 2]]\n",
      "['1', '2']\n",
      "У Акакия 10 различных вредных привычек. Сколько существует способов выбрать 3 из них, чтобы бросить.\n",
      "Number of parameters and features are not the same\n",
      "[[10, 0.125, 0.6666666666666666, 0.05102040816326531, 0.3333333333333333, 1, 0, 2.5, 0, 0, 3268138143262, 1, 0, 8], [5, 0.5, 0.38461538461538464, 0.5643564356435643, 0.46153846153846156, 0, 1, 2.5, 2, 0, 2968273, 0, 3133974580, 2]]\n",
      "['1', '2']\n",
      "Есть 10 учеников. Сколько существует способов выбрать 5 из них на разные роли в детском спектакле?\n",
      "Number of parameters and features are not the same\n",
      "[[10, 0.15384615384615385, 0.6666666666666666, 0.06172839506172839, 0.3333333333333333, 1, 0, 2.5, 0, 0, 3268138143262, 1, 0, 8], [5, 0.6153846153846154, 0.5, 0.6785714285714286, 0.5901639344262295, 0, 1, 2.5, 1, 0, 2968273, 0, 112626280043926, 2]]\n",
      "['1', '2']\n",
      "Есть 10 учеников. Сколько существует способов выбрать 5 из них на различные роли?\n",
      "Number of parameters and features are not the same\n",
      "[[29, 0.26666666666666666, 0.8, 0.16091954022988506, 0.6666666666666666, 1, 0, 11.0, 0, 0, 100434396, 0, 0, 15], [7, 0.26666666666666666, 0.8, 0.2, 0.75, 0, 1, 11.0, 0, 0, 2967982, 0, 112626280043926, 15]]\n",
      "['1', '2']\n",
      "У Марины есть 29 марок. Сколько существует способов выбрать 7 из них на различные цели?\n",
      "Number of parameters and features are not the same\n",
      "[[29, 0.26666666666666666, 0.8, 0.16091954022988506, 0.6666666666666666, 1, 0, 11.0, 0, 0, 100434396, 0, 0, 15], [7, 0.26666666666666666, 0.8, 0.2, 0.75, 0, 1, 11.0, 0, 0, 2967982, 0, 112626280043926, 15]]\n",
      "['1', '2']\n",
      "У Марины есть 29 марок. Сколько существует способов выбрать 7 из них на различные цели?\n",
      "Number of parameters and features are not the same\n",
      "[[18, 0.2222222222222222, 0.8, 0.13793103448275862, 0.64, 1, 0, 10.0, 0, 0, 109004740478, 1, 0, 15], [3, 0.6666666666666666, 0.5384615384615384, 0.6218487394957983, 0.5, 0, 1, 5.0, 1, 1, 109004740478, 1, 0, 2], [3, 0.9444444444444444, 0.9230769230769231, 0.9349593495934959, 0.9333333333333333, 0, 2, 5.0, 1, 1, 88720188, 0, 0, 2]]\n",
      "['1', '2']\n",
      "В шоу участвуют 18 человек. Сколько существует способов выбрать из них 3 человек, чтобы распределить первые 3 места.\n",
      "Number of parameters and features are not the same\n",
      "[[18, 0.3333333333333333, 0.8571428571428571, 0.2809917355371901, 0.8095238095238095, 1, 0, 6.5, 0, 0, 3001440608, 0, 0, 15], [5, 0.7777777777777778, 0.6363636363636364, 0.7338709677419355, 0.581081081081081, 0, 1, 6.5, 1, 1, 0, '', 0, 2]]\n",
      "['1', '2']\n",
      "На страницах учебника можно найти 18 стихов. Сколько существует способов выбрать из них 5, чтобы раздать разным ученикам.\n",
      "Number of parameters and features are not the same\n",
      "[[23, 0.2631578947368421, 0.8333333333333334, 0.2222222222222222, 0.7567567567567568, 1, 0, 10.666666666666666, 0, 0, 96400705483, 0, 0, 15], [7, 0.2631578947368421, 0.8333333333333334, 0.24806201550387597, 0.8, 0, 1, 5.3333333333333339, 0, 0, 0, '', 0, 15], [7, 0.2631578947368421, 0.8333333333333334, 0.2706766917293233, 0.8181818181818182, 0, 2, 5.3333333333333339, 0, 0, 0, '', 0, 15]]\n",
      "['1', '2', '0']\n",
      "У Петра Петровича порвалось 23 кармана. Сколько существует способов выбрать 7 из них, чтобы зашить нитками 7 различных цветов.\n",
      "Number of parameters and features are not the same\n",
      "[[10, 0.15384615384615385, 0.6666666666666666, 0.053763440860215055, 0.3333333333333333, 1, 0, 3.5, 0, 0, 3268138143262, 1, 0, 8], [3, 0.6153846153846154, 0.5, 0.59375, 0.4931506849315068, 0, 1, 3.5, 0, 2, 2968273, 0, 0, 2]]\n",
      "['1', '2']\n",
      "Есть 10 учеников. Сколько существует способов выбрать 3 на роли Тургенева, Пушкина, Толстого?\n",
      "Number of parameters and features are not the same\n",
      "[[12, 0.13333333333333333, 0.6666666666666666, 0.045871559633027525, 0.2777777777777778, 1, 0, 4.0, 0, 0, 117455397950320313, 0, 0, 8], [4, 0.5333333333333333, 0.4166666666666667, 0.5357142857142857, 0.4186046511627907, 0, 1, 4.0, 0, 3, 0, '', 0, 2]]\n",
      "['1', '2']\n",
      "Есть 12 фломастеров. Сколько существует способов выбрать 4, чтобы раскрасить ягодку, море, травку и солнышко?\n",
      "Number of parameters and features are not the same\n",
      "[[17, 0.08695652173913043, 0.6666666666666666, 0.03184713375796178, 0.35714285714285715, 1, 0, 7.0, 0, 0, 109004740478, 1, 0, 8], [3, 0.34782608695652173, 0.25, 0.35, 0.2608695652173913, 0, 1, 7.0, 3, 3, 0, '', 0, 2]]\n",
      "['1', '2']\n",
      "Есть 17 человек. Сколько существует способов выбрать 3 из них, чтобы одного отправить в отпуск, другого уволить, а третьего продвинуть по служебной лестнице?\n",
      "Number of parameters and features are not the same\n",
      "[[10, 0.10714285714285714, 0.125, 0.04736842105263158, 0.05660377358490566, 2, 0, 5.0, 2, 4, 98703962782, 1, 0, 15], [4, 0.32142857142857145, 0.375, 0.30569948186528495, 0.36419753086419754, 1, 1, 1.0, 2, 4, 0, '', 0, 15], [1, 0.10714285714285714, 0.125, 0.050761421319796954, 0.060240963855421686, 0, 2, 4.0, 2, 4, 3314161033, 0, 0, 15]]\n",
      "['1', '2']\n",
      "У Милены 10 братьев Сколько существует способов выбрать 4 из них, чтобы 1 подарить брелок, второму-игрушку, третьему - одеколон, четвертому - мыло ручной работы? Остальным подарков не будет.\n",
      "Number of parameters and features are not the same\n",
      "[[6, 0.18181818181818182, 0.6666666666666666, 0.14383561643835616, 0.5526315789473685, 1, 0, 2.0, 1, 0, 3303323314, 0, 135128817935782, 15], [2, 0.5, 0.3125, 0.54, 0.34951456310679613, 0, 1, 2.0, 3, 2, 0, '', 0, 2]]\n",
      "['1', '2']\n",
      "В магазине продается 6 различных кружек. Сколько существует способов выбрать 2 из них, чтобы одну выставить на витрину, а другую зачем-то разбить.\n",
      "Number of parameters and features are not the same\n",
      "[[10, 0.19230769230769232, 0.8333333333333334, 0.14444444444444443, 0.7428571428571429, 1, 0, 3.5, 0, 0, 109004740478, 1, 0, 15], [3, 0.5, 0.35, 0.45901639344262296, 0.30714285714285716, 0, 1, 3.5, 4, 3, 0, '', 0, 2]]\n",
      "['1', '2']\n",
      "В телешоу приняло участие 10 человек. Сколько существует способов выбрать из них 3, чтобы одного снять на обложку, другому дать утешительный приз, а последнего сделать победителем.\n",
      "Number of parameters and features are not the same\n",
      "[[3, 0.25, 0.35, 0.22164948453608246, 0.30714285714285716, 0, 0, 3.5, 4, 3, 0, '', 0, 2], [10, 0.25, 0.35, 0.2222222222222222, 0.3055555555555556, 1, 1, 3.5, 4, 3, 109004740478, 1, 0, 2]]\n",
      "['2', '1']\n",
      "Сколько существует способов выбрать из них 3, чтобы одного снять на обложку, другому дать утешительный приз, а последнего сделать победителем. Известно, что в телешоу приняло участие 10 человек.\n",
      "Number of parameters and features are not the same\n",
      "[[23, 0.18181818181818182, 0.8, 0.10294117647058823, 0.6086956521739131, 2, 0, 14.0, 0, 0, 96602449439, 0, 0, 15], [3, 0.45454545454545453, 0.29411764705882354, 0.4676258992805755, 0.3333333333333333, 1, 1, 6.0, 2, 3, 0, '', 0, 2], [1, 0.18181818181818182, 0.8, 0.1048951048951049, 0.5769230769230769, 0, 2, 8.0, 0, 0, 0, '', 0, 15]]\n",
      "['1', '2']\n",
      "У атлета есть 23 секрета. Сколько существует способов выбрать 3 из них, чтобы 1 раскрыть, другой забыть, а третий разместить в твиттере.\n"
     ]
    }
   ],
   "source": [
    "if os.path.exists(parameters_file):\n",
    "    os.remove(parameters_file)\n",
    "if os.path.exists(features_file ):\n",
    "    os.remove(features_file)\n",
    "if os.path.exists(processed_tasks_file):\n",
    "    os.remove(processed_tasks_file)\n",
    "tasks = read_task_from_file(tasks_file)\n",
    "\n",
    "\n",
    "    \n",
    "print(tasks)\n",
    "\n",
    "for task in tasks:\n",
    "    results = read_param_from_task(task)\n",
    "    print_task_to_files(results[0], results[1])"
   ]
  },
  {
   "cell_type": "code",
   "execution_count": null,
   "metadata": {
    "collapsed": true
   },
   "outputs": [],
   "source": []
  }
 ],
 "metadata": {
  "anaconda-cloud": {},
  "kernelspec": {
   "display_name": "Python 3",
   "language": "python",
   "name": "python3"
  },
  "language_info": {
   "codemirror_mode": {
    "name": "ipython",
    "version": 3
   },
   "file_extension": ".py",
   "mimetype": "text/x-python",
   "name": "python",
   "nbconvert_exporter": "python",
   "pygments_lexer": "ipython3",
   "version": "3.6.2"
  }
 },
 "nbformat": 4,
 "nbformat_minor": 2
}
