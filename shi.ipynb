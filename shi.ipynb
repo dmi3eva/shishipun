{
 "cells": [
  {
   "cell_type": "code",
   "execution_count": 41,
   "metadata": {
    "collapsed": false
   },
   "outputs": [],
   "source": [
    "# -*- coding: utf-8 -*-\n",
    "parameters_names_name = 'res/parameters_names.txt'\n",
    "import numpy as np\n",
    "import pymorphy2\n",
    "morph = pymorphy2.MorphAnalyzer()"
   ]
  },
  {
   "cell_type": "code",
   "execution_count": 42,
   "metadata": {
    "collapsed": true
   },
   "outputs": [],
   "source": [
    "def readTask():\n",
    "    task = input()\n",
    "    return task\n",
    "\n",
    "# Test\n",
    "#print(readTask())\n",
    "# try to git"
   ]
  },
  {
   "cell_type": "code",
   "execution_count": 43,
   "metadata": {
    "collapsed": false
   },
   "outputs": [
    {
     "data": {
      "text/plain": [
       "'\\nfor i in range(3):\\n    s = readTask()\\n    saveTask(s)\\n'"
      ]
     },
     "execution_count": 43,
     "metadata": {},
     "output_type": "execute_result"
    }
   ],
   "source": [
    "import os\n",
    "\n",
    "def saveTask(task):\n",
    "    filename = \"res/task.txt\"\n",
    "    if os.path.exists:\n",
    "        file = open(filename, 'a') #if file exists, than add new task\n",
    "    else:\n",
    "        file = open(filename, 'w') # else create new file\n",
    "    file.write('\\n#\\n')\n",
    "    file.write(task)\n",
    "    return 0\n",
    "\n",
    "#Test\n",
    "\n",
    "\"\"\"\n",
    "for i in range(3):\n",
    "    s = readTask()\n",
    "    saveTask(s)\n",
    "\"\"\""
   ]
  },
  {
   "cell_type": "code",
   "execution_count": 44,
   "metadata": {
    "collapsed": false
   },
   "outputs": [
    {
     "ename": "NameError",
     "evalue": "global name 'file_parameters_names_name' is not defined",
     "output_type": "error",
     "traceback": [
      "\u001b[0;31m---------------------------------------------------------------------------\u001b[0m",
      "\u001b[0;31mNameError\u001b[0m                                 Traceback (most recent call last)",
      "\u001b[0;32m<ipython-input-44-188ce4c528d2>\u001b[0m in \u001b[0;36m<module>\u001b[0;34m()\u001b[0m\n\u001b[1;32m      7\u001b[0m \u001b[0;34m\u001b[0m\u001b[0m\n\u001b[1;32m      8\u001b[0m \u001b[0mtestList\u001b[0m \u001b[0;34m=\u001b[0m \u001b[0;34m[\u001b[0m\u001b[0;34m'Места'\u001b[0m\u001b[0;34m,\u001b[0m \u001b[0;34m'Элементы'\u001b[0m\u001b[0;34m]\u001b[0m\u001b[0;34m\u001b[0m\u001b[0m\n\u001b[0;32m----> 9\u001b[0;31m \u001b[0msave_parameters_names\u001b[0m\u001b[0;34m(\u001b[0m\u001b[0mtestList\u001b[0m\u001b[0;34m)\u001b[0m\u001b[0;34m\u001b[0m\u001b[0m\n\u001b[0m",
      "\u001b[0;32m<ipython-input-44-188ce4c528d2>\u001b[0m in \u001b[0;36msave_parameters_names\u001b[0;34m(list_of_parameters_names)\u001b[0m\n\u001b[1;32m      1\u001b[0m \u001b[0;31m#Save parameters of the task (same for all tasks from the theme)\u001b[0m\u001b[0;34m\u001b[0m\u001b[0;34m\u001b[0m\u001b[0m\n\u001b[1;32m      2\u001b[0m \u001b[0;32mdef\u001b[0m \u001b[0msave_parameters_names\u001b[0m\u001b[0;34m(\u001b[0m\u001b[0mlist_of_parameters_names\u001b[0m\u001b[0;34m)\u001b[0m\u001b[0;34m:\u001b[0m\u001b[0;34m\u001b[0m\u001b[0m\n\u001b[0;32m----> 3\u001b[0;31m     \u001b[0mpar_file\u001b[0m \u001b[0;34m=\u001b[0m \u001b[0mopen\u001b[0m\u001b[0;34m(\u001b[0m\u001b[0mfile_parameters_names_name\u001b[0m\u001b[0;34m,\u001b[0m \u001b[0;34m'w'\u001b[0m\u001b[0;34m)\u001b[0m\u001b[0;34m\u001b[0m\u001b[0m\n\u001b[0m\u001b[1;32m      4\u001b[0m     \u001b[0;32mfor\u001b[0m \u001b[0mparameter\u001b[0m \u001b[0;32min\u001b[0m \u001b[0mlist_of_parameters_names\u001b[0m\u001b[0;34m:\u001b[0m\u001b[0;34m\u001b[0m\u001b[0m\n\u001b[1;32m      5\u001b[0m         \u001b[0mpar_file\u001b[0m\u001b[0;34m.\u001b[0m\u001b[0mwrite\u001b[0m\u001b[0;34m(\u001b[0m\u001b[0mparameter\u001b[0m \u001b[0;34m+\u001b[0m \u001b[0;34m' '\u001b[0m\u001b[0;34m)\u001b[0m\u001b[0;34m\u001b[0m\u001b[0m\n",
      "\u001b[0;31mNameError\u001b[0m: global name 'file_parameters_names_name' is not defined"
     ]
    }
   ],
   "source": [
    "#Save parameters of the task (same for all tasks from the theme)\n",
    "def save_parameters_names(list_of_parameters_names):    \n",
    "    par_file = open(file_parameters_names_name, 'w')\n",
    "    for parameter in list_of_parameters_names:\n",
    "        par_file.write(parameter + ' ')\n",
    "    par_file.close()\n",
    "    \n",
    "testList = ['Места', 'Элементы']\n",
    "save_parameters_names(testList)\n"
   ]
  },
  {
   "cell_type": "code",
   "execution_count": null,
   "metadata": {
    "collapsed": true
   },
   "outputs": [],
   "source": [
    "#Read parameters of the task (same for all tasks from the theme)\n",
    "def read_parameter_names():\n",
    "    par_file = open(file_parameters_names_name, 'r')\n",
    "    content = par_file.read()\n",
    "    list_of_parameters_names = content.split(' ')\n",
    "    list_of_parameters_names.pop()\n",
    "    par_file.close()\n",
    "    return list_of_parameters_names\n",
    "print(read_parameter_names())"
   ]
  },
  {
   "cell_type": "code",
   "execution_count": 39,
   "metadata": {
    "collapsed": false
   },
   "outputs": [
    {
     "name": "stdout",
     "output_type": "stream",
     "text": [
      "Есть 5 хомяков. Сколько существует способов выбрать из них 3?\n",
      "Марфе Ивановне нужно отправить 7 гостей домой. В её автопарке 10 разных машин. Сколько существует способов рассадить гостей по машинам?\n",
      "Есть 23 хомяка. Сколько способов выбрать из них 243?\n"
     ]
    }
   ],
   "source": [
    "#Julia\n",
    "\n",
    "#Словарь числительных (нужно дополнять)\n",
    "num_dict = {'один': 1,\n",
    "            'одному': 1,\n",
    "            'два': 2,\n",
    "            'двоих': 2,\n",
    "            'двое': 2,\n",
    "            'три': 3,\n",
    "            'троих': 3,\n",
    "            'трое': 3,\n",
    "            'четыре': 4,\n",
    "            'четверых': 4,\n",
    "            'четверо': 4,\n",
    "            'пять': 5,\n",
    "            'петярых': 5,\n",
    "            'пятеро': 5,\n",
    "            'шесть': 6,\n",
    "            'шестерых': 6,\n",
    "            'шестеро': 6,\n",
    "            'семь': 7,\n",
    "            'семерых': 7,\n",
    "            'семеро': 7,\n",
    "            'восемь': 8,\n",
    "            'восьмерых': 8,\n",
    "            'восьмеро': 8,\n",
    "            'девять': 9,\n",
    "            'девятерых': 9,\n",
    "            'девятеро': 9,\n",
    "            'десять': 10,\n",
    "            'десятерых': 10,\n",
    "            'десятеро': 10,\n",
    "            'одиннадцать': 11,\n",
    "            'двенадцать': 12,\n",
    "            'тринадцать': 13,\n",
    "            'четырнадцать': 14,\n",
    "            'пятнадцать': 15,\n",
    "            'шестнадцать': 16,\n",
    "            'семнадцать': 17,\n",
    "            'восемнадцать': 18,\n",
    "            'девятнадцать': 19,\n",
    "            'двадцать': 20,\n",
    "            'тридцать': 30,\n",
    "            'сорок': 40,\n",
    "            'пятьдесят': 50,\n",
    "            'шестьдесят': 60,\n",
    "            'семьдесят': 70,\n",
    "            'восемьдесят': 80,\n",
    "            'девяносто': 90,\n",
    "            'сто': 100,\n",
    "            'двести': 200,\n",
    "            'триста': 300,\n",
    "            'четыреста': 400,\n",
    "            'пятьсот': 500,\n",
    "            'шестьсот': 600,\n",
    "            'семьсот': 700,\n",
    "            'восемьсот': 800,\n",
    "            'девятьсот': 900,\n",
    "            'тысяча': 1000,\n",
    "            'миллион': 1000000,\n",
    "            'миллиард': 1000000000,\n",
    "           }\n",
    "\n",
    "#Функция для того, чтобы отделить знаки препинания от слов с помощью добавления пробела\n",
    "\n",
    "def punctuation_separ(task):\n",
    "    task = task.replace('.', ' .')\n",
    "    task = task.replace('?', ' ?')\n",
    "    task = task.replace('!', ' !')\n",
    "    task = task.replace(';', ' ;')\n",
    "    task = task.replace(':', ' :')\n",
    "    task = task.replace('(', ' (')\n",
    "    task = task.replace(')', ' )')\n",
    "    task = task.replace(',', ' ,')\n",
    "    return task\n",
    "\n",
    "#Функция объединяет слова из списка в строку, удаляет лишние пробелы\n",
    "\n",
    "def listToString(task):\n",
    "    task_ret = []\n",
    "    \n",
    "    for elem in task:\n",
    "        if elem != '' and elem != ' ':\n",
    "            task_ret.append(elem)\n",
    "    s = ' '\n",
    "    task_ret = s.join(task_ret)\n",
    "    task_ret = task_ret.replace(' .', '.')\n",
    "    task_ret = task_ret.replace(' ?', '?')\n",
    "    task_ret = task_ret.replace(' !', '!')\n",
    "    task_ret = task_ret.replace(' ;', ';')\n",
    "    task_ret = task_ret.replace(' :', ':')\n",
    "    task_ret = task_ret.replace(' (', '(')\n",
    "    task_ret = task_ret.replace(' )', ')')\n",
    "    task_ret = task_ret.replace(' ,', ',')\n",
    "    \n",
    "    return task_ret\n",
    "\n",
    "#Функция замены числительных на цифры, возвращает задачу, в которой произведены замены\n",
    "\n",
    "def replaceWordWithNumbers(task):\n",
    "    task = punctuation_separ(task)\n",
    "    \n",
    "    task = task.split()\n",
    "    for i in range(len(task)):\n",
    "        if task[i] in num_dict:\n",
    "            if task[i + 1] in num_dict:\n",
    "                if task[i + 2] in num_dict:\n",
    "                    task[i] = str(num_dict[task[i]] + num_dict[task[i + 1]] + num_dict[task[i + 2]])\n",
    "                    task[i + 1] = ''\n",
    "                    task[i + 2] = ''\n",
    "                else:\n",
    "                    task[i] = str(num_dict[task[i]] + num_dict[task[i + 1]])\n",
    "                    task[i + 1] = ''\n",
    "            else:\n",
    "                task[i] = str(num_dict[task[i]])\n",
    "    task_ret = listToString(task)\n",
    "    return task_ret\n",
    "        \n",
    "task = \"Есть 5 хомяков. Сколько существует способов выбрать из них троих?\"\n",
    "task1 = \"Марфе Ивановне нужно отправить семерых гостей домой. В её автопарке 10 разных машин. Сколько существует способов рассадить гостей по машинам?\"\n",
    "task2 = \"Есть двадцать три хомяка. Сколько способов выбрать из них двести сорок три?\"\n",
    "\n",
    "task = replaceWordWithNumbers(task)\n",
    "task1 = replaceWordWithNumbers(task1)\n",
    "task2 = replaceWordWithNumbers(task2)\n",
    "print(task)\n",
    "print(task1)\n",
    "print(task2)"
   ]
  },
  {
   "cell_type": "code",
   "execution_count": 45,
   "metadata": {
    "collapsed": false
   },
   "outputs": [
    {
     "name": "stdout",
     "output_type": "stream",
     "text": [
      "[u'\\u0415\\u0441\\u0442\\u044c', u'5', u'\\u0437\\u0430\\u043c\\u0435\\u0447\\u0430\\u0442\\u0435\\u043b\\u044c\\u043d\\u044b\\u0445', u'\\u0443\\u043c\\u043d\\u044b\\u0445', u'\\u0441\\u0442\\u0443\\u043b\\u044c\\u0435\\u0432', u'.', u'\\u0421\\u043a\\u043e\\u043b\\u044c\\u043a\\u043e', u'\\u0441\\u0443\\u0449\\u0435\\u0441\\u0442\\u0432\\u0443\\u0435\\u0442', u'\\u0441\\u043f\\u043e\\u0441\\u043e\\u0431\\u043e\\u0432', u'\\u0432\\u044b\\u0431\\u0440\\u0430\\u0442\\u044c', u'\\u0438\\u0437', u'\\u043d\\u0438\\u0445', u'3', u'?']\n",
      "(u'\\u0441\\u0442\\u0443\\u043b\\u044c\\u0435\\u0432', 0, u'\\u0437\\u0430\\u043c\\u0435\\u0447\\u0430\\u0442\\u0435\\u043b\\u044c\\u043d\\u044b\\u0445')\n",
      "[u'\\u0415\\u0441\\u0442\\u044c', u'5', u'\\u0437\\u0430\\u043c\\u0435\\u0447\\u0430\\u0442\\u0435\\u043b\\u044c\\u043d\\u044b\\u0445', u'\\u0443\\u043c\\u043d\\u044b\\u0445', u'\\u0445\\u043e\\u043c\\u044f\\u043a\\u043e\\u0432', u'.', u'\\u0421\\u043a\\u043e\\u043b\\u044c\\u043a\\u043e', u'\\u0441\\u0443\\u0449\\u0435\\u0441\\u0442\\u0432\\u0443\\u0435\\u0442', u'\\u0441\\u043f\\u043e\\u0441\\u043e\\u0431\\u043e\\u0432', u'\\u0432\\u044b\\u0431\\u0440\\u0430\\u0442\\u044c', u'\\u0438\\u0437', u'\\u043d\\u0438\\u0445', u'3', u'?']\n",
      "(u'\\u0445\\u043e\\u043c\\u044f\\u043a\\u043e\\u0432', 1, u'\\u0437\\u0430\\u043c\\u0435\\u0447\\u0430\\u0442\\u0435\\u043b\\u044c\\u043d\\u044b\\u0445')\n",
      "[u'\\u0415\\u0441\\u0442\\u044c', u'5', u'\\u0437\\u0430\\u043c\\u0435\\u0447\\u0430\\u0442\\u0435\\u043b\\u044c\\u043d\\u044b\\u0445', u'\\u0443\\u043c\\u043d\\u044b\\u0445', u'.', u'\\u0421\\u043a\\u043e\\u043b\\u044c\\u043a\\u043e', u'\\u0441\\u0443\\u0449\\u0435\\u0441\\u0442\\u0432\\u0443\\u0435\\u0442', u'\\u0441\\u043f\\u043e\\u0441\\u043e\\u0431\\u043e\\u0432', u'\\u0432\\u044b\\u0431\\u0440\\u0430\\u0442\\u044c', u'\\u0438\\u0437', u'\\u043d\\u0438\\u0445', u'3', u'?']\n",
      "\n",
      "[u'\\u0415\\u0441\\u0442\\u044c', u'5', u'\\u0445\\u043e\\u043c\\u044f\\u043a\\u043e\\u0432', u'.', u'\\u0421\\u043a\\u043e\\u043b\\u044c\\u043a\\u043e', u'\\u0441\\u0443\\u0449\\u0435\\u0441\\u0442\\u0432\\u0443\\u0435\\u0442', u'\\u0441\\u043f\\u043e\\u0441\\u043e\\u0431\\u043e\\u0432', u'\\u0432\\u044b\\u0431\\u0440\\u0430\\u0442\\u044c', u'\\u0438\\u0437', u'\\u043d\\u0438\\u0445', u'3', u'?']\n",
      "(u'\\u0445\\u043e\\u043c\\u044f\\u043a\\u043e\\u0432', 1, '')\n",
      "[u'\\u0415\\u0441\\u0442\\u044c', u'\\u0445\\u043e\\u043c\\u044f\\u043a\\u043e\\u0432', u'5', u'.', u'\\u0421\\u043a\\u043e\\u043b\\u044c\\u043a\\u043e', u'\\u0441\\u0443\\u0449\\u0435\\u0441\\u0442\\u0432\\u0443\\u0435\\u0442', u'\\u0441\\u043f\\u043e\\u0441\\u043e\\u0431\\u043e\\u0432', u'\\u0432\\u044b\\u0431\\u0440\\u0430\\u0442\\u044c', u'\\u0438\\u0437', u'\\u043d\\u0438\\u0445', u'3', u'?']\n",
      "\n"
     ]
    }
   ],
   "source": [
    "#Julia\n",
    "import pymorphy2\n",
    "\n",
    "\"\"\"\n",
    "Проверка части речи с помощью библиотеки pymorphy2, возращаем все тэги о слове, нет парсинга.\n",
    "\"\"\"\n",
    "def check_part_of_speech(word):\n",
    "    morph = pymorphy2.MorphAnalyzer()\n",
    "    answer = (morph.parse(word))\n",
    "    return answer\n",
    "\n",
    "\"\"\"\n",
    "Если есть существительное, то выводим его, его одушевленность (0-неодушевленный, 1-одушевленный),\n",
    "строку с прилагательным о существительном (выбираем прилагательное самое близкое к параметру (к цифре))\n",
    "Если существительного нет, или предложение закончилось, то возвращаем пустую строку.\n",
    "\"\"\"\n",
    "def find_parameter(task, parameter):\n",
    "    task = task.decode('utf-8')\n",
    "    task_list = punctuation_separ(task)\n",
    "\n",
    "    task_list = task_list.split()\n",
    "\n",
    "    print(task_list)\n",
    "    \n",
    "    adj =\"\"\n",
    "    \n",
    "    index = -1\n",
    "    for i in range(len(task_list)):\n",
    "        if(task_list[i] == str(parameter)):\n",
    "            index = i\n",
    "            break\n",
    "    for i in range(index, len(task_list)):\n",
    "        answer = check_part_of_speech(task_list[i])[0]\n",
    "        if adj ==\"\" and 'ADJF' == answer.tag.POS:\n",
    "            adj = task_list[i]\n",
    "        if 'NOUN' == answer.tag.POS:\n",
    "            index= i\n",
    "            break\n",
    "        if 'PNCT' in answer.tag:\n",
    "            return '', '', ''\n",
    "    \n",
    "    if index != -1:\n",
    "        if index < len(task_list) - 1:\n",
    "            if answer.tag.animacy == 'anim':\n",
    "                return task_list[index], 1, adj\n",
    "            elif answer.tag.animacy == 'inan':\n",
    "                return task_list[index], 0, adj\n",
    "            else:\n",
    "                return task_list[index]\n",
    "        else:\n",
    "            return '', '', ''\n",
    "    return '', '', ''\n",
    "    \n",
    "task = \"Есть 5 замечательных умных стульев. Сколько существует способов выбрать из них 3?\"\n",
    "task1 = \"Есть 5 замечательных умных хомяков. Сколько существует способов выбрать из них 3?\"\n",
    "task2 = \"Есть 5 замечательных умных. Сколько существует способов выбрать из них 3?\"\n",
    "task3 = \"Есть 5 хомяков. Сколько существует способов выбрать из них 3?\"\n",
    "task4 = \"Есть хомяков 5. Сколько существует способов выбрать из них 3?\"\n",
    "\n",
    "print(find_parameter(task, 5))\n",
    "print(find_parameter(task1, 5))\n",
    "print(find_parameter(task2, 5))\n",
    "print(find_parameter(task3, 5))\n",
    "print(find_parameter(task4, 5))\n"
   ]
  },
  {
   "cell_type": "code",
   "execution_count": null,
   "metadata": {
    "collapsed": true
   },
   "outputs": [],
   "source": [
    "#Julia"
   ]
  },
  {
   "cell_type": "code",
   "execution_count": null,
   "metadata": {
    "collapsed": true
   },
   "outputs": [],
   "source": [
    "#Julia"
   ]
  },
  {
   "cell_type": "code",
   "execution_count": null,
   "metadata": {
    "collapsed": true
   },
   "outputs": [],
   "source": [
    "#Julia"
   ]
  },
  {
   "cell_type": "code",
   "execution_count": null,
   "metadata": {
    "collapsed": true
   },
   "outputs": [],
   "source": [
    "#Julia"
   ]
  },
  {
   "cell_type": "code",
   "execution_count": null,
   "metadata": {
    "collapsed": true
   },
   "outputs": [],
   "source": [
    "#Julia"
   ]
  },
  {
   "cell_type": "code",
   "execution_count": null,
   "metadata": {
    "collapsed": true
   },
   "outputs": [],
   "source": [
    "#Julia"
   ]
  },
  {
   "cell_type": "code",
   "execution_count": null,
   "metadata": {
    "collapsed": true
   },
   "outputs": [],
   "source": [
    "#Julia"
   ]
  },
  {
   "cell_type": "code",
   "execution_count": null,
   "metadata": {
    "collapsed": true
   },
   "outputs": [],
   "source": [
    "#Julia"
   ]
  },
  {
   "cell_type": "code",
   "execution_count": null,
   "metadata": {
    "collapsed": true
   },
   "outputs": [],
   "source": [
    "#Julia"
   ]
  },
  {
   "cell_type": "code",
   "execution_count": null,
   "metadata": {
    "collapsed": true
   },
   "outputs": [],
   "source": [
    "#Julia"
   ]
  },
  {
   "cell_type": "code",
   "execution_count": null,
   "metadata": {
    "collapsed": true
   },
   "outputs": [],
   "source": [
    "#Julia"
   ]
  },
  {
   "cell_type": "code",
   "execution_count": null,
   "metadata": {
    "collapsed": true
   },
   "outputs": [],
   "source": [
    "#Julia"
   ]
  },
  {
   "cell_type": "code",
   "execution_count": null,
   "metadata": {
    "collapsed": true
   },
   "outputs": [],
   "source": [
    "#Katya\n",
    "\n",
    "#Auxilary functions\n",
    "#find the number of word of the text\n",
    "def word_number(text):\n",
    "    while (text.find(\"  \") != -1):\n",
    "        text = text.replace(\"  \", \" \")\n",
    "    return (text.count(\" \") + 1)\n",
    "\n",
    "def extract_sentence_with_parameter(parameter, text):\n",
    "    pattern = str(parameter) #cast to string\n",
    "    sentence = \"\"\n",
    "    position = text.find(pattern)\n",
    "    punctuation_marks = \".?!\\n\"\n",
    "    left = position\n",
    "    while ((text[left] not in punctuation_marks) & (left > 0)):\n",
    "        left -= 1\n",
    "    if (text[left] in punctuation_marks):\n",
    "        left += 1\n",
    "        if (text[left] == \" \"):\n",
    "            left += 1\n",
    "            \n",
    "    right = position\n",
    "    while ((text[right] not in punctuation_marks) & (right < len(text))):\n",
    "        right += 1\n",
    "    \n",
    "    return text[left : right]\n",
    "\n"
   ]
  },
  {
   "cell_type": "code",
   "execution_count": null,
   "metadata": {
    "collapsed": false
   },
   "outputs": [],
   "source": [
    "#Katya\n",
    "\n",
    "#find position (as proportion) of the number in the text (if we count for letters)\n",
    "def extract_text_position_as_letters(parameter, text): \n",
    "    text =  text.decode('utf-8')\n",
    "    pattern = str(parameter) #cast to string\n",
    "    parameterPosition = text.find(pattern) #two bytes for russian letters \n",
    "    numberOfLetters = len(text)\n",
    "    \n",
    "    if (numberOfLetters == 0):\n",
    "        print(\"Text is empty!\")\n",
    "        return 0\n",
    "    if (text.find(pattern) == -1):\n",
    "        print(\"1Pattern \\\"\" + pattern + \"\\\" doesn't exist in the text!\")\n",
    "        return 0\n",
    "    return float(parameterPosition) / numberOfLetters\n",
    "\n",
    "\n",
    "#find position (as proportion) of the number in the sentence (if we count for letters)\n",
    "def extract_sentence_position_as_letters(parameter, text): \n",
    "    text =  text.decode('utf-8')\n",
    "    pattern = str(parameter) #cast to string\n",
    "    sentence = extract_sentence_with_parameter(parameter, text)\n",
    "    \n",
    "    parameterPosition = sentence.find(pattern) #two bytes for russian letters \n",
    "    numberOfLetters = len(sentence)\n",
    "    if (numberOfLetters == 0):\n",
    "        print(\"Sentence is empty!\")\n",
    "        return 0\n",
    "    if (sentence.find(pattern) == -1):\n",
    "        print(\"2Pattern \\\"\" + pattern + \"\\\" doesn't exist in the text!\")\n",
    "        return 0\n",
    "    return float(parameterPosition) / (numberOfLetters - 1)\n",
    "\n",
    "#Testing\n",
    "text = \"Есть 8 хомяков. Сколько существует способов выбрать из них 5? Ура!\"\n",
    "#text = \"There is 8 hamsters. How many ways are to choose 5?\"\n",
    "#text = \"слово                    слово\"\n",
    "\n",
    "parameter = 5\n",
    "#1\n",
    "print(extract_text_position_as_letters(parameter, text))\n",
    "print(word_number(text))\n",
    "print(extract_sentence_with_parameter(parameter, text))\n",
    "#2\n",
    "print(extract_sentence_position_as_letters(parameter, text))"
   ]
  },
  {
   "cell_type": "code",
   "execution_count": null,
   "metadata": {
    "collapsed": false
   },
   "outputs": [],
   "source": [
    "#Katya\n",
    "def extract_text_position_as_words(parameter, text): \n",
    "    text =  text.decode('utf-8')\n",
    "    pattern = str(parameter) #cast to string\n",
    "    parameterPosition = text.find(pattern) #two bytes for russian letters \n",
    "    number_of_words = word_number(text)\n",
    "    if (number_of_words == 0):\n",
    "        print(\"Text is empty!\")\n",
    "        return 0\n",
    "    \n",
    "    if (text.find(pattern) == -1):\n",
    "        print(\"3Pattern \\\"\" + pattern + \"\\\" doesn't exist in the text!\")\n",
    "        return 0\n",
    "    before_parameter = text[0 : text.find(pattern)]\n",
    "    number_of_words_before_parameter = word_number(before_parameter)\n",
    "    return float(number_of_words_before_parameter) / number_of_words\n",
    "\n",
    "def extract_sentence_position_as_words(parameter, text): \n",
    "    text =  text.decode('utf-8')\n",
    "    pattern = str(parameter) #cast to string\n",
    "    sentence = extract_sentence_with_parameter(parameter, text)\n",
    "    parameterPosition = sentence.find(pattern) #two bytes for russian letters \n",
    "    number_of_words = word_number(sentence)\n",
    "    if (number_of_words == 0):\n",
    "        print(\"Text is empty!\")\n",
    "        return 0\n",
    "    if (sentence.find(pattern) == -1):\n",
    "        print(\"4Pattern \\\"\" + pattern + \"\\\" doesn't exist in the text!\")\n",
    "        return 0\n",
    "    before_parameter = sentence[0 : sentence.find(pattern)]\n",
    "    number_of_words_before_parameter = word_number(before_parameter)\n",
    "    return float(number_of_words_before_parameter) / number_of_words\n",
    "\n",
    "\n",
    "#testing\n",
    "\n",
    "text = \"Есть 8 хомяков. Сколько существует способов выбрать из них 5? Ура!\"\n",
    "parameter = 5\n",
    "\n",
    "#3\n",
    "print(extract_text_position_as_words(parameter, text))\n",
    "\n",
    "#4\n",
    "print(extract_sentence_position_as_words(parameter, text))"
   ]
  },
  {
   "cell_type": "code",
   "execution_count": null,
   "metadata": {
    "collapsed": false
   },
   "outputs": [],
   "source": [
    "#Katya\n",
    "def extract_numbers(text):\n",
    "    text =  text.decode('utf-8')\n",
    "    numbers = \"0123456789\"\n",
    "    parameters = []\n",
    "    ind = 0\n",
    "    mode = 0 #not number in process\n",
    "    cur_num = \"\"\n",
    "    for i in range(len(text)):\n",
    "        if (text[i] in numbers):\n",
    "            mode = 1\n",
    "            cur_num += text[i]\n",
    "        else:\n",
    "            if mode == 1:\n",
    "                parameters.append(cur_num.encode('utf-8'))\n",
    "                cur_num = \"\"\n",
    "                mode = 0\n",
    "    if mode == 1:\n",
    "        parameters.append(cur_num).encode('utf-8')\n",
    "                 \n",
    "                \n",
    "    return parameters\n",
    "    \n",
    "    \n",
    "#testing\n",
    "text = \"В клетке сидят 30 морских свинок, 5 крыс и 8 хомяков. Сколько существует способов выбрать из них 5? Ура!\"\n",
    "print(extract_numbers(text))"
   ]
  },
  {
   "cell_type": "code",
   "execution_count": null,
   "metadata": {
    "collapsed": true
   },
   "outputs": [],
   "source": [
    "#Katya\n"
   ]
  },
  {
   "cell_type": "code",
   "execution_count": null,
   "metadata": {
    "collapsed": false
   },
   "outputs": [],
   "source": [
    "#Katya"
   ]
  },
  {
   "cell_type": "code",
   "execution_count": null,
   "metadata": {
    "collapsed": false
   },
   "outputs": [],
   "source": [
    "#Katya\n"
   ]
  },
  {
   "cell_type": "code",
   "execution_count": null,
   "metadata": {
    "collapsed": false
   },
   "outputs": [],
   "source": [
    "#Katya\n",
    "\n",
    "#order in the list\n",
    "def k_stat(parameters, parameter):\n",
    "    ordered = []\n",
    "    for i in range(len(parameters)):\n",
    "        ordered.append(parameters[i])\n",
    "    \n",
    "    ordered.sort()\n",
    "    \n",
    "    \n",
    "    cur = ordered[0] - 1\n",
    "    ind = -1\n",
    "    k = -1\n",
    "    while (cur != parameter):\n",
    "        ind += 1\n",
    "        if (ordered[ind] != cur):\n",
    "            k += 1\n",
    "        cur = ordered[ind]\n",
    "    return k\n",
    "    \n",
    "\n",
    "#testing\n",
    "array = [5, 8, 5, 5, 3, 8, 10, 9, 9]\n",
    "print(k_stat(array, 9))"
   ]
  },
  {
   "cell_type": "code",
   "execution_count": null,
   "metadata": {
    "collapsed": false
   },
   "outputs": [],
   "source": [
    "# coding: utf8\n",
    "#Katya\n",
    "\n",
    "\n",
    "#Количество прилагательных в предложении с параметром\n",
    "def adj_number(parameter, text):\n",
    "    sent = extract_sentence_with_parameter(parameter, text)\n",
    "    sent = sent.decode('utf-8')\n",
    "    words = sent.split(\" \")\n",
    "    res = 0\n",
    "    for word in words:        \n",
    "        if word[-1] in \",.!?:-\":\n",
    "            word = word.replace(word[-1], \"\")\n",
    "        if ((str(morph.parse(word)[0].tag)[0] == \"A\") & (str(morph.parse(word)[0].tag)[1] == \"D\")):\n",
    "            res += 1\n",
    "        \n",
    "    return res  \n",
    "    \n",
    "    \n",
    "    \n",
    "#testing\n",
    "text = \"В клетке сидят 30 морских свинок, 5 различных крыс и 8 хомяков. Сколько существует способов выбрать из них 5? Ура!\"\n",
    "print(adj_number(5, text))"
   ]
  },
  {
   "cell_type": "code",
   "execution_count": null,
   "metadata": {
    "collapsed": false
   },
   "outputs": [],
   "source": [
    "#Katya\n",
    "\n",
    "#Возвращает количество второстепенных знаков перпинания\n",
    "\n",
    "def punctuation(parameter, text):\n",
    "    punctuation_marks = \",:\"\n",
    "    sent = extract_sentence_with_parameter(parameter, text)\n",
    "    sent = sent.decode('utf-8')\n",
    "    res = 0\n",
    "    for letter in sent:\n",
    "        if (letter in punctuation_marks):\n",
    "            res += 1\n",
    "    return res\n",
    "\n",
    "\n",
    "#testing\n",
    "text = \"В клетке сидят разные животные: 30 морских свинок, 5 различных крыс и 8 хомяков. Сколько существует способов выбрать из них 5? Ура!\"\n",
    "print(punctuation(5, text))\n",
    "\n",
    "    "
   ]
  },
  {
   "cell_type": "code",
   "execution_count": null,
   "metadata": {
    "collapsed": true
   },
   "outputs": [],
   "source": [
    "#Katya\n",
    "\n",
    "def extract_parameter_features(parameters, number, text):\n",
    "    for i in range(len(parameters)):\n",
    "        parameters[i] = int(parameters[i])\n",
    "    parameter_features = []\n",
    "    parameter_features.append(parameters[number]) #само число\n",
    "    parameter_features.append(extract_text_position_as_words(parameters[number], text)) #позиция в тексте (% в словах)\n",
    "    parameter_features.append(extract_sentence_position_as_words(parameters[number], text)) #позиция в предложении (% в словах)\n",
    "    parameter_features.append(extract_text_position_as_letters(parameters[number], text)) #позиция в тексте (% в символах)\n",
    "    parameter_features.append(extract_sentence_position_as_letters(parameters[number], text)) #позиция в предложении (% в символах)\n",
    "    parameter_features.append(k_stat(parameters, parameters[number])) #размер относительно других числительных\n",
    "    parameter_features.append(number) #позиция относительно других числительных\n",
    "    parameter_features.append(np.abs(parameters[number] - np.mean(parameters))) #отклонение от среднего остальных параметров\n",
    "    parameter_features.append(adj_number(parameters[number], text)) #количество прилагательных в предложении с параметром \n",
    "    parameter_features.append(punctuation(parameters[number], text))#количество второстепенных знаков препинания\n",
    "    \n",
    "    #существительное, к которому относится\n",
    "    #одушевленное?\n",
    "    #количество прилагательных в предложении с параметром (в процентах от общего числа)\n",
    "    \n",
    "    return parameter_features\n"
   ]
  },
  {
   "cell_type": "code",
   "execution_count": null,
   "metadata": {
    "collapsed": false
   },
   "outputs": [],
   "source": [
    "#Katya\n",
    "\n",
    "def extract_all_parameters_features(text):\n",
    "    parameters_features = []\n",
    "    substitution = -1007\n",
    "    parameters = extract_numbers(text)\n",
    "    print(parameters)\n",
    "    ind = 0\n",
    "    print(\"- - - -\")\n",
    "    for index in range(len(parameters)):        \n",
    "            \n",
    "            parameters_features.append(extract_parameter_features(parameters, index, text))            \n",
    "            text = text.replace(str(parameters[index]), str(substitution), 1)     \n",
    "            \n",
    "    return parameters_features\n",
    "\n",
    "text = \"В клетке сидят 30 морских свинок, 5 крыс и 8 хомяков. Сколько существует способов выбрать из них 5? Ура!\"\n",
    "print(extract_all_parameters_features(text))"
   ]
  },
  {
   "cell_type": "code",
   "execution_count": null,
   "metadata": {
    "collapsed": true
   },
   "outputs": [],
   "source": [
    "#Katya"
   ]
  },
  {
   "cell_type": "code",
   "execution_count": null,
   "metadata": {
    "collapsed": true
   },
   "outputs": [],
   "source": [
    "#Katya"
   ]
  },
  {
   "cell_type": "code",
   "execution_count": null,
   "metadata": {
    "collapsed": true
   },
   "outputs": [],
   "source": [
    "#Katya"
   ]
  },
  {
   "cell_type": "code",
   "execution_count": null,
   "metadata": {
    "collapsed": true
   },
   "outputs": [],
   "source": []
  },
  {
   "cell_type": "code",
   "execution_count": null,
   "metadata": {
    "collapsed": true
   },
   "outputs": [],
   "source": []
  },
  {
   "cell_type": "code",
   "execution_count": null,
   "metadata": {
    "collapsed": true
   },
   "outputs": [],
   "source": []
  },
  {
   "cell_type": "code",
   "execution_count": null,
   "metadata": {
    "collapsed": true
   },
   "outputs": [],
   "source": []
  },
  {
   "cell_type": "code",
   "execution_count": null,
   "metadata": {
    "collapsed": true
   },
   "outputs": [],
   "source": []
  },
  {
   "cell_type": "code",
   "execution_count": null,
   "metadata": {
    "collapsed": true
   },
   "outputs": [],
   "source": []
  }
 ],
 "metadata": {
  "anaconda-cloud": {},
  "kernelspec": {
   "display_name": "Python [conda root]",
   "language": "python",
   "name": "conda-root-py"
  },
  "language_info": {
   "codemirror_mode": {
    "name": "ipython",
    "version": 2
   },
   "file_extension": ".py",
   "mimetype": "text/x-python",
   "name": "python",
   "nbconvert_exporter": "python",
   "pygments_lexer": "ipython2",
   "version": "2.7.12"
  }
 },
 "nbformat": 4,
 "nbformat_minor": 2
}
