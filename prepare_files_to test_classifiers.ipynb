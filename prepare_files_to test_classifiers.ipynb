{
 "cells": [
  {
   "cell_type": "code",
   "execution_count": 177,
   "metadata": {
    "collapsed": true
   },
   "outputs": [],
   "source": [
    "# -*- coding: utf-8 -*-\n",
    "folder = \"res/\" \n",
    "\n",
    "\n",
    "parameters_names_file = 'res/test_parameters_names.txt'\n",
    " \n",
    "parameters_label_file = \"res/train_parameters_label.txt\"\n",
    "parameters_features_file = \"res/train_parameters_features.txt\"\n",
    "processed_tasks_file = \"res/train_processed_tasks.txt\"\n",
    "tasks_file = \"res/train_tasks.txt\"\n",
    "\n",
    "classification_label_file = 'res/train_classification_labels.txt'\n",
    "classification_features_file = \"res/train_classification_features.txt\"\n",
    "\n",
    "answer_label_file = \"train_answer_label.txt\"\n",
    "answer_features_file = \"train_answer_features.txt\"\n",
    "    \n",
    "\"\"\"     \n",
    "parameters_label_file = \"res/test_parameters_label.txt\"\n",
    "parameters_features_file = \"res/test_parameters_features.txt\"\n",
    "processed_tasks_file = \"res/test_processed_tasks.txt\"\n",
    "tasks_file = \"res/test_tasks.txt\"\n",
    "\n",
    "classification_label_file = 'res/test_classification_labels.txt'\n",
    "classification_features_file = \"res/test_classification_features.txt\"\n",
    "\n",
    "answer_label_file = \"test_answer_label.txt\"\n",
    "answer_features_file = \"test_answer_features.txt\"\n",
    "\"\"\"\n",
    "\n",
    "import numpy as np\n",
    "import pymorphy2\n",
    "morph = pymorphy2.MorphAnalyzer()"
   ]
  },
  {
   "cell_type": "code",
   "execution_count": 3,
   "metadata": {
    "collapsed": true
   },
   "outputs": [],
   "source": [
    "def read_task():\n",
    "    task = input()\n",
    "    return task\n",
    "\n",
    "# Test\n",
    "#print(read_tsk())\n",
    "# try to git"
   ]
  },
  {
   "cell_type": "code",
   "execution_count": 134,
   "metadata": {
    "collapsed": false
   },
   "outputs": [
    {
     "data": {
      "text/plain": [
       "'\\nfor i in range(3):\\n    filename = \"test/test1.txt\"\\n    s = readTask()\\n    save_task(s, filename, \"\\n#\\n\")\\n'"
      ]
     },
     "execution_count": 134,
     "metadata": {},
     "output_type": "execute_result"
    }
   ],
   "source": [
    "import os\n",
    "\n",
    "def save_task(task, filename, delimiter):\n",
    "    \n",
    "    if os.path.exists:\n",
    "        file = open(filename, 'a') #if file exists, than add new task\n",
    "    else:\n",
    "        file = open(filename, 'w') # else create new file\n",
    "    \n",
    "    file.write(task)\n",
    "    file.write(delimiter)\n",
    "    file.close()\n",
    "    return 0\n",
    "\n",
    "#Test\n",
    "\"\"\"\n",
    "for i in range(3):\n",
    "    filename = \"test/test1.txt\"\n",
    "    s = readTask()\n",
    "    save_task(s, filename, \"\\n#\\n\")\n",
    "\"\"\""
   ]
  },
  {
   "cell_type": "code",
   "execution_count": 5,
   "metadata": {
    "collapsed": false
   },
   "outputs": [],
   "source": [
    "#Save parameters of the task (same for all tasks from the theme)\n",
    "def save_parameters_names(list_of_parameters_names): \n",
    "    \n",
    "    par_file = open(parameters_names_file, 'w')\n",
    "    for parameter in list_of_parameters_names:\n",
    "        par_file.write(parameter + ' ')\n",
    "    par_file.close()\n",
    "    \n",
    "testList = ['Места', 'Элементы']\n",
    "save_parameters_names(testList)\n"
   ]
  },
  {
   "cell_type": "code",
   "execution_count": 6,
   "metadata": {
    "collapsed": false
   },
   "outputs": [
    {
     "name": "stdout",
     "output_type": "stream",
     "text": [
      "['Места', 'Элементы']\n"
     ]
    }
   ],
   "source": [
    "#Read parameters of the task (same for all tasks from the theme)\n",
    "\n",
    "\n",
    "def read_parameter_names(): \n",
    "   \n",
    "    par_file = open(parameters_names_file, 'r')\n",
    "    content = par_file.read()\n",
    "    list_of_parameters_names = content.split(' ')\n",
    "    list_of_parameters_names.pop()\n",
    "    par_file.close()\n",
    "    return list_of_parameters_names\n",
    "print(read_parameter_names())"
   ]
  },
  {
   "cell_type": "code",
   "execution_count": 75,
   "metadata": {
    "collapsed": false
   },
   "outputs": [],
   "source": [
    "#Словарь числительных (нужно дополнять)\n",
    "num_dict = {'несколько': 10000000007,\n",
    "            'один': 1,\n",
    "            'одному': 1,\n",
    "            'два': 2,\n",
    "            'двоих': 2,\n",
    "            'двое': 2,\n",
    "            'двум': 2,\n",
    "            'три': 3,\n",
    "            'троих': 3,\n",
    "            'трое': 3,\n",
    "            'трем': 3,\n",
    "            'трём': 3,\n",
    "            'трёх': 3,\n",
    "            'трех': 3,\n",
    "            'четыре': 4,\n",
    "            'четырем': 4,\n",
    "            'четырём': 4,\n",
    "            'четырёх': 4,\n",
    "            'четырех': 4,\n",
    "            'четверых': 4,\n",
    "            'четверо': 4,\n",
    "            'пять': 5,\n",
    "            'пяти': 5,\n",
    "            'петярых': 5,\n",
    "            'пятеро': 5,\n",
    "            'пятерым': 5,\n",
    "            'шесть': 6,\n",
    "            'шести': 6,\n",
    "            'шестерых': 6,\n",
    "            'шестерым': 6,\n",
    "            'шестеро': 6,\n",
    "            'семь': 7,\n",
    "            'семерых': 7,\n",
    "            'семеро': 7,\n",
    "            'семерым': 7,\n",
    "            'семи': 7,\n",
    "            'восемь': 8,\n",
    "            'восьмерых': 8,\n",
    "            'восьми': 8,\n",
    "            'восьмеро': 8,\n",
    "            'восьмерым': 8,\n",
    "            'девять': 9,\n",
    "            'девятерых': 9,\n",
    "            'девятерым': 9,\n",
    "            'девятеро': 9,\n",
    "            'девяти': 9,\n",
    "            'десять': 10,\n",
    "            'десяти': 10,\n",
    "            'десятерых': 10,\n",
    "            'десятерым': 10,\n",
    "            'десятеро': 10,\n",
    "            'одиннадцать': 11,\n",
    "            'двенадцать': 12,\n",
    "            'тринадцать': 13,\n",
    "            'четырнадцать': 14,\n",
    "            'пятнадцать': 15,\n",
    "            'шестнадцать': 16,\n",
    "            'семнадцать': 17,\n",
    "            'восемнадцать': 18,\n",
    "            'девятнадцать': 19,\n",
    "            'двадцать': 20,\n",
    "            'тридцать': 30,\n",
    "            'сорок': 40,\n",
    "            'пятьдесят': 50,\n",
    "            'шестьдесят': 60,\n",
    "            'семьдесят': 70,\n",
    "            'восемьдесят': 80,\n",
    "            'девяносто': 90,\n",
    "            'сто': 100,\n",
    "            'двести': 200,\n",
    "            'триста': 300,\n",
    "            'четыреста': 400,\n",
    "            'пятьсот': 500,\n",
    "            'шестьсот': 600,\n",
    "            'семьсот': 700,\n",
    "            'восемьсот': 800,\n",
    "            'девятьсот': 900,\n",
    "            'тысяча': 1000,\n",
    "            'миллион': 1000000,\n",
    "            'миллиард': 1000000000,\n",
    "           }\n",
    "\n",
    "#Функция для того, чтобы отделить знаки препинания от слов с помощью добавления пробела\n",
    "\n",
    "def punctuation_separ(task):\n",
    "    task = task.replace('.', ' .')\n",
    "    task = task.replace('?', ' ?')\n",
    "    task = task.replace('!', ' !')\n",
    "    task = task.replace(';', ' ;')\n",
    "    task = task.replace(':', ' :')\n",
    "    task = task.replace('(', ' (')\n",
    "    task = task.replace(')', ' )')\n",
    "    task = task.replace(',', ' ,')\n",
    "    return task\n",
    "\n",
    "#Функция объединяет слова из списка в строку, удаляет лишние пробелы\n",
    "\n",
    "def listToString(task):\n",
    "    task_ret = []\n",
    "    \n",
    "    for elem in task:\n",
    "        if elem != '' and elem != ' ':\n",
    "            task_ret.append(elem)\n",
    "    s = ' '\n",
    "    task_ret = s.join(task_ret)\n",
    "    task_ret = task_ret.replace(' .', '.')\n",
    "    task_ret = task_ret.replace(' ?', '?')\n",
    "    task_ret = task_ret.replace(' !', '!')\n",
    "    task_ret = task_ret.replace(' ;', ';')\n",
    "    task_ret = task_ret.replace(' :', ':')\n",
    "    task_ret = task_ret.replace(' (', '(')\n",
    "    task_ret = task_ret.replace(' )', ')')\n",
    "    task_ret = task_ret.replace(' ,', ',')\n",
    "    \n",
    "    return task_ret\n",
    "\n",
    "#Функция замены числительных на цифры, возвращает задачу, в которой произведены замены\n",
    "\n",
    "def replace_word_with_numbers(task):\n",
    "    task = punctuation_separ(task)\n",
    "    \n",
    "    task = task.split()\n",
    "    for i in range(len(task)):\n",
    "        if task[i] in num_dict:\n",
    "            if task[i + 1] in num_dict:\n",
    "                if task[i + 2] in num_dict:\n",
    "                    task[i] = str(num_dict[task[i]] + num_dict[task[i + 1]] + num_dict[task[i + 2]])\n",
    "                    task[i + 1] = ''\n",
    "                    task[i + 2] = ''\n",
    "                else:\n",
    "                    task[i] = str(num_dict[task[i]] + num_dict[task[i + 1]])\n",
    "                    task[i + 1] = ''\n",
    "            else:\n",
    "                task[i] = str(num_dict[task[i]])\n",
    "    task_ret = listToString(task)\n",
    "    return task_ret\n",
    "\"\"\"\n",
    "Проверка части речи с помощью библиотеки pymorphy2, возращаем все тэги о слове, нет парсинга.\n",
    "\"\"\"\n",
    "def check_part_of_speech(word):\n",
    "    morph = pymorphy2.MorphAnalyzer()\n",
    "    answer = (morph.parse(word))\n",
    "    return answer\n",
    "\n",
    "\"\"\"\n",
    "Если есть существительное, то выводим его, его одушевленность (0-неодушевленный, 1-одушевленный),\n",
    "строку с прилагательным о существительном (выбираем прилагательное самое близкое к параметру (к цифре))\n",
    "Если существительного нет, или предложение закончилось, то возвращаем пустую строку.\n",
    "\"\"\"\n",
    "def extract_noun(task, parameter):\n",
    "    #task = task.decode('utf-8')\n",
    "    task_list = punctuation_separ(task)\n",
    "\n",
    "    task_list = task_list.split()\n",
    "\n",
    "   \n",
    "    \n",
    "    adj =\"\"\n",
    "    \n",
    "    index = -1\n",
    "    for i in range(len(task_list)):\n",
    "        if(task_list[i] == str(parameter)):\n",
    "            index = i\n",
    "            break\n",
    "    for i in range(index, len(task_list)):\n",
    "        answer = check_part_of_speech(task_list[i])[0]\n",
    "        if adj ==\"\" and 'ADJF' == answer.tag.POS:\n",
    "            adj = task_list[i]\n",
    "        if 'NOUN' == answer.tag.POS:\n",
    "            index= i\n",
    "            break\n",
    "        if 'PNCT' in answer.tag:\n",
    "            return '', '', ''\n",
    "    \n",
    "    if index != -1:\n",
    "        if index < len(task_list) - 1:\n",
    "            if answer.tag.animacy == 'anim':\n",
    "                return task_list[index], 1, adj\n",
    "            elif answer.tag.animacy == 'inan':\n",
    "                return task_list[index], 0, adj\n",
    "            else:\n",
    "                return task_list[index]\n",
    "        else:\n",
    "            return '', '', ''\n",
    "    return '', '', ''\n",
    "\n",
    "\n"
   ]
  },
  {
   "cell_type": "code",
   "execution_count": 8,
   "metadata": {
    "collapsed": false
   },
   "outputs": [
    {
     "name": "stdout",
     "output_type": "stream",
     "text": [
      "('стульев', 0, 'замечательных')\n",
      "('хомяков', 1, 'замечательных')\n",
      "('', '', '')\n",
      "('хомяков', 1, '')\n",
      "('', '', '')\n"
     ]
    }
   ],
   "source": [
    "#Julia\n",
    "import pymorphy2\n",
    "\n",
    "\"\"\"\n",
    "Проверка части речи с помощью библиотеки pymorphy2, возращаем все тэги о слове, нет парсинга.\n",
    "\"\"\"\n",
    "def check_part_of_speech(word):\n",
    "    morph = pymorphy2.MorphAnalyzer()\n",
    "    answer = (morph.parse(word))\n",
    "    return answer\n",
    "\n",
    "\"\"\"\n",
    "Если есть существительное, то выводим его, его одушевленность (0-неодушевленный, 1-одушевленный),\n",
    "строку с прилагательным о существительном (выбираем прилагательное самое близкое к параметру (к цифре))\n",
    "Если существительного нет, или предложение закончилось, то возвращаем пустую строку.\n",
    "\"\"\"\n",
    "def extract_noun(task, parameter):\n",
    "    #task = task.decode('utf-8')\n",
    "    task_list = punctuation_separ(task)\n",
    "\n",
    "    task_list = task_list.split()\n",
    "\n",
    "   \n",
    "    \n",
    "    adj =\"\"\n",
    "    \n",
    "    index = -1\n",
    "    for i in range(len(task_list)):\n",
    "        if(task_list[i] == str(parameter)):\n",
    "            index = i\n",
    "            break\n",
    "    for i in range(index, len(task_list)):\n",
    "        answer = check_part_of_speech(task_list[i])[0]\n",
    "        if adj ==\"\" and 'ADJF' == answer.tag.POS:\n",
    "            adj = task_list[i]\n",
    "        if 'NOUN' == answer.tag.POS:\n",
    "            index= i\n",
    "            break\n",
    "        if 'PNCT' in answer.tag:\n",
    "            return '', '', ''\n",
    "    \n",
    "    if index != -1:\n",
    "        if index < len(task_list) - 1:\n",
    "            if answer.tag.animacy == 'anim':\n",
    "                return task_list[index], 1, adj\n",
    "            elif answer.tag.animacy == 'inan':\n",
    "                return task_list[index], 0, adj\n",
    "            else:\n",
    "                return task_list[index]\n",
    "        else:\n",
    "            return '', '', ''\n",
    "    return '', '', ''\n",
    "    \n",
    "task = \"Есть 5 замечательных умных стульев. Сколько существует способов выбрать из них 3?\"\n",
    "task1 = \"Есть 5 замечательных умных хомяков. Сколько существует способов выбрать из них 3?\"\n",
    "task2 = \"Есть 5 замечательных умных. Сколько существует способов выбрать из них 3?\"\n",
    "task3 = \"Есть 5 хомяков. Сколько существует способов выбрать из них 3?\"\n",
    "task4 = \"Есть хомяков 5. Сколько существует способов выбрать из них 3?\"\n",
    "\n",
    "print(extract_noun(task, 5))\n",
    "print(extract_noun(task1, 5))\n",
    "print(extract_noun(task2, 5))\n",
    "print(extract_noun(task3, 5))\n",
    "print(extract_noun(task4, 5))\n"
   ]
  },
  {
   "cell_type": "code",
   "execution_count": 9,
   "metadata": {
    "collapsed": false
   },
   "outputs": [],
   "source": [
    "#Julia\n",
    "#Чтение задач и лэйблов из файла, сохраняем их вместе с лэйблами в файл\n",
    "\n",
    "import os\n",
    "\n",
    "def read_task_from_file(filename):\n",
    "    if os.path.exists(filename):\n",
    "        file = open(filename, 'r')\n",
    "    else:\n",
    "        print(\"No such file: \" + str(filename))\n",
    "        return 0\n",
    "    tasks =[]\n",
    "    s = \"\"\n",
    "    for line in file:\n",
    "        if \"@\" not in line:\n",
    "            s += line\n",
    "        else:\n",
    "            tasks.append(s)\n",
    "            s = \"\"\n",
    "    return tasks\n"
   ]
  },
  {
   "cell_type": "code",
   "execution_count": 10,
   "metadata": {
    "collapsed": false
   },
   "outputs": [],
   "source": [
    "#Julia\n",
    "\n",
    "def extract_features_from_task(tasks):\n",
    "    for task in tasks:\n",
    "        task = replace_word_with_numbers(task)\n",
    "        filename = processed_tasks_file\n",
    "        delimiter = \"\\n#\\n\"\n",
    "        save_task(task, filename, delimiter)\n",
    "        features = extract_all_parameters_features(task)\n",
    "        for line in features:\n",
    "            filename = parameters_features_file\n",
    "            save_task(str(line), filename, \"\\n\")\n",
    "                \n",
    "#extract_features_from_task(tasks)"
   ]
  },
  {
   "cell_type": "code",
   "execution_count": null,
   "metadata": {
    "collapsed": false
   },
   "outputs": [],
   "source": []
  },
  {
   "cell_type": "code",
   "execution_count": 11,
   "metadata": {
    "collapsed": true
   },
   "outputs": [],
   "source": [
    "#Julia"
   ]
  },
  {
   "cell_type": "code",
   "execution_count": 12,
   "metadata": {
    "collapsed": true
   },
   "outputs": [],
   "source": [
    "#Julia"
   ]
  },
  {
   "cell_type": "code",
   "execution_count": 13,
   "metadata": {
    "collapsed": true
   },
   "outputs": [],
   "source": [
    "#Julia"
   ]
  },
  {
   "cell_type": "code",
   "execution_count": 14,
   "metadata": {
    "collapsed": true
   },
   "outputs": [],
   "source": [
    "#Julia"
   ]
  },
  {
   "cell_type": "code",
   "execution_count": 15,
   "metadata": {
    "collapsed": true
   },
   "outputs": [],
   "source": [
    "#Julia"
   ]
  },
  {
   "cell_type": "code",
   "execution_count": 16,
   "metadata": {
    "collapsed": true
   },
   "outputs": [],
   "source": [
    "#Julia"
   ]
  },
  {
   "cell_type": "code",
   "execution_count": 17,
   "metadata": {
    "collapsed": true
   },
   "outputs": [],
   "source": [
    "#Julia"
   ]
  },
  {
   "cell_type": "code",
   "execution_count": 18,
   "metadata": {
    "collapsed": true
   },
   "outputs": [],
   "source": [
    "#Julia"
   ]
  },
  {
   "cell_type": "code",
   "execution_count": 19,
   "metadata": {
    "collapsed": true
   },
   "outputs": [],
   "source": [
    "#Julia"
   ]
  },
  {
   "cell_type": "code",
   "execution_count": 20,
   "metadata": {
    "collapsed": true
   },
   "outputs": [],
   "source": [
    "#Katya\n",
    "\n",
    "#Auxilary functions\n",
    "#find the number of word of the text\n",
    "def word_number(text):\n",
    "    while (text.find(\"  \") != -1):\n",
    "        text = text.replace(\"  \", \" \")\n",
    "    return (text.count(\" \") + 1)\n",
    "#Ошибка. Правильно, в общении с пользователем\n",
    "def extract_sentence_with_parameter(parameter, text):\n",
    "    pattern = str(parameter) #cast to string\n",
    "    sentence = \"\"\n",
    "    position = text.find(pattern)\n",
    "    punctuation_marks = \".?!\\n\"\n",
    "    left = position\n",
    "    while ((text[left] not in punctuation_marks) & (left > 0)):\n",
    "        left -= 1\n",
    "    if (text[left] in punctuation_marks):\n",
    "        left += 1\n",
    "        if (text[left] == \" \"):\n",
    "            left += 1\n",
    "            \n",
    "    right = position\n",
    "    while ((text[right] not in punctuation_marks) & (right < len(text))):\n",
    "        right += 1\n",
    "    \n",
    "    return text[left : right]\n",
    "\n"
   ]
  },
  {
   "cell_type": "code",
   "execution_count": 21,
   "metadata": {
    "collapsed": false
   },
   "outputs": [
    {
     "name": "stdout",
     "output_type": "stream",
     "text": [
      "0.8939393939393939\n",
      "11\n",
      "Сколько существует способов выбрать из них 5\n",
      "1.0\n"
     ]
    }
   ],
   "source": [
    "#Katya\n",
    "\n",
    "#find position (as proportion) of the number in the text (if we count for letters)\n",
    "def extract_text_position_as_letters(parameter, text): \n",
    "    #text =  text.decode('utf-8')\n",
    "    pattern = str(parameter) #cast to string\n",
    "    parameterPosition = text.find(pattern) #two bytes for russian letters \n",
    "    numberOfLetters = len(text)\n",
    "    \n",
    "    if (numberOfLetters == 0):\n",
    "        print(\"Text is empty!\")\n",
    "        return 0\n",
    "    if (text.find(pattern) == -1):\n",
    "        print(\"1Pattern \\\"\" + pattern + \"\\\" doesn't exist in the text!\")\n",
    "        return 0\n",
    "    return float(parameterPosition) / numberOfLetters\n",
    "\n",
    "\n",
    "#find position (as proportion) of the number in the sentence (if we count for letters)\n",
    "def extract_sentence_position_as_letters(parameter, text): \n",
    "    #text =  text.decode('utf-8')\n",
    "    pattern = str(parameter) #cast to string\n",
    "    sentence = extract_sentence_with_parameter(parameter, text)\n",
    "    \n",
    "    parameterPosition = sentence.find(pattern) #two bytes for russian letters \n",
    "    numberOfLetters = len(sentence)\n",
    "    if (numberOfLetters == 0):\n",
    "        print(\"Sentence is empty!\")\n",
    "        return 0\n",
    "    if (sentence.find(pattern) == -1):\n",
    "        print(\"2Pattern \\\"\" + pattern + \"\\\" doesn't exist in the text!\")\n",
    "        return 0\n",
    "    return float(parameterPosition) / (numberOfLetters - 1)\n",
    "\n",
    "#Testing\n",
    "text = \"Есть 8 хомяков. Сколько существует способов выбрать из них 5? Ура!\"\n",
    "#text = \"There is 8 hamsters. How many ways are to choose 5?\"\n",
    "#text = \"слово                    слово\"\n",
    "\n",
    "parameter = 5\n",
    "#1\n",
    "print(extract_text_position_as_letters(parameter, text))\n",
    "print(word_number(text))\n",
    "print(extract_sentence_with_parameter(parameter, text))\n",
    "#2\n",
    "print(extract_sentence_position_as_letters(parameter, text))"
   ]
  },
  {
   "cell_type": "code",
   "execution_count": 22,
   "metadata": {
    "collapsed": false
   },
   "outputs": [
    {
     "name": "stdout",
     "output_type": "stream",
     "text": [
      "0.9090909090909091\n",
      "1.0\n"
     ]
    }
   ],
   "source": [
    "#Katya\n",
    "def extract_text_position_as_words(parameter, text): \n",
    "    #text =  text.decode('utf-8')\n",
    "    pattern = str(parameter) #cast to string\n",
    "    parameterPosition = text.find(pattern) #two bytes for russian letters \n",
    "    number_of_words = word_number(text)\n",
    "    if (number_of_words == 0):\n",
    "        print(\"Text is empty!\")\n",
    "        return 0\n",
    "    \n",
    "    if (text.find(pattern) == -1):\n",
    "        print(\"3Pattern \\\"\" + pattern + \"\\\" doesn't exist in the text!\")\n",
    "        return 0\n",
    "    before_parameter = text[0 : text.find(pattern)]\n",
    "    number_of_words_before_parameter = word_number(before_parameter)\n",
    "    return float(number_of_words_before_parameter) / number_of_words\n",
    "\n",
    "def extract_sentence_position_as_words(parameter, text): \n",
    "    #text =  text.decode('utf-8')\n",
    "    pattern = str(parameter) #cast to string\n",
    "    sentence = extract_sentence_with_parameter(parameter, text)\n",
    "    parameterPosition = sentence.find(pattern) #two bytes for russian letters \n",
    "    number_of_words = word_number(sentence)\n",
    "    if (number_of_words == 0):\n",
    "        print(\"Text is empty!\")\n",
    "        return 0\n",
    "    if (sentence.find(pattern) == -1):\n",
    "        print(\"4Pattern \\\"\" + pattern + \"\\\" doesn't exist in the text!\")\n",
    "        return 0\n",
    "    before_parameter = sentence[0 : sentence.find(pattern)]\n",
    "    number_of_words_before_parameter = word_number(before_parameter)\n",
    "    return float(number_of_words_before_parameter) / number_of_words\n",
    "\n",
    "\n",
    "#testing\n",
    "\n",
    "text = \"Есть 8 хомяков. Сколько существует способов выбрать из них 5? Ура!\"\n",
    "parameter = 5\n",
    "\n",
    "#3\n",
    "print(extract_text_position_as_words(parameter, text))\n",
    "\n",
    "#4\n",
    "print(extract_sentence_position_as_words(parameter, text))"
   ]
  },
  {
   "cell_type": "code",
   "execution_count": 23,
   "metadata": {
    "collapsed": false
   },
   "outputs": [
    {
     "name": "stdout",
     "output_type": "stream",
     "text": [
      "[b'10', b'20']\n"
     ]
    }
   ],
   "source": [
    "#Katya\n",
    "def extract_numbers(text):\n",
    "    #text =  text.decode('utf-8')\n",
    "    numbers = \"0123456789\"\n",
    "    parameters = []\n",
    "    ind = 0\n",
    "    mode = 0 #not number in process\n",
    "    cur_num = \"\"\n",
    "    for i in range(len(text)):\n",
    "        if (text[i] in numbers):\n",
    "            mode = 1\n",
    "            cur_num += text[i]\n",
    "        else:\n",
    "            if mode == 1:\n",
    "                parameters.append(cur_num.encode('utf-8'))\n",
    "                cur_num = \"\"\n",
    "                mode = 0\n",
    "    if mode == 1:\n",
    "        parameters.append(cur_num).encode('utf-8')\n",
    "                 \n",
    "                \n",
    "    return parameters\n",
    "    \n",
    "    \n",
    "#testing\n",
    "text = \"Сколько сущствует способов выбрать 10 карандашей из 20, чтобы заточить?\"\n",
    "print(extract_numbers(text))"
   ]
  },
  {
   "cell_type": "code",
   "execution_count": 24,
   "metadata": {
    "collapsed": true
   },
   "outputs": [],
   "source": [
    "#Katya\n"
   ]
  },
  {
   "cell_type": "code",
   "execution_count": 25,
   "metadata": {
    "collapsed": true
   },
   "outputs": [],
   "source": [
    "#Katya"
   ]
  },
  {
   "cell_type": "code",
   "execution_count": 26,
   "metadata": {
    "collapsed": true
   },
   "outputs": [],
   "source": [
    "#Katya\n"
   ]
  },
  {
   "cell_type": "code",
   "execution_count": 27,
   "metadata": {
    "collapsed": false
   },
   "outputs": [
    {
     "name": "stdout",
     "output_type": "stream",
     "text": [
      "3\n"
     ]
    }
   ],
   "source": [
    "#Katya\n",
    "\n",
    "#order in the list\n",
    "def k_stat(parameters, parameter):\n",
    "    ordered = []\n",
    "    for i in range(len(parameters)):\n",
    "        ordered.append(parameters[i])\n",
    "    \n",
    "    ordered.sort()\n",
    "    \n",
    "    \n",
    "    cur = ordered[0] - 1\n",
    "    ind = -1\n",
    "    k = -1\n",
    "    while (cur != parameter):\n",
    "        ind += 1\n",
    "        if (ordered[ind] != cur):\n",
    "            k += 1\n",
    "        cur = ordered[ind]\n",
    "    return k\n",
    "    \n",
    "\n",
    "#testing\n",
    "array = [5, 8, 5, 5, 3, 8, 10, 9, 9]\n",
    "print(k_stat(array, 9))"
   ]
  },
  {
   "cell_type": "code",
   "execution_count": 28,
   "metadata": {
    "collapsed": false
   },
   "outputs": [
    {
     "name": "stdout",
     "output_type": "stream",
     "text": [
      "2\n"
     ]
    }
   ],
   "source": [
    "# coding: utf8\n",
    "#Katya\n",
    "\n",
    "\n",
    "#Количество прилагательных в предложении с параметром\n",
    "def adj_number(parameter, text):\n",
    "    sent = extract_sentence_with_parameter(parameter, text)\n",
    "    #sent = sent.decode('utf-8')\n",
    "    words = sent.split(\" \")\n",
    "    res = 0\n",
    "    for word in words:        \n",
    "        if word[-1] in \",.!?:-\":\n",
    "            word = word.replace(word[-1], \"\")\n",
    "        if ((str(morph.parse(word)[0].tag)[0] == \"A\") & (str(morph.parse(word)[0].tag)[1] == \"D\")):\n",
    "            res += 1\n",
    "        \n",
    "    return res  \n",
    "    \n",
    "    \n",
    "    \n",
    "#testing\n",
    "text = \"В клетке сидят 30 морских свинок, 5 различных крыс и 8 хомяков. Сколько существует способов выбрать из них 5? Ура!\"\n",
    "print(adj_number(5, text))"
   ]
  },
  {
   "cell_type": "code",
   "execution_count": 29,
   "metadata": {
    "collapsed": false
   },
   "outputs": [
    {
     "name": "stdout",
     "output_type": "stream",
     "text": [
      "2\n"
     ]
    }
   ],
   "source": [
    "#Katya\n",
    "\n",
    "#Возвращает количество второстепенных знаков перпинания\n",
    "\n",
    "def punctuation(parameter, text):\n",
    "    punctuation_marks = \",:\"\n",
    "    sent = extract_sentence_with_parameter(parameter, text)\n",
    "    #sent = sent.decode('utf-8')\n",
    "    res = 0\n",
    "    for letter in sent:\n",
    "        if (letter in punctuation_marks):\n",
    "            res += 1\n",
    "    return res\n",
    "\n",
    "\n",
    "#testing\n",
    "text = \"В клетке сидят разные животные: 30 морских свинок, 5 различных крыс и 8 хомяков. Сколько существует способов выбрать из них 5? Ура!\"\n",
    "print(punctuation(5, text))\n",
    "\n",
    "    "
   ]
  },
  {
   "cell_type": "code",
   "execution_count": 30,
   "metadata": {
    "collapsed": false
   },
   "outputs": [
    {
     "name": "stdout",
     "output_type": "stream",
     "text": [
      "2448\n"
     ]
    }
   ],
   "source": [
    "#Katya\n",
    "\n",
    "#Кодирует слово числом\n",
    "def feature_hash(word):\n",
    "    #word = word.decode('utf-8')\n",
    "    word = str(word)\n",
    "    res = 0\n",
    "    base = 33\n",
    "    rank = 1\n",
    "    for ind in range(len(word)):\n",
    "        res += (ord(word[ind]) - 1000) * rank\n",
    "        \n",
    "        rank *= base\n",
    "    if (len(word) == 1):\n",
    "        res = ord(word[ind]) - ord('A')\n",
    "    return res\n",
    "\n",
    "#testing\n",
    "print(feature_hash(\"аа\"))"
   ]
  },
  {
   "cell_type": "code",
   "execution_count": 31,
   "metadata": {
    "collapsed": false
   },
   "outputs": [
    {
     "name": "stdout",
     "output_type": "stream",
     "text": [
      "A\n"
     ]
    }
   ],
   "source": [
    "#Katya\n",
    "\n",
    "#Извлекает часть речи первого слова из предложения с параметром. Прилагательное от наречия не отличает.\n",
    "def extract_first_word_in_sentence(parameter, text):\n",
    "    #text = text.decode('utf-8')\n",
    "    sent = extract_sentence_with_parameter(parameter, text)\n",
    "    words = sent.split(\" \")\n",
    "    word = words[0]\n",
    "    res = str(morph.parse(word)[0].tag)[0]        \n",
    "    return res  \n",
    "\n",
    "task = \"Красиво приняло участие 10 человек. Сколько существует способов выбрать из них 3, чтобы одного снять на обложку, другому дать утешительный приз, а последнего сделать победителем.\"\n",
    "print(extract_first_word_in_sentence(10, task))"
   ]
  },
  {
   "cell_type": "code",
   "execution_count": 32,
   "metadata": {
    "collapsed": true
   },
   "outputs": [],
   "source": [
    "#Katya"
   ]
  },
  {
   "cell_type": "code",
   "execution_count": 33,
   "metadata": {
    "collapsed": true
   },
   "outputs": [],
   "source": [
    "#Katya"
   ]
  },
  {
   "cell_type": "code",
   "execution_count": 34,
   "metadata": {
    "collapsed": true
   },
   "outputs": [],
   "source": [
    "#Katya"
   ]
  },
  {
   "cell_type": "code",
   "execution_count": 35,
   "metadata": {
    "collapsed": true
   },
   "outputs": [],
   "source": [
    "#Katya"
   ]
  },
  {
   "cell_type": "code",
   "execution_count": 36,
   "metadata": {
    "collapsed": true
   },
   "outputs": [],
   "source": [
    "#Katya"
   ]
  },
  {
   "cell_type": "code",
   "execution_count": 37,
   "metadata": {
    "collapsed": true
   },
   "outputs": [],
   "source": [
    "#Katya"
   ]
  },
  {
   "cell_type": "code",
   "execution_count": 38,
   "metadata": {
    "collapsed": true
   },
   "outputs": [],
   "source": [
    "#Katya"
   ]
  },
  {
   "cell_type": "code",
   "execution_count": 39,
   "metadata": {
    "collapsed": true
   },
   "outputs": [],
   "source": [
    "#Katya\n",
    "\n",
    "def extract_parameter_features(parameters, number, text):\n",
    "    for i in range(len(parameters)):\n",
    "        parameters[i] = int(parameters[i])\n",
    "    parameter_features = []\n",
    "    parameter_features.append(parameters[number]) #само число\n",
    "    parameter_features.append(extract_text_position_as_words(parameters[number], text)) #позиция в тексте (% в словах)\n",
    "    parameter_features.append(extract_sentence_position_as_words(parameters[number], text)) #позиция в предложении (% в словах)\n",
    "    parameter_features.append(extract_text_position_as_letters(parameters[number], text)) #позиция в тексте (% в символах)\n",
    "    parameter_features.append(extract_sentence_position_as_letters(parameters[number], text)) #позиция в предложении (% в символах)\n",
    "    parameter_features.append(k_stat(parameters, parameters[number])) #размер относительно других числительных\n",
    "    parameter_features.append(number) #позиция относительно других числительных\n",
    "    parameter_features.append(np.abs(parameters[number] - np.mean(parameters))) #отклонение от среднего остальных параметров\n",
    "    parameter_features.append(adj_number(parameters[number], text)) #количество прилагательных в предложении с параметром \n",
    "    parameter_features.append(punctuation(parameters[number], text))#количество второстепенных знаков препинания\n",
    "    noun, live, adj = extract_noun(text, parameters[number])\n",
    "    parameter_features.append(feature_hash(noun)) #существительное, к которому относится\n",
    "    parameter_features.append(feature_hash(live)) #одушевленное?\n",
    "    parameter_features.append(feature_hash(adj)) #количество прилагательных в предложении с параметром (в процентах от общего числа)    \n",
    "    parameter_features.append(feature_hash(extract_first_word_in_sentence(parameters[number], text)))#с какого слова начинается предложение с параметром\n",
    "    \n",
    "    return parameter_features"
   ]
  },
  {
   "cell_type": "code",
   "execution_count": 40,
   "metadata": {
    "collapsed": false
   },
   "outputs": [
    {
     "name": "stdout",
     "output_type": "stream",
     "text": [
      "[[30, 0.21052631578947367, 0.36363636363636365, 0.14423076923076922, 0.29411764705882354, 2, 0, 18.0, 1, 1, 3314235728, -17, 123337895226, 15], [5, 0.3684210526315789, 0.6363636363636364, 0.34579439252336447, 0.6851851851851852, 0, 1, 7.0, 1, 1, 3309190, -16, 0, 15], [8, 0.5263157894736842, 0.9090909090909091, 0.45045045045045046, 0.8620689655172413, 1, 2, 4.0, 1, 1, 99035314944, -16, 0, 15], [5, 0.9473684210526315, 1.0, 0.9391304347826087, 1.0, 0, 3, 7.0, 0, 0, 0, 0, 0, 2]]\n"
     ]
    }
   ],
   "source": [
    "#Katya\n",
    "def extract_all_parameters_features(text):\n",
    "    #text = text.decode('utf-8')\n",
    "    parameters_features = []\n",
    "    substitution = -1007\n",
    "    parameters = extract_numbers(text)    \n",
    "    ind = 0\n",
    "    \n",
    "    for index in range(len(parameters)):            \n",
    "        parameters_features.append(extract_parameter_features(parameters, index, text))            \n",
    "        text = text.replace(str(parameters[index]), str(substitution), 1)     \n",
    "            \n",
    "    return parameters_features\n",
    "\n",
    "text = \"В клетке сидят 30 морских свинок, 5 крыс и 8 хомяков. Сколько существует способов выбрать из них 5? Ура!\"\n",
    "print(extract_all_parameters_features(text))"
   ]
  },
  {
   "cell_type": "code",
   "execution_count": 41,
   "metadata": {
    "collapsed": false
   },
   "outputs": [],
   "source": [
    "#Julia\n",
    "def read_param_from_task(task):\n",
    "    words = task.split()\n",
    "    parameters = []\n",
    "    task = ''\n",
    "    index = len(words)\n",
    "    for i in range(len(words)):\n",
    "        if words[i] == '#':\n",
    "            index = i\n",
    "        if i < index:\n",
    "            task += str(words[i]) + ' '\n",
    "        elif i > index:\n",
    "            parameters.append(words[i])\n",
    "    return task, parameters\n",
    "\n",
    "def print_task_to_files(task, parameters):\n",
    "    task = replace_word_with_numbers(task)\n",
    "    filename = tasks_file\n",
    "    delimiter = \"\\n#\\n\"\n",
    "    save_task(task, filename, delimiter)\n",
    "    features = extract_all_parameters_features(task)\n",
    "    for line in features:\n",
    "        filename = parameters_features_file\n",
    "        new_line = str(line)[1:-1]        \n",
    "        save_task(new_line, filename, \"\\n\")\n",
    "    #save_task('#', filename, \"\\n\")\n",
    "    #print(str(len(features)) + \" \" + str(len(parameters) - 2))\n",
    "    if len(features) != len(parameters)-2:\n",
    "        print('Number of parameters and features are not the same in the task: ' + task)\n",
    "        print(task)\n",
    "        return\n",
    "    for i in range(len(parameters) - 2):\n",
    "        filename = parameters_label_file\n",
    "        save_task(str(parameters[i]), filename, \"\\n\")\n",
    "    #save_task('#', filename, \"\\n\")   \n"
   ]
  },
  {
   "cell_type": "code",
   "execution_count": 176,
   "metadata": {
    "collapsed": true
   },
   "outputs": [],
   "source": [
    "#Extract features for classification the task\n",
    "def extract_classification_features(processed_task, parameters_features, parameters_labels):\n",
    "    #processed_task = replace_word_with_numbers(task)\n",
    "    nums = extract_numbers(processed_task)\n",
    "    par_values = dict()\n",
    "    par_features = dict()\n",
    "    for i in range(len(parameters_labels)):\n",
    "        if (int(parameters_labels[i]) != 0):\n",
    "            par_values[int(parameters_labels[i])] = float(nums[i])\n",
    "            par_features[int(parameters_labels[i])] = parameters_features[i]\n",
    "    \n",
    "\n",
    "    \n",
    "    features = []\n",
    "    if (len(par_values) > 1): \n",
    "        if (int(par_values[2]) != 0):\n",
    "            features.append(float(par_values[1])/float(par_values[2])) #Отношение элементов к местам\n",
    "        else:\n",
    "            features.append(10000000007)\n",
    "    \n",
    "    for i in range(1, len(par_values) + 1):       \n",
    "        features.append(float(par_values[i])) #Элементы, места (сами параметры, в общем случае)\n",
    "            \n",
    "   \n",
    "    \n",
    "    for i in range(1, len(par_values) + 1):        \n",
    "        for j in range(0, len(par_features[i])):\n",
    "            features.append(float(par_features[i][j]))\n",
    "    \n",
    "    return features"
   ]
  },
  {
   "cell_type": "code",
   "execution_count": 169,
   "metadata": {
    "collapsed": true
   },
   "outputs": [],
   "source": [
    "def extract_answer_features(task, dp_labels):\n",
    "    nums = extract_numbers(task)   \n",
    "    dp_values = dict()\n",
    "    for i in range(len(dp_labels)):\n",
    "        if (int(dp_labels[i]) != 0):\n",
    "            dp_values[int(dp_labels[i])] = float(nums[i])\n",
    "    features_ans = []    \n",
    "    for i in range(len(dp_values)):\n",
    "        features_ans.append(dp_values[i + 1]) \n",
    "    return features_ans"
   ]
  },
  {
   "cell_type": "code",
   "execution_count": 179,
   "metadata": {
    "collapsed": true
   },
   "outputs": [],
   "source": [
    "#Julia\n",
    "def print_task_to_files_all(task, parameters):#parameters - это label для разных задач    \n",
    "    task = replace_word_with_numbers(task)\n",
    "    filename = processed_tasks_file\n",
    "    delimiter = \"\\n#\\n\"\n",
    "    save_task(task, filename, delimiter)\n",
    "    \n",
    "    features_dp = extract_all_parameters_features(task)\n",
    "    \n",
    "    for line in features_dp:\n",
    "        filename = parameters_features_file\n",
    "        new_line = str(line)[1:-1]        \n",
    "        save_task(new_line, filename, \"\\n\")\n",
    "        \n",
    "    #save_task('#', filename, \"\\n\")\n",
    "    #print(str(len(features)) + \" \" + str(len(parameters) - 2))\n",
    "    if len(features_dp) != len(parameters)-2:\n",
    "        print('Number of parameters and features are not the same in the task: ' + task)\n",
    "        print(task)\n",
    "        return\n",
    "    \n",
    "    #Сохраняем классификкацию\n",
    "    dp_labels = []\n",
    "    for i in range(len(parameters) - 2):\n",
    "        filename = parameters_label_file\n",
    "        dp_labels.append(parameters[i])\n",
    "        save_task(str(parameters[i]), filename, \"\\n\")\n",
    "    \n",
    "    task_type = parameters[len(parameters) - 2]\n",
    "    features_cl = extract_classification_features(task, features_dp, dp_labels)\n",
    "    save_task(str(features_cl)[1:-1],classification_features_file, \"\\n\")\n",
    "    save_task(str(task_type), classification_label_file, \"\\n\")\n",
    "    \n",
    "    #Сохраняем итоговый ответ\n",
    "    features_ans = extract_answer_features(task, dp_labels)\n",
    "    \n",
    "    \n",
    "    \n",
    "    label_file_name = folder + str(task_type) + \"/\" + answer_label_file\n",
    "    features_file_name = folder + str(task_type) + \"/\" + answer_features_file\n",
    "    save_task(str(features_ans)[1:-1], features_file_name, \"\\n\")\n",
    "    save_task(str(parameters[len(parameters) - 1]), label_file_name, \"\\n\")\n",
    "\n",
    "    \n",
    "    #save_task('#', filename, \"\\n\")   \n"
   ]
  },
  {
   "cell_type": "code",
   "execution_count": 178,
   "metadata": {
    "collapsed": false
   },
   "outputs": [],
   "source": [
    "#init_file_names()\n",
    "if os.path.exists(parameters_label_file):\n",
    "    os.remove(parameters_label_file)\n",
    "if os.path.exists(parameters_features_file ):\n",
    "    os.remove(parameters_features_file)\n",
    "if os.path.exists(processed_tasks_file):\n",
    "    os.remove(processed_tasks_file)\n",
    "if os.path.exists(classification_label_file):\n",
    "    os.remove(classification_label_file)\n",
    "if os.path.exists(classification_features_file):\n",
    "    os.remove(classification_features_file)\n",
    "    \n",
    "    \n",
    "tasks = read_task_from_file(tasks_file) \n",
    "\n",
    "\n",
    "\n",
    "\n",
    "for task in tasks:    \n",
    "    results = read_param_from_task(task)    \n",
    "    \n",
    "    print_task_to_files_all(results[0], results[1])"
   ]
  },
  {
   "cell_type": "code",
   "execution_count": null,
   "metadata": {
    "collapsed": true
   },
   "outputs": [],
   "source": []
  },
  {
   "cell_type": "code",
   "execution_count": null,
   "metadata": {
    "collapsed": true
   },
   "outputs": [],
   "source": []
  }
 ],
 "metadata": {
  "anaconda-cloud": {},
  "kernelspec": {
   "display_name": "Python 3",
   "language": "python",
   "name": "python3"
  },
  "language_info": {
   "codemirror_mode": {
    "name": "ipython",
    "version": 3
   },
   "file_extension": ".py",
   "mimetype": "text/x-python",
   "name": "python",
   "nbconvert_exporter": "python",
   "pygments_lexer": "ipython3",
   "version": "3.6.2"
  }
 },
 "nbformat": 4,
 "nbformat_minor": 2
}
