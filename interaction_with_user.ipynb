{
 "cells": [
  {
   "cell_type": "code",
   "execution_count": 510,
   "metadata": {
    "collapsed": true
   },
   "outputs": [],
   "source": [
    "parameters_names_file = 'res/parameters_names.txt'\n",
    "parameters_label_file = \"res/train_parameters_label.txt\"\n",
    "parameters_features_file = \"res/train_parameters_features.txt\"\n",
    "processed_tasks_file = \"res/user_tasks.txt\"\n",
    "\n",
    "\n",
    "classification_names_file = 'res/tasks_types.txt'\n",
    "classification_label_file = 'res/train_classification_labels.txt'\n",
    "classification_features_file = \"res/train_classification_features.txt\"\n",
    "tasks_file = \"res/test_tasks.txt\"\n"
   ]
  },
  {
   "cell_type": "code",
   "execution_count": 383,
   "metadata": {
    "collapsed": true
   },
   "outputs": [],
   "source": [
    "#Save parameters of the task (same for all tasks from the theme)\n",
    "def save_parameters_names(list_of_parameters_names): \n",
    "    \n",
    "    par_file = open(parameters_names_file, 'w')\n",
    "    for parameter in list_of_parameters_names:\n",
    "        par_file.write(parameter + '\\n')\n",
    "    par_file.close()\n",
    "    \n"
   ]
  },
  {
   "cell_type": "code",
   "execution_count": 384,
   "metadata": {
    "collapsed": false
   },
   "outputs": [
    {
     "name": "stdout",
     "output_type": "stream",
     "text": [
      "['Элементов', 'Мест']\n"
     ]
    }
   ],
   "source": [
    "#Read parameters of the task (same for all tasks from the theme)\n",
    "def read_parameters_names():     \n",
    "    par_file = open(parameters_names_file, 'r')\n",
    "    content = par_file.read()\n",
    "    list_of_parameters_names = content.split('\\n')\n",
    "    list_of_parameters_names.pop()\n",
    "    par_file.close()\n",
    "    \n",
    "    \n",
    "    \n",
    "    return list_of_parameters_names\n",
    "print(read_parameters_names())"
   ]
  },
  {
   "cell_type": "code",
   "execution_count": 385,
   "metadata": {
    "collapsed": false
   },
   "outputs": [],
   "source": [
    "import nbimporter\n",
    "import extracting_features_for_defining_parameters as efdp\n"
   ]
  },
  {
   "cell_type": "code",
   "execution_count": 386,
   "metadata": {
    "collapsed": false
   },
   "outputs": [],
   "source": [
    "import ipynb.fs.defs.extracting_features_for_defining_parameters  as other"
   ]
  },
  {
   "cell_type": "code",
   "execution_count": 387,
   "metadata": {
    "collapsed": false
   },
   "outputs": [
    {
     "name": "stdout",
     "output_type": "stream",
     "text": [
      "С учётом порядка, с повторениями\n"
     ]
    }
   ],
   "source": [
    "def intersect(l1, l2):\n",
    "    return (len(list(set(l1) & set(l2))) > 0)\n",
    "\n",
    "def remove_punctuation(s):\n",
    "    s = s.replace(\",\", \"\")\n",
    "    s = s.replace(\":\", \"\")\n",
    "    s = s.replace(\".\", \"\")\n",
    "    s = s.replace(\"!\", \"\")\n",
    "    s = s.replace(\"?\", \"\")\n",
    "    s = s.replace(\"-\", \"\")\n",
    "    s = s.replace(\"  \", \"\")\n",
    "    return s\n",
    "\n",
    "def process_answer(s):\n",
    "    s = remove_punctuation(s)\n",
    "    s = s.lower()\n",
    "    s = s.strip()\n",
    "    \n",
    "    return s\n",
    "\n",
    "def process_answer_with_comma(s):   \n",
    "    s = s.lower()\n",
    "    s = s.strip()\n",
    "    s = s.replace(\",\", \"хюх\")\n",
    "    s = s.replace(\" \", \"ыыёы\")\n",
    "    s = s.title()\n",
    "    s = s.replace(\"ыыёы\", \" \")\n",
    "    s = s.replace(\"хюх\", \",\")\n",
    "    \n",
    "    return s\n",
    "\n",
    "t = \"с учётом порядка, с повторениями\"\n",
    "print(process_answer_with_comma(t))"
   ]
  },
  {
   "cell_type": "code",
   "execution_count": 388,
   "metadata": {
    "collapsed": false
   },
   "outputs": [],
   "source": [
    "def sug_parameters_names():    \n",
    "    print(\"Я правильно понимаю, что нам нужно найти значение следующих параметров: \")\n",
    "    names = read_parameters_names()\n",
    "    for i in range(len(names)):\n",
    "        if (i != len(names) - 1):\n",
    "            print(\"   \" + str(i + 1) + \". \" + names[i])\n",
    "        else:\n",
    "            print(\"   \" + str(i + 1) + \". \" + names[i] + \"?\")\n",
    "    print(\"Все правильно?\")\n",
    "    \n",
    "def quest_parameters_names():    \n",
    "    ans = input(\"Введите: \\n \\\"1\\\", если всё правильно \\n \\\"0\\\", иначе\\n\")\n",
    "    while (ans != \"0\" & ans != \"1\"):\n",
    "        ans = input(\"Введите: \\n \\\"1\\\", если всё правильно \\n \\\"0\\\", иначе\\n\")\n",
    "    \n",
    "\n",
    "def ans_parameters_names(): \n",
    "    possible_yes = [\"да\", 'правильно', 'верно', 'согласен', 'согласна']\n",
    "    possible_no = [\"нет\"]\n",
    "    ans = \"\"\n",
    "    while (1):\n",
    "        ans = input()\n",
    "        ans = process_answer(ans)\n",
    "        \n",
    "        ans_words = ans.split(\" \")\n",
    "        if (intersect(ans_words, possible_yes)):\n",
    "            print(\"Ура! Я рад, что всё правильно!\")\n",
    "            break\n",
    "        else:\n",
    "            if (intersect(ans_words, possible_no)):\n",
    "                repair_parameters_names()\n",
    "                break\n",
    "            else:\n",
    "                print(\"К сожалению, я не понял ответа. Напишите, пожалуйста, \\\"да\\\" или \\\"нет\\\".\")\n",
    "                \n",
    "            \n",
    "    \n",
    "        \n",
    "def repair_parameters_names(): \n",
    "    new_names_str = input(\"Перечислите через точку с запятой названия параметров:\\n\")\n",
    "    new_names = new_names_str.split(\";\")\n",
    "    for i in range(len(new_names)):        \n",
    "        new_names[i] = process_answer_with_comma(new_names[i])\n",
    "        \n",
    "    \n",
    "    save_parameters_names(new_names)\n",
    "    "
   ]
  },
  {
   "cell_type": "code",
   "execution_count": 389,
   "metadata": {
    "collapsed": true
   },
   "outputs": [],
   "source": [
    "def read_task():\n",
    "    nums = []\n",
    "    parameters_names = read_parameters_names() \n",
    "    while (len(nums) < len(parameters_names)):\n",
    "        task = input(\"Введите текст задачи:\\n\")\n",
    "        processed_task = replace_word_with_numbers(task)\n",
    "        nums = extract_numbers(processed_task)\n",
    "        if (len(nums) < len(parameters_names)):\n",
    "            print(\"Не могу найти достаточное количество данных=( Попробуйте ввести все числительне цифрами!\")\n",
    "            \n",
    "    return task"
   ]
  },
  {
   "cell_type": "code",
   "execution_count": 390,
   "metadata": {
    "collapsed": true
   },
   "outputs": [],
   "source": [
    "import numpy as np\n",
    "import pymorphy2\n",
    "morph = pymorphy2.MorphAnalyzer()"
   ]
  },
  {
   "cell_type": "code",
   "execution_count": 391,
   "metadata": {
    "collapsed": true
   },
   "outputs": [],
   "source": [
    "import os\n",
    "\n",
    "def save_task(task, filename, delimiter):\n",
    "    \n",
    "    if os.path.exists:\n",
    "        file = open(filename, 'a') #if file exists, than add new task\n",
    "    else:\n",
    "        file = open(filename, 'w') # else create new file\n",
    "    \n",
    "    file.write(task)\n",
    "    file.write(delimiter)\n",
    "    file.close()\n",
    "    return 0"
   ]
  },
  {
   "cell_type": "code",
   "execution_count": 447,
   "metadata": {
    "collapsed": true
   },
   "outputs": [],
   "source": [
    "#Словарь числительных (нужно дополнять)\n",
    "num_dict = {'несколько': 10000000007,\n",
    "            'один': 1,\n",
    "            'одному': 1,\n",
    "            'два': 2,\n",
    "            'двоих': 2,\n",
    "            'двое': 2,\n",
    "            'двум': 2,\n",
    "            'три': 3,\n",
    "            'троих': 3,\n",
    "            'трое': 3,\n",
    "            'трем': 3,\n",
    "            'трём': 3,\n",
    "            'трёх': 3,\n",
    "            'трех': 3,\n",
    "            'четыре': 4,\n",
    "            'четырем': 4,\n",
    "            'четырём': 4,\n",
    "            'четырёх': 4,\n",
    "            'четырех': 4,\n",
    "            'четверых': 4,\n",
    "            'четверо': 4,\n",
    "            'пять': 5,\n",
    "            'пяти': 5,\n",
    "            'петярых': 5,\n",
    "            'пятеро': 5,\n",
    "            'пятерым': 5,\n",
    "            'шесть': 6,\n",
    "            'шести': 6,\n",
    "            'шестерых': 6,\n",
    "            'шестерым': 6,\n",
    "            'шестеро': 6,\n",
    "            'семь': 7,\n",
    "            'семерых': 7,\n",
    "            'семеро': 7,\n",
    "            'семерым': 7,\n",
    "            'семи': 7,\n",
    "            'восемь': 8,\n",
    "            'восьмерых': 8,\n",
    "            'восьми': 8,\n",
    "            'восьмеро': 8,\n",
    "            'восьмерым': 8,\n",
    "            'девять': 9,\n",
    "            'девятерых': 9,\n",
    "            'девятерым': 9,\n",
    "            'девятеро': 9,\n",
    "            'девяти': 9,\n",
    "            'десять': 10,\n",
    "            'десяти': 10,\n",
    "            'десятерых': 10,\n",
    "            'десятерым': 10,\n",
    "            'десятеро': 10,\n",
    "            'одиннадцать': 11,\n",
    "            'двенадцать': 12,\n",
    "            'тринадцать': 13,\n",
    "            'четырнадцать': 14,\n",
    "            'пятнадцать': 15,\n",
    "            'шестнадцать': 16,\n",
    "            'семнадцать': 17,\n",
    "            'восемнадцать': 18,\n",
    "            'девятнадцать': 19,\n",
    "            'двадцать': 20,\n",
    "            'тридцать': 30,\n",
    "            'сорок': 40,\n",
    "            'пятьдесят': 50,\n",
    "            'шестьдесят': 60,\n",
    "            'семьдесят': 70,\n",
    "            'восемьдесят': 80,\n",
    "            'девяносто': 90,\n",
    "            'сто': 100,\n",
    "            'двести': 200,\n",
    "            'триста': 300,\n",
    "            'четыреста': 400,\n",
    "            'пятьсот': 500,\n",
    "            'шестьсот': 600,\n",
    "            'семьсот': 700,\n",
    "            'восемьсот': 800,\n",
    "            'девятьсот': 900,\n",
    "            'тысяча': 1000,\n",
    "            'миллион': 1000000,\n",
    "            'миллиард': 1000000000,\n",
    "           }\n",
    "\n",
    "#Функция для того, чтобы отделить знаки препинания от слов с помощью добавления пробела\n",
    "\n",
    "def punctuation_separ(task):\n",
    "    task = task.replace('.', ' .')\n",
    "    task = task.replace('?', ' ?')\n",
    "    task = task.replace('!', ' !')\n",
    "    task = task.replace(';', ' ;')\n",
    "    task = task.replace(':', ' :')\n",
    "    task = task.replace('(', ' (')\n",
    "    task = task.replace(')', ' )')\n",
    "    task = task.replace(',', ' ,')\n",
    "    return task\n",
    "\n",
    "#Функция объединяет слова из списка в строку, удаляет лишние пробелы\n",
    "\n",
    "def listToString(task):\n",
    "    task_ret = []\n",
    "    \n",
    "    for elem in task:\n",
    "        if elem != '' and elem != ' ':\n",
    "            task_ret.append(elem)\n",
    "    s = ' '\n",
    "    task_ret = s.join(task_ret)\n",
    "    task_ret = task_ret.replace(' .', '.')\n",
    "    task_ret = task_ret.replace(' ?', '?')\n",
    "    task_ret = task_ret.replace(' !', '!')\n",
    "    task_ret = task_ret.replace(' ;', ';')\n",
    "    task_ret = task_ret.replace(' :', ':')\n",
    "    task_ret = task_ret.replace(' (', '(')\n",
    "    task_ret = task_ret.replace(' )', ')')\n",
    "    task_ret = task_ret.replace(' ,', ',')\n",
    "    \n",
    "    return task_ret\n",
    "\n",
    "#Функция замены числительных на цифры, возвращает задачу, в которой произведены замены\n",
    "\n",
    "def replace_word_with_numbers(task):\n",
    "    task = punctuation_separ(task)\n",
    "    \n",
    "    task = task.split()\n",
    "    for i in range(len(task)):\n",
    "        if task[i] in num_dict:\n",
    "            if task[i + 1] in num_dict:\n",
    "                if task[i + 2] in num_dict:\n",
    "                    task[i] = str(num_dict[task[i]] + num_dict[task[i + 1]] + num_dict[task[i + 2]])\n",
    "                    task[i + 1] = ''\n",
    "                    task[i + 2] = ''\n",
    "                else:\n",
    "                    task[i] = str(num_dict[task[i]] + num_dict[task[i + 1]])\n",
    "                    task[i + 1] = ''\n",
    "            else:\n",
    "                task[i] = str(num_dict[task[i]])\n",
    "    task_ret = listToString(task)\n",
    "    return task_ret\n",
    "\"\"\"\n",
    "Проверка части речи с помощью библиотеки pymorphy2, возращаем все тэги о слове, нет парсинга.\n",
    "\"\"\"\n",
    "def check_part_of_speech(word):\n",
    "    morph = pymorphy2.MorphAnalyzer()\n",
    "    answer = (morph.parse(word))\n",
    "    return answer\n",
    "\n",
    "\"\"\"\n",
    "Если есть существительное, то выводим его, его одушевленность (0-неодушевленный, 1-одушевленный),\n",
    "строку с прилагательным о существительном (выбираем прилагательное самое близкое к параметру (к цифре))\n",
    "Если существительного нет, или предложение закончилось, то возвращаем пустую строку.\n",
    "\"\"\"\n",
    "def extract_noun(task, parameter):\n",
    "    #task = task.decode('utf-8')\n",
    "    task_list = punctuation_separ(task)\n",
    "\n",
    "    task_list = task_list.split()\n",
    "\n",
    "   \n",
    "    \n",
    "    adj =\"\"\n",
    "    \n",
    "    index = -1\n",
    "    for i in range(len(task_list)):\n",
    "        if(task_list[i] == str(parameter)):\n",
    "            index = i\n",
    "            break\n",
    "    for i in range(index, len(task_list)):\n",
    "        answer = check_part_of_speech(task_list[i])[0]\n",
    "        if adj ==\"\" and 'ADJF' == answer.tag.POS:\n",
    "            adj = task_list[i]\n",
    "        if 'NOUN' == answer.tag.POS:\n",
    "            index= i\n",
    "            break\n",
    "        if 'PNCT' in answer.tag:\n",
    "            return '', '', ''\n",
    "    \n",
    "    if index != -1:\n",
    "        if index < len(task_list) - 1:\n",
    "            if answer.tag.animacy == 'anim':\n",
    "                return task_list[index], 1, adj\n",
    "            elif answer.tag.animacy == 'inan':\n",
    "                return task_list[index], 0, adj\n",
    "            else:\n",
    "                return task_list[index]\n",
    "        else:\n",
    "            return '', '', ''\n",
    "    return '', '', ''\n",
    "\n",
    "\n"
   ]
  },
  {
   "cell_type": "code",
   "execution_count": 393,
   "metadata": {
    "collapsed": true
   },
   "outputs": [],
   "source": [
    "#Чтение задач и лэйблов из файла, сохраняем их вместе с лэйблами в файл\n",
    "\n",
    "import os\n",
    "\n",
    "def read_task_from_file(filename):\n",
    "    if os.path.exists(filename):\n",
    "        file = open(filename, 'r')\n",
    "    else:\n",
    "        print(\"No such file: \" + str(filename))\n",
    "        return 0\n",
    "    tasks =[]\n",
    "    s = \"\"\n",
    "    for line in file:\n",
    "        if \"@\" not in line:\n",
    "            s += line\n",
    "        else:\n",
    "            tasks.append(s)\n",
    "            s = \"\"\n",
    "    return tasks"
   ]
  },
  {
   "cell_type": "code",
   "execution_count": 394,
   "metadata": {
    "collapsed": true
   },
   "outputs": [],
   "source": [
    "def extract_features_from_task(tasks):\n",
    "    for task in tasks:\n",
    "        task = replace_word_with_numbers(task)\n",
    "        filename = processed_tasks_file\n",
    "        delimiter = \"\\n#\\n\"\n",
    "        save_task(task, filename, delimiter)\n",
    "        features = extract_all_parameters_features(task)\n",
    "        for line in features:\n",
    "            filename = parameters_features_file\n",
    "            save_task(str(line), filename, \"\\n\")"
   ]
  },
  {
   "cell_type": "code",
   "execution_count": 395,
   "metadata": {
    "collapsed": true
   },
   "outputs": [],
   "source": [
    "def word_number(text):\n",
    "    while (text.find(\"  \") != -1):\n",
    "        text = text.replace(\"  \", \" \")\n",
    "    return (text.count(\" \") + 1)\n",
    "\n",
    "def extract_sentence_with_parameter(parameter, text):\n",
    "    pattern = str(parameter) #cast to string\n",
    "    sentence = \"\"\n",
    "    position = text.find(pattern)\n",
    "    punctuation_marks = \".?!\\n\"\n",
    "    left = position\n",
    "    while ((left > 0) & (text[left] not in punctuation_marks)):\n",
    "        left -= 1\n",
    "    if (text[left] in punctuation_marks):\n",
    "        left += 1\n",
    "        if (text[left] == \" \"):\n",
    "            left += 1\n",
    "            \n",
    "    right = position\n",
    "    while ((right < len(text))):\n",
    "        if (text[right] in punctuation_marks):\n",
    "            break\n",
    "        right += 1\n",
    "    \n",
    "    return text[left : right]"
   ]
  },
  {
   "cell_type": "code",
   "execution_count": 396,
   "metadata": {
    "collapsed": true
   },
   "outputs": [],
   "source": [
    "#find position (as proportion) of the number in the text (if we count for letters)\n",
    "def extract_text_position_as_letters(parameter, text): \n",
    "    #text =  text.decode('utf-8')\n",
    "    pattern = str(parameter) #cast to string\n",
    "    parameterPosition = text.find(pattern) #two bytes for russian letters \n",
    "    numberOfLetters = len(text)\n",
    "    \n",
    "    if (numberOfLetters == 0):\n",
    "        print(\"Text is empty!\")\n",
    "        return 0\n",
    "    if (text.find(pattern) == -1):\n",
    "        print(\"1Pattern \\\"\" + pattern + \"\\\" doesn't exist in the text!\")\n",
    "        return 0\n",
    "    return float(parameterPosition) / numberOfLetters\n",
    "\n",
    "\n",
    "#find position (as proportion) of the number in the sentence (if we count for letters)\n",
    "def extract_sentence_position_as_letters(parameter, text): \n",
    "    #text =  text.decode('utf-8')\n",
    "    pattern = str(parameter) #cast to string\n",
    "    sentence = extract_sentence_with_parameter(parameter, text)\n",
    "    \n",
    "    parameterPosition = sentence.find(pattern) #two bytes for russian letters \n",
    "    numberOfLetters = len(sentence)\n",
    "    if (numberOfLetters == 0):\n",
    "        print(\"Sentence is empty!\")\n",
    "        return 0\n",
    "    if (sentence.find(pattern) == -1):\n",
    "        print(\"2Pattern \\\"\" + pattern + \"\\\" doesn't exist in the text!\")\n",
    "        return 0\n",
    "    return float(parameterPosition) / (numberOfLetters - 1)"
   ]
  },
  {
   "cell_type": "code",
   "execution_count": 397,
   "metadata": {
    "collapsed": true
   },
   "outputs": [],
   "source": [
    "def extract_text_position_as_words(parameter, text): \n",
    "    #text =  text.decode('utf-8')\n",
    "    pattern = str(parameter) #cast to string\n",
    "    parameterPosition = text.find(pattern) #two bytes for russian letters \n",
    "    number_of_words = word_number(text)\n",
    "    if (number_of_words == 0):\n",
    "        print(\"Text is empty!\")\n",
    "        return 0\n",
    "    \n",
    "    if (text.find(pattern) == -1):\n",
    "        print(\"3Pattern \\\"\" + pattern + \"\\\" doesn't exist in the text!\")\n",
    "        return 0\n",
    "    before_parameter = text[0 : text.find(pattern)]\n",
    "    number_of_words_before_parameter = word_number(before_parameter)\n",
    "    return float(number_of_words_before_parameter) / number_of_words\n",
    "\n",
    "def extract_sentence_position_as_words(parameter, text): \n",
    "    #text =  text.decode('utf-8')\n",
    "    pattern = str(parameter) #cast to string\n",
    "    sentence = extract_sentence_with_parameter(parameter, text)\n",
    "    parameterPosition = sentence.find(pattern) #two bytes for russian letters \n",
    "    number_of_words = word_number(sentence)\n",
    "    if (number_of_words == 0):\n",
    "        print(\"Text is empty!\")\n",
    "        return 0\n",
    "    if (sentence.find(pattern) == -1):\n",
    "        print(\"4Pattern \\\"\" + pattern + \"\\\" doesn't exist in the text!\")\n",
    "        return 0\n",
    "    before_parameter = sentence[0 : sentence.find(pattern)]\n",
    "    number_of_words_before_parameter = word_number(before_parameter)\n",
    "    return float(number_of_words_before_parameter) / number_of_words\n",
    "\n"
   ]
  },
  {
   "cell_type": "code",
   "execution_count": 398,
   "metadata": {
    "collapsed": false
   },
   "outputs": [
    {
     "name": "stdout",
     "output_type": "stream",
     "text": [
      "['10', '20']\n"
     ]
    }
   ],
   "source": [
    "def extract_numbers(text):\n",
    "    #text =  text.decode('utf-8')\n",
    "    numbers = \"0123456789\"\n",
    "    parameters = []\n",
    "    ind = 0\n",
    "    mode = 0 #not number in process\n",
    "    cur_num = \"\"\n",
    "    for i in range(len(text)):\n",
    "        if (text[i] in numbers):\n",
    "            mode = 1\n",
    "            cur_num += text[i]\n",
    "        else:\n",
    "            if mode == 1:\n",
    "                parameters.append(cur_num)\n",
    "                cur_num = \"\"\n",
    "                mode = 0\n",
    "    if mode == 1:\n",
    "        parameters.append(cur_num)\n",
    "                 \n",
    "                \n",
    "    return parameters\n",
    "\n",
    "#testing\n",
    "text = \"Сколько сущствует способов выбрать 10 карандашей из 20, чтобы заточить?\"\n",
    "print(extract_numbers(text))"
   ]
  },
  {
   "cell_type": "code",
   "execution_count": 399,
   "metadata": {
    "collapsed": true
   },
   "outputs": [],
   "source": [
    "def k_stat(parameters, parameter):\n",
    "    ordered = []\n",
    "    for i in range(len(parameters)):\n",
    "        ordered.append(parameters[i])\n",
    "    \n",
    "    ordered.sort()\n",
    "    \n",
    "    \n",
    "    cur = ordered[0] - 1\n",
    "    ind = -1\n",
    "    k = -1\n",
    "    while (cur != parameter):\n",
    "        ind += 1\n",
    "        if (ordered[ind] != cur):\n",
    "            k += 1\n",
    "        cur = ordered[ind]\n",
    "    return k\n",
    "\n",
    "#Количество прилагательных в предложении с параметром\n",
    "def adj_number(parameter, text):\n",
    "    sent = extract_sentence_with_parameter(parameter, text)\n",
    "    #sent = sent.decode('utf-8')\n",
    "    words = sent.split(\" \")\n",
    "    res = 0\n",
    "    for word in words:        \n",
    "        if word[-1] in \",.!?:-\":\n",
    "            word = word.replace(word[-1], \"\")\n",
    "        if ((str(morph.parse(word)[0].tag)[0] == \"A\") & (str(morph.parse(word)[0].tag)[1] == \"D\")):\n",
    "            res += 1\n",
    "        \n",
    "    return res  \n",
    "\n",
    "#Возвращает количество второстепенных знаков перпинания\n",
    "\n",
    "def punctuation(parameter, text):\n",
    "    punctuation_marks = \",:\"\n",
    "    sent = extract_sentence_with_parameter(parameter, text)\n",
    "    #sent = sent.decode('utf-8')\n",
    "    res = 0\n",
    "    for letter in sent:\n",
    "        if (letter in punctuation_marks):\n",
    "            res += 1\n",
    "    return res\n",
    "\n",
    "#Кодирует слово числом\n",
    "def feature_hash(word):\n",
    "    #word = word.decode('utf-8')\n",
    "    word = str(word)\n",
    "    res = 0\n",
    "    base = 33\n",
    "    rank = 1\n",
    "    for ind in range(len(word)):\n",
    "        res += (ord(word[ind]) - 1000) * rank\n",
    "        \n",
    "        rank *= base\n",
    "    if (len(word) == 1):\n",
    "        res = ord(word[ind]) - ord('A')\n",
    "    return res\n",
    "\n",
    "\n",
    "#Извлекает часть речи первого слова из предложения с параметром. Прилагательное от наречия не отличает.\n",
    "def extract_first_word_in_sentence(parameter, text):\n",
    "    #text = text.decode('utf-8')\n",
    "    sent = extract_sentence_with_parameter(parameter, text)\n",
    "    words = sent.split(\" \")\n",
    "    word = words[0]\n",
    "    res = str(morph.parse(word)[0].tag)[0]        \n",
    "    return res  "
   ]
  },
  {
   "cell_type": "code",
   "execution_count": 400,
   "metadata": {
    "collapsed": true
   },
   "outputs": [],
   "source": [
    "def extract_parameter_features(parameters, number, text):\n",
    "    for i in range(len(parameters)):\n",
    "        parameters[i] = int(parameters[i])\n",
    "    parameter_features = []\n",
    "    parameter_features.append(parameters[number]) #само число\n",
    "    parameter_features.append(extract_text_position_as_words(parameters[number], text)) #позиция в тексте (% в словах)\n",
    "    parameter_features.append(extract_sentence_position_as_words(parameters[number], text)) #позиция в предложении (% в словах)\n",
    "    parameter_features.append(extract_text_position_as_letters(parameters[number], text)) #позиция в тексте (% в символах)\n",
    "    parameter_features.append(extract_sentence_position_as_letters(parameters[number], text)) #позиция в предложении (% в символах)\n",
    "    parameter_features.append(k_stat(parameters, parameters[number])) #размер относительно других числительных\n",
    "    parameter_features.append(number) #позиция относительно других числительных\n",
    "    parameter_features.append(np.abs(parameters[number] - np.mean(parameters))) #отклонение от среднего остальных параметров\n",
    "    parameter_features.append(adj_number(parameters[number], text)) #количество прилагательных в предложении с параметром \n",
    "    parameter_features.append(punctuation(parameters[number], text))#количество второстепенных знаков препинания\n",
    "    noun, live, adj = extract_noun(text, parameters[number])\n",
    "    parameter_features.append(feature_hash(noun)) #существительное, к которому относится\n",
    "    parameter_features.append(feature_hash(live)) #одушевленное?\n",
    "    parameter_features.append(feature_hash(adj)) #количество прилагательных в предложении с параметром (в процентах от общего числа)    \n",
    "    parameter_features.append(feature_hash(extract_first_word_in_sentence(parameters[number], text)))#с какого слова начинается предложение с параметром\n",
    "    \n",
    "    return parameter_features"
   ]
  },
  {
   "cell_type": "code",
   "execution_count": 401,
   "metadata": {
    "collapsed": true
   },
   "outputs": [],
   "source": [
    "def extract_all_parameters_features(text):\n",
    "    #text = text.decode('utf-8')\n",
    "    parameters_features = []\n",
    "    substitution = -1007\n",
    "    parameters = extract_numbers(text)    \n",
    "    ind = 0\n",
    "    \n",
    "    for index in range(len(parameters)):            \n",
    "        parameters_features.append(extract_parameter_features(parameters, index, text))            \n",
    "        text = text.replace(str(parameters[index]), str(substitution), 1)     \n",
    "            \n",
    "    return parameters_features"
   ]
  },
  {
   "cell_type": "code",
   "execution_count": 402,
   "metadata": {
    "collapsed": true
   },
   "outputs": [],
   "source": [
    "def read_param_from_task(task):\n",
    "    words = task.split()\n",
    "    parameters = []\n",
    "    task = ''\n",
    "    index = len(words)\n",
    "    for i in range(len(words)):\n",
    "        if words[i] == '#':\n",
    "            index = i\n",
    "        if i < index:\n",
    "            task += str(words[i]) + ' '\n",
    "        elif i > index:\n",
    "            parameters.append(words[i])\n",
    "    return task, parameters\n",
    "\n",
    "def print_task_to_files(task, parameters):\n",
    "    task = replace_word_with_numbers(task)\n",
    "    filename = tasks_file\n",
    "    delimiter = \"\\n#\\n\"\n",
    "    save_task(task, filename, delimiter)\n",
    "    features = extract_all_parameters_features(task)\n",
    "    for line in features:\n",
    "        filename = parameters_features_file\n",
    "        new_line = str(line)[1:-1]        \n",
    "        save_task(new_line, filename, \"\\n\")\n",
    "    #save_task('#', filename, \"\\n\")\n",
    "    #print(str(len(features)) + \" \" + str(len(parameters) - 2))\n",
    "    if len(features) != len(parameters)-2:\n",
    "        print('Number of parameters and features are not the same in the task: ' + task)\n",
    "        print(task)\n",
    "        return\n",
    "    for i in range(len(parameters) - 2):\n",
    "        filename = parameters_label_file\n",
    "        save_task(str(parameters[i]), filename, \"\\n\")"
   ]
  },
  {
   "cell_type": "code",
   "execution_count": null,
   "metadata": {
    "collapsed": true
   },
   "outputs": [],
   "source": []
  },
  {
   "cell_type": "code",
   "execution_count": null,
   "metadata": {
    "collapsed": true
   },
   "outputs": [],
   "source": []
  },
  {
   "cell_type": "code",
   "execution_count": null,
   "metadata": {
    "collapsed": true
   },
   "outputs": [],
   "source": []
  },
  {
   "cell_type": "code",
   "execution_count": 403,
   "metadata": {
    "collapsed": true
   },
   "outputs": [],
   "source": [
    "import numpy as np\n",
    "import pandas as pd"
   ]
  },
  {
   "cell_type": "code",
   "execution_count": 472,
   "metadata": {
    "collapsed": true
   },
   "outputs": [],
   "source": [
    "#preprocessing\n",
    "from sklearn import preprocessing\n",
    "#libraries for ANN\n",
    "from sklearn.neural_network import MLPClassifier\n",
    "from sklearn.neural_network import MLPRegressor\n",
    "from sklearn.metrics import accuracy_score"
   ]
  },
  {
   "cell_type": "code",
   "execution_count": 405,
   "metadata": {
    "collapsed": true
   },
   "outputs": [],
   "source": [
    "#Reading data\n",
    "def prepare_data_for_defining_parameter_training():\n",
    "    parameters_names_file = 'res/parameters_names.txt'\n",
    "    test_parameters_label_file = \"res/test_parameters_label.txt\"\n",
    "    test_parameters_features_file = \"res/test_parameters_features.txt\"\n",
    "    train_parameters_label_file = \"res/train_parameters_label.txt\"\n",
    "    train_parameters_features_file = \"res/train_parameters_features.txt\" \n",
    "    train_features = pd.read_csv(train_parameters_features_file, header=None)\n",
    "    train_labels = pd.read_csv(train_parameters_label_file, header=None)\n",
    "    test_features = pd.read_csv(test_parameters_features_file, header=None)\n",
    "    test_labels = pd.read_csv(test_parameters_label_file, header=None)\n",
    "    train_features_scaled = preprocessing.scale(train_features)\n",
    "    test_features_scaled = preprocessing.scale(test_features)\n",
    "    return train_features_scaled, test_features_scaled, train_labels, test_labels"
   ]
  },
  {
   "cell_type": "code",
   "execution_count": 406,
   "metadata": {
    "collapsed": true
   },
   "outputs": [],
   "source": [
    "################################\n",
    "#    ANN with preprocessing    #\n",
    "################################\n",
    "\n",
    "def defining_parameters_train():\n",
    "    data_train, data_test, label_train, label_test = prepare_data_for_defining_parameter_training()\n",
    "    label_train = np.ravel(label_train)\n",
    "\n",
    "    max_sc_ann = 0\n",
    "    ls1 = 8 #calculated by several experiments\n",
    "    ls2 = 10\n",
    "\n",
    "    ann_clf = MLPClassifier(solver='lbfgs', alpha=1e-5,hidden_layer_sizes=(ls1, ls2), random_state=1)\n",
    "    ann_clf.fit(data_train, label_train) \n",
    "    \n",
    "    return ann_clf"
   ]
  },
  {
   "cell_type": "code",
   "execution_count": 407,
   "metadata": {
    "collapsed": false
   },
   "outputs": [],
   "source": [
    "#Делает так, чтобы каждому параметру было что-то сопоставлено\n",
    "def repair_prediction(prediction, parameters_number):\n",
    "    values = dict()\n",
    "    bad = []\n",
    "    empty = []\n",
    "    for i in range(len(prediction)):\n",
    "        v = prediction[i]\n",
    "        if (v in values.keys()):\n",
    "            values[v] += 1\n",
    "            bad.append(i)\n",
    "        else:\n",
    "            values[v] = 1\n",
    "    for i in range(1, parameters_number + 1):\n",
    "        if (i not in values.keys()):\n",
    "            empty.append(i)\n",
    "    for i in range(len(empty), len(bad)):\n",
    "        empty.append(0)\n",
    "    for i in range(len(bad)):\n",
    "        prediction[bad[i]] = empty[i]\n",
    "    return prediction\n",
    "\n",
    "\n",
    "        "
   ]
  },
  {
   "cell_type": "code",
   "execution_count": 552,
   "metadata": {
    "collapsed": false
   },
   "outputs": [],
   "source": [
    "def sug_defining_parameters(clf, task):\n",
    "        parameters_names = read_parameters_names()        \n",
    "        processed_task = replace_word_with_numbers(task)\n",
    "        nums = extract_numbers(processed_task)\n",
    "        task_features = extract_all_parameters_features(processed_task)\n",
    "        predictions = clf.predict(task_features)\n",
    "        predictions = repair_prediction(predictions, len(parameters_names))\n",
    "        \n",
    "        \n",
    "        \n",
    "        print(\"Я думаю, что:\")      \n",
    "        \n",
    "        for i in range(len(predictions)):\n",
    "                if (predictions[i] != 0): \n",
    "                    if (int(nums[i]) != 10000000007):\n",
    "                        print(\"  \" + parameters_names[int(predictions[i]) - 1] + \" - \" + str(int(nums[i])))\n",
    "                    else:\n",
    "                        print(\"  \" + parameters_names[int(predictions[i]) - 1] + \" - 2\")\n",
    "                    \n",
    "        print(\"Правильно?\")\n",
    "        return processed_task, task_features, predictions\n",
    "        "
   ]
  },
  {
   "cell_type": "code",
   "execution_count": 409,
   "metadata": {
    "collapsed": true
   },
   "outputs": [],
   "source": [
    "def ans_yes_no(): \n",
    "    possible_yes = [\"да\", 'правильно', 'верно', 'согласен', 'согласна']\n",
    "    possible_no = [\"нет\"]\n",
    "    ans = \"\"\n",
    "    while (1):\n",
    "        ans = input()\n",
    "        ans = process_answer(ans)\n",
    "        \n",
    "        ans_words = ans.split(\" \")\n",
    "        if (intersect(ans_words, possible_yes)):\n",
    "            print(\"Ура! Я рад, что всё правильно!\")\n",
    "            return 1\n",
    "        else:\n",
    "            if (intersect(ans_words, possible_no)):\n",
    "                \n",
    "                return 0\n",
    "            else:\n",
    "                print(\"К сожалению, я не понял ответа. Напишите, пожалуйста, \\\"да\\\" или \\\"нет\\\".\")"
   ]
  },
  {
   "cell_type": "code",
   "execution_count": 410,
   "metadata": {
    "collapsed": true
   },
   "outputs": [],
   "source": [
    "def find_index(l, v):\n",
    "    for i in range(len(l)):\n",
    "        if (l[i] == v):\n",
    "            return i\n",
    "    return -1"
   ]
  },
  {
   "cell_type": "code",
   "execution_count": 411,
   "metadata": {
    "collapsed": false
   },
   "outputs": [],
   "source": [
    "def repair_defining_parameters(processed_task):\n",
    "    nums_s = extract_numbers(processed_task)\n",
    "    nums = []\n",
    "    #map(int, nums)\n",
    "    for i in range(len(nums_s)):\n",
    "        nums.append(int(nums_s[i]))\n",
    "    \n",
    "    parameters_names = read_parameters_names() \n",
    "    prediction = np.zeros(len(nums))\n",
    "    for i in range(len(parameters_names)):\n",
    "        value = int(input(\"Сколько \" + parameters_names[i].lower() + \"?\\n\"))\n",
    "        \n",
    "        ind = find_index(nums, value)\n",
    "        if (value == 2 and find_index(nums, 10000000007) != -1):\n",
    "            prediction[find_index(nums, 10000000007)] = i + 1\n",
    "        else:\n",
    "            if (ind == -1):\n",
    "                print(\"Не могу найти это число в задаче. Давайте еще раз. Попробуйте записать все числительные цифрами.\")\n",
    "                return []\n",
    "            else:\n",
    "                prediction[ind] = i + 1\n",
    "    \n",
    "    return prediction\n",
    "        "
   ]
  },
  {
   "cell_type": "code",
   "execution_count": 412,
   "metadata": {
    "collapsed": true
   },
   "outputs": [],
   "source": [
    "def save_defining_parameters(processed_task, task_features, predictions):\n",
    "    save_task(processed_task, processed_tasks_file, \"#\\n\")\n",
    "    for i in range(len(task_features)):\n",
    "        feature = str(task_features[i])        \n",
    "        feature = feature[1:-1]        \n",
    "        save_task(feature, parameters_features_file, \"\\n\")\n",
    "        save_task(str(predictions[i]), parameters_label_file, \"\\n\")\n",
    "    "
   ]
  },
  {
   "cell_type": "markdown",
   "metadata": {},
   "source": [
    "# Task classification"
   ]
  },
  {
   "cell_type": "markdown",
   "metadata": {},
   "source": [
    "Classification names"
   ]
  },
  {
   "cell_type": "code",
   "execution_count": 413,
   "metadata": {
    "collapsed": false
   },
   "outputs": [
    {
     "name": "stdout",
     "output_type": "stream",
     "text": [
      "['С учётом порядка, с повторениями', 'С учётом порядка, без повторений', 'Без учёта порядка, без повторений']\n"
     ]
    }
   ],
   "source": [
    "#Read parameters of the task (same for all tasks from the theme)\n",
    "def read_classification_names():     \n",
    "    cla_file = open(classification_names_file, 'r')\n",
    "    content = cla_file.read()\n",
    "    list_of_names = content.split('\\n')\n",
    "    list_of_names.pop()\n",
    "    cla_file.close()\n",
    "    \n",
    "    \n",
    "    return list_of_names\n",
    "print(read_classification_names())"
   ]
  },
  {
   "cell_type": "code",
   "execution_count": 414,
   "metadata": {
    "collapsed": true
   },
   "outputs": [],
   "source": [
    "#Save parameters of the task (same for all tasks from the theme)\n",
    "def save_classification_names(list_of_parameters_names):     \n",
    "    cla_file = open(classification_names_file, 'w')\n",
    "    for parameter in list_of_parameters_names:\n",
    "        cla_file.write(parameter + '\\n')\n",
    "    cla_file.close()\n",
    "    "
   ]
  },
  {
   "cell_type": "code",
   "execution_count": 415,
   "metadata": {
    "collapsed": true
   },
   "outputs": [],
   "source": [
    "def sug_classification_names():    \n",
    "    print(\"Я правильно понимаю, что задачи бывают следующих типов: \")\n",
    "    names = read_classification_names()\n",
    "    for i in range(len(names)):\n",
    "        if (i != len(names) - 1):\n",
    "            print(\"   \" + str(i + 1) + \". \" + names[i])\n",
    "        else:\n",
    "            print(\"   \" + str(i + 1) + \". \" + names[i] + \"?\")\n",
    "    print(\"Все правильно?\")\n",
    "    \n",
    "        \n",
    "def repair_classification_names(): \n",
    "    new_names_str = input(\"Перечислите через точку с запятой правильные типы задач:\\n\")\n",
    "    new_names = new_names_str.split(\";\")\n",
    "    for i in range(len(new_names)):        \n",
    "        new_names[i] = process_answer_with_comma(new_names[i])\n",
    "        \n",
    "    \n",
    "    save_classification_names(new_names)"
   ]
  },
  {
   "cell_type": "markdown",
   "metadata": {},
   "source": [
    "Defining task type"
   ]
  },
  {
   "cell_type": "code",
   "execution_count": 493,
   "metadata": {
    "collapsed": false
   },
   "outputs": [],
   "source": [
    "#Extract features for classification the task\n",
    "def extract_classification_features(processed_task, parameters_features, parameters_labels):\n",
    "    #processed_task = replace_word_with_numbers(task)\n",
    "    nums = extract_numbers(processed_task)\n",
    "    par_values = dict()\n",
    "    par_features = dict()\n",
    "    for i in range(len(parameters_labels)):\n",
    "        if (int(parameters_labels[i]) != 0):\n",
    "            par_values[int(parameters_labels[i])] = float(nums[i])\n",
    "            par_features[int(parameters_labels[i])] = parameters_features[i]\n",
    "    \n",
    "\n",
    "    \n",
    "    features = []\n",
    "    if (len(par_values) > 1): \n",
    "        if (int(par_values[2]) != 0):\n",
    "            features.append(float(par_values[1])/float(par_values[2])) #Отношение элементов к местам\n",
    "        else:\n",
    "            features.append(10000000007)\n",
    "    \n",
    "    for i in range(1, len(par_values) + 1):       \n",
    "        features.append(float(par_values[i])) #Элементы, места (сами параметры, в общем случае)\n",
    "            \n",
    "   \n",
    "    \n",
    "    for i in range(1, len(par_values) + 1):        \n",
    "        for j in range(0, len(par_features[i])):\n",
    "            features.append(float(par_features[i][j]))\n",
    "    \n",
    "    return features"
   ]
  },
  {
   "cell_type": "code",
   "execution_count": 515,
   "metadata": {
    "collapsed": true
   },
   "outputs": [],
   "source": [
    "def prepare_data_for_classification_training():\n",
    "    parameters_names_file = 'res/tasks_types.txt'\n",
    "    test_classification_label_file = \"res/test_classification_labels.txt\"\n",
    "    test_classification_features_file = \"res/test_classification_features.txt\"\n",
    "    train_classification_label_file = \"res/train_classification_labels.txt\"\n",
    "    train_classification_features_file = \"res/train_classification_features.txt\" \n",
    "    train_features = pd.read_csv(train_classification_features_file, header=None)\n",
    "    train_labels = pd.read_csv(train_classification_label_file, header=None)\n",
    "    test_features = pd.read_csv(test_classification_features_file, header=None)\n",
    "    test_labels = pd.read_csv(test_classification_label_file, header=None)\n",
    "    train_features_scaled = preprocessing.scale(train_features)\n",
    "    test_features_scaled = preprocessing.scale(test_features)\n",
    "    return train_features_scaled, test_features_scaled, train_labels, test_labels"
   ]
  },
  {
   "cell_type": "code",
   "execution_count": 516,
   "metadata": {
    "collapsed": true
   },
   "outputs": [],
   "source": [
    "\n",
    "    \n",
    "################################\n",
    "#    ANN with preprocessing    #\n",
    "################################\n",
    "\n",
    "def classification_train():\n",
    "    data_train, data_test, label_train, label_test = prepare_data_for_classification_training()\n",
    "    label_train = np.ravel(label_train)\n",
    "\n",
    "    max_sc_ann = 0\n",
    "    ls1 = 8 #calculated by several experiments\n",
    "    ls2 = 10\n",
    "\n",
    "    ann_clf = MLPClassifier(solver='lbfgs', alpha=1e-5,hidden_layer_sizes=(ls1, ls2), random_state=1)\n",
    "    ann_clf.fit(data_train, label_train) \n",
    "    \n",
    "    return ann_clf"
   ]
  },
  {
   "cell_type": "code",
   "execution_count": 524,
   "metadata": {
    "collapsed": true
   },
   "outputs": [],
   "source": [
    "def sug_classification(clf_cl, processed_task, task_features, predictions):\n",
    "    features = extract_classification_features(processed_task, task_features, predictions)\n",
    "    types = read_classification_names()\n",
    "    features_list = []\n",
    "    features_list.append(features)\n",
    "    \n",
    "    prediction = clf_cl.predict(features_list)\n",
    "    \n",
    "    print(\"Мне кажется, что эта задача относится к типу \\\"\" + str(types[int(prediction) - 1]) + \"\\\"\")\n",
    "    print(\"Правильно?\")\n",
    "    return features, int(prediction[0])"
   ]
  },
  {
   "cell_type": "code",
   "execution_count": 522,
   "metadata": {
    "collapsed": true
   },
   "outputs": [],
   "source": [
    "def repair_classification():\n",
    "    types = read_classification_names()\n",
    "    print(\"Введите номер правильного типа задачи:\")\n",
    "    for i in range(len(types)):\n",
    "        print(str(i + 1) + \" - \" + types[i])\n",
    "    ans = int(input())\n",
    "    return ans"
   ]
  },
  {
   "cell_type": "code",
   "execution_count": 523,
   "metadata": {
    "collapsed": true
   },
   "outputs": [],
   "source": [
    "def save_classification(processed_task, cl_features, task_type):\n",
    "    f = str(cl_features)\n",
    "    f = f[1:-1]\n",
    "    save_task(f, classification_features_file, \"\\n\")\n",
    "    save_task(str(task_type), classification_label_file, \"\\n\")"
   ]
  },
  {
   "cell_type": "markdown",
   "metadata": {},
   "source": [
    "# Finding answer"
   ]
  },
  {
   "cell_type": "code",
   "execution_count": 537,
   "metadata": {
    "collapsed": true
   },
   "outputs": [],
   "source": [
    "def extract_answer_features(task, dp_labels):\n",
    "    nums = extract_numbers(task)   \n",
    "    dp_values = dict()\n",
    "    for i in range(len(dp_labels)):\n",
    "        if (int(dp_labels[i]) != 0):\n",
    "            dp_values[int(dp_labels[i])] = float(nums[i])\n",
    "    features_ans = []    \n",
    "    for i in range(len(dp_values)):\n",
    "        features_ans.append(dp_values[i + 1]) \n",
    "    return features_ans"
   ]
  },
  {
   "cell_type": "code",
   "execution_count": 530,
   "metadata": {
    "collapsed": false
   },
   "outputs": [],
   "source": [
    "def prepare_data_for_answer_training(task_type):    \n",
    "    folder = \"res/\"    \n",
    "    test_answer_label_file = folder + str(task_type) + \"/test_answer_labels.txt\"\n",
    "    test_answer_features_file = folder + str(task_type) + \"/test_answer_features.txt\"\n",
    "    train_answer_label_file = folder + str(task_type) + \"/train_answer_labels.txt\"\n",
    "    train_answer_features_file = folder + str(task_type) + \"/train_answer_features.txt\" \n",
    "    train_features = pd.read_csv(train_answer_features_file, header=None)\n",
    "    train_labels = pd.read_csv(train_answer_label_file, header=None)\n",
    "    test_features = pd.read_csv(test_answer_features_file, header=None)\n",
    "    test_labels = pd.read_csv(test_answer_label_file, header=None)\n",
    "    train_features_scaled = preprocessing.scale(train_features)\n",
    "    test_features_scaled = preprocessing.scale(test_features)\n",
    "    #return train_features_scaled, test_features_scaled, train_labels, test_labels\n",
    "    return train_features, test_features, train_labels, test_labels"
   ]
  },
  {
   "cell_type": "code",
   "execution_count": 533,
   "metadata": {
    "collapsed": true
   },
   "outputs": [],
   "source": [
    "def ans_train(task_type):\n",
    "    data_train, data_test, label_train, label_test = prepare_data_for_answer_training(task_type)\n",
    "    label_train = np.ravel(label_train)\n",
    "\n",
    "    max_sc_ann = 0\n",
    "    ls1 = 8 #calculated by several experiments\n",
    "    ls2 = 10\n",
    "\n",
    "    ann_clf = MLPRegressor(solver='lbfgs', alpha=1e-5,hidden_layer_sizes=(ls1, ls2), random_state=1)\n",
    "    ann_clf.fit(data_train, label_train) \n",
    "    \n",
    "    return ann_clf"
   ]
  },
  {
   "cell_type": "code",
   "execution_count": 542,
   "metadata": {
    "collapsed": true
   },
   "outputs": [],
   "source": [
    "def sug_answer(clf_ans, processed_task, predictions):\n",
    "    features = extract_answer_features(processed_task, predictions)\n",
    "    features_list = []\n",
    "    features_list.append(features)\n",
    "    prediction = clf_ans.predict(features_list)    \n",
    "    answer = int(prediction[0])\n",
    "    print(\"Я подумал и решил, что ответ: \" + str(answer))\n",
    "    print(\"Правильно?\")\n",
    "    return features, answer"
   ]
  },
  {
   "cell_type": "code",
   "execution_count": 548,
   "metadata": {
    "collapsed": true
   },
   "outputs": [],
   "source": [
    "def repair_answer():    \n",
    "    ans = int(input(\"А какой правильный ответ?\\n\"))\n",
    "    return ans"
   ]
  },
  {
   "cell_type": "code",
   "execution_count": 549,
   "metadata": {
    "collapsed": true
   },
   "outputs": [],
   "source": [
    "def save_answer(task_type, ans_features, answer):\n",
    "    folder = \"res/\"\n",
    "    answer_features_file = folder + str(task_type) + \"/train_answer_features.txt\"        \n",
    "    answer_label_file = folder + str(task_type) + \"/train_answer_labels.txt\"\n",
    "    f = str(ans_features)\n",
    "    f = f[1:-1]\n",
    "    save_task(f, answer_features_file, \"\\n\")\n",
    "    save_task(str(answer), answer_label_file, \"\\n\")"
   ]
  },
  {
   "cell_type": "markdown",
   "metadata": {},
   "source": [
    "# Interaction with user"
   ]
  },
  {
   "cell_type": "code",
   "execution_count": null,
   "metadata": {
    "collapsed": true
   },
   "outputs": [],
   "source": []
  },
  {
   "cell_type": "code",
<<<<<<< HEAD
   "execution_count": 554,
=======
   "execution_count": 553,
>>>>>>> 3faa595eec82546a5d6ede878af2f67c0f9c3135
   "metadata": {
    "collapsed": false,
    "scrolled": false
   },
   "outputs": [
    {
     "name": "stdout",
     "output_type": "stream",
     "text": [
      "Я правильно понимаю, что нам нужно найти значение следующих параметров: \n",
      "   1. Элементов\n",
      "   2. Мест?\n",
      "Все правильно?\n",
      "да\n",
      "Ура! Я рад, что всё правильно!\n",
      "Введите текст задачи:\n",
<<<<<<< HEAD
      "Сколько существует способов раскрасить 2 картины в 4 цвета?\n"
=======
      "Сколько существует способов раскрасить 2 дома в 3 цвета?\n"
>>>>>>> 3faa595eec82546a5d6ede878af2f67c0f9c3135
     ]
    },
    {
     "name": "stderr",
     "output_type": "stream",
     "text": [
      "/home/ekaterina/anaconda/envs/ipykernel_py3/lib/python3.6/site-packages/sklearn/preprocessing/data.py:164: UserWarning: Numerical issues were encountered when centering the data and might not be solved. Dataset may contain too large values. You may need to prescale your features.\n",
      "  warnings.warn(\"Numerical issues were encountered \"\n"
     ]
    },
    {
     "name": "stdout",
     "output_type": "stream",
     "text": [
      "Я думаю, что:\n",
<<<<<<< HEAD
      "  Мест - 2\n",
      "  Элементов - 4\n",
=======
      "  Элементов - 2\n",
      "  Мест - 3\n",
>>>>>>> 3faa595eec82546a5d6ede878af2f67c0f9c3135
      "Правильно?\n",
      "да\n",
      "Ура! Я рад, что всё правильно!\n",
      "Я правильно понимаю, что задачи бывают следующих типов: \n",
      "   1. С учётом порядка, с повторениями\n",
      "   2. С учётом порядка, без повторений\n",
      "   3. Без учёта порядка, без повторений?\n",
      "Все правильно?\n",
      "да\n",
      "Ура! Я рад, что всё правильно!\n",
      "Мне кажется, что эта задача относится к типу \"С учётом порядка, без повторений\"\n",
      "Правильно?\n",
      "нет\n",
      "Введите номер правильного типа задачи:\n",
      "1 - С учётом порядка, с повторениями\n",
      "2 - С учётом порядка, без повторений\n",
      "3 - Без учёта порядка, без повторений\n",
      "1\n",
      "1\n",
<<<<<<< HEAD
      "Я подумал и решил, что ответ: 3003530\n",
      "Правильно?\n",
      "нет\n",
      "А какой правильный ответ?\n",
      "16\n"
=======
      "Я подумал и решил, что ответ: -1606217\n",
      "Правильно?\n",
      "нет\n",
      "А какой правильный ответ?\n",
      "8\n"
>>>>>>> 3faa595eec82546a5d6ede878af2f67c0f9c3135
     ]
    }
   ],
   "source": [
<<<<<<< HEAD
    "def dialog():    \n",
=======
    "def dialog():\n",
    "    \n",
>>>>>>> 3faa595eec82546a5d6ede878af2f67c0f9c3135
    "    sug_parameters_names()\n",
    "    if (ans_yes_no() == 0):\n",
    "        repair_parameters_names()\n",
    "    \n",
    "    task = read_task()\n",
    "    clf_dp = defining_parameters_train()\n",
    "    processed_task, task_features, predictions = sug_defining_parameters(clf_dp, task)\n",
    "    if (ans_yes_no() == 0):\n",
    "        p = repair_defining_parameters(processed_task)\n",
    "        if (len(predictions) == 0):\n",
    "            return;\n",
    "        predictions = p\n",
    "    save_defining_parameters(processed_task, task_features, predictions)\n",
    "    \n",
    "    \n",
    "    sug_classification_names()\n",
    "    if (ans_yes_no() == 0):\n",
    "        repair_classification_names()\n",
    "   \n",
    "    clf_cl = classification_train()\n",
    "    cl_features, task_type = sug_classification(clf_cl, processed_task, task_features, predictions)\n",
    "    if (ans_yes_no() == 0):\n",
    "        t = repair_classification()\n",
    "        task_type = t\n",
    "    save_classification(processed_task, cl_features, task_type)\n",
<<<<<<< HEAD
    "    \n",
=======
    "    print(task_type)\n",
>>>>>>> 3faa595eec82546a5d6ede878af2f67c0f9c3135
    "    clf_ans = ans_train(task_type)\n",
    "    ans_features, answer = sug_answer(clf_ans, processed_task, predictions)\n",
    "    if (ans_yes_no() == 0):\n",
    "        a = repair_answer()\n",
    "        answer = a\n",
    "    save_answer(task_type, ans_features, answer)\n",
    "dialog()"
   ]
  },
  {
   "cell_type": "markdown",
   "metadata": {
    "collapsed": false
   },
   "source": [
    "# "
   ]
  },
  {
   "cell_type": "code",
   "execution_count": null,
   "metadata": {
    "collapsed": true
   },
   "outputs": [],
   "source": []
  }
 ],
 "metadata": {
  "anaconda-cloud": {},
  "kernelspec": {
   "display_name": "Python 3",
   "language": "python",
   "name": "python3"
  },
  "language_info": {
   "codemirror_mode": {
    "name": "ipython",
    "version": 3
   },
   "file_extension": ".py",
   "mimetype": "text/x-python",
   "name": "python",
   "nbconvert_exporter": "python",
   "pygments_lexer": "ipython3",
   "version": "3.6.2"
  }
 },
 "nbformat": 4,
 "nbformat_minor": 2
}
