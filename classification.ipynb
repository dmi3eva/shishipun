{
 "cells": [
  {
   "cell_type": "code",
   "execution_count": 33,
   "metadata": {
    "collapsed": false
   },
   "outputs": [],
   "source": [
    "parameters_names_file = 'res/parameters_names.txt'\n",
    "test_classification_label_file = \"res/test_classification_labels.txt\"\n",
    "test_classification_features_file = \"res/test_classification_features.txt\"\n",
    "\n",
    "train_classification_label_file = \"res/train_classification_labels.txt\"\n",
    "train_classification_features_file = \"res/train_classification_features.txt\""
   ]
  },
  {
   "cell_type": "code",
   "execution_count": 34,
   "metadata": {
    "collapsed": true
   },
   "outputs": [],
   "source": [
    "import numpy as np\n",
    "import pandas as pd"
   ]
  },
  {
   "cell_type": "code",
   "execution_count": 35,
   "metadata": {
    "collapsed": false
   },
   "outputs": [],
   "source": [
    "#Reading data\n",
    "train_features = pd.read_csv(train_classification_features_file, header=None)\n",
    "train_labels = pd.read_csv(train_classification_label_file, header=None)\n",
    "test_features = pd.read_csv(test_classification_features_file, header=None)\n",
    "test_labels = pd.read_csv(test_classification_label_file, header=None)"
   ]
  },
  {
   "cell_type": "code",
   "execution_count": 36,
   "metadata": {
    "collapsed": false
   },
   "outputs": [],
   "source": [
    "\n",
    "from sklearn.tree import export_graphviz\n",
    "from sklearn.model_selection import train_test_split, StratifiedKFold\n",
    "from sklearn.model_selection import GridSearchCV, cross_val_score\n",
    "from sklearn.metrics import accuracy_score"
   ]
  },
  {
   "cell_type": "code",
   "execution_count": 37,
   "metadata": {
    "collapsed": true
   },
   "outputs": [],
   "source": [
    "#libraries for tree\n",
    "\n",
    "from sklearn.tree import DecisionTreeRegressor\n",
    "from sklearn.tree import DecisionTreeClassifier\n",
    "from sklearn import tree"
   ]
  },
  {
   "cell_type": "code",
   "execution_count": 38,
   "metadata": {
    "collapsed": false
   },
   "outputs": [
    {
     "name": "stdout",
     "output_type": "stream",
     "text": [
      "\n",
      "########## TREE #########\n",
      "Score:  0.5\n",
      "[[ 1.  0.  0.]]\n",
      "Fitting 10 folds for each of 234 candidates, totalling 2340 fits\n"
     ]
    },
    {
     "name": "stderr",
     "output_type": "stream",
     "text": [
      "/home/ekaterina/anaconda/envs/ipykernel_py3/lib/python3.6/site-packages/sklearn/model_selection/_split.py:605: Warning: The least populated class in y has only 7 members, which is too few. The minimum number of members in any class cannot be less than n_splits=10.\n",
      "  % (min_groups, self.n_splits)), Warning)\n"
     ]
    },
    {
     "name": "stdout",
     "output_type": "stream",
     "text": [
      "Best parameters: {'max_depth': 2, 'max_features': 10}\n",
      "Best score:  0.84375\n"
     ]
    },
    {
     "name": "stderr",
     "output_type": "stream",
     "text": [
      "[Parallel(n_jobs=-1)]: Done 1864 tasks      | elapsed:    2.1s\n",
      "[Parallel(n_jobs=-1)]: Done 2340 out of 2340 | elapsed:    2.2s finished\n"
     ]
    }
   ],
   "source": [
    "#Tree with split-function\n",
    "\n",
    "data_train, data_test, label_train, label_test = train_test_split(train_features.values, train_labels.values, test_size=0.1,random_state=17)\n",
    "\n",
    "clf = DecisionTreeClassifier(max_depth=5, random_state=17)\n",
    "clf.fit(data_train, label_train)\n",
    "clf_pred = clf.predict(data_test)\n",
    "acc_tree = accuracy_score(label_test, clf_pred) \n",
    "print('\\n########## TREE #########')\n",
    "print('Score: ', acc_tree)\n",
    "\n",
    "print(clf.predict_proba([[3333333335.6666665, 10000000007.0, 3.0, 10000000007.0, 0.4444444444444444, 0.4444444444444444, 0.4090909090909091, 0.421875, 1.0, 0.0, 5000000002.0, 0.0, 1.0, 109004740478.0, -16.0, 0.0, 2.0, 3.0, 0.7777777777777778, 0.7777777777777778, 0.7333333333333333, 0.7586206896551724, 0.0, 1.0, 5000000002.0, 0.0, 1.0, 0.0, 0.0, 0.0, 2.0]]))\n",
    "\n",
    "\n",
    "\n",
    "############################\n",
    "#Parameter tuning for tree #\n",
    "############################\n",
    "\n",
    "tree_params = {'max_depth': range(2,20), 'max_features': range(1,14)}\n",
    "tree_grid = GridSearchCV(clf, tree_params, cv=10, n_jobs=-1, verbose=True)\n",
    "\n",
    "\n",
    "tree_grid.fit(data_train, label_train)\n",
    "\n",
    "tr_bst_prm = tree_grid.best_params_ \n",
    "tr_bst_scr = tree_grid.best_score_\n",
    "tr_acc_grd = accuracy_score(label_test, tree_grid.predict(data_test))\n",
    "\n",
    "\n",
    "print ('Best parameters:', tr_bst_prm)\n",
    "print('Best score: ', tr_bst_scr)\n",
    "\n",
    "\n"
   ]
  },
  {
   "cell_type": "code",
   "execution_count": 39,
   "metadata": {
    "collapsed": false
   },
   "outputs": [
    {
     "name": "stderr",
     "output_type": "stream",
     "text": [
      "/home/ekaterina/anaconda/envs/ipykernel_py3/lib/python3.6/site-packages/sklearn/preprocessing/data.py:164: UserWarning: Numerical issues were encountered when centering the data and might not be solved. Dataset may contain too large values. You may need to prescale your features.\n",
      "  warnings.warn(\"Numerical issues were encountered \"\n"
     ]
    }
   ],
   "source": [
    "#preprocessing\n",
    "from sklearn import preprocessing\n",
    "\n",
    "train_features_scaled = preprocessing.scale(train_features)\n",
    "test_features_scaled = preprocessing.scale(test_features)"
   ]
  },
  {
   "cell_type": "code",
   "execution_count": 41,
   "metadata": {
    "collapsed": false
   },
   "outputs": [
    {
     "name": "stdout",
     "output_type": "stream",
     "text": [
      "\n",
      "########## TREE #########\n",
      "Score:  0.375\n",
      "[[ 1.  0.  0.]]\n",
      "Fitting 10 folds for each of 234 candidates, totalling 2340 fits\n"
     ]
    },
    {
     "name": "stderr",
     "output_type": "stream",
     "text": [
      "/home/ekaterina/anaconda/envs/ipykernel_py3/lib/python3.6/site-packages/sklearn/model_selection/_split.py:605: Warning: The least populated class in y has only 8 members, which is too few. The minimum number of members in any class cannot be less than n_splits=10.\n",
      "  % (min_groups, self.n_splits)), Warning)\n",
      "[Parallel(n_jobs=-1)]: Done 804 tasks      | elapsed:    1.5s\n"
     ]
    },
    {
     "name": "stdout",
     "output_type": "stream",
     "text": [
      "Best parameters: {'max_depth': 3, 'max_features': 4}\n",
      "Best score:  0.722222222222\n"
     ]
    },
    {
     "name": "stderr",
     "output_type": "stream",
     "text": [
      "[Parallel(n_jobs=-1)]: Done 2340 out of 2340 | elapsed:    3.4s finished\n"
     ]
    }
   ],
   "source": [
    "#no execution\n",
    "#Tree with preprocessed data\n",
    "\n",
    "data_train, data_test, label_train, label_test = train_features_scaled, test_features_scaled, train_labels, test_labels\n",
    "clf = DecisionTreeClassifier(max_depth=5, random_state=17)\n",
    "clf.fit(data_train, label_train)\n",
    "clf_pred = clf.predict(data_test)\n",
    "acc_tree = accuracy_score(label_test, clf_pred) \n",
    "print('\\n########## TREE #########')\n",
    "print('Score: ', acc_tree)\n",
    "\n",
    "print(clf.predict_proba([[3333333335.6666665, 10000000007.0, 3.0, 10000000007.0, 0.4444444444444444, 0.4444444444444444, 0.4090909090909091, 0.421875, 1.0, 0.0, 5000000002.0, 0.0, 1.0, 109004740478.0, -16.0, 0.0, 2.0, 3.0, 0.7777777777777778, 0.7777777777777778, 0.7333333333333333, 0.7586206896551724, 0.0, 1.0, 5000000002.0, 0.0, 1.0, 0.0, 0.0, 0.0, 2.0]]))\n",
    "\n",
    "\n",
    "############################\n",
    "#Parameter tuning for tree #\n",
    "############################\n",
    "\n",
    "tree_params = {'max_depth': range(2,20), 'max_features': range(1,14)}\n",
    "tree_grid = GridSearchCV(clf, tree_params, cv=10, n_jobs=-1, verbose=True)\n",
    "\n",
    "\n",
    "tree_grid.fit(data_train, label_train)\n",
    "\n",
    "tr_bst_prm = tree_grid.best_params_ \n",
    "tr_bst_scr = tree_grid.best_score_\n",
    "tr_acc_grd = accuracy_score(label_test, tree_grid.predict(data_test))\n",
    "\n",
    "\n",
    "print ('Best parameters:', tr_bst_prm)\n",
    "print('Best score: ', tr_bst_scr)"
   ]
  },
  {
   "cell_type": "code",
   "execution_count": 43,
   "metadata": {
    "collapsed": false
   },
   "outputs": [
    {
     "name": "stdout",
     "output_type": "stream",
     "text": [
      "\n",
      "########## TREE #########\n",
      "Score:  0.875\n",
      "[[ 1.  0.  0.]]\n",
      "Fitting 10 folds for each of 234 candidates, totalling 2340 fits\n"
     ]
    },
    {
     "name": "stderr",
     "output_type": "stream",
     "text": [
      "/home/ekaterina/anaconda/envs/ipykernel_py3/lib/python3.6/site-packages/sklearn/model_selection/_split.py:605: Warning: The least populated class in y has only 8 members, which is too few. The minimum number of members in any class cannot be less than n_splits=10.\n",
      "  % (min_groups, self.n_splits)), Warning)\n",
      "[Parallel(n_jobs=-1)]: Done 1096 tasks      | elapsed:    1.4s\n"
     ]
    },
    {
     "name": "stdout",
     "output_type": "stream",
     "text": [
      "Best parameters: {'max_depth': 5, 'max_features': 10}\n",
      "Best score:  0.722222222222\n"
     ]
    },
    {
     "name": "stderr",
     "output_type": "stream",
     "text": [
      "[Parallel(n_jobs=-1)]: Done 2340 out of 2340 | elapsed:    2.6s finished\n"
     ]
    }
   ],
   "source": [
    "#Tree with our test\n",
    "\n",
    "\n",
    "data_train, data_test, label_train, label_test = train_features.values, test_features.values, train_labels.values, test_labels.values\n",
    "clf = DecisionTreeClassifier(max_depth=5, random_state=17)\n",
    "clf.fit(data_train, label_train)\n",
    "clf_pred = clf.predict(data_test)\n",
    "acc_tree = accuracy_score(label_test, clf_pred) \n",
    "print('\\n########## TREE #########')\n",
    "print('Score: ', acc_tree)\n",
    "\n",
    "print(clf.predict_proba([[3333333335.6666665, 10000000007.0, 3.0, 10000000007.0, 0.4444444444444444, 0.4444444444444444, 0.4090909090909091, 0.421875, 1.0, 0.0, 5000000002.0, 0.0, 1.0, 109004740478.0, -16.0, 0.0, 2.0, 3.0, 0.7777777777777778, 0.7777777777777778, 0.7333333333333333, 0.7586206896551724, 0.0, 1.0, 5000000002.0, 0.0, 1.0, 0.0, 0.0, 0.0, 2.0]]))\n",
    "\n",
    "\n",
    "############################\n",
    "#Parameter tuning for tree #\n",
    "############################\n",
    "\n",
    "tree_params = {'max_depth': range(2,20), 'max_features': range(1,14)}\n",
    "tree_grid = GridSearchCV(clf, tree_params, cv=10, n_jobs=-1, verbose=True)\n",
    "\n",
    "\n",
    "tree_grid.fit(data_train, label_train)\n",
    "\n",
    "tr_bst_prm = tree_grid.best_params_ \n",
    "tr_bst_scr = tree_grid.best_score_\n",
    "tr_acc_grd = accuracy_score(label_test, tree_grid.predict(data_test))\n",
    "\n",
    "\n",
    "print ('Best parameters:', tr_bst_prm)\n",
    "print('Best score: ', tr_bst_scr)"
   ]
  },
  {
   "cell_type": "code",
   "execution_count": 46,
   "metadata": {
    "collapsed": false
   },
   "outputs": [
    {
     "data": {
      "text/plain": [
       "'Parameters_classification_tree.pdf'"
      ]
     },
     "execution_count": 46,
     "metadata": {},
     "output_type": "execute_result"
    }
   ],
   "source": [
    "import graphviz \n",
    "\n",
    "dot_data = export_graphviz(clf, out_file=None) \n",
    "graph = graphviz.Source(dot_data) \n",
    "graph.render(\"Parameters_classification_tree\") "
   ]
  },
  {
   "cell_type": "code",
   "execution_count": 47,
   "metadata": {
    "collapsed": true
   },
   "outputs": [],
   "source": [
    "#libraries for KNN\n",
    "from sklearn.neighbors import KNeighborsClassifier\n",
    "from sklearn.pipeline import Pipeline\n",
    "from sklearn.preprocessing import StandardScaler"
   ]
  },
  {
   "cell_type": "code",
   "execution_count": null,
   "metadata": {
    "collapsed": true
   },
   "outputs": [],
   "source": []
  },
  {
   "cell_type": "code",
   "execution_count": 48,
   "metadata": {
    "collapsed": false
   },
   "outputs": [
    {
     "name": "stdout",
     "output_type": "stream",
     "text": [
      "\n",
      "########## KNN #########\n",
      "Score:  0.125\n",
      "Fitting 5 folds for each of 9 candidates, totalling 45 fits\n",
      "Best parameters: {'knn__n_neighbors': 9}\n",
      "Best score:  0.777777777778\n"
     ]
    },
    {
     "name": "stderr",
     "output_type": "stream",
     "text": [
      "[Parallel(n_jobs=-1)]: Done  45 out of  45 | elapsed:    2.6s finished\n"
     ]
    }
   ],
   "source": [
    "data_train, data_test, label_train, label_test = train_features.values, test_features.values, train_labels.values, test_labels.values\n",
    "label_train = np.ravel(label_train)\n",
    "\n",
    "###############\n",
    "#     KNN     #\n",
    "###############\n",
    "\n",
    "knn = KNeighborsClassifier(n_neighbors=5)\n",
    "knn.fit(data_train, label_train)\n",
    "knn_pred = knn.predict(data_test)\n",
    "acc_knn = accuracy_score(label_test, knn_pred) \n",
    "\n",
    "print('\\n########## KNN #########')\n",
    "print('Score: ', acc_knn)\n",
    "\n",
    "\n",
    "############################\n",
    "#Parameter tuning for KNN  #\n",
    "############################\n",
    "\n",
    "knn_pipe = Pipeline([('scaler', StandardScaler()), ('knn', KNeighborsClassifier(n_jobs=-1))])\n",
    "knn_params = {'knn__n_neighbors': range(1, 10)}\n",
    "\n",
    "knn_grid = GridSearchCV(knn_pipe, knn_params, cv=5, n_jobs=-1, verbose=True)\n",
    "knn_grid.fit(data_train, label_train)\n",
    "\n",
    "knn_bst_prm = knn_grid.best_params_\n",
    "knn_bst_scr = knn_grid.best_score_\n",
    "knn_acc_grd = accuracy_score(label_train, knn_grid.predict(data_train))\n",
    "\n",
    "print ('Best parameters:', knn_bst_prm)\n",
    "print('Best score: ', knn_bst_scr)\n"
   ]
  },
  {
   "cell_type": "code",
   "execution_count": null,
   "metadata": {
    "collapsed": true
   },
   "outputs": [],
   "source": []
  },
  {
   "cell_type": "code",
   "execution_count": 49,
   "metadata": {
    "collapsed": false
   },
   "outputs": [
    {
     "name": "stdout",
     "output_type": "stream",
     "text": [
      "\n",
      "########## KNN #########\n",
      "Score:  0.5\n",
      "Fitting 5 folds for each of 13 candidates, totalling 65 fits\n"
     ]
    },
    {
     "name": "stderr",
     "output_type": "stream",
     "text": [
      "[Parallel(n_jobs=-1)]: Done  42 tasks      | elapsed:    2.3s\n",
      "/home/ekaterina/anaconda/envs/ipykernel_py3/lib/python3.6/site-packages/sklearn/externals/joblib/parallel.py:547: UserWarning: Multiprocessing-backed parallel loops cannot be nested, setting n_jobs=1\n",
      "  **self._backend_args)\n"
     ]
    },
    {
     "name": "stdout",
     "output_type": "stream",
     "text": [
      "Best parameters: {'knn__n_neighbors': 9}\n",
      "Best score:  0.777777777778\n"
     ]
    },
    {
     "name": "stderr",
     "output_type": "stream",
     "text": [
      "[Parallel(n_jobs=-1)]: Done  65 out of  65 | elapsed:    3.5s finished\n"
     ]
    }
   ],
   "source": [
    "\n",
    "#KNN with preprocessing\n",
    "data_train, data_test, label_train, label_test = train_features_scaled, test_features_scaled, train_labels, test_labels\n",
    "label_train = np.ravel(label_train)\n",
    "\n",
    "###############\n",
    "#     KNN     #\n",
    "###############\n",
    "\n",
    "knn = KNeighborsClassifier(n_neighbors=5)\n",
    "knn.fit(data_train, label_train)\n",
    "knn_pred = knn.predict(data_test)\n",
    "acc_knn = accuracy_score(label_test, knn_pred) \n",
    "\n",
    "print('\\n########## KNN #########')\n",
    "print('Score: ', acc_knn)\n",
    "\n",
    "\n",
    "############################\n",
    "#Parameter tuning for KNN  #\n",
    "############################\n",
    "\n",
    "knn_pipe = Pipeline([('scaler', StandardScaler()), ('knn', KNeighborsClassifier(n_jobs=-1))])\n",
    "knn_params = {'knn__n_neighbors': range(1, 14)}\n",
    "\n",
    "knn_grid = GridSearchCV(knn_pipe, knn_params, cv=5, n_jobs=-1, verbose=True)\n",
    "knn_grid.fit(data_train, label_train)\n",
    "\n",
    "knn_bst_prm = knn_grid.best_params_\n",
    "knn_bst_scr = knn_grid.best_score_\n",
    "knn_acc_grd = accuracy_score(label_train, knn_grid.predict(data_train))\n",
    "\n",
    "print ('Best parameters:', knn_bst_prm)\n",
    "print('Best score: ', knn_bst_scr)"
   ]
  },
  {
   "cell_type": "code",
   "execution_count": 50,
   "metadata": {
    "collapsed": true
   },
   "outputs": [],
   "source": [
    "from sklearn.svm import LinearSVC"
   ]
  },
  {
   "cell_type": "code",
   "execution_count": 51,
   "metadata": {
    "collapsed": false
   },
   "outputs": [
    {
     "name": "stdout",
     "output_type": "stream",
     "text": [
      "\n",
      "########## SVM #########\n",
      "Score:  0.375\n",
      "SVM-coefficient:\n",
      "[[  1.33128379e-13   1.04552902e-12   2.86024388e-12   1.04552902e-12\n",
      "    3.15319257e-13   3.14368304e-13   3.09727502e-13   3.17664590e-13\n",
      "    4.06044581e-14   3.91542308e-13   8.13464627e-13  -1.00284327e-16\n",
      "   -1.24648954e-16   1.12630366e-08  -5.90335304e-12  -2.78631804e-09\n",
      "    6.72786940e-13   2.86024388e-12   1.97958716e-13   1.97600162e-13\n",
      "    2.47572636e-13   2.54711339e-13   3.91550916e-13   4.06900057e-14\n",
      "    9.55433627e-13  -1.06275960e-15  -1.08903370e-15   8.39852583e-09\n",
      "   -5.91902710e-12  -1.60354336e-09   6.84044200e-13]\n",
      " [ -1.23880478e-13  -9.72912300e-13  -2.55829022e-12  -9.72912300e-13\n",
      "   -2.82896823e-13  -2.82318335e-13  -2.77883984e-13  -2.85317823e-13\n",
      "   -2.98005948e-14  -3.44178954e-13  -7.30506246e-13   1.33785649e-16\n",
      "    1.58727866e-16  -9.91575020e-09   5.30574800e-12   4.46837960e-09\n",
      "   -6.09969339e-13  -2.55829022e-12  -1.79034752e-13  -1.79167368e-13\n",
      "   -2.23524716e-13  -2.30483472e-13  -3.44153699e-13  -2.98693867e-14\n",
      "   -8.34058371e-13   1.32521913e-15   1.35325615e-15  -1.35731337e-09\n",
      "    5.32427149e-12   2.33291748e-09  -6.23591955e-13]\n",
      " [ -1.03105144e-13  -8.08642376e-13  -2.21099499e-12  -8.08642376e-13\n",
      "   -2.43395612e-13  -2.42622706e-13  -2.39133424e-13  -2.45247079e-13\n",
      "   -3.02661735e-14  -3.01371413e-13  -6.25372758e-13  -3.64208010e-26\n",
      "    6.01853108e-36  -1.12730733e-08   4.55881219e-12  -4.92149979e-12\n",
      "   -5.20196727e-13  -2.21099499e-12  -1.53850336e-13  -1.53121798e-13\n",
      "   -1.92214635e-13  -1.97290768e-13  -3.01411816e-13  -3.03065759e-14\n",
      "   -7.31373471e-13  -3.93944831e-20   1.38228042e-18   8.14097870e-12\n",
      "    4.56036148e-12  -6.26210777e-15  -5.20762473e-13]]\n"
     ]
    },
    {
     "name": "stderr",
     "output_type": "stream",
     "text": [
      "/home/ekaterina/anaconda/envs/ipykernel_py3/lib/python3.6/site-packages/sklearn/utils/validation.py:578: DataConversionWarning: A column-vector y was passed when a 1d array was expected. Please change the shape of y to (n_samples, ), for example using ravel().\n",
      "  y = column_or_1d(y, warn=True)\n"
     ]
    }
   ],
   "source": [
    "data_train, data_test, label_train, label_test = train_features.values, test_features.values, train_labels.values, test_labels.values\n",
    "\n",
    "\n",
    "################\n",
    "#     SVM      #\n",
    "################\n",
    "\n",
    "clf = LinearSVC(random_state=0)\n",
    "clf.fit(data_train, label_train)\n",
    "\n",
    "clf_pred = clf.predict(data_test)\n",
    "acc_clf = accuracy_score(label_test, clf_pred) \n",
    "\n",
    "print('\\n########## SVM #########')\n",
    "print('Score: ', acc_clf)\n",
    "print('SVM-coefficient:')\n",
    "print(clf.coef_)"
   ]
  },
  {
   "cell_type": "code",
   "execution_count": 52,
   "metadata": {
    "collapsed": false
   },
   "outputs": [
    {
     "name": "stdout",
     "output_type": "stream",
     "text": [
      "\n",
      "########## SVM #########\n",
      "Score:  0.875\n",
      "SVM-coefficient:\n",
      "[[ 0.060868    0.06113374  0.01241134  0.06113374  0.01386092  0.00625894\n",
      "  -0.01654693 -0.02087861 -0.4525883   0.01290448  0.33656902 -0.01136238\n",
      "   0.03579977 -0.00692288 -0.07994862  0.00393232 -0.02777113  0.01241134\n",
      "  -0.00378664  0.02923691  0.00101828  0.0380075   0.47773595  0.01607964\n",
      "   0.33656902  0.02620969  0.02314391 -0.00903119 -0.06926795 -0.04063903\n",
      "  -0.01378761]\n",
      " [ 0.03997343  0.04014794 -0.2887011   0.04014794 -0.13689457  0.29200796\n",
      "  -0.09086362 -0.00747203  0.47132445 -0.17496345 -0.19927355 -0.18202365\n",
      "   0.09076855  0.02801623 -0.73930449 -0.46810417  0.20550932 -0.2887011\n",
      "   0.16143867  0.01344045  0.05580455 -0.28036203 -0.39479111  0.22641092\n",
      "  -0.19927355  0.78824065  0.51107918  0.02795888 -0.2238589   0.24324026\n",
      "   0.19270477]\n",
      " [-0.13993471 -0.11202676  0.16673969 -0.11202676  0.20951009 -0.32807022\n",
      "   0.17983639  0.10906168  0.52633927  0.13376587 -0.10117285  0.0543269\n",
      "  -0.16413312  0.14064103  0.83073892  0.52526354 -0.12687612  0.16673969\n",
      "  -0.07829781 -0.03691965 -0.06918165  0.19820925 -0.41685196 -0.2666336\n",
      "  -0.10117285 -0.63613056 -0.42841623  0.14068212  0.35750777 -0.19539847\n",
      "  -0.11833331]]\n"
     ]
    },
    {
     "name": "stderr",
     "output_type": "stream",
     "text": [
      "/home/ekaterina/anaconda/envs/ipykernel_py3/lib/python3.6/site-packages/sklearn/utils/validation.py:578: DataConversionWarning: A column-vector y was passed when a 1d array was expected. Please change the shape of y to (n_samples, ), for example using ravel().\n",
      "  y = column_or_1d(y, warn=True)\n"
     ]
    }
   ],
   "source": [
    "#SVM  with preprocessing\n",
    "data_train, data_test, label_train, label_test = train_features_scaled, test_features_scaled, train_labels, test_labels\n",
    "\n",
    "\n",
    "###################################\n",
    "#     SVM  with preprocessing     #\n",
    "###################################\n",
    "\n",
    "clf = LinearSVC(random_state=0)\n",
    "clf.fit(data_train, label_train)\n",
    "\n",
    "clf_pred = clf.predict(data_test)\n",
    "acc_clf = accuracy_score(label_test, clf_pred) \n",
    "\n",
    "print('\\n########## SVM #########')\n",
    "print('Score: ', acc_clf)\n",
    "print('SVM-coefficient:')\n",
    "print(clf.coef_)"
   ]
  },
  {
   "cell_type": "code",
   "execution_count": 53,
   "metadata": {
    "collapsed": true
   },
   "outputs": [],
   "source": [
    "#libraries for ANN\n",
    "from sklearn.neural_network import MLPClassifier"
   ]
  },
  {
   "cell_type": "code",
   "execution_count": 54,
   "metadata": {
    "collapsed": false
   },
   "outputs": [
    {
     "name": "stdout",
     "output_type": "stream",
     "text": [
      "\n",
      "########## ANN #########\n"
     ]
    },
    {
     "name": "stderr",
     "output_type": "stream",
     "text": [
      "/home/ekaterina/anaconda/envs/ipykernel_py3/lib/python3.6/site-packages/sklearn/neural_network/multilayer_perceptron.py:912: DataConversionWarning: A column-vector y was passed when a 1d array was expected. Please change the shape of y to (n_samples, ), for example using ravel().\n",
      "  y = column_or_1d(y, warn=True)\n"
     ]
    },
    {
     "name": "stdout",
     "output_type": "stream",
     "text": [
      "Score ( 14 24 layers):  0.875\n"
     ]
    }
   ],
   "source": [
    "data_train, data_test, label_train, label_test = train_features, test_features, train_labels, test_labels\n",
    "\n",
    "\n",
    "###############\n",
    "#    ANN      #\n",
    "###############\n",
    "\n",
    "\n",
    "print('\\n########## ANN #########')\n",
    "max_sc_ann = 0\n",
    "\n",
    "for ls2 in range (10,40):\n",
    "    for ls1 in range(8, 20, 2):\n",
    "        ann_clf = MLPClassifier(solver='lbfgs', alpha=1e-5,hidden_layer_sizes=(ls1, ls2), random_state=1)\n",
    "        ann_clf.fit(data_train, label_train)      \n",
    "        ann_clf_pred = ann_clf.predict(data_test)\n",
    "\n",
    "        acc_ann = accuracy_score(label_test, ann_clf_pred) \n",
    "        if (acc_ann > max_sc_ann):\n",
    "            max_sc_ann = acc_ann\n",
    "            max_ls1 = ls1\n",
    "            max_ls2 = ls2\n",
    "                                \n",
    "print('Score (', max_ls1, max_ls2, 'layers): ', max_sc_ann)\n"
   ]
  },
  {
   "cell_type": "code",
   "execution_count": 55,
   "metadata": {
    "collapsed": false
   },
   "outputs": [
    {
     "name": "stdout",
     "output_type": "stream",
     "text": [
      "25\n",
      "\n",
      "########## ANN #########\n"
     ]
    },
    {
     "name": "stderr",
     "output_type": "stream",
     "text": [
      "/home/ekaterina/anaconda/envs/ipykernel_py3/lib/python3.6/site-packages/sklearn/neural_network/multilayer_perceptron.py:912: DataConversionWarning: A column-vector y was passed when a 1d array was expected. Please change the shape of y to (n_samples, ), for example using ravel().\n",
      "  y = column_or_1d(y, warn=True)\n"
     ]
    },
    {
     "name": "stdout",
     "output_type": "stream",
     "text": [
      "Score ( 10 35 layers):  1.0\n"
     ]
    }
   ],
   "source": [
    "data_train, data_test, label_train, label_test = train_features_scaled, test_features_scaled, train_labels, test_labels\n",
    "\n",
    "data_train = data_train[0:25]\n",
    "label_train = label_train[0:25]\n",
    "print(len(data_train))\n",
    "\n",
    "################################\n",
    "#    ANN with preprocessing    #\n",
    "################################\n",
    "\n",
    "\n",
    "print('\\n########## ANN #########')\n",
    "max_sc_ann = 0\n",
    "\n",
    "for ls2 in range (10,40):\n",
    "    for ls1 in range(8, 20, 2):\n",
    "        ann_clf = MLPClassifier(solver='lbfgs', alpha=1e-5,hidden_layer_sizes=(ls1, ls2), random_state=1)\n",
    "        ann_clf.fit(data_train, label_train)      \n",
    "        ann_clf_pred = ann_clf.predict(data_test)\n",
    "\n",
    "        acc_ann = accuracy_score(label_test, ann_clf_pred) \n",
    "        if (acc_ann > max_sc_ann):\n",
    "            max_sc_ann = acc_ann\n",
    "            max_ls1 = ls1\n",
    "            max_ls2 = ls2\n",
    "                                \n",
    "print('Score (', max_ls1, max_ls2, 'layers): ', max_sc_ann)\n"
   ]
  },
  {
   "cell_type": "code",
   "execution_count": null,
   "metadata": {
    "collapsed": true
   },
   "outputs": [],
   "source": []
  },
  {
   "cell_type": "code",
   "execution_count": null,
   "metadata": {
    "collapsed": true
   },
   "outputs": [],
   "source": []
  }
 ],
 "metadata": {
  "anaconda-cloud": {},
  "kernelspec": {
   "display_name": "Python 3",
   "language": "python",
   "name": "python3"
  },
  "language_info": {
   "codemirror_mode": {
    "name": "ipython",
    "version": 3
   },
   "file_extension": ".py",
   "mimetype": "text/x-python",
   "name": "python",
   "nbconvert_exporter": "python",
   "pygments_lexer": "ipython3",
   "version": "3.6.2"
  }
 },
 "nbformat": 4,
 "nbformat_minor": 2
}
